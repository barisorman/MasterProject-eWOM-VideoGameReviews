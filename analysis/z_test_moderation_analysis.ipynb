{
 "metadata": {
  "language_info": {
   "codemirror_mode": {
    "name": "ipython",
    "version": 3
   },
   "file_extension": ".py",
   "mimetype": "text/x-python",
   "name": "python",
   "nbconvert_exporter": "python",
   "pygments_lexer": "ipython3",
   "version": "3.9.0"
  },
  "orig_nbformat": 2,
  "kernelspec": {
   "name": "python3",
   "display_name": "Python 3.9.0 64-bit"
  },
  "metadata": {
   "interpreter": {
    "hash": "71e56bdc4c61b98910f771371be3446c8c590ca3371eddba0edf680feb934a3b"
   }
  },
  "interpreter": {
   "hash": "71e56bdc4c61b98910f771371be3446c8c590ca3371eddba0edf680feb934a3b"
  }
 },
 "nbformat": 4,
 "nbformat_minor": 2,
 "cells": [
  {
   "source": [
    "# Testing significant differences between coefficients"
   ],
   "cell_type": "markdown",
   "metadata": {}
  },
  {
   "cell_type": "code",
   "execution_count": 2,
   "metadata": {},
   "outputs": [],
   "source": [
    "import math\n",
    "from IPython.display import Image"
   ]
  },
  {
   "source": [
    "## Equation of Z-test:"
   ],
   "cell_type": "markdown",
   "metadata": {}
  },
  {
   "cell_type": "code",
   "execution_count": 2,
   "metadata": {},
   "outputs": [
    {
     "output_type": "execute_result",
     "data": {
      "image/png": "[encoded data removed]",
      "text/plain": [
       "<IPython.core.display.Image object>"
      ]
     },
     "metadata": {
      "image/png": {
       "width": 200,
       "height": 200
      }
     },
     "execution_count": 2
    }
   ],
   "source": [
    "Image(filename=\"C:/Users/B.R/Desktop/equation.png\", width=200, height=200)"
   ]
  },
  {
   "source": [
    "### P Value from Z Score Calculator: https://www.socscistatistics.com/pvalues/normaldistribution.aspx"
   ],
   "cell_type": "markdown",
   "metadata": {}
  },
  {
   "source": [],
   "cell_type": "markdown",
   "metadata": {}
  },
  {
   "source": [
    "# Coefficient difference Sentiment "
   ],
   "cell_type": "markdown",
   "metadata": {}
  },
  {
   "source": [
    "## Difference coefficient user and critic reviews\n"
   ],
   "cell_type": "markdown",
   "metadata": {}
  },
  {
   "source": [
    "1.3389 - -3.0973 / math.sqrt(0.739**2+ 0.377**2)"
   ],
   "cell_type": "code",
   "metadata": {},
   "execution_count": 4,
   "outputs": [
    {
     "output_type": "execute_result",
     "data": {
      "text/plain": [
       "5.072348478886097"
      ]
     },
     "metadata": {},
     "execution_count": 4
    }
   ]
  },
  {
   "source": [
    "### The P-Value is < .00001.\n",
    "\n",
    "The result is significant at p < .05."
   ],
   "cell_type": "markdown",
   "metadata": {}
  },
  {
   "source": [
    "## Difference coefficient non/multiplayer element user reviews"
   ],
   "cell_type": "markdown",
   "metadata": {}
  },
  {
   "cell_type": "code",
   "execution_count": 5,
   "metadata": {},
   "outputs": [
    {
     "output_type": "execute_result",
     "data": {
      "text/plain": [
       "18.901951110266022"
      ]
     },
     "metadata": {},
     "execution_count": 5
    }
   ],
   "source": [
    "1.3389 - -16.8744 / math.sqrt(0.739**2+ 0.614**2)"
   ]
  },
  {
   "source": [
    "### The P-Value is < .00001.\n",
    "\n",
    "The result is significant at p < .05."
   ],
   "cell_type": "markdown",
   "metadata": {}
  },
  {
   "source": [],
   "cell_type": "markdown",
   "metadata": {}
  },
  {
   "source": [
    "# Coefficient difference Innovativeness "
   ],
   "cell_type": "markdown",
   "metadata": {}
  },
  {
   "source": [
    "## Difference coefficient user and critic reviews"
   ],
   "cell_type": "markdown",
   "metadata": {}
  },
  {
   "cell_type": "code",
   "execution_count": 7,
   "metadata": {},
   "outputs": [
    {
     "output_type": "execute_result",
     "data": {
      "text/plain": [
       "-0.41672526396048437"
      ]
     },
     "metadata": {},
     "execution_count": 7
    }
   ],
   "source": [
    "-0.1814 - 0.0361 / math.sqrt(0.138**2+ 0.067**2)"
   ]
  },
  {
   "source": [
    "### The P-Value is .67741.\n",
    "\n",
    "The result is not significant at p < .05."
   ],
   "cell_type": "markdown",
   "metadata": {}
  },
  {
   "source": [
    "## Difference coefficient non/multiplayer element user reviews"
   ],
   "cell_type": "markdown",
   "metadata": {}
  },
  {
   "cell_type": "code",
   "execution_count": 8,
   "metadata": {},
   "outputs": [
    {
     "output_type": "execute_result",
     "data": {
      "text/plain": [
       "-0.18139999999992285"
      ]
     },
     "metadata": {},
     "execution_count": 8
    }
   ],
   "source": [
    "-0.1814 - -1.065e-14 / math.sqrt(0.138**2+ 3.83e-16**2)"
   ]
  },
  {
   "source": [
    "### The P-Value is .857153.\n",
    "\n",
    "The result is not significant at p < .05."
   ],
   "cell_type": "markdown",
   "metadata": {}
  },
  {
   "source": [],
   "cell_type": "markdown",
   "metadata": {}
  },
  {
   "source": [
    "# Coefficient difference Topic dominance"
   ],
   "cell_type": "markdown",
   "metadata": {}
  },
  {
   "source": [
    "## Difference coefficient user and critic reviews"
   ],
   "cell_type": "markdown",
   "metadata": {}
  },
  {
   "cell_type": "code",
   "execution_count": 9,
   "metadata": {},
   "outputs": [
    {
     "output_type": "execute_result",
     "data": {
      "text/plain": [
       "0.8242333333333334"
      ]
     },
     "metadata": {},
     "execution_count": 9
    }
   ],
   "source": [
    "0.1109 - -0.0428 / math.sqrt(0.048**2+ 0.036**2)"
   ]
  },
  {
   "source": [
    "### The P-Value is .409826.\n",
    "\n",
    "The result is not significant at p < .05."
   ],
   "cell_type": "markdown",
   "metadata": {}
  },
  {
   "source": [
    "## Difference coefficient non/multiplayer element user reviews"
   ],
   "cell_type": "markdown",
   "metadata": {}
  },
  {
   "cell_type": "code",
   "execution_count": 10,
   "metadata": {},
   "outputs": [
    {
     "output_type": "execute_result",
     "data": {
      "text/plain": [
       "73.10037991636561"
      ]
     },
     "metadata": {},
     "execution_count": 10
    }
   ],
   "source": [
    "0.1109 - -8.8269 / math.sqrt(0.048**2+ 0.111**2)"
   ]
  },
  {
   "source": [
    "### The P-Value is < .00001.\n",
    "\n",
    "The result is significant at p < .05."
   ],
   "cell_type": "markdown",
   "metadata": {}
  },
  {
   "source": [
    "# "
   ],
   "cell_type": "markdown",
   "metadata": {}
  },
  {
   "source": [
    "# Coefficient difference Review Valence"
   ],
   "cell_type": "markdown",
   "metadata": {}
  },
  {
   "source": [
    "## Difference coefficient user and critic reviews"
   ],
   "cell_type": "markdown",
   "metadata": {}
  },
  {
   "cell_type": "code",
   "execution_count": 11,
   "metadata": {},
   "outputs": [
    {
     "output_type": "execute_result",
     "data": {
      "text/plain": [
       "0.508363607249995"
      ]
     },
     "metadata": {},
     "execution_count": 11
    }
   ],
   "source": [
    "0.0089 - -0.0151 / math.sqrt(0.025**2+ 0.017**2)"
   ]
  },
  {
   "source": [
    "### The P-Value is .611243.\n",
    "\n",
    "The result is not significant at p < .05."
   ],
   "cell_type": "markdown",
   "metadata": {}
  },
  {
   "source": [
    "## Difference coefficient non/multiplayer element user reviews"
   ],
   "cell_type": "markdown",
   "metadata": {}
  },
  {
   "cell_type": "code",
   "execution_count": 12,
   "metadata": {},
   "outputs": [
    {
     "output_type": "execute_result",
     "data": {
      "text/plain": [
       "5.782253660026823"
      ]
     },
     "metadata": {},
     "execution_count": 12
    }
   ],
   "source": [
    "0.0089 - -0.1601 / math.sqrt(0.025**2+ 0.012**2)"
   ]
  },
  {
   "source": [
    "### The P-Value is < .00001.\n",
    "\n",
    "The result is significant at p < .05."
   ],
   "cell_type": "markdown",
   "metadata": {}
  }
 ]
}