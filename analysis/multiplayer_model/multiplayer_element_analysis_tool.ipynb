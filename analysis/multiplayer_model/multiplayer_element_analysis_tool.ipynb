{
 "metadata": {
  "language_info": {
   "codemirror_mode": {
    "name": "ipython",
    "version": 3
   },
   "file_extension": ".py",
   "mimetype": "text/x-python",
   "name": "python",
   "nbconvert_exporter": "python",
   "pygments_lexer": "ipython3",
   "version": "3.9.0"
  },
  "orig_nbformat": 2,
  "kernelspec": {
   "name": "python3",
   "display_name": "Python 3.9.0 64-bit"
  },
  "metadata": {
   "interpreter": {
    "hash": "71e56bdc4c61b98910f771371be3446c8c590ca3371eddba0edf680feb934a3b"
   }
  },
  "interpreter": {
   "hash": "71e56bdc4c61b98910f771371be3446c8c590ca3371eddba0edf680feb934a3b"
  }
 },
 "nbformat": 4,
 "nbformat_minor": 2,
 "cells": [
  {
   "cell_type": "code",
   "execution_count": 168,
   "metadata": {},
   "outputs": [],
   "source": [
    "import os\n",
    "import random\n",
    "import pandas as pd\n",
    "import numpy as np\n",
    "import nltk\n",
    "from nltk.tokenize import sent_tokenize, word_tokenize\n",
    "from nltk.corpus import stopwords\n",
    "import statsmodels.api as sm\n",
    "import matplotlib.pyplot as plt"
   ]
  },
  {
   "cell_type": "code",
   "execution_count": null,
   "metadata": {},
   "outputs": [],
   "source": [
    "#loading Metacritic dataset\n",
    "metacritic = pd.read_csv(r'\\metacritic.csv')\n",
    "\n",
    "#loading sentimentscores\n",
    "sentimentscores = pd.read_csv(r'\\analysis\\multiplayer_model\\mp_sentiment_analyses\\mp_sentiscores_userreviews.csv')\n",
    "\n",
    "#Loading Innovativeness scores\n",
    "innovativenesscores = pd.read_csv(r'\\analysis\\multiplayer_model\\mp_innovativeness_analysis\\mp_innovativeness_score_userreviews.csv')\n",
    "\n",
    "#Loading Metacritic dataset LDA-analysis\n",
    "data = pd.read_csv(r'\\metacritic.csv')\n",
    "\n",
    "#Loading VGChartz videogame sales\n",
    "sales_data = pd.read_csv(r'\\vgchartz.csv')"
   ]
  },
  {
   "source": [
    "# Cleaning of User Reviews"
   ],
   "cell_type": "markdown",
   "metadata": {}
  },
  {
   "cell_type": "code",
   "execution_count": 169,
   "metadata": {},
   "outputs": [
    {
     "output_type": "execute_result",
     "data": {
      "text/plain": [
       "Index(['Game', 'Metascore', 'UserScore', 'Publisher', 'ReleaseDate', 'Genre',\n",
       "       'NumberOfOnlinePlayers', 'Cast', 'Credits', 'CriticsReviews',\n",
       "       'UserReviews'],\n",
       "      dtype='object')"
      ]
     },
     "metadata": {},
     "execution_count": 169
    }
   ],
   "source": [
    "metacritic.columns"
   ]
  },
  {
   "cell_type": "code",
   "execution_count": 170,
   "metadata": {},
   "outputs": [],
   "source": [
    "#making an array with all online multiplayer elements\n",
    "array = ['OnlineMultiplayer', 'MassivelyMultiplayerOnlineMultiplayer', 'OnlineMultiplayerUpto8Players','2PlayersOnlineMultiplayer', 'OnlineMultiplayerUpto4Players', 'Role-Playing,MassivelyMultiplayerOnline,Fantasy,Action,General,General', 'BroadbandOnlyOnlineSystemLink', 'LiveAwareOnlineSystemLink', 'BroadbandOnlyOnline', 'Online', 'Role-Playing,MassivelyMultiplayerOnline,Fantasy', 'Role-Playing,MassivelyMultiplayerOnline,MassivelyMultiplayer,Fantasy', 'OnlineMultiplayerUpto16Players', 'OnlineMultiplayerUpto18Players', 'BroadbandOnlyLiveAwareOnline', 'Role-PlayingMassivelyMultiplayerOnline,MassivelyMultiplayer,Fantasy,Fantasy', 'Role-Playing,ActionAdventure,Fantasy,MassivelyMultiplayerOnline,General,Fantasy,Fantasy', 'Role-Playing,MassivelyMultiplayerOnline,ActionRPG,MassivelyMultiplayer,Fantasy,Fantasy', 'MassivelyMultiplayerOnline,Role-Playing,Sci-Fi,Action,Shooter,Shooter,Third-Person,Sci-Fi,Sci-Fi,Arcade', 'OnlineMultiplayerUpto22Players', 'OnlineMultiplayerUpto30Players', 'OnlineMultiplayerUpto60Players'\n",
    "'OnlineMultiplayerUpto6Players', 'Fantasy,Role-Playing,MassivelyMultiplayerOnline,MassivelyMultiplayer,Fantasy', 'OnlineMultiplayerUpto3Players', 'OnlineMultiplayerUpto64Players', 'OnlineMultiplayerUpto10Players', 'Role-Playing,MassivelyMultiplayerOnline,MassivelyMultiplayer,Sci-Fi,Sci-Fi', 'OnlineMultiplayerUpto32Players']\n"
   ]
  },
  {
   "cell_type": "code",
   "execution_count": 171,
   "metadata": {},
   "outputs": [],
   "source": [
    "#selecting all rows with array elements\n",
    "metacritic = metacritic.loc[data['NumberOfOnlinePlayers'].isin(array)]"
   ]
  },
  {
   "cell_type": "code",
   "execution_count": 172,
   "metadata": {},
   "outputs": [
    {
     "output_type": "stream",
     "name": "stdout",
     "text": [
      "0\n0\n"
     ]
    }
   ],
   "source": [
    "#validation on null data and NaNs in dataset\n",
    "print(metacritic['NumberOfOnlinePlayers'].isnull().sum())\n",
    "print(metacritic['NumberOfOnlinePlayers'].isna().sum())"
   ]
  },
  {
   "cell_type": "code",
   "execution_count": 173,
   "metadata": {},
   "outputs": [],
   "source": [
    "#Drop NAN\n",
    "metacritic = metacritic[metacritic['UserReviews'].notna()]"
   ]
  },
  {
   "cell_type": "code",
   "execution_count": 174,
   "metadata": {},
   "outputs": [
    {
     "output_type": "execute_result",
     "data": {
      "text/plain": [
       "140      [{'UserName': None, 'UserReviewScore': '90', '...\n",
       "225      [{'UserName': None, 'UserReviewScore': '65', '...\n",
       "255      [{'UserName': None, 'UserReviewScore': '70', '...\n",
       "308      [{'UserName': None, 'UserReviewScore': '20', '...\n",
       "352      [{'UserName': None, 'UserReviewScore': '50', '...\n",
       "                               ...                        \n",
       "49201    [{'UserName': None, 'UserReviewScore': '70', '...\n",
       "49332    [{'UserName': None, 'UserReviewScore': '80', '...\n",
       "49441    [{'UserName': None, 'UserReviewScore': '65', '...\n",
       "49623    [{'UserName': None, 'UserReviewScore': '75', '...\n",
       "49742    [{'UserName': None, 'UserReviewScore': '82', '...\n",
       "Name: UserReviews, Length: 302, dtype: object"
      ]
     },
     "metadata": {},
     "execution_count": 174
    }
   ],
   "source": [
    "#Check dataset\n",
    "metacritic['UserReviews']"
   ]
  },
  {
   "cell_type": "code",
   "execution_count": 175,
   "metadata": {},
   "outputs": [],
   "source": [
    "#Lower case reviews\n",
    "metacritic['UserReviews'] = metacritic['UserReviews'].str.lower()"
   ]
  },
  {
   "cell_type": "code",
   "execution_count": 176,
   "metadata": {},
   "outputs": [],
   "source": [
    "#Remove stopwords\n",
    "stop = stopwords.words('english')\n",
    "metacritic['UserReviews'] = metacritic['UserReviews'].apply(lambda x: ' '.join([word for word in x.split() if word not in (stop)]))"
   ]
  },
  {
   "cell_type": "code",
   "execution_count": 177,
   "metadata": {},
   "outputs": [
    {
     "output_type": "execute_result",
     "data": {
      "text/plain": [
       "                                  Game  \\\n",
       "140                        Timespinner   \n",
       "225                      Black Paradox   \n",
       "255                             Redout   \n",
       "308                        Happy Words   \n",
       "352            Warlocks 2: God Slayers   \n",
       "...                                ...   \n",
       "49201       Age of Wonders: Planetfall   \n",
       "49332              No Man's Sky Beyond   \n",
       "49441          Remnant: From the Ashes   \n",
       "49623  Acron: Attack of the Squirrels!   \n",
       "49742                Children of Morta   \n",
       "\n",
       "                                             UserReviews  \n",
       "140    [{'username': none, 'userreviewscore': '90', '...  \n",
       "225    [{'username': none, 'userreviewscore': '65', '...  \n",
       "255    [{'username': none, 'userreviewscore': '70', '...  \n",
       "308    [{'username': none, 'userreviewscore': '20', '...  \n",
       "352    [{'username': none, 'userreviewscore': '50', '...  \n",
       "...                                                  ...  \n",
       "49201  [{'username': none, 'userreviewscore': '70', '...  \n",
       "49332  [{'username': none, 'userreviewscore': '80', '...  \n",
       "49441  [{'username': none, 'userreviewscore': '65', '...  \n",
       "49623  [{'username': none, 'userreviewscore': '75', '...  \n",
       "49742  [{'username': none, 'userreviewscore': '82', '...  \n",
       "\n",
       "[302 rows x 2 columns]"
      ],
      "text/html": "<div>\n<style scoped>\n    .dataframe tbody tr th:only-of-type {\n        vertical-align: middle;\n    }\n\n    .dataframe tbody tr th {\n        vertical-align: top;\n    }\n\n    .dataframe thead th {\n        text-align: right;\n    }\n</style>\n<table border=\"1\" class=\"dataframe\">\n  <thead>\n    <tr style=\"text-align: right;\">\n      <th></th>\n      <th>Game</th>\n      <th>UserReviews</th>\n    </tr>\n  </thead>\n  <tbody>\n    <tr>\n      <th>140</th>\n      <td>Timespinner</td>\n      <td>[{'username': none, 'userreviewscore': '90', '...</td>\n    </tr>\n    <tr>\n      <th>225</th>\n      <td>Black Paradox</td>\n      <td>[{'username': none, 'userreviewscore': '65', '...</td>\n    </tr>\n    <tr>\n      <th>255</th>\n      <td>Redout</td>\n      <td>[{'username': none, 'userreviewscore': '70', '...</td>\n    </tr>\n    <tr>\n      <th>308</th>\n      <td>Happy Words</td>\n      <td>[{'username': none, 'userreviewscore': '20', '...</td>\n    </tr>\n    <tr>\n      <th>352</th>\n      <td>Warlocks 2: God Slayers</td>\n      <td>[{'username': none, 'userreviewscore': '50', '...</td>\n    </tr>\n    <tr>\n      <th>...</th>\n      <td>...</td>\n      <td>...</td>\n    </tr>\n    <tr>\n      <th>49201</th>\n      <td>Age of Wonders: Planetfall</td>\n      <td>[{'username': none, 'userreviewscore': '70', '...</td>\n    </tr>\n    <tr>\n      <th>49332</th>\n      <td>No Man's Sky Beyond</td>\n      <td>[{'username': none, 'userreviewscore': '80', '...</td>\n    </tr>\n    <tr>\n      <th>49441</th>\n      <td>Remnant: From the Ashes</td>\n      <td>[{'username': none, 'userreviewscore': '65', '...</td>\n    </tr>\n    <tr>\n      <th>49623</th>\n      <td>Acron: Attack of the Squirrels!</td>\n      <td>[{'username': none, 'userreviewscore': '75', '...</td>\n    </tr>\n    <tr>\n      <th>49742</th>\n      <td>Children of Morta</td>\n      <td>[{'username': none, 'userreviewscore': '82', '...</td>\n    </tr>\n  </tbody>\n</table>\n<p>302 rows × 2 columns</p>\n</div>"
     },
     "metadata": {},
     "execution_count": 177
    }
   ],
   "source": [
    "#Create new dataset\n",
    "sentiment_data = metacritic[['Game', 'UserReviews']]\n",
    "sentiment_data"
   ]
  },
  {
   "cell_type": "code",
   "execution_count": 178,
   "metadata": {},
   "outputs": [],
   "source": [
    "#Split reviews into rows\n",
    "sentiment_data = sentiment_data.drop('UserReviews', axis=1).join(sentiment_data['UserReviews'].str.split(']', expand=True).stack().reset_index(level=1, drop=True).rename('UserReviews'))"
   ]
  },
  {
   "cell_type": "code",
   "execution_count": 179,
   "metadata": {},
   "outputs": [],
   "source": [
    "#Drop columns with NaN\n",
    "sentiment_data['UserReviews'] = sentiment_data['UserReviews'].dropna()"
   ]
  },
  {
   "cell_type": "code",
   "execution_count": 180,
   "metadata": {},
   "outputs": [],
   "source": [
    "#Drop empty columns\n",
    "sentiment_data = sentiment_data[sentiment_data.UserReviews != '']"
   ]
  },
  {
   "cell_type": "code",
   "execution_count": 181,
   "metadata": {},
   "outputs": [
    {
     "output_type": "execute_result",
     "data": {
      "text/plain": [
       "                                  Game  \\\n",
       "140                        Timespinner   \n",
       "225                      Black Paradox   \n",
       "255                             Redout   \n",
       "308                        Happy Words   \n",
       "352            Warlocks 2: God Slayers   \n",
       "...                                ...   \n",
       "49201       Age of Wonders: Planetfall   \n",
       "49332              No Man's Sky Beyond   \n",
       "49441          Remnant: From the Ashes   \n",
       "49623  Acron: Attack of the Squirrels!   \n",
       "49742                Children of Morta   \n",
       "\n",
       "                                             UserReviews  \n",
       "140    [{'username': none, 'userreviewscore': '90', '...  \n",
       "225    [{'username': none, 'userreviewscore': '65', '...  \n",
       "255    [{'username': none, 'userreviewscore': '70', '...  \n",
       "308    [{'username': none, 'userreviewscore': '20', '...  \n",
       "352    [{'username': none, 'userreviewscore': '50', '...  \n",
       "...                                                  ...  \n",
       "49201  [{'username': none, 'userreviewscore': '70', '...  \n",
       "49332  [{'username': none, 'userreviewscore': '80', '...  \n",
       "49441  [{'username': none, 'userreviewscore': '65', '...  \n",
       "49623  [{'username': none, 'userreviewscore': '75', '...  \n",
       "49742  [{'username': none, 'userreviewscore': '82', '...  \n",
       "\n",
       "[302 rows x 2 columns]"
      ],
      "text/html": "<div>\n<style scoped>\n    .dataframe tbody tr th:only-of-type {\n        vertical-align: middle;\n    }\n\n    .dataframe tbody tr th {\n        vertical-align: top;\n    }\n\n    .dataframe thead th {\n        text-align: right;\n    }\n</style>\n<table border=\"1\" class=\"dataframe\">\n  <thead>\n    <tr style=\"text-align: right;\">\n      <th></th>\n      <th>Game</th>\n      <th>UserReviews</th>\n    </tr>\n  </thead>\n  <tbody>\n    <tr>\n      <th>140</th>\n      <td>Timespinner</td>\n      <td>[{'username': none, 'userreviewscore': '90', '...</td>\n    </tr>\n    <tr>\n      <th>225</th>\n      <td>Black Paradox</td>\n      <td>[{'username': none, 'userreviewscore': '65', '...</td>\n    </tr>\n    <tr>\n      <th>255</th>\n      <td>Redout</td>\n      <td>[{'username': none, 'userreviewscore': '70', '...</td>\n    </tr>\n    <tr>\n      <th>308</th>\n      <td>Happy Words</td>\n      <td>[{'username': none, 'userreviewscore': '20', '...</td>\n    </tr>\n    <tr>\n      <th>352</th>\n      <td>Warlocks 2: God Slayers</td>\n      <td>[{'username': none, 'userreviewscore': '50', '...</td>\n    </tr>\n    <tr>\n      <th>...</th>\n      <td>...</td>\n      <td>...</td>\n    </tr>\n    <tr>\n      <th>49201</th>\n      <td>Age of Wonders: Planetfall</td>\n      <td>[{'username': none, 'userreviewscore': '70', '...</td>\n    </tr>\n    <tr>\n      <th>49332</th>\n      <td>No Man's Sky Beyond</td>\n      <td>[{'username': none, 'userreviewscore': '80', '...</td>\n    </tr>\n    <tr>\n      <th>49441</th>\n      <td>Remnant: From the Ashes</td>\n      <td>[{'username': none, 'userreviewscore': '65', '...</td>\n    </tr>\n    <tr>\n      <th>49623</th>\n      <td>Acron: Attack of the Squirrels!</td>\n      <td>[{'username': none, 'userreviewscore': '75', '...</td>\n    </tr>\n    <tr>\n      <th>49742</th>\n      <td>Children of Morta</td>\n      <td>[{'username': none, 'userreviewscore': '82', '...</td>\n    </tr>\n  </tbody>\n</table>\n<p>302 rows × 2 columns</p>\n</div>"
     },
     "metadata": {},
     "execution_count": 181
    }
   ],
   "source": [
    "#Check dataset\n",
    "sentiment_data"
   ]
  },
  {
   "cell_type": "code",
   "execution_count": 182,
   "metadata": {},
   "outputs": [],
   "source": [
    "#DATA ALREADY CREATED\n",
    "#Create dataset for sentiment analysis\n",
    "#sentiment_data.to_excel(r'C:\\Users\\B.R\\Documents\\HvA\\Master_DDB\\MP\\multiplayer_model\\mp_sentiment_analyses\\mp_seperated_userreviews.xlsx')"
   ]
  },
  {
   "cell_type": "code",
   "execution_count": 183,
   "metadata": {},
   "outputs": [
    {
     "output_type": "execute_result",
     "data": {
      "text/plain": [
       "                             Game  Sum_containword  TotalNegative  \\\n",
       "0                            20XX                0              4   \n",
       "1  9th Dawn III: Shadow of Erthil              -11             16   \n",
       "2                 AFL Evolution 2                0              2   \n",
       "3         AO International Tennis                0              2   \n",
       "4                     AO Tennis 2               -2              5   \n",
       "\n",
       "   TotalPositive  StdDev_ContainWord  \n",
       "0              4            0.079282  \n",
       "1             10            0.148968  \n",
       "2              2            0.079290  \n",
       "3              2            0.079290  \n",
       "4              4            0.084090  "
      ],
      "text/html": "<div>\n<style scoped>\n    .dataframe tbody tr th:only-of-type {\n        vertical-align: middle;\n    }\n\n    .dataframe tbody tr th {\n        vertical-align: top;\n    }\n\n    .dataframe thead th {\n        text-align: right;\n    }\n</style>\n<table border=\"1\" class=\"dataframe\">\n  <thead>\n    <tr style=\"text-align: right;\">\n      <th></th>\n      <th>Game</th>\n      <th>Sum_containword</th>\n      <th>TotalNegative</th>\n      <th>TotalPositive</th>\n      <th>StdDev_ContainWord</th>\n    </tr>\n  </thead>\n  <tbody>\n    <tr>\n      <th>0</th>\n      <td>20XX</td>\n      <td>0</td>\n      <td>4</td>\n      <td>4</td>\n      <td>0.079282</td>\n    </tr>\n    <tr>\n      <th>1</th>\n      <td>9th Dawn III: Shadow of Erthil</td>\n      <td>-11</td>\n      <td>16</td>\n      <td>10</td>\n      <td>0.148968</td>\n    </tr>\n    <tr>\n      <th>2</th>\n      <td>AFL Evolution 2</td>\n      <td>0</td>\n      <td>2</td>\n      <td>2</td>\n      <td>0.079290</td>\n    </tr>\n    <tr>\n      <th>3</th>\n      <td>AO International Tennis</td>\n      <td>0</td>\n      <td>2</td>\n      <td>2</td>\n      <td>0.079290</td>\n    </tr>\n    <tr>\n      <th>4</th>\n      <td>AO Tennis 2</td>\n      <td>-2</td>\n      <td>5</td>\n      <td>4</td>\n      <td>0.084090</td>\n    </tr>\n  </tbody>\n</table>\n</div>"
     },
     "metadata": {},
     "execution_count": 183
    }
   ],
   "source": [
    "sentimentscores.head()"
   ]
  },
  {
   "source": [
    "# Innovativeness score"
   ],
   "cell_type": "markdown",
   "metadata": {}
  },
  {
   "cell_type": "code",
   "execution_count": 184,
   "metadata": {},
   "outputs": [
    {
     "output_type": "execute_result",
     "data": {
      "text/plain": [
       "                             Game  Total_innovativeness  StdDev_innovativeness\n",
       "0                            20XX                     0               0.000000\n",
       "1  9th Dawn III: Shadow of Erthil                     2               0.165521\n",
       "2                 AFL Evolution 2                     0               0.000000\n",
       "3         AO International Tennis                     0               0.000000\n",
       "4                     AO Tennis 2                     0               0.000000"
      ],
      "text/html": "<div>\n<style scoped>\n    .dataframe tbody tr th:only-of-type {\n        vertical-align: middle;\n    }\n\n    .dataframe tbody tr th {\n        vertical-align: top;\n    }\n\n    .dataframe thead th {\n        text-align: right;\n    }\n</style>\n<table border=\"1\" class=\"dataframe\">\n  <thead>\n    <tr style=\"text-align: right;\">\n      <th></th>\n      <th>Game</th>\n      <th>Total_innovativeness</th>\n      <th>StdDev_innovativeness</th>\n    </tr>\n  </thead>\n  <tbody>\n    <tr>\n      <th>0</th>\n      <td>20XX</td>\n      <td>0</td>\n      <td>0.000000</td>\n    </tr>\n    <tr>\n      <th>1</th>\n      <td>9th Dawn III: Shadow of Erthil</td>\n      <td>2</td>\n      <td>0.165521</td>\n    </tr>\n    <tr>\n      <th>2</th>\n      <td>AFL Evolution 2</td>\n      <td>0</td>\n      <td>0.000000</td>\n    </tr>\n    <tr>\n      <th>3</th>\n      <td>AO International Tennis</td>\n      <td>0</td>\n      <td>0.000000</td>\n    </tr>\n    <tr>\n      <th>4</th>\n      <td>AO Tennis 2</td>\n      <td>0</td>\n      <td>0.000000</td>\n    </tr>\n  </tbody>\n</table>\n</div>"
     },
     "metadata": {},
     "execution_count": 184
    }
   ],
   "source": [
    "innovativenesscores.head()"
   ]
  },
  {
   "source": [
    "# LDA Topic analysis"
   ],
   "cell_type": "markdown",
   "metadata": {}
  },
  {
   "cell_type": "code",
   "execution_count": 185,
   "metadata": {},
   "outputs": [
    {
     "output_type": "stream",
     "name": "stderr",
     "text": [
      "[nltk_data] Downloading package wordnet to\n[nltk_data]     C:\\Users\\B.R\\AppData\\Roaming\\nltk_data...\n[nltk_data]   Package wordnet is already up-to-date!\n"
     ]
    }
   ],
   "source": [
    "import pandas as pd\n",
    "import gensim\n",
    "from gensim.utils import simple_preprocess\n",
    "from gensim.parsing.preprocessing import STOPWORDS\n",
    "from nltk.stem import WordNetLemmatizer, SnowballStemmer\n",
    "from nltk.stem.porter import *\n",
    "import numpy as np\n",
    "np.random.seed(2018)\n",
    "import nltk\n",
    "nltk.download('wordnet')\n",
    "import statsmodels.api as sm\n",
    "import matplotlib.pyplot as plt\n",
    "from statsmodels.stats.outliers_influence import variance_inflation_factor"
   ]
  },
  {
   "cell_type": "code",
   "execution_count": 186,
   "metadata": {},
   "outputs": [
    {
     "output_type": "execute_result",
     "data": {
      "text/plain": [
       "Index(['index', 'Game', 'Metascore', 'UserScore', 'Publisher', 'ReleaseDate',\n",
       "       'Genre', 'NumberOfOnlinePlayers', 'Cast', 'Credits', 'CriticsReviews',\n",
       "       'UserReviews'],\n",
       "      dtype='object')"
      ]
     },
     "metadata": {},
     "execution_count": 186
    }
   ],
   "source": [
    "data.reset_index(inplace=True)\n",
    "data.columns"
   ]
  },
  {
   "cell_type": "code",
   "execution_count": 187,
   "metadata": {},
   "outputs": [],
   "source": [
    "#making an array with all online multiplayer elements\n",
    "array = ['OnlineMultiplayer', 'MassivelyMultiplayerOnlineMultiplayer', 'OnlineMultiplayerUpto8Players','2PlayersOnlineMultiplayer', 'OnlineMultiplayerUpto4Players', 'Role-Playing,MassivelyMultiplayerOnline,Fantasy,Action,General,General', 'BroadbandOnlyOnlineSystemLink', 'LiveAwareOnlineSystemLink', 'BroadbandOnlyOnline', 'Online', 'Role-Playing,MassivelyMultiplayerOnline,Fantasy', 'Role-Playing,MassivelyMultiplayerOnline,MassivelyMultiplayer,Fantasy', 'OnlineMultiplayerUpto16Players', 'OnlineMultiplayerUpto18Players', 'BroadbandOnlyLiveAwareOnline', 'Role-PlayingMassivelyMultiplayerOnline,MassivelyMultiplayer,Fantasy,Fantasy', 'Role-Playing,ActionAdventure,Fantasy,MassivelyMultiplayerOnline,General,Fantasy,Fantasy', 'Role-Playing,MassivelyMultiplayerOnline,ActionRPG,MassivelyMultiplayer,Fantasy,Fantasy', 'MassivelyMultiplayerOnline,Role-Playing,Sci-Fi,Action,Shooter,Shooter,Third-Person,Sci-Fi,Sci-Fi,Arcade', 'OnlineMultiplayerUpto22Players', 'OnlineMultiplayerUpto30Players', 'OnlineMultiplayerUpto60Players'\n",
    "'OnlineMultiplayerUpto6Players', 'Fantasy,Role-Playing,MassivelyMultiplayerOnline,MassivelyMultiplayer,Fantasy', 'OnlineMultiplayerUpto3Players', 'OnlineMultiplayerUpto64Players', 'OnlineMultiplayerUpto10Players', 'Role-Playing,MassivelyMultiplayerOnline,MassivelyMultiplayer,Sci-Fi,Sci-Fi', 'OnlineMultiplayerUpto32Players']\n",
    "\n",
    "#selecting all rows with array elements\n",
    "data = data.loc[data['NumberOfOnlinePlayers'].isin(array)]"
   ]
  },
  {
   "cell_type": "code",
   "execution_count": 188,
   "metadata": {},
   "outputs": [
    {
     "output_type": "stream",
     "name": "stdout",
     "text": [
      "155\n155\n"
     ]
    }
   ],
   "source": [
    "# let's see how many na values we have\n",
    "print(data['UserReviews'].isnull().sum())\n",
    "print(data['UserReviews'].isna().sum())\n",
    "# we drop the rows that we don't need\n",
    "data = data[data['UserReviews'].notna()]"
   ]
  },
  {
   "cell_type": "code",
   "execution_count": 189,
   "metadata": {},
   "outputs": [
    {
     "output_type": "stream",
     "name": "stdout",
     "text": [
      "0\n0\n"
     ]
    }
   ],
   "source": [
    "# make sure all data is clean and ready to work on\n",
    "print(data['UserReviews'].isnull().sum())\n",
    "print(data['UserReviews'].isna().sum())"
   ]
  },
  {
   "cell_type": "code",
   "execution_count": 190,
   "metadata": {},
   "outputs": [
    {
     "output_type": "stream",
     "name": "stdout",
     "text": [
      "140\n",
      "225\n",
      "255\n",
      "308\n",
      "352\n",
      "393\n",
      "394\n",
      "466\n",
      "516\n",
      "524\n",
      "542\n",
      "603\n",
      "622\n",
      "640\n",
      "646\n",
      "684\n",
      "742\n",
      "856\n",
      "863\n",
      "889\n",
      "1043\n",
      "1057\n",
      "1082\n",
      "1333\n",
      "1742\n",
      "1751\n",
      "2029\n",
      "2339\n",
      "2496\n",
      "2615\n",
      "2638\n",
      "2887\n",
      "5081\n",
      "5122\n",
      "6566\n",
      "6718\n",
      "6759\n",
      "8392\n",
      "8654\n",
      "9649\n",
      "9676\n",
      "9875\n",
      "12146\n",
      "12504\n",
      "13721\n",
      "13812\n",
      "13890\n",
      "14222\n",
      "14259\n",
      "14260\n",
      "14264\n",
      "14288\n",
      "14308\n",
      "14352\n",
      "14362\n",
      "14387\n",
      "14395\n",
      "14474\n",
      "14481\n",
      "14516\n",
      "14560\n",
      "14606\n",
      "14637\n",
      "14703\n",
      "14742\n",
      "14775\n",
      "14828\n",
      "14886\n",
      "14911\n",
      "14919\n",
      "14924\n",
      "14944\n",
      "14984\n",
      "15000\n",
      "15015\n",
      "15023\n",
      "15027\n",
      "15032\n",
      "15101\n",
      "15155\n",
      "15286\n",
      "15289\n",
      "15293\n",
      "**INEXCEPT\n",
      "15427\n",
      "15436\n",
      "15445\n",
      "15540\n",
      "15549\n",
      "15591\n",
      "15649\n",
      "15685\n",
      "15805\n",
      "15861\n",
      "16254\n",
      "16313\n",
      "16384\n",
      "16920\n",
      "**INEXCEPT\n",
      "18117\n",
      "18675\n",
      "18986\n",
      "20506\n",
      "20511\n",
      "20512\n",
      "20517\n",
      "20530\n",
      "22390\n",
      "22396\n",
      "22439\n",
      "22455\n",
      "22482\n",
      "22483\n",
      "22695\n",
      "22805\n",
      "22827\n",
      "22877\n",
      "22878\n",
      "22909\n",
      "22978\n",
      "23176\n",
      "23222\n",
      "23225\n",
      "23308\n",
      "23331\n",
      "23335\n",
      "23343\n",
      "23344\n",
      "23346\n",
      "23369\n",
      "23386\n",
      "23424\n",
      "23426\n",
      "23435\n",
      "23449\n",
      "23472\n",
      "23482\n",
      "23500\n",
      "23571\n",
      "23574\n",
      "23610\n",
      "23614\n",
      "23649\n",
      "23764\n",
      "23826\n",
      "23827\n",
      "23875\n",
      "23884\n",
      "23925\n",
      "23927\n",
      "24043\n",
      "24055\n",
      "24075\n",
      "24078\n",
      "24133\n",
      "24147\n",
      "24158\n",
      "24178\n",
      "24203\n",
      "24209\n",
      "24343\n",
      "24389\n",
      "24445\n",
      "24520\n",
      "24546\n",
      "24770\n",
      "24786\n",
      "24814\n",
      "24905\n",
      "25025\n",
      "25033\n",
      "25053\n",
      "25205\n",
      "25233\n",
      "25259\n",
      "25266\n",
      "25434\n",
      "25459\n",
      "25584\n",
      "25599\n",
      "25832\n",
      "25987\n",
      "26020\n",
      "26163\n",
      "26206\n",
      "26320\n",
      "26506\n",
      "26541\n",
      "26545\n",
      "26548\n",
      "26747\n",
      "26911\n",
      "26944\n",
      "27119\n",
      "27246\n",
      "27295\n",
      "27307\n",
      "27312\n",
      "27428\n",
      "27677\n",
      "28024\n",
      "28511\n",
      "28684\n",
      "28831\n",
      "28878\n",
      "29132\n",
      "29445\n",
      "29457\n",
      "29664\n",
      "29827\n",
      "29901\n",
      "30126\n",
      "30155\n",
      "30352\n",
      "31281\n",
      "32126\n",
      "32824\n",
      "34384\n",
      "35350\n",
      "35745\n",
      "36519\n",
      "36729\n",
      "36898\n",
      "36905\n",
      "36934\n",
      "36949\n",
      "37033\n",
      "37090\n",
      "37594\n",
      "37885\n",
      "37913\n",
      "37954\n",
      "37969\n",
      "38027\n",
      "38520\n",
      "38537\n",
      "38674\n",
      "38926\n",
      "39301\n",
      "39390\n",
      "40325\n",
      "40833\n",
      "40840\n",
      "40860\n",
      "40924\n",
      "41287\n",
      "41290\n",
      "41352\n",
      "41424\n",
      "41427\n",
      "41583\n",
      "41592\n",
      "41619\n",
      "41640\n",
      "41663\n",
      "41706\n",
      "41710\n",
      "41877\n",
      "42194\n",
      "42556\n",
      "43226\n",
      "43475\n",
      "43643\n",
      "43697\n",
      "43856\n",
      "43919\n",
      "43951\n",
      "44168\n",
      "44351\n",
      "44544\n",
      "**INEXCEPT\n",
      "44615\n",
      "44833\n",
      "44851\n",
      "44854\n",
      "44988\n",
      "45111\n",
      "45157\n",
      "45182\n",
      "45338\n",
      "45594\n",
      "45826\n",
      "45839\n",
      "45867\n",
      "46126\n",
      "46316\n",
      "46449\n",
      "46503\n",
      "46814\n",
      "47446\n",
      "47593\n",
      "47804\n",
      "48178\n",
      "48236\n",
      "48255\n",
      "48539\n",
      "48703\n",
      "48819\n",
      "48828\n",
      "48995\n",
      "49201\n",
      "49332\n",
      "49441\n",
      "49623\n",
      "49742\n"
     ]
    }
   ],
   "source": [
    "#Split reviews column into seperate rows\n",
    "import json\n",
    "reviews = pd.DataFrame()\n",
    "for index, row in data.iterrows():\n",
    "    print(index)\n",
    "    critic = row['UserReviews']\n",
    "    critic = critic.replace(\"\\'\", \"\\\"\")\n",
    "    critic = critic.replace(\"\\'None\\'\", \"\")\n",
    "    critic = critic.replace('None,', \"\\\"\\\",\")\n",
    "    try:\n",
    "      j = json.loads(critic)\n",
    "    except Exception as msg:\n",
    "      print(\"**INEXCEPT\")\n",
    "      reviews = reviews.append({'index': row['index']}, ignore_index=True)\n",
    "      continue\n",
    "    j[0]['index'] = row['index']\n",
    "    dataframe = pd.DataFrame.from_dict(j, orient=\"columns\")\n",
    "    reviews = reviews.append(dataframe, ignore_index=False)"
   ]
  },
  {
   "cell_type": "code",
   "execution_count": 191,
   "metadata": {},
   "outputs": [
    {
     "output_type": "execute_result",
     "data": {
      "text/plain": [
       "  UserName UserReviewScore UserReviewDate  \\\n",
       "0                       90   Apr 28, 2020   \n",
       "1                       65   May  6, 2020   \n",
       "2                       70   Jun 10, 2019   \n",
       "3                       20   May 31, 2019   \n",
       "4                       50   Apr 13, 2020   \n",
       "\n",
       "                                      UserReviewText ExpandedUserReviewText  \\\n",
       "0                                                                      None   \n",
       "1  I enjoyed so much, really like the context and...                   None   \n",
       "2                                                                      None   \n",
       "3  Confusing controls at first when no reason for...                   None   \n",
       "4                                                                      None   \n",
       "\n",
       "  TotalThumbsUp TotalThumbs  index                     Game  Metascore  \\\n",
       "0             2           2  140.0              Timespinner       84.0   \n",
       "1             4           5  225.0            Black Paradox        NaN   \n",
       "2             0           5  255.0                   Redout       70.0   \n",
       "3             0           0  308.0              Happy Words        NaN   \n",
       "4             1           1  352.0  Warlocks 2: God Slayers       59.0   \n",
       "\n",
       "   UserScore              Publisher   ReleaseDate  \\\n",
       "0        7.3            Chucklefish  Jun  4, 2019   \n",
       "1        7.2  Digerati Distribution  May  3, 2019   \n",
       "2        7.2                Nicalis  May 14, 2019   \n",
       "3        NaN       LAN - GAMES EOOD  May 29, 2019   \n",
       "4        5.9          Fat Dog Games  Jun  7, 2019   \n",
       "\n",
       "                                    Genre NumberOfOnlinePlayers Cast Credits  \\\n",
       "0                    Action,Platformer,2D     OnlineMultiplayer  NaN     NaN   \n",
       "1  Action,Shooter,Shoot-'Em-Up,Horizontal     OnlineMultiplayer  NaN     NaN   \n",
       "2                Racing,Arcade,Futuristic     OnlineMultiplayer  NaN     NaN   \n",
       "3                            Puzzle,Logic     OnlineMultiplayer  NaN     NaN   \n",
       "4                  Role-Playing,ActionRPG     OnlineMultiplayer  NaN     NaN   \n",
       "\n",
       "                                      CriticsReviews  \\\n",
       "0  [{'CriticName': 'NF Magazine', 'CriticScore': ...   \n",
       "1  [{'CriticName': None, 'CriticScore': '75', 'Cr...   \n",
       "2  [{'CriticName': None, 'CriticScore': '76', 'Cr...   \n",
       "3  [{'CriticName': None, 'CriticScore': '20', 'Cr...   \n",
       "4  [{'CriticName': None, 'CriticScore': '90', 'Cr...   \n",
       "\n",
       "                                         UserReviews  \n",
       "0  [{'UserName': None, 'UserReviewScore': '90', '...  \n",
       "1  [{'UserName': None, 'UserReviewScore': '65', '...  \n",
       "2  [{'UserName': None, 'UserReviewScore': '70', '...  \n",
       "3  [{'UserName': None, 'UserReviewScore': '20', '...  \n",
       "4  [{'UserName': None, 'UserReviewScore': '50', '...  "
      ],
      "text/html": "<div>\n<style scoped>\n    .dataframe tbody tr th:only-of-type {\n        vertical-align: middle;\n    }\n\n    .dataframe tbody tr th {\n        vertical-align: top;\n    }\n\n    .dataframe thead th {\n        text-align: right;\n    }\n</style>\n<table border=\"1\" class=\"dataframe\">\n  <thead>\n    <tr style=\"text-align: right;\">\n      <th></th>\n      <th>UserName</th>\n      <th>UserReviewScore</th>\n      <th>UserReviewDate</th>\n      <th>UserReviewText</th>\n      <th>ExpandedUserReviewText</th>\n      <th>TotalThumbsUp</th>\n      <th>TotalThumbs</th>\n      <th>index</th>\n      <th>Game</th>\n      <th>Metascore</th>\n      <th>UserScore</th>\n      <th>Publisher</th>\n      <th>ReleaseDate</th>\n      <th>Genre</th>\n      <th>NumberOfOnlinePlayers</th>\n      <th>Cast</th>\n      <th>Credits</th>\n      <th>CriticsReviews</th>\n      <th>UserReviews</th>\n    </tr>\n  </thead>\n  <tbody>\n    <tr>\n      <th>0</th>\n      <td></td>\n      <td>90</td>\n      <td>Apr 28, 2020</td>\n      <td></td>\n      <td>None</td>\n      <td>2</td>\n      <td>2</td>\n      <td>140.0</td>\n      <td>Timespinner</td>\n      <td>84.0</td>\n      <td>7.3</td>\n      <td>Chucklefish</td>\n      <td>Jun  4, 2019</td>\n      <td>Action,Platformer,2D</td>\n      <td>OnlineMultiplayer</td>\n      <td>NaN</td>\n      <td>NaN</td>\n      <td>[{'CriticName': 'NF Magazine', 'CriticScore': ...</td>\n      <td>[{'UserName': None, 'UserReviewScore': '90', '...</td>\n    </tr>\n    <tr>\n      <th>1</th>\n      <td></td>\n      <td>65</td>\n      <td>May  6, 2020</td>\n      <td>I enjoyed so much, really like the context and...</td>\n      <td>None</td>\n      <td>4</td>\n      <td>5</td>\n      <td>225.0</td>\n      <td>Black Paradox</td>\n      <td>NaN</td>\n      <td>7.2</td>\n      <td>Digerati Distribution</td>\n      <td>May  3, 2019</td>\n      <td>Action,Shooter,Shoot-'Em-Up,Horizontal</td>\n      <td>OnlineMultiplayer</td>\n      <td>NaN</td>\n      <td>NaN</td>\n      <td>[{'CriticName': None, 'CriticScore': '75', 'Cr...</td>\n      <td>[{'UserName': None, 'UserReviewScore': '65', '...</td>\n    </tr>\n    <tr>\n      <th>2</th>\n      <td></td>\n      <td>70</td>\n      <td>Jun 10, 2019</td>\n      <td></td>\n      <td>None</td>\n      <td>0</td>\n      <td>5</td>\n      <td>255.0</td>\n      <td>Redout</td>\n      <td>70.0</td>\n      <td>7.2</td>\n      <td>Nicalis</td>\n      <td>May 14, 2019</td>\n      <td>Racing,Arcade,Futuristic</td>\n      <td>OnlineMultiplayer</td>\n      <td>NaN</td>\n      <td>NaN</td>\n      <td>[{'CriticName': None, 'CriticScore': '76', 'Cr...</td>\n      <td>[{'UserName': None, 'UserReviewScore': '70', '...</td>\n    </tr>\n    <tr>\n      <th>3</th>\n      <td></td>\n      <td>20</td>\n      <td>May 31, 2019</td>\n      <td>Confusing controls at first when no reason for...</td>\n      <td>None</td>\n      <td>0</td>\n      <td>0</td>\n      <td>308.0</td>\n      <td>Happy Words</td>\n      <td>NaN</td>\n      <td>NaN</td>\n      <td>LAN - GAMES EOOD</td>\n      <td>May 29, 2019</td>\n      <td>Puzzle,Logic</td>\n      <td>OnlineMultiplayer</td>\n      <td>NaN</td>\n      <td>NaN</td>\n      <td>[{'CriticName': None, 'CriticScore': '20', 'Cr...</td>\n      <td>[{'UserName': None, 'UserReviewScore': '20', '...</td>\n    </tr>\n    <tr>\n      <th>4</th>\n      <td></td>\n      <td>50</td>\n      <td>Apr 13, 2020</td>\n      <td></td>\n      <td>None</td>\n      <td>1</td>\n      <td>1</td>\n      <td>352.0</td>\n      <td>Warlocks 2: God Slayers</td>\n      <td>59.0</td>\n      <td>5.9</td>\n      <td>Fat Dog Games</td>\n      <td>Jun  7, 2019</td>\n      <td>Role-Playing,ActionRPG</td>\n      <td>OnlineMultiplayer</td>\n      <td>NaN</td>\n      <td>NaN</td>\n      <td>[{'CriticName': None, 'CriticScore': '90', 'Cr...</td>\n      <td>[{'UserName': None, 'UserReviewScore': '50', '...</td>\n    </tr>\n  </tbody>\n</table>\n</div>"
     },
     "metadata": {},
     "execution_count": 191
    }
   ],
   "source": [
    "df = pd.merge(reviews, data, on='index', how='outer')\n",
    "df.head()"
   ]
  },
  {
   "cell_type": "code",
   "execution_count": 192,
   "metadata": {},
   "outputs": [
    {
     "output_type": "stream",
     "name": "stderr",
     "text": [
      "<ipython-input-192-2cb23fd5e45c>:3: SettingWithCopyWarning: \nA value is trying to be set on a copy of a slice from a DataFrame.\nTry using .loc[row_indexer,col_indexer] = value instead\n\nSee the caveats in the documentation: https://pandas.pydata.org/pandas-docs/stable/user_guide/indexing.html#returning-a-view-versus-a-copy\n  data_text['index'] = data_text.index\n"
     ]
    }
   ],
   "source": [
    "data = df\n",
    "data_text = data[['Game', 'UserReviewText', 'UserScore']]\n",
    "data_text['index'] = data_text.index\n",
    "documents = data_text"
   ]
  },
  {
   "cell_type": "code",
   "execution_count": 193,
   "metadata": {},
   "outputs": [
    {
     "output_type": "execute_result",
     "data": {
      "text/plain": [
       "302"
      ]
     },
     "metadata": {},
     "execution_count": 193
    }
   ],
   "source": [
    "len(documents)"
   ]
  },
  {
   "cell_type": "code",
   "execution_count": 194,
   "metadata": {},
   "outputs": [
    {
     "output_type": "execute_result",
     "data": {
      "text/plain": [
       "                      Game                                     UserReviewText  \\\n",
       "0              Timespinner                                                      \n",
       "1            Black Paradox  I enjoyed so much, really like the context and...   \n",
       "2                   Redout                                                      \n",
       "3              Happy Words  Confusing controls at first when no reason for...   \n",
       "4  Warlocks 2: God Slayers                                                      \n",
       "\n",
       "   UserScore  index  \n",
       "0        7.3      0  \n",
       "1        7.2      1  \n",
       "2        7.2      2  \n",
       "3        NaN      3  \n",
       "4        5.9      4  "
      ],
      "text/html": "<div>\n<style scoped>\n    .dataframe tbody tr th:only-of-type {\n        vertical-align: middle;\n    }\n\n    .dataframe tbody tr th {\n        vertical-align: top;\n    }\n\n    .dataframe thead th {\n        text-align: right;\n    }\n</style>\n<table border=\"1\" class=\"dataframe\">\n  <thead>\n    <tr style=\"text-align: right;\">\n      <th></th>\n      <th>Game</th>\n      <th>UserReviewText</th>\n      <th>UserScore</th>\n      <th>index</th>\n    </tr>\n  </thead>\n  <tbody>\n    <tr>\n      <th>0</th>\n      <td>Timespinner</td>\n      <td></td>\n      <td>7.3</td>\n      <td>0</td>\n    </tr>\n    <tr>\n      <th>1</th>\n      <td>Black Paradox</td>\n      <td>I enjoyed so much, really like the context and...</td>\n      <td>7.2</td>\n      <td>1</td>\n    </tr>\n    <tr>\n      <th>2</th>\n      <td>Redout</td>\n      <td></td>\n      <td>7.2</td>\n      <td>2</td>\n    </tr>\n    <tr>\n      <th>3</th>\n      <td>Happy Words</td>\n      <td>Confusing controls at first when no reason for...</td>\n      <td>NaN</td>\n      <td>3</td>\n    </tr>\n    <tr>\n      <th>4</th>\n      <td>Warlocks 2: God Slayers</td>\n      <td></td>\n      <td>5.9</td>\n      <td>4</td>\n    </tr>\n  </tbody>\n</table>\n</div>"
     },
     "metadata": {},
     "execution_count": 194
    }
   ],
   "source": [
    "documents[:5]"
   ]
  },
  {
   "source": [
    "## Data Pre-processing"
   ],
   "cell_type": "markdown",
   "metadata": {}
  },
  {
   "source": [
    "### Lemmatize example"
   ],
   "cell_type": "markdown",
   "metadata": {}
  },
  {
   "cell_type": "code",
   "execution_count": 195,
   "metadata": {},
   "outputs": [
    {
     "output_type": "stream",
     "name": "stdout",
     "text": [
      "go\n"
     ]
    }
   ],
   "source": [
    "print(WordNetLemmatizer().lemmatize('went', pos='v'))"
   ]
  },
  {
   "source": [
    "### Stemmer Example"
   ],
   "cell_type": "markdown",
   "metadata": {}
  },
  {
   "cell_type": "code",
   "execution_count": 196,
   "metadata": {},
   "outputs": [
    {
     "output_type": "execute_result",
     "data": {
      "text/plain": [
       "   original word stemmed\n",
       "0       caresses  caress\n",
       "1          flies     fli\n",
       "2           dies     die\n",
       "3          mules    mule\n",
       "4         denied    deni\n",
       "5           died     die\n",
       "6         agreed    agre\n",
       "7          owned     own\n",
       "8        humbled   humbl\n",
       "9          sized    size\n",
       "10       meeting    meet\n",
       "11       stating   state\n",
       "12       siezing    siez\n",
       "13   itemization    item\n",
       "14   sensational  sensat\n",
       "15   traditional  tradit\n",
       "16     reference   refer\n",
       "17     colonizer   colon\n",
       "18       plotted    plot"
      ],
      "text/html": "<div>\n<style scoped>\n    .dataframe tbody tr th:only-of-type {\n        vertical-align: middle;\n    }\n\n    .dataframe tbody tr th {\n        vertical-align: top;\n    }\n\n    .dataframe thead th {\n        text-align: right;\n    }\n</style>\n<table border=\"1\" class=\"dataframe\">\n  <thead>\n    <tr style=\"text-align: right;\">\n      <th></th>\n      <th>original word</th>\n      <th>stemmed</th>\n    </tr>\n  </thead>\n  <tbody>\n    <tr>\n      <th>0</th>\n      <td>caresses</td>\n      <td>caress</td>\n    </tr>\n    <tr>\n      <th>1</th>\n      <td>flies</td>\n      <td>fli</td>\n    </tr>\n    <tr>\n      <th>2</th>\n      <td>dies</td>\n      <td>die</td>\n    </tr>\n    <tr>\n      <th>3</th>\n      <td>mules</td>\n      <td>mule</td>\n    </tr>\n    <tr>\n      <th>4</th>\n      <td>denied</td>\n      <td>deni</td>\n    </tr>\n    <tr>\n      <th>5</th>\n      <td>died</td>\n      <td>die</td>\n    </tr>\n    <tr>\n      <th>6</th>\n      <td>agreed</td>\n      <td>agre</td>\n    </tr>\n    <tr>\n      <th>7</th>\n      <td>owned</td>\n      <td>own</td>\n    </tr>\n    <tr>\n      <th>8</th>\n      <td>humbled</td>\n      <td>humbl</td>\n    </tr>\n    <tr>\n      <th>9</th>\n      <td>sized</td>\n      <td>size</td>\n    </tr>\n    <tr>\n      <th>10</th>\n      <td>meeting</td>\n      <td>meet</td>\n    </tr>\n    <tr>\n      <th>11</th>\n      <td>stating</td>\n      <td>state</td>\n    </tr>\n    <tr>\n      <th>12</th>\n      <td>siezing</td>\n      <td>siez</td>\n    </tr>\n    <tr>\n      <th>13</th>\n      <td>itemization</td>\n      <td>item</td>\n    </tr>\n    <tr>\n      <th>14</th>\n      <td>sensational</td>\n      <td>sensat</td>\n    </tr>\n    <tr>\n      <th>15</th>\n      <td>traditional</td>\n      <td>tradit</td>\n    </tr>\n    <tr>\n      <th>16</th>\n      <td>reference</td>\n      <td>refer</td>\n    </tr>\n    <tr>\n      <th>17</th>\n      <td>colonizer</td>\n      <td>colon</td>\n    </tr>\n    <tr>\n      <th>18</th>\n      <td>plotted</td>\n      <td>plot</td>\n    </tr>\n  </tbody>\n</table>\n</div>"
     },
     "metadata": {},
     "execution_count": 196
    }
   ],
   "source": [
    "stemmer = SnowballStemmer('english')\n",
    "original_words = ['caresses', 'flies', 'dies', 'mules', 'denied','died', 'agreed', 'owned', \n",
    "           'humbled', 'sized','meeting', 'stating', 'siezing', 'itemization','sensational', \n",
    "           'traditional', 'reference', 'colonizer','plotted']\n",
    "singles = [stemmer.stem(plural) for plural in original_words]\n",
    "pd.DataFrame(data = {'original word': original_words, 'stemmed': singles})"
   ]
  },
  {
   "cell_type": "code",
   "execution_count": 197,
   "metadata": {},
   "outputs": [],
   "source": [
    "def lemmatize_stemming(text):\n",
    "    return stemmer.stem(WordNetLemmatizer().lemmatize(text, pos='v'))\n",
    "\n",
    "def preprocess(text):\n",
    "    result = []\n",
    "    for token in gensim.utils.simple_preprocess(text):\n",
    "        if token not in gensim.parsing.preprocessing.STOPWORDS and len(token) > 3:\n",
    "            result.append(lemmatize_stemming(token))\n",
    "    return result"
   ]
  },
  {
   "cell_type": "code",
   "execution_count": 198,
   "metadata": {},
   "outputs": [
    {
     "output_type": "execute_result",
     "data": {
      "text/plain": [
       "                                Game  \\\n",
       "0                        Timespinner   \n",
       "1                      Black Paradox   \n",
       "2                             Redout   \n",
       "3                        Happy Words   \n",
       "4            Warlocks 2: God Slayers   \n",
       "..                               ...   \n",
       "297       Age of Wonders: Planetfall   \n",
       "298              No Man's Sky Beyond   \n",
       "299          Remnant: From the Ashes   \n",
       "300  Acron: Attack of the Squirrels!   \n",
       "301                Children of Morta   \n",
       "\n",
       "                                        UserReviewText  UserScore  index  \n",
       "0                                                             7.3      0  \n",
       "1    I enjoyed so much, really like the context and...        7.2      1  \n",
       "2                                                             7.2      2  \n",
       "3    Confusing controls at first when no reason for...        NaN      3  \n",
       "4                                                             5.9      4  \n",
       "..                                                 ...        ...    ...  \n",
       "297                                                           NaN    297  \n",
       "298  NMS has finally reached the point that it is w...        NaN    298  \n",
       "299                                                           6.7    299  \n",
       "300                                               None        NaN    300  \n",
       "301  Great story and animations, but the gameplay i...        NaN    301  \n",
       "\n",
       "[302 rows x 4 columns]"
      ],
      "text/html": "<div>\n<style scoped>\n    .dataframe tbody tr th:only-of-type {\n        vertical-align: middle;\n    }\n\n    .dataframe tbody tr th {\n        vertical-align: top;\n    }\n\n    .dataframe thead th {\n        text-align: right;\n    }\n</style>\n<table border=\"1\" class=\"dataframe\">\n  <thead>\n    <tr style=\"text-align: right;\">\n      <th></th>\n      <th>Game</th>\n      <th>UserReviewText</th>\n      <th>UserScore</th>\n      <th>index</th>\n    </tr>\n  </thead>\n  <tbody>\n    <tr>\n      <th>0</th>\n      <td>Timespinner</td>\n      <td></td>\n      <td>7.3</td>\n      <td>0</td>\n    </tr>\n    <tr>\n      <th>1</th>\n      <td>Black Paradox</td>\n      <td>I enjoyed so much, really like the context and...</td>\n      <td>7.2</td>\n      <td>1</td>\n    </tr>\n    <tr>\n      <th>2</th>\n      <td>Redout</td>\n      <td></td>\n      <td>7.2</td>\n      <td>2</td>\n    </tr>\n    <tr>\n      <th>3</th>\n      <td>Happy Words</td>\n      <td>Confusing controls at first when no reason for...</td>\n      <td>NaN</td>\n      <td>3</td>\n    </tr>\n    <tr>\n      <th>4</th>\n      <td>Warlocks 2: God Slayers</td>\n      <td></td>\n      <td>5.9</td>\n      <td>4</td>\n    </tr>\n    <tr>\n      <th>...</th>\n      <td>...</td>\n      <td>...</td>\n      <td>...</td>\n      <td>...</td>\n    </tr>\n    <tr>\n      <th>297</th>\n      <td>Age of Wonders: Planetfall</td>\n      <td></td>\n      <td>NaN</td>\n      <td>297</td>\n    </tr>\n    <tr>\n      <th>298</th>\n      <td>No Man's Sky Beyond</td>\n      <td>NMS has finally reached the point that it is w...</td>\n      <td>NaN</td>\n      <td>298</td>\n    </tr>\n    <tr>\n      <th>299</th>\n      <td>Remnant: From the Ashes</td>\n      <td></td>\n      <td>6.7</td>\n      <td>299</td>\n    </tr>\n    <tr>\n      <th>300</th>\n      <td>Acron: Attack of the Squirrels!</td>\n      <td>None</td>\n      <td>NaN</td>\n      <td>300</td>\n    </tr>\n    <tr>\n      <th>301</th>\n      <td>Children of Morta</td>\n      <td>Great story and animations, but the gameplay i...</td>\n      <td>NaN</td>\n      <td>301</td>\n    </tr>\n  </tbody>\n</table>\n<p>302 rows × 4 columns</p>\n</div>"
     },
     "metadata": {},
     "execution_count": 198
    }
   ],
   "source": [
    "documents"
   ]
  },
  {
   "cell_type": "code",
   "execution_count": 199,
   "metadata": {},
   "outputs": [
    {
     "output_type": "stream",
     "name": "stdout",
     "text": [
      "original document: \n",
      "['Remnant:', 'From', 'the', 'Ashes']\n",
      "\n",
      "\n",
      " tokenized and lemmatized document: \n",
      "['remnant', 'ash']\n"
     ]
    }
   ],
   "source": [
    "doc_sample = documents[documents['index'] == 299].values[0][0]\n",
    "\n",
    "print('original document: ')\n",
    "words = []\n",
    "for word in doc_sample.split(' '):\n",
    "    words.append(word)\n",
    "print(words)\n",
    "print('\\n\\n tokenized and lemmatized document: ')\n",
    "print(preprocess(doc_sample))"
   ]
  },
  {
   "cell_type": "code",
   "execution_count": 200,
   "metadata": {},
   "outputs": [],
   "source": [
    "#delete empty rows\n",
    "documents = documents[documents.UserReviewText != '']"
   ]
  },
  {
   "cell_type": "code",
   "execution_count": 201,
   "metadata": {},
   "outputs": [],
   "source": [
    "processed_docs = documents['UserReviewText'].astype(str).map(preprocess)"
   ]
  },
  {
   "cell_type": "code",
   "execution_count": 202,
   "metadata": {},
   "outputs": [
    {
     "output_type": "execute_result",
     "data": {
      "text/plain": [
       "1     [enjoy, like, context, idea, one, perfect, cha...\n",
       "3     [confus, control, reason, advertis, local, onl...\n",
       "7                                                    []\n",
       "8        [pretti, basic, platform, overal, world, huge]\n",
       "9                                                    []\n",
       "10                                                   []\n",
       "11    [nintento, version, good, want, content, game,...\n",
       "12                                                   []\n",
       "14                                                   []\n",
       "15    [excelent, port, bien, conectado, tele, portát...\n",
       "Name: UserReviewText, dtype: object"
      ]
     },
     "metadata": {},
     "execution_count": 202
    }
   ],
   "source": [
    "processed_docs[:10]"
   ]
  },
  {
   "source": [
    "## Bag of words on the dataset"
   ],
   "cell_type": "markdown",
   "metadata": {}
  },
  {
   "cell_type": "code",
   "execution_count": 203,
   "metadata": {},
   "outputs": [],
   "source": [
    "dictionary = gensim.corpora.Dictionary(processed_docs)"
   ]
  },
  {
   "cell_type": "code",
   "execution_count": 204,
   "metadata": {},
   "outputs": [
    {
     "output_type": "stream",
     "name": "stdout",
     "text": [
      "0 charact\n1 context\n2 enjoy\n3 idea\n4 like\n5 movi\n6 one\n7 perfect\n8 advertis\n9 confus\n10 consol\n"
     ]
    }
   ],
   "source": [
    "count = 0\n",
    "for k, v in dictionary.iteritems():\n",
    "    print(k, v)\n",
    "    count += 1\n",
    "    if count > 10:\n",
    "        break"
   ]
  },
  {
   "cell_type": "code",
   "execution_count": 205,
   "metadata": {},
   "outputs": [],
   "source": [
    "dictionary.filter_extremes(no_below=15, no_above=0.5, keep_n=100000)"
   ]
  },
  {
   "cell_type": "code",
   "execution_count": 206,
   "metadata": {},
   "outputs": [
    {
     "output_type": "execute_result",
     "data": {
      "text/plain": [
       "[(0, 2), (1, 1)]"
      ]
     },
     "metadata": {},
     "execution_count": 206
    }
   ],
   "source": [
    "bow_corpus = [dictionary.doc2bow(doc) for doc in processed_docs]\n",
    "bow_corpus[140]"
   ]
  },
  {
   "cell_type": "code",
   "execution_count": 207,
   "metadata": {},
   "outputs": [
    {
     "output_type": "stream",
     "name": "stdout",
     "text": [
      "Word 0 (\"game\") appears 2 time.\nWord 1 (\"good\") appears 1 time.\n"
     ]
    }
   ],
   "source": [
    "bow_doc_299 = bow_corpus[140]\n",
    "\n",
    "for i in range(len(bow_doc_299)):\n",
    "    print(\"Word {} (\\\"{}\\\") appears {} time.\".format(bow_doc_299[i][0], \n",
    "                                                     dictionary[bow_doc_299[i][0]], \n",
    "                                                     bow_doc_299[i][1]))"
   ]
  },
  {
   "source": [
    "## TF-IDF"
   ],
   "cell_type": "markdown",
   "metadata": {}
  },
  {
   "cell_type": "code",
   "execution_count": 208,
   "metadata": {},
   "outputs": [],
   "source": [
    "from gensim import corpora, models\n",
    "\n",
    "tfidf = models.TfidfModel(bow_corpus)"
   ]
  },
  {
   "cell_type": "code",
   "execution_count": 209,
   "metadata": {},
   "outputs": [],
   "source": [
    "corpus_tfidf = tfidf[bow_corpus]"
   ]
  },
  {
   "cell_type": "code",
   "execution_count": 210,
   "metadata": {},
   "outputs": [
    {
     "output_type": "stream",
     "name": "stdout",
     "text": [
      "[]\n"
     ]
    }
   ],
   "source": [
    "from pprint import pprint\n",
    "\n",
    "for doc in corpus_tfidf:\n",
    "    pprint(doc)\n",
    "    break"
   ]
  },
  {
   "source": [
    "## Running LDA using TF-IDF"
   ],
   "cell_type": "markdown",
   "metadata": {}
  },
  {
   "cell_type": "code",
   "execution_count": 211,
   "metadata": {},
   "outputs": [],
   "source": [
    "lda_model = gensim.models.LdaMulticore(bow_corpus, num_topics=10, id2word=dictionary, passes=2, workers=2)"
   ]
  },
  {
   "cell_type": "code",
   "execution_count": 212,
   "metadata": {},
   "outputs": [
    {
     "output_type": "stream",
     "name": "stdout",
     "text": [
      "Topic: 0 \nWords: 0.514*\"play\" + 0.250*\"great\" + 0.221*\"game\" + 0.015*\"good\"\nTopic: 1 \nWords: 0.540*\"game\" + 0.308*\"good\" + 0.076*\"play\" + 0.076*\"great\"\nTopic: 2 \nWords: 0.700*\"play\" + 0.278*\"game\" + 0.011*\"good\" + 0.011*\"great\"\nTopic: 3 \nWords: 0.507*\"game\" + 0.219*\"good\" + 0.178*\"great\" + 0.096*\"play\"\nTopic: 4 \nWords: 0.369*\"play\" + 0.329*\"great\" + 0.224*\"good\" + 0.078*\"game\"\nTopic: 5 \nWords: 0.472*\"game\" + 0.471*\"great\" + 0.030*\"good\" + 0.027*\"play\"\nTopic: 6 \nWords: 0.705*\"game\" + 0.271*\"play\" + 0.016*\"great\" + 0.009*\"good\"\nTopic: 7 \nWords: 0.751*\"game\" + 0.132*\"play\" + 0.109*\"great\" + 0.008*\"good\"\nTopic: 8 \nWords: 0.523*\"good\" + 0.470*\"game\" + 0.003*\"play\" + 0.003*\"great\"\nTopic: 9 \nWords: 0.846*\"game\" + 0.082*\"good\" + 0.067*\"play\" + 0.005*\"great\"\n"
     ]
    }
   ],
   "source": [
    "for idx, topic in lda_model.print_topics(-1):\n",
    "    print('Topic: {} \\nWords: {}'.format(idx, topic))"
   ]
  },
  {
   "source": [
    "## Performance evaluation by classifying sample document using LDA Bag of Words model"
   ],
   "cell_type": "markdown",
   "metadata": {}
  },
  {
   "cell_type": "code",
   "execution_count": 213,
   "metadata": {},
   "outputs": [
    {
     "output_type": "execute_result",
     "data": {
      "text/plain": [
       "['perfect',\n",
       " 'own',\n",
       " 'play',\n",
       " 'consol',\n",
       " 'mario',\n",
       " 'parti',\n",
       " 'best',\n",
       " 'access',\n",
       " 'graphic',\n",
       " 'gorgeous',\n",
       " 'mini',\n",
       " 'game',\n",
       " 'great',\n",
       " 'stellar',\n",
       " 'one',\n",
       " 'littl',\n",
       " 'lot',\n",
       " 'laugh',\n",
       " 'room']"
      ]
     },
     "metadata": {},
     "execution_count": 213
    }
   ],
   "source": [
    "processed_docs[140]"
   ]
  },
  {
   "cell_type": "code",
   "execution_count": 214,
   "metadata": {},
   "outputs": [
    {
     "output_type": "stream",
     "name": "stdout",
     "text": [
      "\nScore: 0.7749473452568054\t \nTopic: 0.523*\"good\" + 0.470*\"game\" + 0.003*\"play\" + 0.003*\"great\"\n\nScore: 0.02501123771071434\t \nTopic: 0.846*\"game\" + 0.082*\"good\" + 0.067*\"play\" + 0.005*\"great\"\n\nScore: 0.025009173899888992\t \nTopic: 0.751*\"game\" + 0.132*\"play\" + 0.109*\"great\" + 0.008*\"good\"\n\nScore: 0.02500869333744049\t \nTopic: 0.705*\"game\" + 0.271*\"play\" + 0.016*\"great\" + 0.009*\"good\"\n\nScore: 0.025006776675581932\t \nTopic: 0.507*\"game\" + 0.219*\"good\" + 0.178*\"great\" + 0.096*\"play\"\n\nScore: 0.025005754083395004\t \nTopic: 0.472*\"game\" + 0.471*\"great\" + 0.030*\"good\" + 0.027*\"play\"\n\nScore: 0.025004897266626358\t \nTopic: 0.540*\"game\" + 0.308*\"good\" + 0.076*\"play\" + 0.076*\"great\"\n\nScore: 0.025002935901284218\t \nTopic: 0.700*\"play\" + 0.278*\"game\" + 0.011*\"good\" + 0.011*\"great\"\n\nScore: 0.025002023205161095\t \nTopic: 0.514*\"play\" + 0.250*\"great\" + 0.221*\"game\" + 0.015*\"good\"\n\nScore: 0.025001194328069687\t \nTopic: 0.369*\"play\" + 0.329*\"great\" + 0.224*\"good\" + 0.078*\"game\"\n"
     ]
    }
   ],
   "source": [
    "for index, score in sorted(lda_model[bow_corpus[140]], key=lambda tup: -1*tup[1]):\n",
    "    print(\"\\nScore: {}\\t \\nTopic: {}\".format(score, lda_model.print_topic(index, 10)))"
   ]
  },
  {
   "source": [
    "## Testing model on unseen document"
   ],
   "cell_type": "markdown",
   "metadata": {}
  },
  {
   "cell_type": "code",
   "execution_count": 215,
   "metadata": {},
   "outputs": [
    {
     "output_type": "stream",
     "name": "stdout",
     "text": [
      "Score: 0.10000000149011612\t Topic: 0.514*\"play\" + 0.250*\"great\" + 0.221*\"game\" + 0.015*\"good\"\nScore: 0.10000000149011612\t Topic: 0.540*\"game\" + 0.308*\"good\" + 0.076*\"play\" + 0.076*\"great\"\nScore: 0.10000000149011612\t Topic: 0.700*\"play\" + 0.278*\"game\" + 0.011*\"good\" + 0.011*\"great\"\nScore: 0.10000000149011612\t Topic: 0.507*\"game\" + 0.219*\"good\" + 0.178*\"great\" + 0.096*\"play\"\nScore: 0.10000000149011612\t Topic: 0.369*\"play\" + 0.329*\"great\" + 0.224*\"good\" + 0.078*\"game\"\nScore: 0.10000000149011612\t Topic: 0.472*\"game\" + 0.471*\"great\" + 0.030*\"good\" + 0.027*\"play\"\nScore: 0.10000000149011612\t Topic: 0.705*\"game\" + 0.271*\"play\" + 0.016*\"great\" + 0.009*\"good\"\nScore: 0.10000000149011612\t Topic: 0.751*\"game\" + 0.132*\"play\" + 0.109*\"great\" + 0.008*\"good\"\nScore: 0.10000000149011612\t Topic: 0.523*\"good\" + 0.470*\"game\" + 0.003*\"play\" + 0.003*\"great\"\nScore: 0.10000000149011612\t Topic: 0.846*\"game\" + 0.082*\"good\" + 0.067*\"play\" + 0.005*\"great\"\n"
     ]
    }
   ],
   "source": [
    "unseen_document = 'How a Pentagon deal became an identity crisis for Google'\n",
    "bow_vector = dictionary.doc2bow(preprocess(unseen_document))\n",
    "\n",
    "for index, score in sorted(lda_model[bow_vector], key=lambda tup: -1*tup[1]):\n",
    "    print(\"Score: {}\\t Topic: {}\".format(score, lda_model.print_topic(index, 5)))"
   ]
  },
  {
   "source": [
    "## Identifying the most dominant topic within reviews"
   ],
   "cell_type": "markdown",
   "metadata": {}
  },
  {
   "cell_type": "code",
   "execution_count": 216,
   "metadata": {},
   "outputs": [],
   "source": [
    "def format_topics_sentences(ldamodel=None, corpus=bow_corpus, texts=documents['UserReviewText']):\n",
    "    # Init output\n",
    "    sent_topics_df = pd.DataFrame()\n",
    "\n",
    "    # Get main topic in each document\n",
    "    for i, row_list in enumerate(ldamodel[corpus]):\n",
    "        row = row_list[0] if ldamodel.per_word_topics else row_list            \n",
    "        # print(row)\n",
    "        row = sorted(row, key=lambda x: (x[1]), reverse=True)\n",
    "        # Get the Dominant topic, Perc Contribution and Keywords for each document\n",
    "        for j, (topic_num, prop_topic) in enumerate(row):\n",
    "            if j == 0:  # => dominant topic\n",
    "                wp = ldamodel.show_topic(topic_num)\n",
    "                topic_keywords = \", \".join([word for word, prop in wp])\n",
    "                sent_topics_df = sent_topics_df.append(pd.Series([int(topic_num), round(prop_topic,4), topic_keywords]), ignore_index=True)\n",
    "            else:\n",
    "                break\n",
    "    sent_topics_df.columns = ['Dominant_Topic', 'Perc_Contribution', 'Topic_Keywords']\n",
    "\n",
    "    # Add original text to the end of the output\n",
    "    contents = pd.Series(texts)\n",
    "    sent_topics_df = pd.concat([sent_topics_df, contents], axis=1)\n",
    "    return(sent_topics_df)"
   ]
  },
  {
   "cell_type": "code",
   "execution_count": 217,
   "metadata": {},
   "outputs": [
    {
     "output_type": "execute_result",
     "data": {
      "text/plain": [
       "   Document_No  Dominant_Topic  Topic_Perc_Contrib                 Keywords  \\\n",
       "0            0             0.0              0.1000  play, great, game, good   \n",
       "1            1             9.0              0.7750  game, good, play, great   \n",
       "2            2             0.0              0.1000  play, great, game, good   \n",
       "3            3             0.0              0.1000  play, great, game, good   \n",
       "4            4             0.0              0.1000  play, great, game, good   \n",
       "5            5             0.0              0.1000  play, great, game, good   \n",
       "6            6             8.0              0.6999  good, game, play, great   \n",
       "7            7             0.0              0.1000  play, great, game, good   \n",
       "8            8             0.0              0.1000  play, great, game, good   \n",
       "9            9             0.0              0.1000  play, great, game, good   \n",
       "\n",
       "                                                Text  \n",
       "0                                                NaN  \n",
       "1  I enjoyed so much, really like the context and...  \n",
       "2                                                NaN  \n",
       "3  Confusing controls at first when no reason for...  \n",
       "4                                                NaN  \n",
       "5                                                NaN  \n",
       "6                                                NaN  \n",
       "7                                               None  \n",
       "8  Pretty basic platformer, but the overall world...  \n",
       "9                                               None  "
      ],
      "text/html": "<div>\n<style scoped>\n    .dataframe tbody tr th:only-of-type {\n        vertical-align: middle;\n    }\n\n    .dataframe tbody tr th {\n        vertical-align: top;\n    }\n\n    .dataframe thead th {\n        text-align: right;\n    }\n</style>\n<table border=\"1\" class=\"dataframe\">\n  <thead>\n    <tr style=\"text-align: right;\">\n      <th></th>\n      <th>Document_No</th>\n      <th>Dominant_Topic</th>\n      <th>Topic_Perc_Contrib</th>\n      <th>Keywords</th>\n      <th>Text</th>\n    </tr>\n  </thead>\n  <tbody>\n    <tr>\n      <th>0</th>\n      <td>0</td>\n      <td>0.0</td>\n      <td>0.1000</td>\n      <td>play, great, game, good</td>\n      <td>NaN</td>\n    </tr>\n    <tr>\n      <th>1</th>\n      <td>1</td>\n      <td>9.0</td>\n      <td>0.7750</td>\n      <td>game, good, play, great</td>\n      <td>I enjoyed so much, really like the context and...</td>\n    </tr>\n    <tr>\n      <th>2</th>\n      <td>2</td>\n      <td>0.0</td>\n      <td>0.1000</td>\n      <td>play, great, game, good</td>\n      <td>NaN</td>\n    </tr>\n    <tr>\n      <th>3</th>\n      <td>3</td>\n      <td>0.0</td>\n      <td>0.1000</td>\n      <td>play, great, game, good</td>\n      <td>Confusing controls at first when no reason for...</td>\n    </tr>\n    <tr>\n      <th>4</th>\n      <td>4</td>\n      <td>0.0</td>\n      <td>0.1000</td>\n      <td>play, great, game, good</td>\n      <td>NaN</td>\n    </tr>\n    <tr>\n      <th>5</th>\n      <td>5</td>\n      <td>0.0</td>\n      <td>0.1000</td>\n      <td>play, great, game, good</td>\n      <td>NaN</td>\n    </tr>\n    <tr>\n      <th>6</th>\n      <td>6</td>\n      <td>8.0</td>\n      <td>0.6999</td>\n      <td>good, game, play, great</td>\n      <td>NaN</td>\n    </tr>\n    <tr>\n      <th>7</th>\n      <td>7</td>\n      <td>0.0</td>\n      <td>0.1000</td>\n      <td>play, great, game, good</td>\n      <td>None</td>\n    </tr>\n    <tr>\n      <th>8</th>\n      <td>8</td>\n      <td>0.0</td>\n      <td>0.1000</td>\n      <td>play, great, game, good</td>\n      <td>Pretty basic platformer, but the overall world...</td>\n    </tr>\n    <tr>\n      <th>9</th>\n      <td>9</td>\n      <td>0.0</td>\n      <td>0.1000</td>\n      <td>play, great, game, good</td>\n      <td>None</td>\n    </tr>\n  </tbody>\n</table>\n</div>"
     },
     "metadata": {},
     "execution_count": 217
    }
   ],
   "source": [
    "df_topic_sents_keywords = format_topics_sentences(ldamodel=lda_model, corpus=bow_corpus, texts=documents['UserReviewText'])\n",
    "\n",
    "# Format\n",
    "df_dominant_topic = df_topic_sents_keywords.reset_index()\n",
    "df_dominant_topic.columns = ['Document_No', 'Dominant_Topic', 'Topic_Perc_Contrib', 'Keywords', 'Text']\n",
    "df_dominant_topic.head(10)"
   ]
  },
  {
   "source": [
    "# Merging data analysis outcome"
   ],
   "cell_type": "markdown",
   "metadata": {}
  },
  {
   "cell_type": "code",
   "execution_count": 218,
   "metadata": {},
   "outputs": [
    {
     "output_type": "execute_result",
     "data": {
      "text/plain": [
       "                                     Game Platform  \\\n",
       "0  Grand Theft Auto: Liberty City Stories      PSP   \n",
       "1     Grand Theft Auto: Vice City Stories      PSP   \n",
       "2                Monster Hunter Freedom 3      PSP   \n",
       "3                            Gran Turismo      PSP   \n",
       "4            Monster Hunter Freedom Unite      PSP   \n",
       "\n",
       "                       Publisher VGChartzScore CriticScore TotalSales  \\\n",
       "0               Rockstar Games           N/A         8.8        7.72m   \n",
       "1               Rockstar Games           N/A         8.4        5.08m   \n",
       "2                       Capcom           N/A         N/A        4.87m   \n",
       "3  Sony Computer Entertainment           7.5         7.7        2.93m   \n",
       "4                       Capcom           N/A         7.7        5.50m   \n",
       "\n",
       "     ReleaseDate   LastUpdate  \n",
       "0  25th Oct 05            NaN  \n",
       "1  31st Oct 06            NaN  \n",
       "2  01st Dec 10    08th Jan 19  \n",
       "3  01st Oct 09            NaN  \n",
       "4  23rd Jun 09            NaN  "
      ],
      "text/html": "<div>\n<style scoped>\n    .dataframe tbody tr th:only-of-type {\n        vertical-align: middle;\n    }\n\n    .dataframe tbody tr th {\n        vertical-align: top;\n    }\n\n    .dataframe thead th {\n        text-align: right;\n    }\n</style>\n<table border=\"1\" class=\"dataframe\">\n  <thead>\n    <tr style=\"text-align: right;\">\n      <th></th>\n      <th>Game</th>\n      <th>Platform</th>\n      <th>Publisher</th>\n      <th>VGChartzScore</th>\n      <th>CriticScore</th>\n      <th>TotalSales</th>\n      <th>ReleaseDate</th>\n      <th>LastUpdate</th>\n    </tr>\n  </thead>\n  <tbody>\n    <tr>\n      <th>0</th>\n      <td>Grand Theft Auto: Liberty City Stories</td>\n      <td>PSP</td>\n      <td>Rockstar Games</td>\n      <td>N/A</td>\n      <td>8.8</td>\n      <td>7.72m</td>\n      <td>25th Oct 05</td>\n      <td>NaN</td>\n    </tr>\n    <tr>\n      <th>1</th>\n      <td>Grand Theft Auto: Vice City Stories</td>\n      <td>PSP</td>\n      <td>Rockstar Games</td>\n      <td>N/A</td>\n      <td>8.4</td>\n      <td>5.08m</td>\n      <td>31st Oct 06</td>\n      <td>NaN</td>\n    </tr>\n    <tr>\n      <th>2</th>\n      <td>Monster Hunter Freedom 3</td>\n      <td>PSP</td>\n      <td>Capcom</td>\n      <td>N/A</td>\n      <td>N/A</td>\n      <td>4.87m</td>\n      <td>01st Dec 10</td>\n      <td>08th Jan 19</td>\n    </tr>\n    <tr>\n      <th>3</th>\n      <td>Gran Turismo</td>\n      <td>PSP</td>\n      <td>Sony Computer Entertainment</td>\n      <td>7.5</td>\n      <td>7.7</td>\n      <td>2.93m</td>\n      <td>01st Oct 09</td>\n      <td>NaN</td>\n    </tr>\n    <tr>\n      <th>4</th>\n      <td>Monster Hunter Freedom Unite</td>\n      <td>PSP</td>\n      <td>Capcom</td>\n      <td>N/A</td>\n      <td>7.7</td>\n      <td>5.50m</td>\n      <td>23rd Jun 09</td>\n      <td>NaN</td>\n    </tr>\n  </tbody>\n</table>\n</div>"
     },
     "metadata": {},
     "execution_count": 218
    }
   ],
   "source": [
    "sales_data.head()"
   ]
  },
  {
   "cell_type": "code",
   "execution_count": 219,
   "metadata": {},
   "outputs": [],
   "source": [
    "#merging sales data with metacritic reviews\n",
    "merge_sales = pd.merge(documents, sales_data, on='Game', how='left')"
   ]
  },
  {
   "cell_type": "code",
   "execution_count": 220,
   "metadata": {},
   "outputs": [],
   "source": [
    "#merging topic dominance scores\n",
    "topicsales = merge_sales.merge(df_dominant_topic, left_index=True, right_index=True)"
   ]
  },
  {
   "cell_type": "code",
   "execution_count": 221,
   "metadata": {},
   "outputs": [],
   "source": [
    "#merging sentimentscores\n",
    "sentisales = pd.merge(topicsales, sentimentscores, on='Game', how='left')"
   ]
  },
  {
   "cell_type": "code",
   "execution_count": 222,
   "metadata": {},
   "outputs": [],
   "source": [
    "#merging innovativeness scores\n",
    "finaldata = pd.merge(innovativenesscores, sentisales, on='Game', how='left')"
   ]
  },
  {
   "cell_type": "code",
   "execution_count": 223,
   "metadata": {},
   "outputs": [],
   "source": [
    "#Drop NaNs for the regression\n",
    "finaldata.dropna(subset = ['StdDev_ContainWord', 'StdDev_innovativeness', 'Topic_Perc_Contrib', 'UserScore', 'TotalSales'], inplace=True)"
   ]
  },
  {
   "cell_type": "code",
   "execution_count": 224,
   "metadata": {},
   "outputs": [],
   "source": [
    "#Removing letter M from sales\n",
    "finaldata['TotalSales'] = finaldata['TotalSales'].map(lambda x: x.rstrip('m'))"
   ]
  },
  {
   "cell_type": "code",
   "execution_count": 225,
   "metadata": {},
   "outputs": [
    {
     "output_type": "stream",
     "name": "stdout",
     "text": [
      "StdDev_ContainWord       0\nStdDev_innovativeness    0\nTopic_Perc_Contrib       0\nUserScore                0\nTotalSales               0\ndtype: int64\nStdDev_ContainWord       0\nStdDev_innovativeness    0\nTopic_Perc_Contrib       0\nUserScore                0\nTotalSales               0\ndtype: int64\n"
     ]
    }
   ],
   "source": [
    "#validation on null data and NaNs in dataset\n",
    "print(finaldata[['StdDev_ContainWord', 'StdDev_innovativeness', 'Topic_Perc_Contrib', 'UserScore', 'TotalSales']].isnull().sum())\n",
    "print(finaldata[['StdDev_ContainWord', 'StdDev_innovativeness', 'Topic_Perc_Contrib', 'UserScore', 'TotalSales']].isna().sum())"
   ]
  },
  {
   "cell_type": "code",
   "execution_count": 226,
   "metadata": {},
   "outputs": [
    {
     "output_type": "execute_result",
     "data": {
      "text/plain": [
       "                   Game  Total_innovativeness  StdDev_innovativeness  \\\n",
       "33      Blade Strangers                     0                    0.0   \n",
       "54   Dark Souls Trilogy                     0                    0.0   \n",
       "73            Earthfall                     0                    0.0   \n",
       "91                 GRID                     0                    0.0   \n",
       "198   Super Mario Party                     0                    0.0   \n",
       "\n",
       "                                        UserReviewText  UserScore  index  \\\n",
       "33   Looks awful, plays awful, the speed is really ...        6.0  172.0   \n",
       "54   The other best fantasy series in video game hi...        7.2  177.0   \n",
       "73   Given the poor reviews, I’ve been very pleasan...        5.6  168.0   \n",
       "91   Really good job.  Better than I expected.  Con...        5.2   84.0   \n",
       "198  It s not perfect, but I ve owned and played al...        7.1  140.0   \n",
       "\n",
       "    Platform           Publisher VGChartzScore CriticScore  ...   LastUpdate  \\\n",
       "33        NS           Nicalis           7.0         8.3    ...  28th Jul 18   \n",
       "54      XOne      Namco Bandai           N/A         N/A    ...  24th Aug 18   \n",
       "73      XOne  Gearbox Software           N/A         N/A    ...  25th May 18   \n",
       "91       PS3       Codemasters           9.3         8.6    ...          NaN   \n",
       "198       NS          Nintendo           7.0         7.3    ...  19th Nov 18   \n",
       "\n",
       "    Document_No Dominant_Topic  Topic_Perc_Contrib                 Keywords  \\\n",
       "33         65.0            2.0              0.6999  play, game, good, great   \n",
       "54         67.0            5.0              0.6999  game, great, good, play   \n",
       "73         63.0            9.0              0.6999  game, good, play, great   \n",
       "91         24.0            8.0              0.6999  good, game, play, great   \n",
       "198        47.0            0.0              0.4363  play, great, game, good   \n",
       "\n",
       "                                        Text Sum_containword TotalNegative  \\\n",
       "33                                       NaN            -8.0          10.0   \n",
       "54                                       NaN             5.0           3.0   \n",
       "73                                       NaN             4.0           9.0   \n",
       "91   Betatester, please uninstall your self!             3.0           5.0   \n",
       "198                                      NaN            10.0           4.0   \n",
       "\n",
       "     TotalPositive  StdDev_ContainWord  \n",
       "33            10.0            0.132950  \n",
       "54             5.0            0.120559  \n",
       "73            11.0            0.135880  \n",
       "91             6.0            0.098104  \n",
       "198           10.0            0.156032  \n",
       "\n",
       "[5 rows x 22 columns]"
      ],
      "text/html": "<div>\n<style scoped>\n    .dataframe tbody tr th:only-of-type {\n        vertical-align: middle;\n    }\n\n    .dataframe tbody tr th {\n        vertical-align: top;\n    }\n\n    .dataframe thead th {\n        text-align: right;\n    }\n</style>\n<table border=\"1\" class=\"dataframe\">\n  <thead>\n    <tr style=\"text-align: right;\">\n      <th></th>\n      <th>Game</th>\n      <th>Total_innovativeness</th>\n      <th>StdDev_innovativeness</th>\n      <th>UserReviewText</th>\n      <th>UserScore</th>\n      <th>index</th>\n      <th>Platform</th>\n      <th>Publisher</th>\n      <th>VGChartzScore</th>\n      <th>CriticScore</th>\n      <th>...</th>\n      <th>LastUpdate</th>\n      <th>Document_No</th>\n      <th>Dominant_Topic</th>\n      <th>Topic_Perc_Contrib</th>\n      <th>Keywords</th>\n      <th>Text</th>\n      <th>Sum_containword</th>\n      <th>TotalNegative</th>\n      <th>TotalPositive</th>\n      <th>StdDev_ContainWord</th>\n    </tr>\n  </thead>\n  <tbody>\n    <tr>\n      <th>33</th>\n      <td>Blade Strangers</td>\n      <td>0</td>\n      <td>0.0</td>\n      <td>Looks awful, plays awful, the speed is really ...</td>\n      <td>6.0</td>\n      <td>172.0</td>\n      <td>NS</td>\n      <td>Nicalis</td>\n      <td>7.0</td>\n      <td>8.3</td>\n      <td>...</td>\n      <td>28th Jul 18</td>\n      <td>65.0</td>\n      <td>2.0</td>\n      <td>0.6999</td>\n      <td>play, game, good, great</td>\n      <td>NaN</td>\n      <td>-8.0</td>\n      <td>10.0</td>\n      <td>10.0</td>\n      <td>0.132950</td>\n    </tr>\n    <tr>\n      <th>54</th>\n      <td>Dark Souls Trilogy</td>\n      <td>0</td>\n      <td>0.0</td>\n      <td>The other best fantasy series in video game hi...</td>\n      <td>7.2</td>\n      <td>177.0</td>\n      <td>XOne</td>\n      <td>Namco Bandai</td>\n      <td>N/A</td>\n      <td>N/A</td>\n      <td>...</td>\n      <td>24th Aug 18</td>\n      <td>67.0</td>\n      <td>5.0</td>\n      <td>0.6999</td>\n      <td>game, great, good, play</td>\n      <td>NaN</td>\n      <td>5.0</td>\n      <td>3.0</td>\n      <td>5.0</td>\n      <td>0.120559</td>\n    </tr>\n    <tr>\n      <th>73</th>\n      <td>Earthfall</td>\n      <td>0</td>\n      <td>0.0</td>\n      <td>Given the poor reviews, I’ve been very pleasan...</td>\n      <td>5.6</td>\n      <td>168.0</td>\n      <td>XOne</td>\n      <td>Gearbox Software</td>\n      <td>N/A</td>\n      <td>N/A</td>\n      <td>...</td>\n      <td>25th May 18</td>\n      <td>63.0</td>\n      <td>9.0</td>\n      <td>0.6999</td>\n      <td>game, good, play, great</td>\n      <td>NaN</td>\n      <td>4.0</td>\n      <td>9.0</td>\n      <td>11.0</td>\n      <td>0.135880</td>\n    </tr>\n    <tr>\n      <th>91</th>\n      <td>GRID</td>\n      <td>0</td>\n      <td>0.0</td>\n      <td>Really good job.  Better than I expected.  Con...</td>\n      <td>5.2</td>\n      <td>84.0</td>\n      <td>PS3</td>\n      <td>Codemasters</td>\n      <td>9.3</td>\n      <td>8.6</td>\n      <td>...</td>\n      <td>NaN</td>\n      <td>24.0</td>\n      <td>8.0</td>\n      <td>0.6999</td>\n      <td>good, game, play, great</td>\n      <td>Betatester, please uninstall your self!</td>\n      <td>3.0</td>\n      <td>5.0</td>\n      <td>6.0</td>\n      <td>0.098104</td>\n    </tr>\n    <tr>\n      <th>198</th>\n      <td>Super Mario Party</td>\n      <td>0</td>\n      <td>0.0</td>\n      <td>It s not perfect, but I ve owned and played al...</td>\n      <td>7.1</td>\n      <td>140.0</td>\n      <td>NS</td>\n      <td>Nintendo</td>\n      <td>7.0</td>\n      <td>7.3</td>\n      <td>...</td>\n      <td>19th Nov 18</td>\n      <td>47.0</td>\n      <td>0.0</td>\n      <td>0.4363</td>\n      <td>play, great, game, good</td>\n      <td>NaN</td>\n      <td>10.0</td>\n      <td>4.0</td>\n      <td>10.0</td>\n      <td>0.156032</td>\n    </tr>\n  </tbody>\n</table>\n<p>5 rows × 22 columns</p>\n</div>"
     },
     "metadata": {},
     "execution_count": 226
    }
   ],
   "source": [
    "finaldata.head()"
   ]
  },
  {
   "source": [
    "# Multivariate regression analysis\n"
   ],
   "cell_type": "markdown",
   "metadata": {}
  },
  {
   "cell_type": "code",
   "execution_count": 235,
   "metadata": {},
   "outputs": [],
   "source": [
    "#define X and Y dependent and independent variables\n",
    "X = finaldata[['StdDev_ContainWord', 'StdDev_innovativeness', 'Topic_Perc_Contrib', 'UserScore']].astype(float)\n",
    "y = finaldata['TotalSales'].astype(float)"
   ]
  },
  {
   "cell_type": "code",
   "execution_count": 236,
   "metadata": {},
   "outputs": [
    {
     "output_type": "display_data",
     "data": {
      "text/plain": "<Figure size 432x288 with 1 Axes>",
      "image/svg+xml": "<?xml version=\"1.0\" encoding=\"utf-8\" standalone=\"no\"?>\r\n<!DOCTYPE svg PUBLIC \"-//W3C//DTD SVG 1.1//EN\"\r\n  \"http://www.w3.org/Graphics/SVG/1.1/DTD/svg11.dtd\">\r\n<!-- Created with matplotlib (https://matplotlib.org/) -->\r\n<svg height=\"248.518125pt\" version=\"1.1\" viewBox=\"0 0 372.103125 248.518125\" width=\"372.103125pt\" xmlns=\"http://www.w3.org/2000/svg\" xmlns:xlink=\"http://www.w3.org/1999/xlink\">\r\n <metadata>\r\n  <rdf:RDF xmlns:cc=\"http://creativecommons.org/ns#\" xmlns:dc=\"http://purl.org/dc/elements/1.1/\" xmlns:rdf=\"http://www.w3.org/1999/02/22-rdf-syntax-ns#\">\r\n   <cc:Work>\r\n    <dc:type rdf:resource=\"http://purl.org/dc/dcmitype/StillImage\"/>\r\n    <dc:date>2021-06-17T16:34:57.470925</dc:date>\r\n    <dc:format>image/svg+xml</dc:format>\r\n    <dc:creator>\r\n     <cc:Agent>\r\n      <dc:title>Matplotlib v3.3.3, https://matplotlib.org/</dc:title>\r\n     </cc:Agent>\r\n    </dc:creator>\r\n   </cc:Work>\r\n  </rdf:RDF>\r\n </metadata>\r\n <defs>\r\n  <style type=\"text/css\">*{stroke-linecap:butt;stroke-linejoin:round;}</style>\r\n </defs>\r\n <g id=\"figure_1\">\r\n  <g id=\"patch_1\">\r\n   <path d=\"M 0 248.518125 \r\nL 372.103125 248.518125 \r\nL 372.103125 0 \r\nL 0 0 \r\nz\r\n\" style=\"fill:none;\"/>\r\n  </g>\r\n  <g id=\"axes_1\">\r\n   <g id=\"patch_2\">\r\n    <path d=\"M 30.103125 224.64 \r\nL 364.903125 224.64 \r\nL 364.903125 7.2 \r\nL 30.103125 7.2 \r\nz\r\n\" style=\"fill:#ffffff;\"/>\r\n   </g>\r\n   <g id=\"patch_3\">\r\n    <path clip-path=\"url(#pdbd9791c31)\" d=\"M 45.321307 224.64 \r\nL 75.75767 224.64 \r\nL 75.75767 17.554286 \r\nL 45.321307 17.554286 \r\nz\r\n\" style=\"fill:#1f77b4;\"/>\r\n   </g>\r\n   <g id=\"patch_4\">\r\n    <path clip-path=\"url(#pdbd9791c31)\" d=\"M 75.75767 224.64 \r\nL 106.194034 224.64 \r\nL 106.194034 224.64 \r\nL 75.75767 224.64 \r\nz\r\n\" style=\"fill:#1f77b4;\"/>\r\n   </g>\r\n   <g id=\"patch_5\">\r\n    <path clip-path=\"url(#pdbd9791c31)\" d=\"M 106.194034 224.64 \r\nL 136.630398 224.64 \r\nL 136.630398 155.611429 \r\nL 106.194034 155.611429 \r\nz\r\n\" style=\"fill:#1f77b4;\"/>\r\n   </g>\r\n   <g id=\"patch_6\">\r\n    <path clip-path=\"url(#pdbd9791c31)\" d=\"M 136.630398 224.64 \r\nL 167.066761 224.64 \r\nL 167.066761 224.64 \r\nL 136.630398 224.64 \r\nz\r\n\" style=\"fill:#1f77b4;\"/>\r\n   </g>\r\n   <g id=\"patch_7\">\r\n    <path clip-path=\"url(#pdbd9791c31)\" d=\"M 167.066761 224.64 \r\nL 197.503125 224.64 \r\nL 197.503125 224.64 \r\nL 167.066761 224.64 \r\nz\r\n\" style=\"fill:#1f77b4;\"/>\r\n   </g>\r\n   <g id=\"patch_8\">\r\n    <path clip-path=\"url(#pdbd9791c31)\" d=\"M 197.503125 224.64 \r\nL 227.939489 224.64 \r\nL 227.939489 224.64 \r\nL 197.503125 224.64 \r\nz\r\n\" style=\"fill:#1f77b4;\"/>\r\n   </g>\r\n   <g id=\"patch_9\">\r\n    <path clip-path=\"url(#pdbd9791c31)\" d=\"M 227.939489 224.64 \r\nL 258.375852 224.64 \r\nL 258.375852 224.64 \r\nL 227.939489 224.64 \r\nz\r\n\" style=\"fill:#1f77b4;\"/>\r\n   </g>\r\n   <g id=\"patch_10\">\r\n    <path clip-path=\"url(#pdbd9791c31)\" d=\"M 258.375852 224.64 \r\nL 288.812216 224.64 \r\nL 288.812216 224.64 \r\nL 258.375852 224.64 \r\nz\r\n\" style=\"fill:#1f77b4;\"/>\r\n   </g>\r\n   <g id=\"patch_11\">\r\n    <path clip-path=\"url(#pdbd9791c31)\" d=\"M 288.812216 224.64 \r\nL 319.24858 224.64 \r\nL 319.24858 224.64 \r\nL 288.812216 224.64 \r\nz\r\n\" style=\"fill:#1f77b4;\"/>\r\n   </g>\r\n   <g id=\"patch_12\">\r\n    <path clip-path=\"url(#pdbd9791c31)\" d=\"M 319.24858 224.64 \r\nL 349.684943 224.64 \r\nL 349.684943 155.611429 \r\nL 319.24858 155.611429 \r\nz\r\n\" style=\"fill:#1f77b4;\"/>\r\n   </g>\r\n   <g id=\"matplotlib.axis_1\">\r\n    <g id=\"xtick_1\">\r\n     <g id=\"line2d_1\">\r\n      <defs>\r\n       <path d=\"M 0 0 \r\nL 0 3.5 \r\n\" id=\"m8e95088824\" style=\"stroke:#000000;stroke-width:0.8;\"/>\r\n      </defs>\r\n      <g>\r\n       <use style=\"stroke:#000000;stroke-width:0.8;\" x=\"43.472945\" xlink:href=\"#m8e95088824\" y=\"224.64\"/>\r\n      </g>\r\n     </g>\r\n     <g id=\"text_1\">\r\n      <!-- 0 -->\r\n      <g transform=\"translate(40.291695 239.238437)scale(0.1 -0.1)\">\r\n       <defs>\r\n        <path d=\"M 31.78125 66.40625 \r\nQ 24.171875 66.40625 20.328125 58.90625 \r\nQ 16.5 51.421875 16.5 36.375 \r\nQ 16.5 21.390625 20.328125 13.890625 \r\nQ 24.171875 6.390625 31.78125 6.390625 \r\nQ 39.453125 6.390625 43.28125 13.890625 \r\nQ 47.125 21.390625 47.125 36.375 \r\nQ 47.125 51.421875 43.28125 58.90625 \r\nQ 39.453125 66.40625 31.78125 66.40625 \r\nz\r\nM 31.78125 74.21875 \r\nQ 44.046875 74.21875 50.515625 64.515625 \r\nQ 56.984375 54.828125 56.984375 36.375 \r\nQ 56.984375 17.96875 50.515625 8.265625 \r\nQ 44.046875 -1.421875 31.78125 -1.421875 \r\nQ 19.53125 -1.421875 13.0625 8.265625 \r\nQ 6.59375 17.96875 6.59375 36.375 \r\nQ 6.59375 54.828125 13.0625 64.515625 \r\nQ 19.53125 74.21875 31.78125 74.21875 \r\nz\r\n\" id=\"DejaVuSans-48\"/>\r\n       </defs>\r\n       <use xlink:href=\"#DejaVuSans-48\"/>\r\n      </g>\r\n     </g>\r\n    </g>\r\n    <g id=\"xtick_2\">\r\n     <g id=\"line2d_2\">\r\n      <g>\r\n       <use style=\"stroke:#000000;stroke-width:0.8;\" x=\"105.085017\" xlink:href=\"#m8e95088824\" y=\"224.64\"/>\r\n      </g>\r\n     </g>\r\n     <g id=\"text_2\">\r\n      <!-- 1 -->\r\n      <g transform=\"translate(101.903767 239.238437)scale(0.1 -0.1)\">\r\n       <defs>\r\n        <path d=\"M 12.40625 8.296875 \r\nL 28.515625 8.296875 \r\nL 28.515625 63.921875 \r\nL 10.984375 60.40625 \r\nL 10.984375 69.390625 \r\nL 28.421875 72.90625 \r\nL 38.28125 72.90625 \r\nL 38.28125 8.296875 \r\nL 54.390625 8.296875 \r\nL 54.390625 0 \r\nL 12.40625 0 \r\nz\r\n\" id=\"DejaVuSans-49\"/>\r\n       </defs>\r\n       <use xlink:href=\"#DejaVuSans-49\"/>\r\n      </g>\r\n     </g>\r\n    </g>\r\n    <g id=\"xtick_3\">\r\n     <g id=\"line2d_3\">\r\n      <g>\r\n       <use style=\"stroke:#000000;stroke-width:0.8;\" x=\"166.697089\" xlink:href=\"#m8e95088824\" y=\"224.64\"/>\r\n      </g>\r\n     </g>\r\n     <g id=\"text_3\">\r\n      <!-- 2 -->\r\n      <g transform=\"translate(163.515839 239.238437)scale(0.1 -0.1)\">\r\n       <defs>\r\n        <path d=\"M 19.1875 8.296875 \r\nL 53.609375 8.296875 \r\nL 53.609375 0 \r\nL 7.328125 0 \r\nL 7.328125 8.296875 \r\nQ 12.9375 14.109375 22.625 23.890625 \r\nQ 32.328125 33.6875 34.8125 36.53125 \r\nQ 39.546875 41.84375 41.421875 45.53125 \r\nQ 43.3125 49.21875 43.3125 52.78125 \r\nQ 43.3125 58.59375 39.234375 62.25 \r\nQ 35.15625 65.921875 28.609375 65.921875 \r\nQ 23.96875 65.921875 18.8125 64.3125 \r\nQ 13.671875 62.703125 7.8125 59.421875 \r\nL 7.8125 69.390625 \r\nQ 13.765625 71.78125 18.9375 73 \r\nQ 24.125 74.21875 28.421875 74.21875 \r\nQ 39.75 74.21875 46.484375 68.546875 \r\nQ 53.21875 62.890625 53.21875 53.421875 \r\nQ 53.21875 48.921875 51.53125 44.890625 \r\nQ 49.859375 40.875 45.40625 35.40625 \r\nQ 44.1875 33.984375 37.640625 27.21875 \r\nQ 31.109375 20.453125 19.1875 8.296875 \r\nz\r\n\" id=\"DejaVuSans-50\"/>\r\n       </defs>\r\n       <use xlink:href=\"#DejaVuSans-50\"/>\r\n      </g>\r\n     </g>\r\n    </g>\r\n    <g id=\"xtick_4\">\r\n     <g id=\"line2d_4\">\r\n      <g>\r\n       <use style=\"stroke:#000000;stroke-width:0.8;\" x=\"228.309161\" xlink:href=\"#m8e95088824\" y=\"224.64\"/>\r\n      </g>\r\n     </g>\r\n     <g id=\"text_4\">\r\n      <!-- 3 -->\r\n      <g transform=\"translate(225.127911 239.238437)scale(0.1 -0.1)\">\r\n       <defs>\r\n        <path d=\"M 40.578125 39.3125 \r\nQ 47.65625 37.796875 51.625 33 \r\nQ 55.609375 28.21875 55.609375 21.1875 \r\nQ 55.609375 10.40625 48.1875 4.484375 \r\nQ 40.765625 -1.421875 27.09375 -1.421875 \r\nQ 22.515625 -1.421875 17.65625 -0.515625 \r\nQ 12.796875 0.390625 7.625 2.203125 \r\nL 7.625 11.71875 \r\nQ 11.71875 9.328125 16.59375 8.109375 \r\nQ 21.484375 6.890625 26.8125 6.890625 \r\nQ 36.078125 6.890625 40.9375 10.546875 \r\nQ 45.796875 14.203125 45.796875 21.1875 \r\nQ 45.796875 27.640625 41.28125 31.265625 \r\nQ 36.765625 34.90625 28.71875 34.90625 \r\nL 20.21875 34.90625 \r\nL 20.21875 43.015625 \r\nL 29.109375 43.015625 \r\nQ 36.375 43.015625 40.234375 45.921875 \r\nQ 44.09375 48.828125 44.09375 54.296875 \r\nQ 44.09375 59.90625 40.109375 62.90625 \r\nQ 36.140625 65.921875 28.71875 65.921875 \r\nQ 24.65625 65.921875 20.015625 65.03125 \r\nQ 15.375 64.15625 9.8125 62.3125 \r\nL 9.8125 71.09375 \r\nQ 15.4375 72.65625 20.34375 73.4375 \r\nQ 25.25 74.21875 29.59375 74.21875 \r\nQ 40.828125 74.21875 47.359375 69.109375 \r\nQ 53.90625 64.015625 53.90625 55.328125 \r\nQ 53.90625 49.265625 50.4375 45.09375 \r\nQ 46.96875 40.921875 40.578125 39.3125 \r\nz\r\n\" id=\"DejaVuSans-51\"/>\r\n       </defs>\r\n       <use xlink:href=\"#DejaVuSans-51\"/>\r\n      </g>\r\n     </g>\r\n    </g>\r\n    <g id=\"xtick_5\">\r\n     <g id=\"line2d_5\">\r\n      <g>\r\n       <use style=\"stroke:#000000;stroke-width:0.8;\" x=\"289.921233\" xlink:href=\"#m8e95088824\" y=\"224.64\"/>\r\n      </g>\r\n     </g>\r\n     <g id=\"text_5\">\r\n      <!-- 4 -->\r\n      <g transform=\"translate(286.739983 239.238437)scale(0.1 -0.1)\">\r\n       <defs>\r\n        <path d=\"M 37.796875 64.3125 \r\nL 12.890625 25.390625 \r\nL 37.796875 25.390625 \r\nz\r\nM 35.203125 72.90625 \r\nL 47.609375 72.90625 \r\nL 47.609375 25.390625 \r\nL 58.015625 25.390625 \r\nL 58.015625 17.1875 \r\nL 47.609375 17.1875 \r\nL 47.609375 0 \r\nL 37.796875 0 \r\nL 37.796875 17.1875 \r\nL 4.890625 17.1875 \r\nL 4.890625 26.703125 \r\nz\r\n\" id=\"DejaVuSans-52\"/>\r\n       </defs>\r\n       <use xlink:href=\"#DejaVuSans-52\"/>\r\n      </g>\r\n     </g>\r\n    </g>\r\n    <g id=\"xtick_6\">\r\n     <g id=\"line2d_6\">\r\n      <g>\r\n       <use style=\"stroke:#000000;stroke-width:0.8;\" x=\"351.533305\" xlink:href=\"#m8e95088824\" y=\"224.64\"/>\r\n      </g>\r\n     </g>\r\n     <g id=\"text_6\">\r\n      <!-- 5 -->\r\n      <g transform=\"translate(348.352055 239.238437)scale(0.1 -0.1)\">\r\n       <defs>\r\n        <path d=\"M 10.796875 72.90625 \r\nL 49.515625 72.90625 \r\nL 49.515625 64.59375 \r\nL 19.828125 64.59375 \r\nL 19.828125 46.734375 \r\nQ 21.96875 47.46875 24.109375 47.828125 \r\nQ 26.265625 48.1875 28.421875 48.1875 \r\nQ 40.625 48.1875 47.75 41.5 \r\nQ 54.890625 34.8125 54.890625 23.390625 \r\nQ 54.890625 11.625 47.5625 5.09375 \r\nQ 40.234375 -1.421875 26.90625 -1.421875 \r\nQ 22.3125 -1.421875 17.546875 -0.640625 \r\nQ 12.796875 0.140625 7.71875 1.703125 \r\nL 7.71875 11.625 \r\nQ 12.109375 9.234375 16.796875 8.0625 \r\nQ 21.484375 6.890625 26.703125 6.890625 \r\nQ 35.15625 6.890625 40.078125 11.328125 \r\nQ 45.015625 15.765625 45.015625 23.390625 \r\nQ 45.015625 31 40.078125 35.4375 \r\nQ 35.15625 39.890625 26.703125 39.890625 \r\nQ 22.75 39.890625 18.8125 39.015625 \r\nQ 14.890625 38.140625 10.796875 36.28125 \r\nz\r\n\" id=\"DejaVuSans-53\"/>\r\n       </defs>\r\n       <use xlink:href=\"#DejaVuSans-53\"/>\r\n      </g>\r\n     </g>\r\n    </g>\r\n   </g>\r\n   <g id=\"matplotlib.axis_2\">\r\n    <g id=\"ytick_1\">\r\n     <g id=\"line2d_7\">\r\n      <defs>\r\n       <path d=\"M 0 0 \r\nL -3.5 0 \r\n\" id=\"m6bd1d5a66b\" style=\"stroke:#000000;stroke-width:0.8;\"/>\r\n      </defs>\r\n      <g>\r\n       <use style=\"stroke:#000000;stroke-width:0.8;\" x=\"30.103125\" xlink:href=\"#m6bd1d5a66b\" y=\"224.64\"/>\r\n      </g>\r\n     </g>\r\n     <g id=\"text_7\">\r\n      <!-- 0.0 -->\r\n      <g transform=\"translate(7.2 228.439219)scale(0.1 -0.1)\">\r\n       <defs>\r\n        <path d=\"M 10.6875 12.40625 \r\nL 21 12.40625 \r\nL 21 0 \r\nL 10.6875 0 \r\nz\r\n\" id=\"DejaVuSans-46\"/>\r\n       </defs>\r\n       <use xlink:href=\"#DejaVuSans-48\"/>\r\n       <use x=\"63.623047\" xlink:href=\"#DejaVuSans-46\"/>\r\n       <use x=\"95.410156\" xlink:href=\"#DejaVuSans-48\"/>\r\n      </g>\r\n     </g>\r\n    </g>\r\n    <g id=\"ytick_2\">\r\n     <g id=\"line2d_8\">\r\n      <g>\r\n       <use style=\"stroke:#000000;stroke-width:0.8;\" x=\"30.103125\" xlink:href=\"#m6bd1d5a66b\" y=\"190.125714\"/>\r\n      </g>\r\n     </g>\r\n     <g id=\"text_8\">\r\n      <!-- 0.5 -->\r\n      <g transform=\"translate(7.2 193.924933)scale(0.1 -0.1)\">\r\n       <use xlink:href=\"#DejaVuSans-48\"/>\r\n       <use x=\"63.623047\" xlink:href=\"#DejaVuSans-46\"/>\r\n       <use x=\"95.410156\" xlink:href=\"#DejaVuSans-53\"/>\r\n      </g>\r\n     </g>\r\n    </g>\r\n    <g id=\"ytick_3\">\r\n     <g id=\"line2d_9\">\r\n      <g>\r\n       <use style=\"stroke:#000000;stroke-width:0.8;\" x=\"30.103125\" xlink:href=\"#m6bd1d5a66b\" y=\"155.611429\"/>\r\n      </g>\r\n     </g>\r\n     <g id=\"text_9\">\r\n      <!-- 1.0 -->\r\n      <g transform=\"translate(7.2 159.410647)scale(0.1 -0.1)\">\r\n       <use xlink:href=\"#DejaVuSans-49\"/>\r\n       <use x=\"63.623047\" xlink:href=\"#DejaVuSans-46\"/>\r\n       <use x=\"95.410156\" xlink:href=\"#DejaVuSans-48\"/>\r\n      </g>\r\n     </g>\r\n    </g>\r\n    <g id=\"ytick_4\">\r\n     <g id=\"line2d_10\">\r\n      <g>\r\n       <use style=\"stroke:#000000;stroke-width:0.8;\" x=\"30.103125\" xlink:href=\"#m6bd1d5a66b\" y=\"121.097143\"/>\r\n      </g>\r\n     </g>\r\n     <g id=\"text_10\">\r\n      <!-- 1.5 -->\r\n      <g transform=\"translate(7.2 124.896362)scale(0.1 -0.1)\">\r\n       <use xlink:href=\"#DejaVuSans-49\"/>\r\n       <use x=\"63.623047\" xlink:href=\"#DejaVuSans-46\"/>\r\n       <use x=\"95.410156\" xlink:href=\"#DejaVuSans-53\"/>\r\n      </g>\r\n     </g>\r\n    </g>\r\n    <g id=\"ytick_5\">\r\n     <g id=\"line2d_11\">\r\n      <g>\r\n       <use style=\"stroke:#000000;stroke-width:0.8;\" x=\"30.103125\" xlink:href=\"#m6bd1d5a66b\" y=\"86.582857\"/>\r\n      </g>\r\n     </g>\r\n     <g id=\"text_11\">\r\n      <!-- 2.0 -->\r\n      <g transform=\"translate(7.2 90.382076)scale(0.1 -0.1)\">\r\n       <use xlink:href=\"#DejaVuSans-50\"/>\r\n       <use x=\"63.623047\" xlink:href=\"#DejaVuSans-46\"/>\r\n       <use x=\"95.410156\" xlink:href=\"#DejaVuSans-48\"/>\r\n      </g>\r\n     </g>\r\n    </g>\r\n    <g id=\"ytick_6\">\r\n     <g id=\"line2d_12\">\r\n      <g>\r\n       <use style=\"stroke:#000000;stroke-width:0.8;\" x=\"30.103125\" xlink:href=\"#m6bd1d5a66b\" y=\"52.068571\"/>\r\n      </g>\r\n     </g>\r\n     <g id=\"text_12\">\r\n      <!-- 2.5 -->\r\n      <g transform=\"translate(7.2 55.86779)scale(0.1 -0.1)\">\r\n       <use xlink:href=\"#DejaVuSans-50\"/>\r\n       <use x=\"63.623047\" xlink:href=\"#DejaVuSans-46\"/>\r\n       <use x=\"95.410156\" xlink:href=\"#DejaVuSans-53\"/>\r\n      </g>\r\n     </g>\r\n    </g>\r\n    <g id=\"ytick_7\">\r\n     <g id=\"line2d_13\">\r\n      <g>\r\n       <use style=\"stroke:#000000;stroke-width:0.8;\" x=\"30.103125\" xlink:href=\"#m6bd1d5a66b\" y=\"17.554286\"/>\r\n      </g>\r\n     </g>\r\n     <g id=\"text_13\">\r\n      <!-- 3.0 -->\r\n      <g transform=\"translate(7.2 21.353504)scale(0.1 -0.1)\">\r\n       <use xlink:href=\"#DejaVuSans-51\"/>\r\n       <use x=\"63.623047\" xlink:href=\"#DejaVuSans-46\"/>\r\n       <use x=\"95.410156\" xlink:href=\"#DejaVuSans-48\"/>\r\n      </g>\r\n     </g>\r\n    </g>\r\n   </g>\r\n   <g id=\"patch_13\">\r\n    <path d=\"M 30.103125 224.64 \r\nL 30.103125 7.2 \r\n\" style=\"fill:none;stroke:#000000;stroke-linecap:square;stroke-linejoin:miter;stroke-width:0.8;\"/>\r\n   </g>\r\n   <g id=\"patch_14\">\r\n    <path d=\"M 364.903125 224.64 \r\nL 364.903125 7.2 \r\n\" style=\"fill:none;stroke:#000000;stroke-linecap:square;stroke-linejoin:miter;stroke-width:0.8;\"/>\r\n   </g>\r\n   <g id=\"patch_15\">\r\n    <path d=\"M 30.103125 224.64 \r\nL 364.903125 224.64 \r\n\" style=\"fill:none;stroke:#000000;stroke-linecap:square;stroke-linejoin:miter;stroke-width:0.8;\"/>\r\n   </g>\r\n   <g id=\"patch_16\">\r\n    <path d=\"M 30.103125 7.2 \r\nL 364.903125 7.2 \r\n\" style=\"fill:none;stroke:#000000;stroke-linecap:square;stroke-linejoin:miter;stroke-width:0.8;\"/>\r\n   </g>\r\n  </g>\r\n </g>\r\n <defs>\r\n  <clipPath id=\"pdbd9791c31\">\r\n   <rect height=\"217.44\" width=\"334.8\" x=\"30.103125\" y=\"7.2\"/>\r\n  </clipPath>\r\n </defs>\r\n</svg>\r\n",
      "image/png": "[encoded data removed]"
     },
     "metadata": {
      "needs_background": "light"
     }
    }
   ],
   "source": [
    "#check distribution of the data\n",
    "plt.hist(y, bins=10)\n",
    "plt.show()"
   ]
  },
  {
   "cell_type": "code",
   "execution_count": 237,
   "metadata": {},
   "outputs": [],
   "source": [
    "#apply data tranformation with log transformation\n",
    "y = np.log(y+1)"
   ]
  },
  {
   "cell_type": "code",
   "execution_count": 238,
   "metadata": {},
   "outputs": [
    {
     "output_type": "display_data",
     "data": {
      "text/plain": "<Figure size 432x288 with 1 Axes>",
      "image/svg+xml": "<?xml version=\"1.0\" encoding=\"utf-8\" standalone=\"no\"?>\r\n<!DOCTYPE svg PUBLIC \"-//W3C//DTD SVG 1.1//EN\"\r\n  \"http://www.w3.org/Graphics/SVG/1.1/DTD/svg11.dtd\">\r\n<!-- Created with matplotlib (https://matplotlib.org/) -->\r\n<svg height=\"248.518125pt\" version=\"1.1\" viewBox=\"0 0 372.103125 248.518125\" width=\"372.103125pt\" xmlns=\"http://www.w3.org/2000/svg\" xmlns:xlink=\"http://www.w3.org/1999/xlink\">\r\n <metadata>\r\n  <rdf:RDF xmlns:cc=\"http://creativecommons.org/ns#\" xmlns:dc=\"http://purl.org/dc/elements/1.1/\" xmlns:rdf=\"http://www.w3.org/1999/02/22-rdf-syntax-ns#\">\r\n   <cc:Work>\r\n    <dc:type rdf:resource=\"http://purl.org/dc/dcmitype/StillImage\"/>\r\n    <dc:date>2021-06-17T16:34:58.376406</dc:date>\r\n    <dc:format>image/svg+xml</dc:format>\r\n    <dc:creator>\r\n     <cc:Agent>\r\n      <dc:title>Matplotlib v3.3.3, https://matplotlib.org/</dc:title>\r\n     </cc:Agent>\r\n    </dc:creator>\r\n   </cc:Work>\r\n  </rdf:RDF>\r\n </metadata>\r\n <defs>\r\n  <style type=\"text/css\">*{stroke-linecap:butt;stroke-linejoin:round;}</style>\r\n </defs>\r\n <g id=\"figure_1\">\r\n  <g id=\"patch_1\">\r\n   <path d=\"M 0 248.518125 \r\nL 372.103125 248.518125 \r\nL 372.103125 0 \r\nL 0 0 \r\nz\r\n\" style=\"fill:none;\"/>\r\n  </g>\r\n  <g id=\"axes_1\">\r\n   <g id=\"patch_2\">\r\n    <path d=\"M 30.103125 224.64 \r\nL 364.903125 224.64 \r\nL 364.903125 7.2 \r\nL 30.103125 7.2 \r\nz\r\n\" style=\"fill:#ffffff;\"/>\r\n   </g>\r\n   <g id=\"patch_3\">\r\n    <path clip-path=\"url(#p966cac12c8)\" d=\"M 45.321307 224.64 \r\nL 75.75767 224.64 \r\nL 75.75767 17.554286 \r\nL 45.321307 17.554286 \r\nz\r\n\" style=\"fill:#1f77b4;\"/>\r\n   </g>\r\n   <g id=\"patch_4\">\r\n    <path clip-path=\"url(#p966cac12c8)\" d=\"M 75.75767 224.64 \r\nL 106.194034 224.64 \r\nL 106.194034 224.64 \r\nL 75.75767 224.64 \r\nz\r\n\" style=\"fill:#1f77b4;\"/>\r\n   </g>\r\n   <g id=\"patch_5\">\r\n    <path clip-path=\"url(#p966cac12c8)\" d=\"M 106.194034 224.64 \r\nL 136.630398 224.64 \r\nL 136.630398 224.64 \r\nL 106.194034 224.64 \r\nz\r\n\" style=\"fill:#1f77b4;\"/>\r\n   </g>\r\n   <g id=\"patch_6\">\r\n    <path clip-path=\"url(#p966cac12c8)\" d=\"M 136.630398 224.64 \r\nL 167.066761 224.64 \r\nL 167.066761 224.64 \r\nL 136.630398 224.64 \r\nz\r\n\" style=\"fill:#1f77b4;\"/>\r\n   </g>\r\n   <g id=\"patch_7\">\r\n    <path clip-path=\"url(#p966cac12c8)\" d=\"M 167.066761 224.64 \r\nL 197.503125 224.64 \r\nL 197.503125 155.611429 \r\nL 167.066761 155.611429 \r\nz\r\n\" style=\"fill:#1f77b4;\"/>\r\n   </g>\r\n   <g id=\"patch_8\">\r\n    <path clip-path=\"url(#p966cac12c8)\" d=\"M 197.503125 224.64 \r\nL 227.939489 224.64 \r\nL 227.939489 224.64 \r\nL 197.503125 224.64 \r\nz\r\n\" style=\"fill:#1f77b4;\"/>\r\n   </g>\r\n   <g id=\"patch_9\">\r\n    <path clip-path=\"url(#p966cac12c8)\" d=\"M 227.939489 224.64 \r\nL 258.375852 224.64 \r\nL 258.375852 224.64 \r\nL 227.939489 224.64 \r\nz\r\n\" style=\"fill:#1f77b4;\"/>\r\n   </g>\r\n   <g id=\"patch_10\">\r\n    <path clip-path=\"url(#p966cac12c8)\" d=\"M 258.375852 224.64 \r\nL 288.812216 224.64 \r\nL 288.812216 224.64 \r\nL 258.375852 224.64 \r\nz\r\n\" style=\"fill:#1f77b4;\"/>\r\n   </g>\r\n   <g id=\"patch_11\">\r\n    <path clip-path=\"url(#p966cac12c8)\" d=\"M 288.812216 224.64 \r\nL 319.24858 224.64 \r\nL 319.24858 224.64 \r\nL 288.812216 224.64 \r\nz\r\n\" style=\"fill:#1f77b4;\"/>\r\n   </g>\r\n   <g id=\"patch_12\">\r\n    <path clip-path=\"url(#p966cac12c8)\" d=\"M 319.24858 224.64 \r\nL 349.684943 224.64 \r\nL 349.684943 155.611429 \r\nL 319.24858 155.611429 \r\nz\r\n\" style=\"fill:#1f77b4;\"/>\r\n   </g>\r\n   <g id=\"matplotlib.axis_1\">\r\n    <g id=\"xtick_1\">\r\n     <g id=\"line2d_1\">\r\n      <defs>\r\n       <path d=\"M 0 0 \r\nL 0 3.5 \r\n\" id=\"m9b4d1261cc\" style=\"stroke:#000000;stroke-width:0.8;\"/>\r\n      </defs>\r\n      <g>\r\n       <use style=\"stroke:#000000;stroke-width:0.8;\" x=\"40.201408\" xlink:href=\"#m9b4d1261cc\" y=\"224.64\"/>\r\n      </g>\r\n     </g>\r\n     <g id=\"text_1\">\r\n      <!-- 0.00 -->\r\n      <g transform=\"translate(29.068596 239.238437)scale(0.1 -0.1)\">\r\n       <defs>\r\n        <path d=\"M 31.78125 66.40625 \r\nQ 24.171875 66.40625 20.328125 58.90625 \r\nQ 16.5 51.421875 16.5 36.375 \r\nQ 16.5 21.390625 20.328125 13.890625 \r\nQ 24.171875 6.390625 31.78125 6.390625 \r\nQ 39.453125 6.390625 43.28125 13.890625 \r\nQ 47.125 21.390625 47.125 36.375 \r\nQ 47.125 51.421875 43.28125 58.90625 \r\nQ 39.453125 66.40625 31.78125 66.40625 \r\nz\r\nM 31.78125 74.21875 \r\nQ 44.046875 74.21875 50.515625 64.515625 \r\nQ 56.984375 54.828125 56.984375 36.375 \r\nQ 56.984375 17.96875 50.515625 8.265625 \r\nQ 44.046875 -1.421875 31.78125 -1.421875 \r\nQ 19.53125 -1.421875 13.0625 8.265625 \r\nQ 6.59375 17.96875 6.59375 36.375 \r\nQ 6.59375 54.828125 13.0625 64.515625 \r\nQ 19.53125 74.21875 31.78125 74.21875 \r\nz\r\n\" id=\"DejaVuSans-48\"/>\r\n        <path d=\"M 10.6875 12.40625 \r\nL 21 12.40625 \r\nL 21 0 \r\nL 10.6875 0 \r\nz\r\n\" id=\"DejaVuSans-46\"/>\r\n       </defs>\r\n       <use xlink:href=\"#DejaVuSans-48\"/>\r\n       <use x=\"63.623047\" xlink:href=\"#DejaVuSans-46\"/>\r\n       <use x=\"95.410156\" xlink:href=\"#DejaVuSans-48\"/>\r\n       <use x=\"159.033203\" xlink:href=\"#DejaVuSans-48\"/>\r\n      </g>\r\n     </g>\r\n    </g>\r\n    <g id=\"xtick_2\">\r\n     <g id=\"line2d_2\">\r\n      <g>\r\n       <use style=\"stroke:#000000;stroke-width:0.8;\" x=\"83.504062\" xlink:href=\"#m9b4d1261cc\" y=\"224.64\"/>\r\n      </g>\r\n     </g>\r\n     <g id=\"text_2\">\r\n      <!-- 0.25 -->\r\n      <g transform=\"translate(72.37125 239.238437)scale(0.1 -0.1)\">\r\n       <defs>\r\n        <path d=\"M 19.1875 8.296875 \r\nL 53.609375 8.296875 \r\nL 53.609375 0 \r\nL 7.328125 0 \r\nL 7.328125 8.296875 \r\nQ 12.9375 14.109375 22.625 23.890625 \r\nQ 32.328125 33.6875 34.8125 36.53125 \r\nQ 39.546875 41.84375 41.421875 45.53125 \r\nQ 43.3125 49.21875 43.3125 52.78125 \r\nQ 43.3125 58.59375 39.234375 62.25 \r\nQ 35.15625 65.921875 28.609375 65.921875 \r\nQ 23.96875 65.921875 18.8125 64.3125 \r\nQ 13.671875 62.703125 7.8125 59.421875 \r\nL 7.8125 69.390625 \r\nQ 13.765625 71.78125 18.9375 73 \r\nQ 24.125 74.21875 28.421875 74.21875 \r\nQ 39.75 74.21875 46.484375 68.546875 \r\nQ 53.21875 62.890625 53.21875 53.421875 \r\nQ 53.21875 48.921875 51.53125 44.890625 \r\nQ 49.859375 40.875 45.40625 35.40625 \r\nQ 44.1875 33.984375 37.640625 27.21875 \r\nQ 31.109375 20.453125 19.1875 8.296875 \r\nz\r\n\" id=\"DejaVuSans-50\"/>\r\n        <path d=\"M 10.796875 72.90625 \r\nL 49.515625 72.90625 \r\nL 49.515625 64.59375 \r\nL 19.828125 64.59375 \r\nL 19.828125 46.734375 \r\nQ 21.96875 47.46875 24.109375 47.828125 \r\nQ 26.265625 48.1875 28.421875 48.1875 \r\nQ 40.625 48.1875 47.75 41.5 \r\nQ 54.890625 34.8125 54.890625 23.390625 \r\nQ 54.890625 11.625 47.5625 5.09375 \r\nQ 40.234375 -1.421875 26.90625 -1.421875 \r\nQ 22.3125 -1.421875 17.546875 -0.640625 \r\nQ 12.796875 0.140625 7.71875 1.703125 \r\nL 7.71875 11.625 \r\nQ 12.109375 9.234375 16.796875 8.0625 \r\nQ 21.484375 6.890625 26.703125 6.890625 \r\nQ 35.15625 6.890625 40.078125 11.328125 \r\nQ 45.015625 15.765625 45.015625 23.390625 \r\nQ 45.015625 31 40.078125 35.4375 \r\nQ 35.15625 39.890625 26.703125 39.890625 \r\nQ 22.75 39.890625 18.8125 39.015625 \r\nQ 14.890625 38.140625 10.796875 36.28125 \r\nz\r\n\" id=\"DejaVuSans-53\"/>\r\n       </defs>\r\n       <use xlink:href=\"#DejaVuSans-48\"/>\r\n       <use x=\"63.623047\" xlink:href=\"#DejaVuSans-46\"/>\r\n       <use x=\"95.410156\" xlink:href=\"#DejaVuSans-50\"/>\r\n       <use x=\"159.033203\" xlink:href=\"#DejaVuSans-53\"/>\r\n      </g>\r\n     </g>\r\n    </g>\r\n    <g id=\"xtick_3\">\r\n     <g id=\"line2d_3\">\r\n      <g>\r\n       <use style=\"stroke:#000000;stroke-width:0.8;\" x=\"126.806716\" xlink:href=\"#m9b4d1261cc\" y=\"224.64\"/>\r\n      </g>\r\n     </g>\r\n     <g id=\"text_3\">\r\n      <!-- 0.50 -->\r\n      <g transform=\"translate(115.673904 239.238437)scale(0.1 -0.1)\">\r\n       <use xlink:href=\"#DejaVuSans-48\"/>\r\n       <use x=\"63.623047\" xlink:href=\"#DejaVuSans-46\"/>\r\n       <use x=\"95.410156\" xlink:href=\"#DejaVuSans-53\"/>\r\n       <use x=\"159.033203\" xlink:href=\"#DejaVuSans-48\"/>\r\n      </g>\r\n     </g>\r\n    </g>\r\n    <g id=\"xtick_4\">\r\n     <g id=\"line2d_4\">\r\n      <g>\r\n       <use style=\"stroke:#000000;stroke-width:0.8;\" x=\"170.10937\" xlink:href=\"#m9b4d1261cc\" y=\"224.64\"/>\r\n      </g>\r\n     </g>\r\n     <g id=\"text_4\">\r\n      <!-- 0.75 -->\r\n      <g transform=\"translate(158.976557 239.238437)scale(0.1 -0.1)\">\r\n       <defs>\r\n        <path d=\"M 8.203125 72.90625 \r\nL 55.078125 72.90625 \r\nL 55.078125 68.703125 \r\nL 28.609375 0 \r\nL 18.3125 0 \r\nL 43.21875 64.59375 \r\nL 8.203125 64.59375 \r\nz\r\n\" id=\"DejaVuSans-55\"/>\r\n       </defs>\r\n       <use xlink:href=\"#DejaVuSans-48\"/>\r\n       <use x=\"63.623047\" xlink:href=\"#DejaVuSans-46\"/>\r\n       <use x=\"95.410156\" xlink:href=\"#DejaVuSans-55\"/>\r\n       <use x=\"159.033203\" xlink:href=\"#DejaVuSans-53\"/>\r\n      </g>\r\n     </g>\r\n    </g>\r\n    <g id=\"xtick_5\">\r\n     <g id=\"line2d_5\">\r\n      <g>\r\n       <use style=\"stroke:#000000;stroke-width:0.8;\" x=\"213.412024\" xlink:href=\"#m9b4d1261cc\" y=\"224.64\"/>\r\n      </g>\r\n     </g>\r\n     <g id=\"text_5\">\r\n      <!-- 1.00 -->\r\n      <g transform=\"translate(202.279211 239.238437)scale(0.1 -0.1)\">\r\n       <defs>\r\n        <path d=\"M 12.40625 8.296875 \r\nL 28.515625 8.296875 \r\nL 28.515625 63.921875 \r\nL 10.984375 60.40625 \r\nL 10.984375 69.390625 \r\nL 28.421875 72.90625 \r\nL 38.28125 72.90625 \r\nL 38.28125 8.296875 \r\nL 54.390625 8.296875 \r\nL 54.390625 0 \r\nL 12.40625 0 \r\nz\r\n\" id=\"DejaVuSans-49\"/>\r\n       </defs>\r\n       <use xlink:href=\"#DejaVuSans-49\"/>\r\n       <use x=\"63.623047\" xlink:href=\"#DejaVuSans-46\"/>\r\n       <use x=\"95.410156\" xlink:href=\"#DejaVuSans-48\"/>\r\n       <use x=\"159.033203\" xlink:href=\"#DejaVuSans-48\"/>\r\n      </g>\r\n     </g>\r\n    </g>\r\n    <g id=\"xtick_6\">\r\n     <g id=\"line2d_6\">\r\n      <g>\r\n       <use style=\"stroke:#000000;stroke-width:0.8;\" x=\"256.714678\" xlink:href=\"#m9b4d1261cc\" y=\"224.64\"/>\r\n      </g>\r\n     </g>\r\n     <g id=\"text_6\">\r\n      <!-- 1.25 -->\r\n      <g transform=\"translate(245.581865 239.238437)scale(0.1 -0.1)\">\r\n       <use xlink:href=\"#DejaVuSans-49\"/>\r\n       <use x=\"63.623047\" xlink:href=\"#DejaVuSans-46\"/>\r\n       <use x=\"95.410156\" xlink:href=\"#DejaVuSans-50\"/>\r\n       <use x=\"159.033203\" xlink:href=\"#DejaVuSans-53\"/>\r\n      </g>\r\n     </g>\r\n    </g>\r\n    <g id=\"xtick_7\">\r\n     <g id=\"line2d_7\">\r\n      <g>\r\n       <use style=\"stroke:#000000;stroke-width:0.8;\" x=\"300.017331\" xlink:href=\"#m9b4d1261cc\" y=\"224.64\"/>\r\n      </g>\r\n     </g>\r\n     <g id=\"text_7\">\r\n      <!-- 1.50 -->\r\n      <g transform=\"translate(288.884519 239.238437)scale(0.1 -0.1)\">\r\n       <use xlink:href=\"#DejaVuSans-49\"/>\r\n       <use x=\"63.623047\" xlink:href=\"#DejaVuSans-46\"/>\r\n       <use x=\"95.410156\" xlink:href=\"#DejaVuSans-53\"/>\r\n       <use x=\"159.033203\" xlink:href=\"#DejaVuSans-48\"/>\r\n      </g>\r\n     </g>\r\n    </g>\r\n    <g id=\"xtick_8\">\r\n     <g id=\"line2d_8\">\r\n      <g>\r\n       <use style=\"stroke:#000000;stroke-width:0.8;\" x=\"343.319985\" xlink:href=\"#m9b4d1261cc\" y=\"224.64\"/>\r\n      </g>\r\n     </g>\r\n     <g id=\"text_8\">\r\n      <!-- 1.75 -->\r\n      <g transform=\"translate(332.187173 239.238437)scale(0.1 -0.1)\">\r\n       <use xlink:href=\"#DejaVuSans-49\"/>\r\n       <use x=\"63.623047\" xlink:href=\"#DejaVuSans-46\"/>\r\n       <use x=\"95.410156\" xlink:href=\"#DejaVuSans-55\"/>\r\n       <use x=\"159.033203\" xlink:href=\"#DejaVuSans-53\"/>\r\n      </g>\r\n     </g>\r\n    </g>\r\n   </g>\r\n   <g id=\"matplotlib.axis_2\">\r\n    <g id=\"ytick_1\">\r\n     <g id=\"line2d_9\">\r\n      <defs>\r\n       <path d=\"M 0 0 \r\nL -3.5 0 \r\n\" id=\"mc3c74c6f94\" style=\"stroke:#000000;stroke-width:0.8;\"/>\r\n      </defs>\r\n      <g>\r\n       <use style=\"stroke:#000000;stroke-width:0.8;\" x=\"30.103125\" xlink:href=\"#mc3c74c6f94\" y=\"224.64\"/>\r\n      </g>\r\n     </g>\r\n     <g id=\"text_9\">\r\n      <!-- 0.0 -->\r\n      <g transform=\"translate(7.2 228.439219)scale(0.1 -0.1)\">\r\n       <use xlink:href=\"#DejaVuSans-48\"/>\r\n       <use x=\"63.623047\" xlink:href=\"#DejaVuSans-46\"/>\r\n       <use x=\"95.410156\" xlink:href=\"#DejaVuSans-48\"/>\r\n      </g>\r\n     </g>\r\n    </g>\r\n    <g id=\"ytick_2\">\r\n     <g id=\"line2d_10\">\r\n      <g>\r\n       <use style=\"stroke:#000000;stroke-width:0.8;\" x=\"30.103125\" xlink:href=\"#mc3c74c6f94\" y=\"190.125714\"/>\r\n      </g>\r\n     </g>\r\n     <g id=\"text_10\">\r\n      <!-- 0.5 -->\r\n      <g transform=\"translate(7.2 193.924933)scale(0.1 -0.1)\">\r\n       <use xlink:href=\"#DejaVuSans-48\"/>\r\n       <use x=\"63.623047\" xlink:href=\"#DejaVuSans-46\"/>\r\n       <use x=\"95.410156\" xlink:href=\"#DejaVuSans-53\"/>\r\n      </g>\r\n     </g>\r\n    </g>\r\n    <g id=\"ytick_3\">\r\n     <g id=\"line2d_11\">\r\n      <g>\r\n       <use style=\"stroke:#000000;stroke-width:0.8;\" x=\"30.103125\" xlink:href=\"#mc3c74c6f94\" y=\"155.611429\"/>\r\n      </g>\r\n     </g>\r\n     <g id=\"text_11\">\r\n      <!-- 1.0 -->\r\n      <g transform=\"translate(7.2 159.410647)scale(0.1 -0.1)\">\r\n       <use xlink:href=\"#DejaVuSans-49\"/>\r\n       <use x=\"63.623047\" xlink:href=\"#DejaVuSans-46\"/>\r\n       <use x=\"95.410156\" xlink:href=\"#DejaVuSans-48\"/>\r\n      </g>\r\n     </g>\r\n    </g>\r\n    <g id=\"ytick_4\">\r\n     <g id=\"line2d_12\">\r\n      <g>\r\n       <use style=\"stroke:#000000;stroke-width:0.8;\" x=\"30.103125\" xlink:href=\"#mc3c74c6f94\" y=\"121.097143\"/>\r\n      </g>\r\n     </g>\r\n     <g id=\"text_12\">\r\n      <!-- 1.5 -->\r\n      <g transform=\"translate(7.2 124.896362)scale(0.1 -0.1)\">\r\n       <use xlink:href=\"#DejaVuSans-49\"/>\r\n       <use x=\"63.623047\" xlink:href=\"#DejaVuSans-46\"/>\r\n       <use x=\"95.410156\" xlink:href=\"#DejaVuSans-53\"/>\r\n      </g>\r\n     </g>\r\n    </g>\r\n    <g id=\"ytick_5\">\r\n     <g id=\"line2d_13\">\r\n      <g>\r\n       <use style=\"stroke:#000000;stroke-width:0.8;\" x=\"30.103125\" xlink:href=\"#mc3c74c6f94\" y=\"86.582857\"/>\r\n      </g>\r\n     </g>\r\n     <g id=\"text_13\">\r\n      <!-- 2.0 -->\r\n      <g transform=\"translate(7.2 90.382076)scale(0.1 -0.1)\">\r\n       <use xlink:href=\"#DejaVuSans-50\"/>\r\n       <use x=\"63.623047\" xlink:href=\"#DejaVuSans-46\"/>\r\n       <use x=\"95.410156\" xlink:href=\"#DejaVuSans-48\"/>\r\n      </g>\r\n     </g>\r\n    </g>\r\n    <g id=\"ytick_6\">\r\n     <g id=\"line2d_14\">\r\n      <g>\r\n       <use style=\"stroke:#000000;stroke-width:0.8;\" x=\"30.103125\" xlink:href=\"#mc3c74c6f94\" y=\"52.068571\"/>\r\n      </g>\r\n     </g>\r\n     <g id=\"text_14\">\r\n      <!-- 2.5 -->\r\n      <g transform=\"translate(7.2 55.86779)scale(0.1 -0.1)\">\r\n       <use xlink:href=\"#DejaVuSans-50\"/>\r\n       <use x=\"63.623047\" xlink:href=\"#DejaVuSans-46\"/>\r\n       <use x=\"95.410156\" xlink:href=\"#DejaVuSans-53\"/>\r\n      </g>\r\n     </g>\r\n    </g>\r\n    <g id=\"ytick_7\">\r\n     <g id=\"line2d_15\">\r\n      <g>\r\n       <use style=\"stroke:#000000;stroke-width:0.8;\" x=\"30.103125\" xlink:href=\"#mc3c74c6f94\" y=\"17.554286\"/>\r\n      </g>\r\n     </g>\r\n     <g id=\"text_15\">\r\n      <!-- 3.0 -->\r\n      <g transform=\"translate(7.2 21.353504)scale(0.1 -0.1)\">\r\n       <defs>\r\n        <path d=\"M 40.578125 39.3125 \r\nQ 47.65625 37.796875 51.625 33 \r\nQ 55.609375 28.21875 55.609375 21.1875 \r\nQ 55.609375 10.40625 48.1875 4.484375 \r\nQ 40.765625 -1.421875 27.09375 -1.421875 \r\nQ 22.515625 -1.421875 17.65625 -0.515625 \r\nQ 12.796875 0.390625 7.625 2.203125 \r\nL 7.625 11.71875 \r\nQ 11.71875 9.328125 16.59375 8.109375 \r\nQ 21.484375 6.890625 26.8125 6.890625 \r\nQ 36.078125 6.890625 40.9375 10.546875 \r\nQ 45.796875 14.203125 45.796875 21.1875 \r\nQ 45.796875 27.640625 41.28125 31.265625 \r\nQ 36.765625 34.90625 28.71875 34.90625 \r\nL 20.21875 34.90625 \r\nL 20.21875 43.015625 \r\nL 29.109375 43.015625 \r\nQ 36.375 43.015625 40.234375 45.921875 \r\nQ 44.09375 48.828125 44.09375 54.296875 \r\nQ 44.09375 59.90625 40.109375 62.90625 \r\nQ 36.140625 65.921875 28.71875 65.921875 \r\nQ 24.65625 65.921875 20.015625 65.03125 \r\nQ 15.375 64.15625 9.8125 62.3125 \r\nL 9.8125 71.09375 \r\nQ 15.4375 72.65625 20.34375 73.4375 \r\nQ 25.25 74.21875 29.59375 74.21875 \r\nQ 40.828125 74.21875 47.359375 69.109375 \r\nQ 53.90625 64.015625 53.90625 55.328125 \r\nQ 53.90625 49.265625 50.4375 45.09375 \r\nQ 46.96875 40.921875 40.578125 39.3125 \r\nz\r\n\" id=\"DejaVuSans-51\"/>\r\n       </defs>\r\n       <use xlink:href=\"#DejaVuSans-51\"/>\r\n       <use x=\"63.623047\" xlink:href=\"#DejaVuSans-46\"/>\r\n       <use x=\"95.410156\" xlink:href=\"#DejaVuSans-48\"/>\r\n      </g>\r\n     </g>\r\n    </g>\r\n   </g>\r\n   <g id=\"patch_13\">\r\n    <path d=\"M 30.103125 224.64 \r\nL 30.103125 7.2 \r\n\" style=\"fill:none;stroke:#000000;stroke-linecap:square;stroke-linejoin:miter;stroke-width:0.8;\"/>\r\n   </g>\r\n   <g id=\"patch_14\">\r\n    <path d=\"M 364.903125 224.64 \r\nL 364.903125 7.2 \r\n\" style=\"fill:none;stroke:#000000;stroke-linecap:square;stroke-linejoin:miter;stroke-width:0.8;\"/>\r\n   </g>\r\n   <g id=\"patch_15\">\r\n    <path d=\"M 30.103125 224.64 \r\nL 364.903125 224.64 \r\n\" style=\"fill:none;stroke:#000000;stroke-linecap:square;stroke-linejoin:miter;stroke-width:0.8;\"/>\r\n   </g>\r\n   <g id=\"patch_16\">\r\n    <path d=\"M 30.103125 7.2 \r\nL 364.903125 7.2 \r\n\" style=\"fill:none;stroke:#000000;stroke-linecap:square;stroke-linejoin:miter;stroke-width:0.8;\"/>\r\n   </g>\r\n  </g>\r\n </g>\r\n <defs>\r\n  <clipPath id=\"p966cac12c8\">\r\n   <rect height=\"217.44\" width=\"334.8\" x=\"30.103125\" y=\"7.2\"/>\r\n  </clipPath>\r\n </defs>\r\n</svg>\r\n",
      "image/png": "[encoded data removed]"
     },
     "metadata": {
      "needs_background": "light"
     }
    }
   ],
   "source": [
    "#check distribution of data again\n",
    "plt.hist(y, bins=10)\n",
    "plt.show()"
   ]
  },
  {
   "cell_type": "code",
   "execution_count": 239,
   "metadata": {},
   "outputs": [],
   "source": [
    "#adding a constant (Y-intercept)\n",
    "X = sm.add_constant(X)"
   ]
  },
  {
   "cell_type": "code",
   "execution_count": 240,
   "metadata": {},
   "outputs": [
    {
     "output_type": "stream",
     "name": "stdout",
     "text": [
      "                 feature         VIF\n",
      "0                  const  382.575899\n",
      "1     StdDev_ContainWord    2.210143\n",
      "2  StdDev_innovativeness         NaN\n",
      "3     Topic_Perc_Contrib    2.213198\n",
      "4              UserScore    1.540953\n",
      "C:\\Users\\B.R\\AppData\\Local\\Programs\\Python\\Python39\\lib\\site-packages\\statsmodels\\regression\\linear_model.py:1715: RuntimeWarning: invalid value encountered in double_scalars\n",
      "  return 1 - self.ssr/self.centered_tss\n"
     ]
    }
   ],
   "source": [
    "#Checking multicolinearity variance inflation factor (VIF >5.0)\n",
    "vif_data = pd.DataFrame()\n",
    "vif_data[\"feature\"] = X.columns\n",
    "  \n",
    "# calculating VIF for each feature\n",
    "vif_data[\"VIF\"] = [variance_inflation_factor(X.values, i)\n",
    "                          for i in range(len(X.columns))]\n",
    "\n",
    "print(vif_data)"
   ]
  },
  {
   "cell_type": "code",
   "execution_count": 241,
   "metadata": {},
   "outputs": [],
   "source": [
    "#define model\n",
    "model = sm.OLS(y, X).fit()\n",
    "predictions = model.predict(X) "
   ]
  },
  {
   "cell_type": "code",
   "execution_count": 242,
   "metadata": {},
   "outputs": [
    {
     "output_type": "stream",
     "name": "stdout",
     "text": [
      "                            OLS Regression Results                            \n",
      "==============================================================================\n",
      "Dep. Variable:             TotalSales   R-squared:                       1.000\n",
      "Model:                            OLS   Adj. R-squared:                  0.999\n",
      "Method:                 Least Squares   F-statistic:                     2532.\n",
      "Date:                Thu, 17 Jun 2021   Prob (F-statistic):             0.0146\n",
      "Time:                        16:34:58   Log-Likelihood:                 17.125\n",
      "No. Observations:                   5   AIC:                            -26.25\n",
      "Df Residuals:                       1   BIC:                            -27.81\n",
      "Df Model:                           3                                         \n",
      "Covariance Type:            nonrobust                                         \n",
      "=========================================================================================\n",
      "                            coef    std err          t      P>|t|      [0.025      0.975]\n",
      "-----------------------------------------------------------------------------------------\n",
      "const                     9.4075      0.154     61.063      0.010       7.450      11.365\n",
      "StdDev_ContainWord      -16.8744      0.614    -27.486      0.023     -24.675      -9.074\n",
      "StdDev_innovativeness -1.065e-14   3.83e-16    -27.833      0.023   -1.55e-14   -5.79e-15\n",
      "Topic_Perc_Contrib       -8.8269      0.111    -79.426      0.008     -10.239      -7.415\n",
      "UserScore                -0.1601      0.012    -13.115      0.048      -0.315      -0.005\n",
      "==============================================================================\n",
      "Omnibus:                          nan   Durbin-Watson:                   1.485\n",
      "Prob(Omnibus):                    nan   Jarque-Bera (JB):                0.299\n",
      "Skew:                           0.538   Prob(JB):                        0.861\n",
      "Kurtosis:                       2.470   Cond. No.                     5.94e+18\n",
      "==============================================================================\n",
      "\n",
      "Notes:\n",
      "[1] Standard Errors assume that the covariance matrix of the errors is correctly specified.\n",
      "[2] The smallest eigenvalue is 5.78e-36. This might indicate that there are\n",
      "strong multicollinearity problems or that the design matrix is singular.\n",
      "C:\\Users\\B.R\\AppData\\Local\\Programs\\Python\\Python39\\lib\\site-packages\\statsmodels\\stats\\stattools.py:74: ValueWarning: omni_normtest is not valid with less than 8 observations; 5 samples were given.\n",
      "  warn(\"omni_normtest is not valid with less than 8 observations; %i \"\n"
     ]
    }
   ],
   "source": [
    "#print regression results\n",
    "print_model = model.summary()\n",
    "print(print_model)"
   ]
  },
  {
   "cell_type": "code",
   "execution_count": null,
   "metadata": {},
   "outputs": [],
   "source": []
  }
 ]
}