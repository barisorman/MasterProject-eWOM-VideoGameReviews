{
 "metadata": {
  "language_info": {
   "codemirror_mode": {
    "name": "ipython",
    "version": 3
   },
   "file_extension": ".py",
   "mimetype": "text/x-python",
   "name": "python",
   "nbconvert_exporter": "python",
   "pygments_lexer": "ipython3",
   "version": "3.9.0"
  },
  "orig_nbformat": 2,
  "kernelspec": {
   "name": "python3",
   "display_name": "Python 3.9.0 64-bit"
  },
  "metadata": {
   "interpreter": {
    "hash": "71e56bdc4c61b98910f771371be3446c8c590ca3371eddba0edf680feb934a3b"
   }
  },
  "interpreter": {
   "hash": "71e56bdc4c61b98910f771371be3446c8c590ca3371eddba0edf680feb934a3b"
  }
 },
 "nbformat": 4,
 "nbformat_minor": 2,
 "cells": [
  {
   "cell_type": "code",
   "execution_count": 2,
   "metadata": {},
   "outputs": [],
   "source": [
    "import os\n",
    "import random\n",
    "import pandas as pd\n",
    "import numpy as np\n",
    "import nltk\n",
    "from nltk.tokenize import sent_tokenize, word_tokenize\n",
    "from nltk.corpus import stopwords\n",
    "import statsmodels.api as sm\n",
    "import matplotlib.pyplot as plt"
   ]
  },
  {
   "source": [
    "# Cleaning of User Reviews"
   ],
   "cell_type": "markdown",
   "metadata": {}
  },
  {
   "cell_type": "code",
   "execution_count": 3,
   "metadata": {},
   "outputs": [
    {
     "output_type": "execute_result",
     "data": {
      "text/plain": [
       "Index(['Game', 'Metascore', 'UserScore', 'Publisher', 'ReleaseDate', 'Genre',\n",
       "       'NumberOfOnlinePlayers', 'Cast', 'Credits', 'CriticsReviews',\n",
       "       'UserReviews'],\n",
       "      dtype='object')"
      ]
     },
     "metadata": {},
     "execution_count": 3
    }
   ],
   "source": [
    "data = pd.read_csv(r'C:\\Users\\B.R\\Documents\\HvA\\Master_DDB\\MP\\Scraper_eWOM\\eWOM\\spiders\\metacritic.csv')\n",
    "data.columns"
   ]
  },
  {
   "cell_type": "code",
   "execution_count": 4,
   "metadata": {},
   "outputs": [],
   "source": [
    "#making an array with all online multiplayer elements\n",
    "array = ['OnlineMultiplayer', 'MassivelyMultiplayerOnlineMultiplayer', 'OnlineMultiplayerUpto8Players','2PlayersOnlineMultiplayer', 'OnlineMultiplayerUpto4Players', 'Role-Playing,MassivelyMultiplayerOnline,Fantasy,Action,General,General', 'BroadbandOnlyOnlineSystemLink', 'LiveAwareOnlineSystemLink', 'BroadbandOnlyOnline', 'Online', 'Role-Playing,MassivelyMultiplayerOnline,Fantasy', 'Role-Playing,MassivelyMultiplayerOnline,MassivelyMultiplayer,Fantasy', 'OnlineMultiplayerUpto16Players', 'OnlineMultiplayerUpto18Players', 'BroadbandOnlyLiveAwareOnline', 'Role-PlayingMassivelyMultiplayerOnline,MassivelyMultiplayer,Fantasy,Fantasy', 'Role-Playing,ActionAdventure,Fantasy,MassivelyMultiplayerOnline,General,Fantasy,Fantasy', 'Role-Playing,MassivelyMultiplayerOnline,ActionRPG,MassivelyMultiplayer,Fantasy,Fantasy', 'MassivelyMultiplayerOnline,Role-Playing,Sci-Fi,Action,Shooter,Shooter,Third-Person,Sci-Fi,Sci-Fi,Arcade', 'OnlineMultiplayerUpto22Players', 'OnlineMultiplayerUpto30Players', 'OnlineMultiplayerUpto60Players'\n",
    "'OnlineMultiplayerUpto6Players', 'Fantasy,Role-Playing,MassivelyMultiplayerOnline,MassivelyMultiplayer,Fantasy', 'OnlineMultiplayerUpto3Players', 'OnlineMultiplayerUpto64Players', 'OnlineMultiplayerUpto10Players', 'Role-Playing,MassivelyMultiplayerOnline,MassivelyMultiplayer,Sci-Fi,Sci-Fi', 'OnlineMultiplayerUpto32Players']\n"
   ]
  },
  {
   "cell_type": "code",
   "execution_count": 5,
   "metadata": {},
   "outputs": [],
   "source": [
    "#selecting all rows with array elements\n",
    "data = data.loc[data['NumberOfOnlinePlayers'].isin(array)]"
   ]
  },
  {
   "cell_type": "code",
   "execution_count": 6,
   "metadata": {},
   "outputs": [
    {
     "output_type": "stream",
     "name": "stdout",
     "text": [
      "0\n0\n"
     ]
    }
   ],
   "source": [
    "#validation on null data and NaNs in dataset\n",
    "print(data['NumberOfOnlinePlayers'].isnull().sum())\n",
    "print(data['NumberOfOnlinePlayers'].isna().sum())"
   ]
  },
  {
   "cell_type": "code",
   "execution_count": 7,
   "metadata": {},
   "outputs": [],
   "source": [
    "#Drop NAN\n",
    "data = data[data['UserReviews'].notna()]"
   ]
  },
  {
   "cell_type": "code",
   "execution_count": 8,
   "metadata": {},
   "outputs": [
    {
     "output_type": "execute_result",
     "data": {
      "text/plain": [
       "140      [{'UserName': None, 'UserReviewScore': '90', '...\n",
       "225      [{'UserName': None, 'UserReviewScore': '65', '...\n",
       "255      [{'UserName': None, 'UserReviewScore': '70', '...\n",
       "308      [{'UserName': None, 'UserReviewScore': '20', '...\n",
       "352      [{'UserName': None, 'UserReviewScore': '50', '...\n",
       "                               ...                        \n",
       "49201    [{'UserName': None, 'UserReviewScore': '70', '...\n",
       "49332    [{'UserName': None, 'UserReviewScore': '80', '...\n",
       "49441    [{'UserName': None, 'UserReviewScore': '65', '...\n",
       "49623    [{'UserName': None, 'UserReviewScore': '75', '...\n",
       "49742    [{'UserName': None, 'UserReviewScore': '82', '...\n",
       "Name: UserReviews, Length: 302, dtype: object"
      ]
     },
     "metadata": {},
     "execution_count": 8
    }
   ],
   "source": [
    "#Check dataset\n",
    "data['UserReviews']"
   ]
  },
  {
   "cell_type": "code",
   "execution_count": 9,
   "metadata": {},
   "outputs": [],
   "source": [
    "#Lower case reviews\n",
    "data['UserReviews'] = data['UserReviews'].str.lower()"
   ]
  },
  {
   "cell_type": "code",
   "execution_count": 10,
   "metadata": {},
   "outputs": [],
   "source": [
    "#Remove stopwords\n",
    "stop = stopwords.words('english')\n",
    "data['UserReviews'] = data['UserReviews'].apply(lambda x: ' '.join([word for word in x.split() if word not in (stop)]))"
   ]
  },
  {
   "cell_type": "code",
   "execution_count": 11,
   "metadata": {},
   "outputs": [
    {
     "output_type": "execute_result",
     "data": {
      "text/plain": [
       "                                  Game  \\\n",
       "140                        Timespinner   \n",
       "225                      Black Paradox   \n",
       "255                             Redout   \n",
       "308                        Happy Words   \n",
       "352            Warlocks 2: God Slayers   \n",
       "...                                ...   \n",
       "49201       Age of Wonders: Planetfall   \n",
       "49332              No Man's Sky Beyond   \n",
       "49441          Remnant: From the Ashes   \n",
       "49623  Acron: Attack of the Squirrels!   \n",
       "49742                Children of Morta   \n",
       "\n",
       "                                             UserReviews  \n",
       "140    [{'username': none, 'userreviewscore': '90', '...  \n",
       "225    [{'username': none, 'userreviewscore': '65', '...  \n",
       "255    [{'username': none, 'userreviewscore': '70', '...  \n",
       "308    [{'username': none, 'userreviewscore': '20', '...  \n",
       "352    [{'username': none, 'userreviewscore': '50', '...  \n",
       "...                                                  ...  \n",
       "49201  [{'username': none, 'userreviewscore': '70', '...  \n",
       "49332  [{'username': none, 'userreviewscore': '80', '...  \n",
       "49441  [{'username': none, 'userreviewscore': '65', '...  \n",
       "49623  [{'username': none, 'userreviewscore': '75', '...  \n",
       "49742  [{'username': none, 'userreviewscore': '82', '...  \n",
       "\n",
       "[302 rows x 2 columns]"
      ],
      "text/html": "<div>\n<style scoped>\n    .dataframe tbody tr th:only-of-type {\n        vertical-align: middle;\n    }\n\n    .dataframe tbody tr th {\n        vertical-align: top;\n    }\n\n    .dataframe thead th {\n        text-align: right;\n    }\n</style>\n<table border=\"1\" class=\"dataframe\">\n  <thead>\n    <tr style=\"text-align: right;\">\n      <th></th>\n      <th>Game</th>\n      <th>UserReviews</th>\n    </tr>\n  </thead>\n  <tbody>\n    <tr>\n      <th>140</th>\n      <td>Timespinner</td>\n      <td>[{'username': none, 'userreviewscore': '90', '...</td>\n    </tr>\n    <tr>\n      <th>225</th>\n      <td>Black Paradox</td>\n      <td>[{'username': none, 'userreviewscore': '65', '...</td>\n    </tr>\n    <tr>\n      <th>255</th>\n      <td>Redout</td>\n      <td>[{'username': none, 'userreviewscore': '70', '...</td>\n    </tr>\n    <tr>\n      <th>308</th>\n      <td>Happy Words</td>\n      <td>[{'username': none, 'userreviewscore': '20', '...</td>\n    </tr>\n    <tr>\n      <th>352</th>\n      <td>Warlocks 2: God Slayers</td>\n      <td>[{'username': none, 'userreviewscore': '50', '...</td>\n    </tr>\n    <tr>\n      <th>...</th>\n      <td>...</td>\n      <td>...</td>\n    </tr>\n    <tr>\n      <th>49201</th>\n      <td>Age of Wonders: Planetfall</td>\n      <td>[{'username': none, 'userreviewscore': '70', '...</td>\n    </tr>\n    <tr>\n      <th>49332</th>\n      <td>No Man's Sky Beyond</td>\n      <td>[{'username': none, 'userreviewscore': '80', '...</td>\n    </tr>\n    <tr>\n      <th>49441</th>\n      <td>Remnant: From the Ashes</td>\n      <td>[{'username': none, 'userreviewscore': '65', '...</td>\n    </tr>\n    <tr>\n      <th>49623</th>\n      <td>Acron: Attack of the Squirrels!</td>\n      <td>[{'username': none, 'userreviewscore': '75', '...</td>\n    </tr>\n    <tr>\n      <th>49742</th>\n      <td>Children of Morta</td>\n      <td>[{'username': none, 'userreviewscore': '82', '...</td>\n    </tr>\n  </tbody>\n</table>\n<p>302 rows × 2 columns</p>\n</div>"
     },
     "metadata": {},
     "execution_count": 11
    }
   ],
   "source": [
    "#Create new dataset\n",
    "sentiment_data = data[['Game', 'UserReviews']]\n",
    "sentiment_data"
   ]
  },
  {
   "cell_type": "code",
   "execution_count": 12,
   "metadata": {},
   "outputs": [],
   "source": [
    "#Split reviews into rows\n",
    "sentiment_data = sentiment_data.drop('UserReviews', axis=1).join(sentiment_data['UserReviews'].str.split(']', expand=True).stack().reset_index(level=1, drop=True).rename('UserReviews'))"
   ]
  },
  {
   "cell_type": "code",
   "execution_count": 13,
   "metadata": {},
   "outputs": [],
   "source": [
    "#Drop columns with NaN\n",
    "sentiment_data['UserReviews'] = sentiment_data['UserReviews'].dropna()"
   ]
  },
  {
   "cell_type": "code",
   "execution_count": 14,
   "metadata": {},
   "outputs": [],
   "source": [
    "#Drop empty columns\n",
    "sentiment_data = sentiment_data[sentiment_data.UserReviews != '']"
   ]
  },
  {
   "cell_type": "code",
   "execution_count": 15,
   "metadata": {},
   "outputs": [
    {
     "output_type": "execute_result",
     "data": {
      "text/plain": [
       "                                  Game  \\\n",
       "140                        Timespinner   \n",
       "225                      Black Paradox   \n",
       "255                             Redout   \n",
       "308                        Happy Words   \n",
       "352            Warlocks 2: God Slayers   \n",
       "...                                ...   \n",
       "49201       Age of Wonders: Planetfall   \n",
       "49332              No Man's Sky Beyond   \n",
       "49441          Remnant: From the Ashes   \n",
       "49623  Acron: Attack of the Squirrels!   \n",
       "49742                Children of Morta   \n",
       "\n",
       "                                             UserReviews  \n",
       "140    [{'username': none, 'userreviewscore': '90', '...  \n",
       "225    [{'username': none, 'userreviewscore': '65', '...  \n",
       "255    [{'username': none, 'userreviewscore': '70', '...  \n",
       "308    [{'username': none, 'userreviewscore': '20', '...  \n",
       "352    [{'username': none, 'userreviewscore': '50', '...  \n",
       "...                                                  ...  \n",
       "49201  [{'username': none, 'userreviewscore': '70', '...  \n",
       "49332  [{'username': none, 'userreviewscore': '80', '...  \n",
       "49441  [{'username': none, 'userreviewscore': '65', '...  \n",
       "49623  [{'username': none, 'userreviewscore': '75', '...  \n",
       "49742  [{'username': none, 'userreviewscore': '82', '...  \n",
       "\n",
       "[302 rows x 2 columns]"
      ],
      "text/html": "<div>\n<style scoped>\n    .dataframe tbody tr th:only-of-type {\n        vertical-align: middle;\n    }\n\n    .dataframe tbody tr th {\n        vertical-align: top;\n    }\n\n    .dataframe thead th {\n        text-align: right;\n    }\n</style>\n<table border=\"1\" class=\"dataframe\">\n  <thead>\n    <tr style=\"text-align: right;\">\n      <th></th>\n      <th>Game</th>\n      <th>UserReviews</th>\n    </tr>\n  </thead>\n  <tbody>\n    <tr>\n      <th>140</th>\n      <td>Timespinner</td>\n      <td>[{'username': none, 'userreviewscore': '90', '...</td>\n    </tr>\n    <tr>\n      <th>225</th>\n      <td>Black Paradox</td>\n      <td>[{'username': none, 'userreviewscore': '65', '...</td>\n    </tr>\n    <tr>\n      <th>255</th>\n      <td>Redout</td>\n      <td>[{'username': none, 'userreviewscore': '70', '...</td>\n    </tr>\n    <tr>\n      <th>308</th>\n      <td>Happy Words</td>\n      <td>[{'username': none, 'userreviewscore': '20', '...</td>\n    </tr>\n    <tr>\n      <th>352</th>\n      <td>Warlocks 2: God Slayers</td>\n      <td>[{'username': none, 'userreviewscore': '50', '...</td>\n    </tr>\n    <tr>\n      <th>...</th>\n      <td>...</td>\n      <td>...</td>\n    </tr>\n    <tr>\n      <th>49201</th>\n      <td>Age of Wonders: Planetfall</td>\n      <td>[{'username': none, 'userreviewscore': '70', '...</td>\n    </tr>\n    <tr>\n      <th>49332</th>\n      <td>No Man's Sky Beyond</td>\n      <td>[{'username': none, 'userreviewscore': '80', '...</td>\n    </tr>\n    <tr>\n      <th>49441</th>\n      <td>Remnant: From the Ashes</td>\n      <td>[{'username': none, 'userreviewscore': '65', '...</td>\n    </tr>\n    <tr>\n      <th>49623</th>\n      <td>Acron: Attack of the Squirrels!</td>\n      <td>[{'username': none, 'userreviewscore': '75', '...</td>\n    </tr>\n    <tr>\n      <th>49742</th>\n      <td>Children of Morta</td>\n      <td>[{'username': none, 'userreviewscore': '82', '...</td>\n    </tr>\n  </tbody>\n</table>\n<p>302 rows × 2 columns</p>\n</div>"
     },
     "metadata": {},
     "execution_count": 15
    }
   ],
   "source": [
    "#Check dataset\n",
    "sentiment_data"
   ]
  },
  {
   "cell_type": "code",
   "execution_count": 16,
   "metadata": {},
   "outputs": [
    {
     "output_type": "error",
     "ename": "SyntaxError",
     "evalue": "(unicode error) 'unicodeescape' codec can't decode bytes in position 89-90: truncated \\UXXXXXXXX escape (<ipython-input-16-8ef7644da06d>, line 4)",
     "traceback": [
      "\u001b[1;36m  File \u001b[1;32m\"<ipython-input-16-8ef7644da06d>\"\u001b[1;36m, line \u001b[1;32m4\u001b[0m\n\u001b[1;33m    '''\u001b[0m\n\u001b[1;37m       ^\u001b[0m\n\u001b[1;31mSyntaxError\u001b[0m\u001b[1;31m:\u001b[0m (unicode error) 'unicodeescape' codec can't decode bytes in position 89-90: truncated \\UXXXXXXXX escape\n"
     ]
    }
   ],
   "source": [
    "''' DATA ALREADY CREATED\n",
    "#Create dataset for sentiment analysis\n",
    "sentiment_data.to_excel(r'C:\\Users\\B.R\\Documents\\HvA\\Master_DDB\\MP\\multiplayer_model\\mp_sentiment_analyses\\mp_seperated_userreviews.xlsx')\n",
    "'''"
   ]
  },
  {
   "source": [
    "# Data preparation"
   ],
   "cell_type": "markdown",
   "metadata": {}
  },
  {
   "cell_type": "code",
   "execution_count": 19,
   "metadata": {},
   "outputs": [
    {
     "output_type": "execute_result",
     "data": {
      "text/plain": [
       "                             Game  Sum_containword  TotalNegative  \\\n",
       "0                            20XX                0              4   \n",
       "1  9th Dawn III: Shadow of Erthil              -11             16   \n",
       "2                 AFL Evolution 2                0              2   \n",
       "3         AO International Tennis                0              2   \n",
       "4                     AO Tennis 2               -2              5   \n",
       "\n",
       "   TotalPositive  StdDev_ContainWord  \n",
       "0              4            0.079282  \n",
       "1             10            0.148968  \n",
       "2              2            0.079290  \n",
       "3              2            0.079290  \n",
       "4              4            0.084090  "
      ],
      "text/html": "<div>\n<style scoped>\n    .dataframe tbody tr th:only-of-type {\n        vertical-align: middle;\n    }\n\n    .dataframe tbody tr th {\n        vertical-align: top;\n    }\n\n    .dataframe thead th {\n        text-align: right;\n    }\n</style>\n<table border=\"1\" class=\"dataframe\">\n  <thead>\n    <tr style=\"text-align: right;\">\n      <th></th>\n      <th>Game</th>\n      <th>Sum_containword</th>\n      <th>TotalNegative</th>\n      <th>TotalPositive</th>\n      <th>StdDev_ContainWord</th>\n    </tr>\n  </thead>\n  <tbody>\n    <tr>\n      <th>0</th>\n      <td>20XX</td>\n      <td>0</td>\n      <td>4</td>\n      <td>4</td>\n      <td>0.079282</td>\n    </tr>\n    <tr>\n      <th>1</th>\n      <td>9th Dawn III: Shadow of Erthil</td>\n      <td>-11</td>\n      <td>16</td>\n      <td>10</td>\n      <td>0.148968</td>\n    </tr>\n    <tr>\n      <th>2</th>\n      <td>AFL Evolution 2</td>\n      <td>0</td>\n      <td>2</td>\n      <td>2</td>\n      <td>0.079290</td>\n    </tr>\n    <tr>\n      <th>3</th>\n      <td>AO International Tennis</td>\n      <td>0</td>\n      <td>2</td>\n      <td>2</td>\n      <td>0.079290</td>\n    </tr>\n    <tr>\n      <th>4</th>\n      <td>AO Tennis 2</td>\n      <td>-2</td>\n      <td>5</td>\n      <td>4</td>\n      <td>0.084090</td>\n    </tr>\n  </tbody>\n</table>\n</div>"
     },
     "metadata": {},
     "execution_count": 19
    }
   ],
   "source": [
    "#Loading sentiment scores\n",
    "sentimentscores = pd.read_csv(r'C:\\Users\\B.R\\Documents\\HvA\\Master_DDB\\MP\\analysis\\multiplayer_model\\mp_sentiment_analyses\\mp_sentiscores_userreviews.csv')\n",
    "sentimentscores.head()"
   ]
  },
  {
   "cell_type": "code",
   "execution_count": 20,
   "metadata": {},
   "outputs": [
    {
     "output_type": "execute_result",
     "data": {
      "text/plain": [
       "                                     Game Platform  \\\n",
       "0  Grand Theft Auto: Liberty City Stories      PSP   \n",
       "1     Grand Theft Auto: Vice City Stories      PSP   \n",
       "2                Monster Hunter Freedom 3      PSP   \n",
       "3                            Gran Turismo      PSP   \n",
       "4            Monster Hunter Freedom Unite      PSP   \n",
       "\n",
       "                       Publisher VGChartzScore CriticScore TotalSales  \\\n",
       "0               Rockstar Games           N/A         8.8        7.72m   \n",
       "1               Rockstar Games           N/A         8.4        5.08m   \n",
       "2                       Capcom           N/A         N/A        4.87m   \n",
       "3  Sony Computer Entertainment           7.5         7.7        2.93m   \n",
       "4                       Capcom           N/A         7.7        5.50m   \n",
       "\n",
       "     ReleaseDate   LastUpdate  \n",
       "0  25th Oct 05            NaN  \n",
       "1  31st Oct 06            NaN  \n",
       "2  01st Dec 10    08th Jan 19  \n",
       "3  01st Oct 09            NaN  \n",
       "4  23rd Jun 09            NaN  "
      ],
      "text/html": "<div>\n<style scoped>\n    .dataframe tbody tr th:only-of-type {\n        vertical-align: middle;\n    }\n\n    .dataframe tbody tr th {\n        vertical-align: top;\n    }\n\n    .dataframe thead th {\n        text-align: right;\n    }\n</style>\n<table border=\"1\" class=\"dataframe\">\n  <thead>\n    <tr style=\"text-align: right;\">\n      <th></th>\n      <th>Game</th>\n      <th>Platform</th>\n      <th>Publisher</th>\n      <th>VGChartzScore</th>\n      <th>CriticScore</th>\n      <th>TotalSales</th>\n      <th>ReleaseDate</th>\n      <th>LastUpdate</th>\n    </tr>\n  </thead>\n  <tbody>\n    <tr>\n      <th>0</th>\n      <td>Grand Theft Auto: Liberty City Stories</td>\n      <td>PSP</td>\n      <td>Rockstar Games</td>\n      <td>N/A</td>\n      <td>8.8</td>\n      <td>7.72m</td>\n      <td>25th Oct 05</td>\n      <td>NaN</td>\n    </tr>\n    <tr>\n      <th>1</th>\n      <td>Grand Theft Auto: Vice City Stories</td>\n      <td>PSP</td>\n      <td>Rockstar Games</td>\n      <td>N/A</td>\n      <td>8.4</td>\n      <td>5.08m</td>\n      <td>31st Oct 06</td>\n      <td>NaN</td>\n    </tr>\n    <tr>\n      <th>2</th>\n      <td>Monster Hunter Freedom 3</td>\n      <td>PSP</td>\n      <td>Capcom</td>\n      <td>N/A</td>\n      <td>N/A</td>\n      <td>4.87m</td>\n      <td>01st Dec 10</td>\n      <td>08th Jan 19</td>\n    </tr>\n    <tr>\n      <th>3</th>\n      <td>Gran Turismo</td>\n      <td>PSP</td>\n      <td>Sony Computer Entertainment</td>\n      <td>7.5</td>\n      <td>7.7</td>\n      <td>2.93m</td>\n      <td>01st Oct 09</td>\n      <td>NaN</td>\n    </tr>\n    <tr>\n      <th>4</th>\n      <td>Monster Hunter Freedom Unite</td>\n      <td>PSP</td>\n      <td>Capcom</td>\n      <td>N/A</td>\n      <td>7.7</td>\n      <td>5.50m</td>\n      <td>23rd Jun 09</td>\n      <td>NaN</td>\n    </tr>\n  </tbody>\n</table>\n</div>"
     },
     "metadata": {},
     "execution_count": 20
    }
   ],
   "source": [
    "#Loading sales_data\n",
    "sales_data = pd.read_csv(r'C:\\Users\\B.R\\Documents\\HvA\\Master_DDB\\MP\\Scraper_eWOM\\eWOM\\spiders\\vgchartz.csv')\n",
    "sales_data.head()"
   ]
  },
  {
   "cell_type": "code",
   "execution_count": 21,
   "metadata": {},
   "outputs": [
    {
     "output_type": "execute_result",
     "data": {
      "text/plain": [
       "                             Game  Sum_containword  TotalNegative  \\\n",
       "0                            20XX                0              4   \n",
       "1  9th Dawn III: Shadow of Erthil              -11             16   \n",
       "2                 AFL Evolution 2                0              2   \n",
       "3         AO International Tennis                0              2   \n",
       "4                     AO Tennis 2               -2              5   \n",
       "\n",
       "   TotalPositive  StdDev_ContainWord Platform              Publisher  \\\n",
       "0              4            0.079282       NS  Batterystaple Games     \n",
       "1             10            0.148968      NaN                    NaN   \n",
       "2              2            0.079290      NaN                    NaN   \n",
       "3              2            0.079290      NaN                    NaN   \n",
       "4              4            0.084090      NaN                    NaN   \n",
       "\n",
       "  VGChartzScore CriticScore TotalSales    ReleaseDate   LastUpdate  \n",
       "0         N/A         N/A          NaN  10th Jul 18    09th Mar 20  \n",
       "1           NaN         NaN        NaN            NaN          NaN  \n",
       "2           NaN         NaN        NaN            NaN          NaN  \n",
       "3           NaN         NaN        NaN            NaN          NaN  \n",
       "4           NaN         NaN        NaN            NaN          NaN  "
      ],
      "text/html": "<div>\n<style scoped>\n    .dataframe tbody tr th:only-of-type {\n        vertical-align: middle;\n    }\n\n    .dataframe tbody tr th {\n        vertical-align: top;\n    }\n\n    .dataframe thead th {\n        text-align: right;\n    }\n</style>\n<table border=\"1\" class=\"dataframe\">\n  <thead>\n    <tr style=\"text-align: right;\">\n      <th></th>\n      <th>Game</th>\n      <th>Sum_containword</th>\n      <th>TotalNegative</th>\n      <th>TotalPositive</th>\n      <th>StdDev_ContainWord</th>\n      <th>Platform</th>\n      <th>Publisher</th>\n      <th>VGChartzScore</th>\n      <th>CriticScore</th>\n      <th>TotalSales</th>\n      <th>ReleaseDate</th>\n      <th>LastUpdate</th>\n    </tr>\n  </thead>\n  <tbody>\n    <tr>\n      <th>0</th>\n      <td>20XX</td>\n      <td>0</td>\n      <td>4</td>\n      <td>4</td>\n      <td>0.079282</td>\n      <td>NS</td>\n      <td>Batterystaple Games</td>\n      <td>N/A</td>\n      <td>N/A</td>\n      <td>NaN</td>\n      <td>10th Jul 18</td>\n      <td>09th Mar 20</td>\n    </tr>\n    <tr>\n      <th>1</th>\n      <td>9th Dawn III: Shadow of Erthil</td>\n      <td>-11</td>\n      <td>16</td>\n      <td>10</td>\n      <td>0.148968</td>\n      <td>NaN</td>\n      <td>NaN</td>\n      <td>NaN</td>\n      <td>NaN</td>\n      <td>NaN</td>\n      <td>NaN</td>\n      <td>NaN</td>\n    </tr>\n    <tr>\n      <th>2</th>\n      <td>AFL Evolution 2</td>\n      <td>0</td>\n      <td>2</td>\n      <td>2</td>\n      <td>0.079290</td>\n      <td>NaN</td>\n      <td>NaN</td>\n      <td>NaN</td>\n      <td>NaN</td>\n      <td>NaN</td>\n      <td>NaN</td>\n      <td>NaN</td>\n    </tr>\n    <tr>\n      <th>3</th>\n      <td>AO International Tennis</td>\n      <td>0</td>\n      <td>2</td>\n      <td>2</td>\n      <td>0.079290</td>\n      <td>NaN</td>\n      <td>NaN</td>\n      <td>NaN</td>\n      <td>NaN</td>\n      <td>NaN</td>\n      <td>NaN</td>\n      <td>NaN</td>\n    </tr>\n    <tr>\n      <th>4</th>\n      <td>AO Tennis 2</td>\n      <td>-2</td>\n      <td>5</td>\n      <td>4</td>\n      <td>0.084090</td>\n      <td>NaN</td>\n      <td>NaN</td>\n      <td>NaN</td>\n      <td>NaN</td>\n      <td>NaN</td>\n      <td>NaN</td>\n      <td>NaN</td>\n    </tr>\n  </tbody>\n</table>\n</div>"
     },
     "metadata": {},
     "execution_count": 21
    }
   ],
   "source": [
    "#merging sentiment and sales data\n",
    "sentisales = pd.merge(sentimentscores, sales_data, on='Game', how='left')\n",
    "sentisales.head()"
   ]
  },
  {
   "cell_type": "code",
   "execution_count": 22,
   "metadata": {},
   "outputs": [
    {
     "output_type": "execute_result",
     "data": {
      "text/plain": [
       "                        Game  Metascore  UserScore              Publisher  \\\n",
       "140              Timespinner       84.0        7.3            Chucklefish   \n",
       "225            Black Paradox        NaN        7.2  Digerati Distribution   \n",
       "255                   Redout       70.0        7.2                Nicalis   \n",
       "308              Happy Words        NaN        NaN       LAN - GAMES EOOD   \n",
       "352  Warlocks 2: God Slayers       59.0        5.9          Fat Dog Games   \n",
       "\n",
       "      ReleaseDate                                   Genre  \\\n",
       "140  Jun  4, 2019                    Action,Platformer,2D   \n",
       "225  May  3, 2019  Action,Shooter,Shoot-'Em-Up,Horizontal   \n",
       "255  May 14, 2019                Racing,Arcade,Futuristic   \n",
       "308  May 29, 2019                            Puzzle,Logic   \n",
       "352  Jun  7, 2019                  Role-Playing,ActionRPG   \n",
       "\n",
       "    NumberOfOnlinePlayers Cast Credits  \\\n",
       "140     OnlineMultiplayer  NaN     NaN   \n",
       "225     OnlineMultiplayer  NaN     NaN   \n",
       "255     OnlineMultiplayer  NaN     NaN   \n",
       "308     OnlineMultiplayer  NaN     NaN   \n",
       "352     OnlineMultiplayer  NaN     NaN   \n",
       "\n",
       "                                        CriticsReviews  \\\n",
       "140  [{'CriticName': 'NF Magazine', 'CriticScore': ...   \n",
       "225  [{'CriticName': None, 'CriticScore': '75', 'Cr...   \n",
       "255  [{'CriticName': None, 'CriticScore': '76', 'Cr...   \n",
       "308  [{'CriticName': None, 'CriticScore': '20', 'Cr...   \n",
       "352  [{'CriticName': None, 'CriticScore': '90', 'Cr...   \n",
       "\n",
       "                                           UserReviews  \n",
       "140  [{'username': none, 'userreviewscore': '90', '...  \n",
       "225  [{'username': none, 'userreviewscore': '65', '...  \n",
       "255  [{'username': none, 'userreviewscore': '70', '...  \n",
       "308  [{'username': none, 'userreviewscore': '20', '...  \n",
       "352  [{'username': none, 'userreviewscore': '50', '...  "
      ],
      "text/html": "<div>\n<style scoped>\n    .dataframe tbody tr th:only-of-type {\n        vertical-align: middle;\n    }\n\n    .dataframe tbody tr th {\n        vertical-align: top;\n    }\n\n    .dataframe thead th {\n        text-align: right;\n    }\n</style>\n<table border=\"1\" class=\"dataframe\">\n  <thead>\n    <tr style=\"text-align: right;\">\n      <th></th>\n      <th>Game</th>\n      <th>Metascore</th>\n      <th>UserScore</th>\n      <th>Publisher</th>\n      <th>ReleaseDate</th>\n      <th>Genre</th>\n      <th>NumberOfOnlinePlayers</th>\n      <th>Cast</th>\n      <th>Credits</th>\n      <th>CriticsReviews</th>\n      <th>UserReviews</th>\n    </tr>\n  </thead>\n  <tbody>\n    <tr>\n      <th>140</th>\n      <td>Timespinner</td>\n      <td>84.0</td>\n      <td>7.3</td>\n      <td>Chucklefish</td>\n      <td>Jun  4, 2019</td>\n      <td>Action,Platformer,2D</td>\n      <td>OnlineMultiplayer</td>\n      <td>NaN</td>\n      <td>NaN</td>\n      <td>[{'CriticName': 'NF Magazine', 'CriticScore': ...</td>\n      <td>[{'username': none, 'userreviewscore': '90', '...</td>\n    </tr>\n    <tr>\n      <th>225</th>\n      <td>Black Paradox</td>\n      <td>NaN</td>\n      <td>7.2</td>\n      <td>Digerati Distribution</td>\n      <td>May  3, 2019</td>\n      <td>Action,Shooter,Shoot-'Em-Up,Horizontal</td>\n      <td>OnlineMultiplayer</td>\n      <td>NaN</td>\n      <td>NaN</td>\n      <td>[{'CriticName': None, 'CriticScore': '75', 'Cr...</td>\n      <td>[{'username': none, 'userreviewscore': '65', '...</td>\n    </tr>\n    <tr>\n      <th>255</th>\n      <td>Redout</td>\n      <td>70.0</td>\n      <td>7.2</td>\n      <td>Nicalis</td>\n      <td>May 14, 2019</td>\n      <td>Racing,Arcade,Futuristic</td>\n      <td>OnlineMultiplayer</td>\n      <td>NaN</td>\n      <td>NaN</td>\n      <td>[{'CriticName': None, 'CriticScore': '76', 'Cr...</td>\n      <td>[{'username': none, 'userreviewscore': '70', '...</td>\n    </tr>\n    <tr>\n      <th>308</th>\n      <td>Happy Words</td>\n      <td>NaN</td>\n      <td>NaN</td>\n      <td>LAN - GAMES EOOD</td>\n      <td>May 29, 2019</td>\n      <td>Puzzle,Logic</td>\n      <td>OnlineMultiplayer</td>\n      <td>NaN</td>\n      <td>NaN</td>\n      <td>[{'CriticName': None, 'CriticScore': '20', 'Cr...</td>\n      <td>[{'username': none, 'userreviewscore': '20', '...</td>\n    </tr>\n    <tr>\n      <th>352</th>\n      <td>Warlocks 2: God Slayers</td>\n      <td>59.0</td>\n      <td>5.9</td>\n      <td>Fat Dog Games</td>\n      <td>Jun  7, 2019</td>\n      <td>Role-Playing,ActionRPG</td>\n      <td>OnlineMultiplayer</td>\n      <td>NaN</td>\n      <td>NaN</td>\n      <td>[{'CriticName': None, 'CriticScore': '90', 'Cr...</td>\n      <td>[{'username': none, 'userreviewscore': '50', '...</td>\n    </tr>\n  </tbody>\n</table>\n</div>"
     },
     "metadata": {},
     "execution_count": 22
    }
   ],
   "source": [
    "#Loading metascores \n",
    "metacritic = data\n",
    "metacritic.head()"
   ]
  },
  {
   "cell_type": "code",
   "execution_count": 23,
   "metadata": {},
   "outputs": [
    {
     "output_type": "execute_result",
     "data": {
      "text/plain": [
       "                             Game  Sum_containword  TotalNegative  \\\n",
       "0                            20XX                0              4   \n",
       "1                            20XX                0              4   \n",
       "2  9th Dawn III: Shadow of Erthil              -11             16   \n",
       "3  9th Dawn III: Shadow of Erthil              -11             16   \n",
       "4                 AFL Evolution 2                0              2   \n",
       "\n",
       "   TotalPositive  StdDev_ContainWord Platform            Publisher_x  \\\n",
       "0              4            0.079282       NS  Batterystaple Games     \n",
       "1              4            0.079282       NS  Batterystaple Games     \n",
       "2             10            0.148968      NaN                    NaN   \n",
       "3             10            0.148968      NaN                    NaN   \n",
       "4              2            0.079290      NaN                    NaN   \n",
       "\n",
       "  VGChartzScore CriticScore TotalSales  ... Metascore UserScore  \\\n",
       "0         N/A         N/A          NaN  ...      77.0       NaN   \n",
       "1         N/A         N/A          NaN  ...      77.0       7.1   \n",
       "2           NaN         NaN        NaN  ...       NaN       NaN   \n",
       "3           NaN         NaN        NaN  ...       NaN       NaN   \n",
       "4           NaN         NaN        NaN  ...       NaN       NaN   \n",
       "\n",
       "                    Publisher_y  ReleaseDate_y                        Genre  \\\n",
       "0               Fire Hose Games   Jul 10, 2018         Action,Platformer,2D   \n",
       "1               Fire Hose Games   Jul 10, 2018         Action,Platformer,2D   \n",
       "2                     Valorware   Oct  6, 2020       Role-Playing,ActionRPG   \n",
       "3                     Valorware   Oct  6, 2020       Role-Playing,ActionRPG   \n",
       "4  Home Entertainment Suppliers   Apr  9, 2020  Sports,Team,Football,Arcade   \n",
       "\n",
       "       NumberOfOnlinePlayers Cast Credits  \\\n",
       "0  2PlayersOnlineMultiplayer  NaN     NaN   \n",
       "1  2PlayersOnlineMultiplayer  NaN     NaN   \n",
       "2          OnlineMultiplayer  NaN     NaN   \n",
       "3          OnlineMultiplayer  NaN     NaN   \n",
       "4          OnlineMultiplayer  NaN     NaN   \n",
       "\n",
       "                                      CriticsReviews  \\\n",
       "0  [{'CriticName': None, 'CriticScore': '90', 'Cr...   \n",
       "1  [{'CriticName': None, 'CriticScore': '90', 'Cr...   \n",
       "2  [{'CriticName': None, 'CriticScore': '70', 'Cr...   \n",
       "3  [{'CriticName': None, 'CriticScore': '78', 'Cr...   \n",
       "4  [{'CriticName': None, 'CriticScore': '65', 'Cr...   \n",
       "\n",
       "                                         UserReviews  \n",
       "0  [{'username': none, 'userreviewscore': '80', '...  \n",
       "1  [{'username': none, 'userreviewscore': '60', '...  \n",
       "2  [{'username': none, 'userreviewscore': '70', '...  \n",
       "3  [{'username': none, 'userreviewscore': '60', '...  \n",
       "4  [{'username': none, 'userreviewscore': '50', '...  \n",
       "\n",
       "[5 rows x 22 columns]"
      ],
      "text/html": "<div>\n<style scoped>\n    .dataframe tbody tr th:only-of-type {\n        vertical-align: middle;\n    }\n\n    .dataframe tbody tr th {\n        vertical-align: top;\n    }\n\n    .dataframe thead th {\n        text-align: right;\n    }\n</style>\n<table border=\"1\" class=\"dataframe\">\n  <thead>\n    <tr style=\"text-align: right;\">\n      <th></th>\n      <th>Game</th>\n      <th>Sum_containword</th>\n      <th>TotalNegative</th>\n      <th>TotalPositive</th>\n      <th>StdDev_ContainWord</th>\n      <th>Platform</th>\n      <th>Publisher_x</th>\n      <th>VGChartzScore</th>\n      <th>CriticScore</th>\n      <th>TotalSales</th>\n      <th>...</th>\n      <th>Metascore</th>\n      <th>UserScore</th>\n      <th>Publisher_y</th>\n      <th>ReleaseDate_y</th>\n      <th>Genre</th>\n      <th>NumberOfOnlinePlayers</th>\n      <th>Cast</th>\n      <th>Credits</th>\n      <th>CriticsReviews</th>\n      <th>UserReviews</th>\n    </tr>\n  </thead>\n  <tbody>\n    <tr>\n      <th>0</th>\n      <td>20XX</td>\n      <td>0</td>\n      <td>4</td>\n      <td>4</td>\n      <td>0.079282</td>\n      <td>NS</td>\n      <td>Batterystaple Games</td>\n      <td>N/A</td>\n      <td>N/A</td>\n      <td>NaN</td>\n      <td>...</td>\n      <td>77.0</td>\n      <td>NaN</td>\n      <td>Fire Hose Games</td>\n      <td>Jul 10, 2018</td>\n      <td>Action,Platformer,2D</td>\n      <td>2PlayersOnlineMultiplayer</td>\n      <td>NaN</td>\n      <td>NaN</td>\n      <td>[{'CriticName': None, 'CriticScore': '90', 'Cr...</td>\n      <td>[{'username': none, 'userreviewscore': '80', '...</td>\n    </tr>\n    <tr>\n      <th>1</th>\n      <td>20XX</td>\n      <td>0</td>\n      <td>4</td>\n      <td>4</td>\n      <td>0.079282</td>\n      <td>NS</td>\n      <td>Batterystaple Games</td>\n      <td>N/A</td>\n      <td>N/A</td>\n      <td>NaN</td>\n      <td>...</td>\n      <td>77.0</td>\n      <td>7.1</td>\n      <td>Fire Hose Games</td>\n      <td>Jul 10, 2018</td>\n      <td>Action,Platformer,2D</td>\n      <td>2PlayersOnlineMultiplayer</td>\n      <td>NaN</td>\n      <td>NaN</td>\n      <td>[{'CriticName': None, 'CriticScore': '90', 'Cr...</td>\n      <td>[{'username': none, 'userreviewscore': '60', '...</td>\n    </tr>\n    <tr>\n      <th>2</th>\n      <td>9th Dawn III: Shadow of Erthil</td>\n      <td>-11</td>\n      <td>16</td>\n      <td>10</td>\n      <td>0.148968</td>\n      <td>NaN</td>\n      <td>NaN</td>\n      <td>NaN</td>\n      <td>NaN</td>\n      <td>NaN</td>\n      <td>...</td>\n      <td>NaN</td>\n      <td>NaN</td>\n      <td>Valorware</td>\n      <td>Oct  6, 2020</td>\n      <td>Role-Playing,ActionRPG</td>\n      <td>OnlineMultiplayer</td>\n      <td>NaN</td>\n      <td>NaN</td>\n      <td>[{'CriticName': None, 'CriticScore': '70', 'Cr...</td>\n      <td>[{'username': none, 'userreviewscore': '70', '...</td>\n    </tr>\n    <tr>\n      <th>3</th>\n      <td>9th Dawn III: Shadow of Erthil</td>\n      <td>-11</td>\n      <td>16</td>\n      <td>10</td>\n      <td>0.148968</td>\n      <td>NaN</td>\n      <td>NaN</td>\n      <td>NaN</td>\n      <td>NaN</td>\n      <td>NaN</td>\n      <td>...</td>\n      <td>NaN</td>\n      <td>NaN</td>\n      <td>Valorware</td>\n      <td>Oct  6, 2020</td>\n      <td>Role-Playing,ActionRPG</td>\n      <td>OnlineMultiplayer</td>\n      <td>NaN</td>\n      <td>NaN</td>\n      <td>[{'CriticName': None, 'CriticScore': '78', 'Cr...</td>\n      <td>[{'username': none, 'userreviewscore': '60', '...</td>\n    </tr>\n    <tr>\n      <th>4</th>\n      <td>AFL Evolution 2</td>\n      <td>0</td>\n      <td>2</td>\n      <td>2</td>\n      <td>0.079290</td>\n      <td>NaN</td>\n      <td>NaN</td>\n      <td>NaN</td>\n      <td>NaN</td>\n      <td>NaN</td>\n      <td>...</td>\n      <td>NaN</td>\n      <td>NaN</td>\n      <td>Home Entertainment Suppliers</td>\n      <td>Apr  9, 2020</td>\n      <td>Sports,Team,Football,Arcade</td>\n      <td>OnlineMultiplayer</td>\n      <td>NaN</td>\n      <td>NaN</td>\n      <td>[{'CriticName': None, 'CriticScore': '65', 'Cr...</td>\n      <td>[{'username': none, 'userreviewscore': '50', '...</td>\n    </tr>\n  </tbody>\n</table>\n<p>5 rows × 22 columns</p>\n</div>"
     },
     "metadata": {},
     "execution_count": 23
    }
   ],
   "source": [
    "finaldata = pd.merge(sentisales, metacritic, on='Game', how='left')\n",
    "finaldata.head()"
   ]
  },
  {
   "cell_type": "code",
   "execution_count": 24,
   "metadata": {},
   "outputs": [],
   "source": [
    "finaldata.dropna(subset = ['StdDev_ContainWord', 'UserScore', 'TotalSales'], inplace=True)"
   ]
  },
  {
   "cell_type": "code",
   "execution_count": 25,
   "metadata": {},
   "outputs": [],
   "source": [
    "#Remove Letter M from sales data\n",
    "finaldata['TotalSales'] = finaldata['TotalSales'].map(lambda x: x.rstrip('m'))"
   ]
  },
  {
   "cell_type": "code",
   "execution_count": 26,
   "metadata": {},
   "outputs": [
    {
     "output_type": "stream",
     "name": "stdout",
     "text": [
      "StdDev_ContainWord    0\nUserScore             0\nTotalSales            0\ndtype: int64\nStdDev_ContainWord    0\nUserScore             0\nTotalSales            0\ndtype: int64\n"
     ]
    }
   ],
   "source": [
    "#validation on null data and NaNs in dataset\n",
    "print(finaldata[['StdDev_ContainWord', 'UserScore', 'TotalSales']].isnull().sum())\n",
    "print(finaldata[['StdDev_ContainWord', 'UserScore', 'TotalSales']].isna().sum())"
   ]
  },
  {
   "source": [
    "# Multivariate regression analysis\n"
   ],
   "cell_type": "markdown",
   "metadata": {}
  },
  {
   "cell_type": "code",
   "execution_count": 28,
   "metadata": {},
   "outputs": [],
   "source": [
    "#define X and Y dependent and independent variables\n",
    "X = finaldata[['StdDev_ContainWord', 'UserScore']].astype(float)\n",
    "y = finaldata['TotalSales'].astype(float)"
   ]
  },
  {
   "cell_type": "code",
   "execution_count": 29,
   "metadata": {},
   "outputs": [
    {
     "output_type": "display_data",
     "data": {
      "text/plain": "<Figure size 432x288 with 1 Axes>",
      "image/svg+xml": "<?xml version=\"1.0\" encoding=\"utf-8\" standalone=\"no\"?>\r\n<!DOCTYPE svg PUBLIC \"-//W3C//DTD SVG 1.1//EN\"\r\n  \"http://www.w3.org/Graphics/SVG/1.1/DTD/svg11.dtd\">\r\n<!-- Created with matplotlib (https://matplotlib.org/) -->\r\n<svg height=\"248.518125pt\" version=\"1.1\" viewBox=\"0 0 368.925 248.518125\" width=\"368.925pt\" xmlns=\"http://www.w3.org/2000/svg\" xmlns:xlink=\"http://www.w3.org/1999/xlink\">\r\n <metadata>\r\n  <rdf:RDF xmlns:cc=\"http://creativecommons.org/ns#\" xmlns:dc=\"http://purl.org/dc/elements/1.1/\" xmlns:rdf=\"http://www.w3.org/1999/02/22-rdf-syntax-ns#\">\r\n   <cc:Work>\r\n    <dc:type rdf:resource=\"http://purl.org/dc/dcmitype/StillImage\"/>\r\n    <dc:date>2021-06-11T14:17:27.192697</dc:date>\r\n    <dc:format>image/svg+xml</dc:format>\r\n    <dc:creator>\r\n     <cc:Agent>\r\n      <dc:title>Matplotlib v3.3.3, https://matplotlib.org/</dc:title>\r\n     </cc:Agent>\r\n    </dc:creator>\r\n   </cc:Work>\r\n  </rdf:RDF>\r\n </metadata>\r\n <defs>\r\n  <style type=\"text/css\">*{stroke-linecap:butt;stroke-linejoin:round;}</style>\r\n </defs>\r\n <g id=\"figure_1\">\r\n  <g id=\"patch_1\">\r\n   <path d=\"M -0 248.518125 \r\nL 368.925 248.518125 \r\nL 368.925 0 \r\nL -0 0 \r\nz\r\n\" style=\"fill:none;\"/>\r\n  </g>\r\n  <g id=\"axes_1\">\r\n   <g id=\"patch_2\">\r\n    <path d=\"M 26.925 224.64 \r\nL 361.725 224.64 \r\nL 361.725 7.2 \r\nL 26.925 7.2 \r\nz\r\n\" style=\"fill:#ffffff;\"/>\r\n   </g>\r\n   <g id=\"patch_3\">\r\n    <path clip-path=\"url(#p704b7dc37d)\" d=\"M 42.143182 224.64 \r\nL 72.579545 224.64 \r\nL 72.579545 17.554286 \r\nL 42.143182 17.554286 \r\nz\r\n\" style=\"fill:#1f77b4;\"/>\r\n   </g>\r\n   <g id=\"patch_4\">\r\n    <path clip-path=\"url(#p704b7dc37d)\" d=\"M 72.579545 224.64 \r\nL 103.015909 224.64 \r\nL 103.015909 224.64 \r\nL 72.579545 224.64 \r\nz\r\n\" style=\"fill:#1f77b4;\"/>\r\n   </g>\r\n   <g id=\"patch_5\">\r\n    <path clip-path=\"url(#p704b7dc37d)\" d=\"M 103.015909 224.64 \r\nL 133.452273 224.64 \r\nL 133.452273 183.222857 \r\nL 103.015909 183.222857 \r\nz\r\n\" style=\"fill:#1f77b4;\"/>\r\n   </g>\r\n   <g id=\"patch_6\">\r\n    <path clip-path=\"url(#p704b7dc37d)\" d=\"M 133.452273 224.64 \r\nL 163.888636 224.64 \r\nL 163.888636 224.64 \r\nL 133.452273 224.64 \r\nz\r\n\" style=\"fill:#1f77b4;\"/>\r\n   </g>\r\n   <g id=\"patch_7\">\r\n    <path clip-path=\"url(#p704b7dc37d)\" d=\"M 163.888636 224.64 \r\nL 194.325 224.64 \r\nL 194.325 224.64 \r\nL 163.888636 224.64 \r\nz\r\n\" style=\"fill:#1f77b4;\"/>\r\n   </g>\r\n   <g id=\"patch_8\">\r\n    <path clip-path=\"url(#p704b7dc37d)\" d=\"M 194.325 224.64 \r\nL 224.761364 224.64 \r\nL 224.761364 224.64 \r\nL 194.325 224.64 \r\nz\r\n\" style=\"fill:#1f77b4;\"/>\r\n   </g>\r\n   <g id=\"patch_9\">\r\n    <path clip-path=\"url(#p704b7dc37d)\" d=\"M 224.761364 224.64 \r\nL 255.197727 224.64 \r\nL 255.197727 224.64 \r\nL 224.761364 224.64 \r\nz\r\n\" style=\"fill:#1f77b4;\"/>\r\n   </g>\r\n   <g id=\"patch_10\">\r\n    <path clip-path=\"url(#p704b7dc37d)\" d=\"M 255.197727 224.64 \r\nL 285.634091 224.64 \r\nL 285.634091 224.64 \r\nL 255.197727 224.64 \r\nz\r\n\" style=\"fill:#1f77b4;\"/>\r\n   </g>\r\n   <g id=\"patch_11\">\r\n    <path clip-path=\"url(#p704b7dc37d)\" d=\"M 285.634091 224.64 \r\nL 316.070455 224.64 \r\nL 316.070455 224.64 \r\nL 285.634091 224.64 \r\nz\r\n\" style=\"fill:#1f77b4;\"/>\r\n   </g>\r\n   <g id=\"patch_12\">\r\n    <path clip-path=\"url(#p704b7dc37d)\" d=\"M 316.070455 224.64 \r\nL 346.506818 224.64 \r\nL 346.506818 203.931429 \r\nL 316.070455 203.931429 \r\nz\r\n\" style=\"fill:#1f77b4;\"/>\r\n   </g>\r\n   <g id=\"matplotlib.axis_1\">\r\n    <g id=\"xtick_1\">\r\n     <g id=\"line2d_1\">\r\n      <defs>\r\n       <path d=\"M 0 0 \r\nL 0 3.5 \r\n\" id=\"m62569fcf3d\" style=\"stroke:#000000;stroke-width:0.8;\"/>\r\n      </defs>\r\n      <g>\r\n       <use style=\"stroke:#000000;stroke-width:0.8;\" x=\"41.529545\" xlink:href=\"#m62569fcf3d\" y=\"224.64\"/>\r\n      </g>\r\n     </g>\r\n     <g id=\"text_1\">\r\n      <!-- 0 -->\r\n      <g transform=\"translate(38.348295 239.238437)scale(0.1 -0.1)\">\r\n       <defs>\r\n        <path d=\"M 31.78125 66.40625 \r\nQ 24.171875 66.40625 20.328125 58.90625 \r\nQ 16.5 51.421875 16.5 36.375 \r\nQ 16.5 21.390625 20.328125 13.890625 \r\nQ 24.171875 6.390625 31.78125 6.390625 \r\nQ 39.453125 6.390625 43.28125 13.890625 \r\nQ 47.125 21.390625 47.125 36.375 \r\nQ 47.125 51.421875 43.28125 58.90625 \r\nQ 39.453125 66.40625 31.78125 66.40625 \r\nz\r\nM 31.78125 74.21875 \r\nQ 44.046875 74.21875 50.515625 64.515625 \r\nQ 56.984375 54.828125 56.984375 36.375 \r\nQ 56.984375 17.96875 50.515625 8.265625 \r\nQ 44.046875 -1.421875 31.78125 -1.421875 \r\nQ 19.53125 -1.421875 13.0625 8.265625 \r\nQ 6.59375 17.96875 6.59375 36.375 \r\nQ 6.59375 54.828125 13.0625 64.515625 \r\nQ 19.53125 74.21875 31.78125 74.21875 \r\nz\r\n\" id=\"DejaVuSans-48\"/>\r\n       </defs>\r\n       <use xlink:href=\"#DejaVuSans-48\"/>\r\n      </g>\r\n     </g>\r\n    </g>\r\n    <g id=\"xtick_2\">\r\n     <g id=\"line2d_2\">\r\n      <g>\r\n       <use style=\"stroke:#000000;stroke-width:0.8;\" x=\"102.893182\" xlink:href=\"#m62569fcf3d\" y=\"224.64\"/>\r\n      </g>\r\n     </g>\r\n     <g id=\"text_2\">\r\n      <!-- 1 -->\r\n      <g transform=\"translate(99.711932 239.238437)scale(0.1 -0.1)\">\r\n       <defs>\r\n        <path d=\"M 12.40625 8.296875 \r\nL 28.515625 8.296875 \r\nL 28.515625 63.921875 \r\nL 10.984375 60.40625 \r\nL 10.984375 69.390625 \r\nL 28.421875 72.90625 \r\nL 38.28125 72.90625 \r\nL 38.28125 8.296875 \r\nL 54.390625 8.296875 \r\nL 54.390625 0 \r\nL 12.40625 0 \r\nz\r\n\" id=\"DejaVuSans-49\"/>\r\n       </defs>\r\n       <use xlink:href=\"#DejaVuSans-49\"/>\r\n      </g>\r\n     </g>\r\n    </g>\r\n    <g id=\"xtick_3\">\r\n     <g id=\"line2d_3\">\r\n      <g>\r\n       <use style=\"stroke:#000000;stroke-width:0.8;\" x=\"164.256818\" xlink:href=\"#m62569fcf3d\" y=\"224.64\"/>\r\n      </g>\r\n     </g>\r\n     <g id=\"text_3\">\r\n      <!-- 2 -->\r\n      <g transform=\"translate(161.075568 239.238437)scale(0.1 -0.1)\">\r\n       <defs>\r\n        <path d=\"M 19.1875 8.296875 \r\nL 53.609375 8.296875 \r\nL 53.609375 0 \r\nL 7.328125 0 \r\nL 7.328125 8.296875 \r\nQ 12.9375 14.109375 22.625 23.890625 \r\nQ 32.328125 33.6875 34.8125 36.53125 \r\nQ 39.546875 41.84375 41.421875 45.53125 \r\nQ 43.3125 49.21875 43.3125 52.78125 \r\nQ 43.3125 58.59375 39.234375 62.25 \r\nQ 35.15625 65.921875 28.609375 65.921875 \r\nQ 23.96875 65.921875 18.8125 64.3125 \r\nQ 13.671875 62.703125 7.8125 59.421875 \r\nL 7.8125 69.390625 \r\nQ 13.765625 71.78125 18.9375 73 \r\nQ 24.125 74.21875 28.421875 74.21875 \r\nQ 39.75 74.21875 46.484375 68.546875 \r\nQ 53.21875 62.890625 53.21875 53.421875 \r\nQ 53.21875 48.921875 51.53125 44.890625 \r\nQ 49.859375 40.875 45.40625 35.40625 \r\nQ 44.1875 33.984375 37.640625 27.21875 \r\nQ 31.109375 20.453125 19.1875 8.296875 \r\nz\r\n\" id=\"DejaVuSans-50\"/>\r\n       </defs>\r\n       <use xlink:href=\"#DejaVuSans-50\"/>\r\n      </g>\r\n     </g>\r\n    </g>\r\n    <g id=\"xtick_4\">\r\n     <g id=\"line2d_4\">\r\n      <g>\r\n       <use style=\"stroke:#000000;stroke-width:0.8;\" x=\"225.620455\" xlink:href=\"#m62569fcf3d\" y=\"224.64\"/>\r\n      </g>\r\n     </g>\r\n     <g id=\"text_4\">\r\n      <!-- 3 -->\r\n      <g transform=\"translate(222.439205 239.238437)scale(0.1 -0.1)\">\r\n       <defs>\r\n        <path d=\"M 40.578125 39.3125 \r\nQ 47.65625 37.796875 51.625 33 \r\nQ 55.609375 28.21875 55.609375 21.1875 \r\nQ 55.609375 10.40625 48.1875 4.484375 \r\nQ 40.765625 -1.421875 27.09375 -1.421875 \r\nQ 22.515625 -1.421875 17.65625 -0.515625 \r\nQ 12.796875 0.390625 7.625 2.203125 \r\nL 7.625 11.71875 \r\nQ 11.71875 9.328125 16.59375 8.109375 \r\nQ 21.484375 6.890625 26.8125 6.890625 \r\nQ 36.078125 6.890625 40.9375 10.546875 \r\nQ 45.796875 14.203125 45.796875 21.1875 \r\nQ 45.796875 27.640625 41.28125 31.265625 \r\nQ 36.765625 34.90625 28.71875 34.90625 \r\nL 20.21875 34.90625 \r\nL 20.21875 43.015625 \r\nL 29.109375 43.015625 \r\nQ 36.375 43.015625 40.234375 45.921875 \r\nQ 44.09375 48.828125 44.09375 54.296875 \r\nQ 44.09375 59.90625 40.109375 62.90625 \r\nQ 36.140625 65.921875 28.71875 65.921875 \r\nQ 24.65625 65.921875 20.015625 65.03125 \r\nQ 15.375 64.15625 9.8125 62.3125 \r\nL 9.8125 71.09375 \r\nQ 15.4375 72.65625 20.34375 73.4375 \r\nQ 25.25 74.21875 29.59375 74.21875 \r\nQ 40.828125 74.21875 47.359375 69.109375 \r\nQ 53.90625 64.015625 53.90625 55.328125 \r\nQ 53.90625 49.265625 50.4375 45.09375 \r\nQ 46.96875 40.921875 40.578125 39.3125 \r\nz\r\n\" id=\"DejaVuSans-51\"/>\r\n       </defs>\r\n       <use xlink:href=\"#DejaVuSans-51\"/>\r\n      </g>\r\n     </g>\r\n    </g>\r\n    <g id=\"xtick_5\">\r\n     <g id=\"line2d_5\">\r\n      <g>\r\n       <use style=\"stroke:#000000;stroke-width:0.8;\" x=\"286.984091\" xlink:href=\"#m62569fcf3d\" y=\"224.64\"/>\r\n      </g>\r\n     </g>\r\n     <g id=\"text_5\">\r\n      <!-- 4 -->\r\n      <g transform=\"translate(283.802841 239.238437)scale(0.1 -0.1)\">\r\n       <defs>\r\n        <path d=\"M 37.796875 64.3125 \r\nL 12.890625 25.390625 \r\nL 37.796875 25.390625 \r\nz\r\nM 35.203125 72.90625 \r\nL 47.609375 72.90625 \r\nL 47.609375 25.390625 \r\nL 58.015625 25.390625 \r\nL 58.015625 17.1875 \r\nL 47.609375 17.1875 \r\nL 47.609375 0 \r\nL 37.796875 0 \r\nL 37.796875 17.1875 \r\nL 4.890625 17.1875 \r\nL 4.890625 26.703125 \r\nz\r\n\" id=\"DejaVuSans-52\"/>\r\n       </defs>\r\n       <use xlink:href=\"#DejaVuSans-52\"/>\r\n      </g>\r\n     </g>\r\n    </g>\r\n    <g id=\"xtick_6\">\r\n     <g id=\"line2d_6\">\r\n      <g>\r\n       <use style=\"stroke:#000000;stroke-width:0.8;\" x=\"348.347727\" xlink:href=\"#m62569fcf3d\" y=\"224.64\"/>\r\n      </g>\r\n     </g>\r\n     <g id=\"text_6\">\r\n      <!-- 5 -->\r\n      <g transform=\"translate(345.166477 239.238437)scale(0.1 -0.1)\">\r\n       <defs>\r\n        <path d=\"M 10.796875 72.90625 \r\nL 49.515625 72.90625 \r\nL 49.515625 64.59375 \r\nL 19.828125 64.59375 \r\nL 19.828125 46.734375 \r\nQ 21.96875 47.46875 24.109375 47.828125 \r\nQ 26.265625 48.1875 28.421875 48.1875 \r\nQ 40.625 48.1875 47.75 41.5 \r\nQ 54.890625 34.8125 54.890625 23.390625 \r\nQ 54.890625 11.625 47.5625 5.09375 \r\nQ 40.234375 -1.421875 26.90625 -1.421875 \r\nQ 22.3125 -1.421875 17.546875 -0.640625 \r\nQ 12.796875 0.140625 7.71875 1.703125 \r\nL 7.71875 11.625 \r\nQ 12.109375 9.234375 16.796875 8.0625 \r\nQ 21.484375 6.890625 26.703125 6.890625 \r\nQ 35.15625 6.890625 40.078125 11.328125 \r\nQ 45.015625 15.765625 45.015625 23.390625 \r\nQ 45.015625 31 40.078125 35.4375 \r\nQ 35.15625 39.890625 26.703125 39.890625 \r\nQ 22.75 39.890625 18.8125 39.015625 \r\nQ 14.890625 38.140625 10.796875 36.28125 \r\nz\r\n\" id=\"DejaVuSans-53\"/>\r\n       </defs>\r\n       <use xlink:href=\"#DejaVuSans-53\"/>\r\n      </g>\r\n     </g>\r\n    </g>\r\n   </g>\r\n   <g id=\"matplotlib.axis_2\">\r\n    <g id=\"ytick_1\">\r\n     <g id=\"line2d_7\">\r\n      <defs>\r\n       <path d=\"M 0 0 \r\nL -3.5 0 \r\n\" id=\"mbbdfc0ecc6\" style=\"stroke:#000000;stroke-width:0.8;\"/>\r\n      </defs>\r\n      <g>\r\n       <use style=\"stroke:#000000;stroke-width:0.8;\" x=\"26.925\" xlink:href=\"#mbbdfc0ecc6\" y=\"224.64\"/>\r\n      </g>\r\n     </g>\r\n     <g id=\"text_7\">\r\n      <!-- 0 -->\r\n      <g transform=\"translate(13.5625 228.439219)scale(0.1 -0.1)\">\r\n       <use xlink:href=\"#DejaVuSans-48\"/>\r\n      </g>\r\n     </g>\r\n    </g>\r\n    <g id=\"ytick_2\">\r\n     <g id=\"line2d_8\">\r\n      <g>\r\n       <use style=\"stroke:#000000;stroke-width:0.8;\" x=\"26.925\" xlink:href=\"#mbbdfc0ecc6\" y=\"183.222857\"/>\r\n      </g>\r\n     </g>\r\n     <g id=\"text_8\">\r\n      <!-- 2 -->\r\n      <g transform=\"translate(13.5625 187.022076)scale(0.1 -0.1)\">\r\n       <use xlink:href=\"#DejaVuSans-50\"/>\r\n      </g>\r\n     </g>\r\n    </g>\r\n    <g id=\"ytick_3\">\r\n     <g id=\"line2d_9\">\r\n      <g>\r\n       <use style=\"stroke:#000000;stroke-width:0.8;\" x=\"26.925\" xlink:href=\"#mbbdfc0ecc6\" y=\"141.805714\"/>\r\n      </g>\r\n     </g>\r\n     <g id=\"text_9\">\r\n      <!-- 4 -->\r\n      <g transform=\"translate(13.5625 145.604933)scale(0.1 -0.1)\">\r\n       <use xlink:href=\"#DejaVuSans-52\"/>\r\n      </g>\r\n     </g>\r\n    </g>\r\n    <g id=\"ytick_4\">\r\n     <g id=\"line2d_10\">\r\n      <g>\r\n       <use style=\"stroke:#000000;stroke-width:0.8;\" x=\"26.925\" xlink:href=\"#mbbdfc0ecc6\" y=\"100.388571\"/>\r\n      </g>\r\n     </g>\r\n     <g id=\"text_10\">\r\n      <!-- 6 -->\r\n      <g transform=\"translate(13.5625 104.18779)scale(0.1 -0.1)\">\r\n       <defs>\r\n        <path d=\"M 33.015625 40.375 \r\nQ 26.375 40.375 22.484375 35.828125 \r\nQ 18.609375 31.296875 18.609375 23.390625 \r\nQ 18.609375 15.53125 22.484375 10.953125 \r\nQ 26.375 6.390625 33.015625 6.390625 \r\nQ 39.65625 6.390625 43.53125 10.953125 \r\nQ 47.40625 15.53125 47.40625 23.390625 \r\nQ 47.40625 31.296875 43.53125 35.828125 \r\nQ 39.65625 40.375 33.015625 40.375 \r\nz\r\nM 52.59375 71.296875 \r\nL 52.59375 62.3125 \r\nQ 48.875 64.0625 45.09375 64.984375 \r\nQ 41.3125 65.921875 37.59375 65.921875 \r\nQ 27.828125 65.921875 22.671875 59.328125 \r\nQ 17.53125 52.734375 16.796875 39.40625 \r\nQ 19.671875 43.65625 24.015625 45.921875 \r\nQ 28.375 48.1875 33.59375 48.1875 \r\nQ 44.578125 48.1875 50.953125 41.515625 \r\nQ 57.328125 34.859375 57.328125 23.390625 \r\nQ 57.328125 12.15625 50.6875 5.359375 \r\nQ 44.046875 -1.421875 33.015625 -1.421875 \r\nQ 20.359375 -1.421875 13.671875 8.265625 \r\nQ 6.984375 17.96875 6.984375 36.375 \r\nQ 6.984375 53.65625 15.1875 63.9375 \r\nQ 23.390625 74.21875 37.203125 74.21875 \r\nQ 40.921875 74.21875 44.703125 73.484375 \r\nQ 48.484375 72.75 52.59375 71.296875 \r\nz\r\n\" id=\"DejaVuSans-54\"/>\r\n       </defs>\r\n       <use xlink:href=\"#DejaVuSans-54\"/>\r\n      </g>\r\n     </g>\r\n    </g>\r\n    <g id=\"ytick_5\">\r\n     <g id=\"line2d_11\">\r\n      <g>\r\n       <use style=\"stroke:#000000;stroke-width:0.8;\" x=\"26.925\" xlink:href=\"#mbbdfc0ecc6\" y=\"58.971429\"/>\r\n      </g>\r\n     </g>\r\n     <g id=\"text_11\">\r\n      <!-- 8 -->\r\n      <g transform=\"translate(13.5625 62.770647)scale(0.1 -0.1)\">\r\n       <defs>\r\n        <path d=\"M 31.78125 34.625 \r\nQ 24.75 34.625 20.71875 30.859375 \r\nQ 16.703125 27.09375 16.703125 20.515625 \r\nQ 16.703125 13.921875 20.71875 10.15625 \r\nQ 24.75 6.390625 31.78125 6.390625 \r\nQ 38.8125 6.390625 42.859375 10.171875 \r\nQ 46.921875 13.96875 46.921875 20.515625 \r\nQ 46.921875 27.09375 42.890625 30.859375 \r\nQ 38.875 34.625 31.78125 34.625 \r\nz\r\nM 21.921875 38.8125 \r\nQ 15.578125 40.375 12.03125 44.71875 \r\nQ 8.5 49.078125 8.5 55.328125 \r\nQ 8.5 64.0625 14.71875 69.140625 \r\nQ 20.953125 74.21875 31.78125 74.21875 \r\nQ 42.671875 74.21875 48.875 69.140625 \r\nQ 55.078125 64.0625 55.078125 55.328125 \r\nQ 55.078125 49.078125 51.53125 44.71875 \r\nQ 48 40.375 41.703125 38.8125 \r\nQ 48.828125 37.15625 52.796875 32.3125 \r\nQ 56.78125 27.484375 56.78125 20.515625 \r\nQ 56.78125 9.90625 50.3125 4.234375 \r\nQ 43.84375 -1.421875 31.78125 -1.421875 \r\nQ 19.734375 -1.421875 13.25 4.234375 \r\nQ 6.78125 9.90625 6.78125 20.515625 \r\nQ 6.78125 27.484375 10.78125 32.3125 \r\nQ 14.796875 37.15625 21.921875 38.8125 \r\nz\r\nM 18.3125 54.390625 \r\nQ 18.3125 48.734375 21.84375 45.5625 \r\nQ 25.390625 42.390625 31.78125 42.390625 \r\nQ 38.140625 42.390625 41.71875 45.5625 \r\nQ 45.3125 48.734375 45.3125 54.390625 \r\nQ 45.3125 60.0625 41.71875 63.234375 \r\nQ 38.140625 66.40625 31.78125 66.40625 \r\nQ 25.390625 66.40625 21.84375 63.234375 \r\nQ 18.3125 60.0625 18.3125 54.390625 \r\nz\r\n\" id=\"DejaVuSans-56\"/>\r\n       </defs>\r\n       <use xlink:href=\"#DejaVuSans-56\"/>\r\n      </g>\r\n     </g>\r\n    </g>\r\n    <g id=\"ytick_6\">\r\n     <g id=\"line2d_12\">\r\n      <g>\r\n       <use style=\"stroke:#000000;stroke-width:0.8;\" x=\"26.925\" xlink:href=\"#mbbdfc0ecc6\" y=\"17.554286\"/>\r\n      </g>\r\n     </g>\r\n     <g id=\"text_12\">\r\n      <!-- 10 -->\r\n      <g transform=\"translate(7.2 21.353504)scale(0.1 -0.1)\">\r\n       <use xlink:href=\"#DejaVuSans-49\"/>\r\n       <use x=\"63.623047\" xlink:href=\"#DejaVuSans-48\"/>\r\n      </g>\r\n     </g>\r\n    </g>\r\n   </g>\r\n   <g id=\"patch_13\">\r\n    <path d=\"M 26.925 224.64 \r\nL 26.925 7.2 \r\n\" style=\"fill:none;stroke:#000000;stroke-linecap:square;stroke-linejoin:miter;stroke-width:0.8;\"/>\r\n   </g>\r\n   <g id=\"patch_14\">\r\n    <path d=\"M 361.725 224.64 \r\nL 361.725 7.2 \r\n\" style=\"fill:none;stroke:#000000;stroke-linecap:square;stroke-linejoin:miter;stroke-width:0.8;\"/>\r\n   </g>\r\n   <g id=\"patch_15\">\r\n    <path d=\"M 26.925 224.64 \r\nL 361.725 224.64 \r\n\" style=\"fill:none;stroke:#000000;stroke-linecap:square;stroke-linejoin:miter;stroke-width:0.8;\"/>\r\n   </g>\r\n   <g id=\"patch_16\">\r\n    <path d=\"M 26.925 7.2 \r\nL 361.725 7.2 \r\n\" style=\"fill:none;stroke:#000000;stroke-linecap:square;stroke-linejoin:miter;stroke-width:0.8;\"/>\r\n   </g>\r\n  </g>\r\n </g>\r\n <defs>\r\n  <clipPath id=\"p704b7dc37d\">\r\n   <rect height=\"217.44\" width=\"334.8\" x=\"26.925\" y=\"7.2\"/>\r\n  </clipPath>\r\n </defs>\r\n</svg>\r\n",
      "image/png": "[encoded data removed]"
     },
     "metadata": {
      "needs_background": "light"
     }
    }
   ],
   "source": [
    "#check distribution of the data\n",
    "plt.hist(y, bins=10)\n",
    "plt.show()"
   ]
  },
  {
   "cell_type": "code",
   "execution_count": 30,
   "metadata": {},
   "outputs": [],
   "source": [
    "#apply data tranformation with log transformation\n",
    "y = np.log(y+1)"
   ]
  },
  {
   "cell_type": "code",
   "execution_count": 31,
   "metadata": {},
   "outputs": [
    {
     "output_type": "display_data",
     "data": {
      "text/plain": "<Figure size 432x288 with 1 Axes>",
      "image/svg+xml": "<?xml version=\"1.0\" encoding=\"utf-8\" standalone=\"no\"?>\r\n<!DOCTYPE svg PUBLIC \"-//W3C//DTD SVG 1.1//EN\"\r\n  \"http://www.w3.org/Graphics/SVG/1.1/DTD/svg11.dtd\">\r\n<!-- Created with matplotlib (https://matplotlib.org/) -->\r\n<svg height=\"248.518125pt\" version=\"1.1\" viewBox=\"0 0 368.925 248.518125\" width=\"368.925pt\" xmlns=\"http://www.w3.org/2000/svg\" xmlns:xlink=\"http://www.w3.org/1999/xlink\">\r\n <metadata>\r\n  <rdf:RDF xmlns:cc=\"http://creativecommons.org/ns#\" xmlns:dc=\"http://purl.org/dc/elements/1.1/\" xmlns:rdf=\"http://www.w3.org/1999/02/22-rdf-syntax-ns#\">\r\n   <cc:Work>\r\n    <dc:type rdf:resource=\"http://purl.org/dc/dcmitype/StillImage\"/>\r\n    <dc:date>2021-06-11T14:17:28.262538</dc:date>\r\n    <dc:format>image/svg+xml</dc:format>\r\n    <dc:creator>\r\n     <cc:Agent>\r\n      <dc:title>Matplotlib v3.3.3, https://matplotlib.org/</dc:title>\r\n     </cc:Agent>\r\n    </dc:creator>\r\n   </cc:Work>\r\n  </rdf:RDF>\r\n </metadata>\r\n <defs>\r\n  <style type=\"text/css\">*{stroke-linecap:butt;stroke-linejoin:round;}</style>\r\n </defs>\r\n <g id=\"figure_1\">\r\n  <g id=\"patch_1\">\r\n   <path d=\"M -0 248.518125 \r\nL 368.925 248.518125 \r\nL 368.925 0 \r\nL -0 0 \r\nz\r\n\" style=\"fill:none;\"/>\r\n  </g>\r\n  <g id=\"axes_1\">\r\n   <g id=\"patch_2\">\r\n    <path d=\"M 26.925 224.64 \r\nL 361.725 224.64 \r\nL 361.725 7.2 \r\nL 26.925 7.2 \r\nz\r\n\" style=\"fill:#ffffff;\"/>\r\n   </g>\r\n   <g id=\"patch_3\">\r\n    <path clip-path=\"url(#p86d3b9e734)\" d=\"M 42.143182 224.64 \r\nL 72.579545 224.64 \r\nL 72.579545 17.554286 \r\nL 42.143182 17.554286 \r\nz\r\n\" style=\"fill:#1f77b4;\"/>\r\n   </g>\r\n   <g id=\"patch_4\">\r\n    <path clip-path=\"url(#p86d3b9e734)\" d=\"M 72.579545 224.64 \r\nL 103.015909 224.64 \r\nL 103.015909 224.64 \r\nL 72.579545 224.64 \r\nz\r\n\" style=\"fill:#1f77b4;\"/>\r\n   </g>\r\n   <g id=\"patch_5\">\r\n    <path clip-path=\"url(#p86d3b9e734)\" d=\"M 103.015909 224.64 \r\nL 133.452273 224.64 \r\nL 133.452273 224.64 \r\nL 103.015909 224.64 \r\nz\r\n\" style=\"fill:#1f77b4;\"/>\r\n   </g>\r\n   <g id=\"patch_6\">\r\n    <path clip-path=\"url(#p86d3b9e734)\" d=\"M 133.452273 224.64 \r\nL 163.888636 224.64 \r\nL 163.888636 224.64 \r\nL 133.452273 224.64 \r\nz\r\n\" style=\"fill:#1f77b4;\"/>\r\n   </g>\r\n   <g id=\"patch_7\">\r\n    <path clip-path=\"url(#p86d3b9e734)\" d=\"M 163.888636 224.64 \r\nL 194.325 224.64 \r\nL 194.325 183.222857 \r\nL 163.888636 183.222857 \r\nz\r\n\" style=\"fill:#1f77b4;\"/>\r\n   </g>\r\n   <g id=\"patch_8\">\r\n    <path clip-path=\"url(#p86d3b9e734)\" d=\"M 194.325 224.64 \r\nL 224.761364 224.64 \r\nL 224.761364 224.64 \r\nL 194.325 224.64 \r\nz\r\n\" style=\"fill:#1f77b4;\"/>\r\n   </g>\r\n   <g id=\"patch_9\">\r\n    <path clip-path=\"url(#p86d3b9e734)\" d=\"M 224.761364 224.64 \r\nL 255.197727 224.64 \r\nL 255.197727 224.64 \r\nL 224.761364 224.64 \r\nz\r\n\" style=\"fill:#1f77b4;\"/>\r\n   </g>\r\n   <g id=\"patch_10\">\r\n    <path clip-path=\"url(#p86d3b9e734)\" d=\"M 255.197727 224.64 \r\nL 285.634091 224.64 \r\nL 285.634091 224.64 \r\nL 255.197727 224.64 \r\nz\r\n\" style=\"fill:#1f77b4;\"/>\r\n   </g>\r\n   <g id=\"patch_11\">\r\n    <path clip-path=\"url(#p86d3b9e734)\" d=\"M 285.634091 224.64 \r\nL 316.070455 224.64 \r\nL 316.070455 224.64 \r\nL 285.634091 224.64 \r\nz\r\n\" style=\"fill:#1f77b4;\"/>\r\n   </g>\r\n   <g id=\"patch_12\">\r\n    <path clip-path=\"url(#p86d3b9e734)\" d=\"M 316.070455 224.64 \r\nL 346.506818 224.64 \r\nL 346.506818 203.931429 \r\nL 316.070455 203.931429 \r\nz\r\n\" style=\"fill:#1f77b4;\"/>\r\n   </g>\r\n   <g id=\"matplotlib.axis_1\">\r\n    <g id=\"xtick_1\">\r\n     <g id=\"line2d_1\">\r\n      <defs>\r\n       <path d=\"M 0 0 \r\nL 0 3.5 \r\n\" id=\"m08afd8aec0\" style=\"stroke:#000000;stroke-width:0.8;\"/>\r\n      </defs>\r\n      <g>\r\n       <use style=\"stroke:#000000;stroke-width:0.8;\" x=\"40.438699\" xlink:href=\"#m08afd8aec0\" y=\"224.64\"/>\r\n      </g>\r\n     </g>\r\n     <g id=\"text_1\">\r\n      <!-- 0.00 -->\r\n      <g transform=\"translate(29.305887 239.238437)scale(0.1 -0.1)\">\r\n       <defs>\r\n        <path d=\"M 31.78125 66.40625 \r\nQ 24.171875 66.40625 20.328125 58.90625 \r\nQ 16.5 51.421875 16.5 36.375 \r\nQ 16.5 21.390625 20.328125 13.890625 \r\nQ 24.171875 6.390625 31.78125 6.390625 \r\nQ 39.453125 6.390625 43.28125 13.890625 \r\nQ 47.125 21.390625 47.125 36.375 \r\nQ 47.125 51.421875 43.28125 58.90625 \r\nQ 39.453125 66.40625 31.78125 66.40625 \r\nz\r\nM 31.78125 74.21875 \r\nQ 44.046875 74.21875 50.515625 64.515625 \r\nQ 56.984375 54.828125 56.984375 36.375 \r\nQ 56.984375 17.96875 50.515625 8.265625 \r\nQ 44.046875 -1.421875 31.78125 -1.421875 \r\nQ 19.53125 -1.421875 13.0625 8.265625 \r\nQ 6.59375 17.96875 6.59375 36.375 \r\nQ 6.59375 54.828125 13.0625 64.515625 \r\nQ 19.53125 74.21875 31.78125 74.21875 \r\nz\r\n\" id=\"DejaVuSans-48\"/>\r\n        <path d=\"M 10.6875 12.40625 \r\nL 21 12.40625 \r\nL 21 0 \r\nL 10.6875 0 \r\nz\r\n\" id=\"DejaVuSans-46\"/>\r\n       </defs>\r\n       <use xlink:href=\"#DejaVuSans-48\"/>\r\n       <use x=\"63.623047\" xlink:href=\"#DejaVuSans-46\"/>\r\n       <use x=\"95.410156\" xlink:href=\"#DejaVuSans-48\"/>\r\n       <use x=\"159.033203\" xlink:href=\"#DejaVuSans-48\"/>\r\n      </g>\r\n     </g>\r\n    </g>\r\n    <g id=\"xtick_2\">\r\n     <g id=\"line2d_2\">\r\n      <g>\r\n       <use style=\"stroke:#000000;stroke-width:0.8;\" x=\"83.263471\" xlink:href=\"#m08afd8aec0\" y=\"224.64\"/>\r\n      </g>\r\n     </g>\r\n     <g id=\"text_2\">\r\n      <!-- 0.25 -->\r\n      <g transform=\"translate(72.130659 239.238437)scale(0.1 -0.1)\">\r\n       <defs>\r\n        <path d=\"M 19.1875 8.296875 \r\nL 53.609375 8.296875 \r\nL 53.609375 0 \r\nL 7.328125 0 \r\nL 7.328125 8.296875 \r\nQ 12.9375 14.109375 22.625 23.890625 \r\nQ 32.328125 33.6875 34.8125 36.53125 \r\nQ 39.546875 41.84375 41.421875 45.53125 \r\nQ 43.3125 49.21875 43.3125 52.78125 \r\nQ 43.3125 58.59375 39.234375 62.25 \r\nQ 35.15625 65.921875 28.609375 65.921875 \r\nQ 23.96875 65.921875 18.8125 64.3125 \r\nQ 13.671875 62.703125 7.8125 59.421875 \r\nL 7.8125 69.390625 \r\nQ 13.765625 71.78125 18.9375 73 \r\nQ 24.125 74.21875 28.421875 74.21875 \r\nQ 39.75 74.21875 46.484375 68.546875 \r\nQ 53.21875 62.890625 53.21875 53.421875 \r\nQ 53.21875 48.921875 51.53125 44.890625 \r\nQ 49.859375 40.875 45.40625 35.40625 \r\nQ 44.1875 33.984375 37.640625 27.21875 \r\nQ 31.109375 20.453125 19.1875 8.296875 \r\nz\r\n\" id=\"DejaVuSans-50\"/>\r\n        <path d=\"M 10.796875 72.90625 \r\nL 49.515625 72.90625 \r\nL 49.515625 64.59375 \r\nL 19.828125 64.59375 \r\nL 19.828125 46.734375 \r\nQ 21.96875 47.46875 24.109375 47.828125 \r\nQ 26.265625 48.1875 28.421875 48.1875 \r\nQ 40.625 48.1875 47.75 41.5 \r\nQ 54.890625 34.8125 54.890625 23.390625 \r\nQ 54.890625 11.625 47.5625 5.09375 \r\nQ 40.234375 -1.421875 26.90625 -1.421875 \r\nQ 22.3125 -1.421875 17.546875 -0.640625 \r\nQ 12.796875 0.140625 7.71875 1.703125 \r\nL 7.71875 11.625 \r\nQ 12.109375 9.234375 16.796875 8.0625 \r\nQ 21.484375 6.890625 26.703125 6.890625 \r\nQ 35.15625 6.890625 40.078125 11.328125 \r\nQ 45.015625 15.765625 45.015625 23.390625 \r\nQ 45.015625 31 40.078125 35.4375 \r\nQ 35.15625 39.890625 26.703125 39.890625 \r\nQ 22.75 39.890625 18.8125 39.015625 \r\nQ 14.890625 38.140625 10.796875 36.28125 \r\nz\r\n\" id=\"DejaVuSans-53\"/>\r\n       </defs>\r\n       <use xlink:href=\"#DejaVuSans-48\"/>\r\n       <use x=\"63.623047\" xlink:href=\"#DejaVuSans-46\"/>\r\n       <use x=\"95.410156\" xlink:href=\"#DejaVuSans-50\"/>\r\n       <use x=\"159.033203\" xlink:href=\"#DejaVuSans-53\"/>\r\n      </g>\r\n     </g>\r\n    </g>\r\n    <g id=\"xtick_3\">\r\n     <g id=\"line2d_3\">\r\n      <g>\r\n       <use style=\"stroke:#000000;stroke-width:0.8;\" x=\"126.088243\" xlink:href=\"#m08afd8aec0\" y=\"224.64\"/>\r\n      </g>\r\n     </g>\r\n     <g id=\"text_3\">\r\n      <!-- 0.50 -->\r\n      <g transform=\"translate(114.955431 239.238437)scale(0.1 -0.1)\">\r\n       <use xlink:href=\"#DejaVuSans-48\"/>\r\n       <use x=\"63.623047\" xlink:href=\"#DejaVuSans-46\"/>\r\n       <use x=\"95.410156\" xlink:href=\"#DejaVuSans-53\"/>\r\n       <use x=\"159.033203\" xlink:href=\"#DejaVuSans-48\"/>\r\n      </g>\r\n     </g>\r\n    </g>\r\n    <g id=\"xtick_4\">\r\n     <g id=\"line2d_4\">\r\n      <g>\r\n       <use style=\"stroke:#000000;stroke-width:0.8;\" x=\"168.913015\" xlink:href=\"#m08afd8aec0\" y=\"224.64\"/>\r\n      </g>\r\n     </g>\r\n     <g id=\"text_4\">\r\n      <!-- 0.75 -->\r\n      <g transform=\"translate(157.780203 239.238437)scale(0.1 -0.1)\">\r\n       <defs>\r\n        <path d=\"M 8.203125 72.90625 \r\nL 55.078125 72.90625 \r\nL 55.078125 68.703125 \r\nL 28.609375 0 \r\nL 18.3125 0 \r\nL 43.21875 64.59375 \r\nL 8.203125 64.59375 \r\nz\r\n\" id=\"DejaVuSans-55\"/>\r\n       </defs>\r\n       <use xlink:href=\"#DejaVuSans-48\"/>\r\n       <use x=\"63.623047\" xlink:href=\"#DejaVuSans-46\"/>\r\n       <use x=\"95.410156\" xlink:href=\"#DejaVuSans-55\"/>\r\n       <use x=\"159.033203\" xlink:href=\"#DejaVuSans-53\"/>\r\n      </g>\r\n     </g>\r\n    </g>\r\n    <g id=\"xtick_5\">\r\n     <g id=\"line2d_5\">\r\n      <g>\r\n       <use style=\"stroke:#000000;stroke-width:0.8;\" x=\"211.737787\" xlink:href=\"#m08afd8aec0\" y=\"224.64\"/>\r\n      </g>\r\n     </g>\r\n     <g id=\"text_5\">\r\n      <!-- 1.00 -->\r\n      <g transform=\"translate(200.604975 239.238437)scale(0.1 -0.1)\">\r\n       <defs>\r\n        <path d=\"M 12.40625 8.296875 \r\nL 28.515625 8.296875 \r\nL 28.515625 63.921875 \r\nL 10.984375 60.40625 \r\nL 10.984375 69.390625 \r\nL 28.421875 72.90625 \r\nL 38.28125 72.90625 \r\nL 38.28125 8.296875 \r\nL 54.390625 8.296875 \r\nL 54.390625 0 \r\nL 12.40625 0 \r\nz\r\n\" id=\"DejaVuSans-49\"/>\r\n       </defs>\r\n       <use xlink:href=\"#DejaVuSans-49\"/>\r\n       <use x=\"63.623047\" xlink:href=\"#DejaVuSans-46\"/>\r\n       <use x=\"95.410156\" xlink:href=\"#DejaVuSans-48\"/>\r\n       <use x=\"159.033203\" xlink:href=\"#DejaVuSans-48\"/>\r\n      </g>\r\n     </g>\r\n    </g>\r\n    <g id=\"xtick_6\">\r\n     <g id=\"line2d_6\">\r\n      <g>\r\n       <use style=\"stroke:#000000;stroke-width:0.8;\" x=\"254.562559\" xlink:href=\"#m08afd8aec0\" y=\"224.64\"/>\r\n      </g>\r\n     </g>\r\n     <g id=\"text_6\">\r\n      <!-- 1.25 -->\r\n      <g transform=\"translate(243.429747 239.238437)scale(0.1 -0.1)\">\r\n       <use xlink:href=\"#DejaVuSans-49\"/>\r\n       <use x=\"63.623047\" xlink:href=\"#DejaVuSans-46\"/>\r\n       <use x=\"95.410156\" xlink:href=\"#DejaVuSans-50\"/>\r\n       <use x=\"159.033203\" xlink:href=\"#DejaVuSans-53\"/>\r\n      </g>\r\n     </g>\r\n    </g>\r\n    <g id=\"xtick_7\">\r\n     <g id=\"line2d_7\">\r\n      <g>\r\n       <use style=\"stroke:#000000;stroke-width:0.8;\" x=\"297.387331\" xlink:href=\"#m08afd8aec0\" y=\"224.64\"/>\r\n      </g>\r\n     </g>\r\n     <g id=\"text_7\">\r\n      <!-- 1.50 -->\r\n      <g transform=\"translate(286.254519 239.238437)scale(0.1 -0.1)\">\r\n       <use xlink:href=\"#DejaVuSans-49\"/>\r\n       <use x=\"63.623047\" xlink:href=\"#DejaVuSans-46\"/>\r\n       <use x=\"95.410156\" xlink:href=\"#DejaVuSans-53\"/>\r\n       <use x=\"159.033203\" xlink:href=\"#DejaVuSans-48\"/>\r\n      </g>\r\n     </g>\r\n    </g>\r\n    <g id=\"xtick_8\">\r\n     <g id=\"line2d_8\">\r\n      <g>\r\n       <use style=\"stroke:#000000;stroke-width:0.8;\" x=\"340.212103\" xlink:href=\"#m08afd8aec0\" y=\"224.64\"/>\r\n      </g>\r\n     </g>\r\n     <g id=\"text_8\">\r\n      <!-- 1.75 -->\r\n      <g transform=\"translate(329.079291 239.238437)scale(0.1 -0.1)\">\r\n       <use xlink:href=\"#DejaVuSans-49\"/>\r\n       <use x=\"63.623047\" xlink:href=\"#DejaVuSans-46\"/>\r\n       <use x=\"95.410156\" xlink:href=\"#DejaVuSans-55\"/>\r\n       <use x=\"159.033203\" xlink:href=\"#DejaVuSans-53\"/>\r\n      </g>\r\n     </g>\r\n    </g>\r\n   </g>\r\n   <g id=\"matplotlib.axis_2\">\r\n    <g id=\"ytick_1\">\r\n     <g id=\"line2d_9\">\r\n      <defs>\r\n       <path d=\"M 0 0 \r\nL -3.5 0 \r\n\" id=\"mc8f982f8b2\" style=\"stroke:#000000;stroke-width:0.8;\"/>\r\n      </defs>\r\n      <g>\r\n       <use style=\"stroke:#000000;stroke-width:0.8;\" x=\"26.925\" xlink:href=\"#mc8f982f8b2\" y=\"224.64\"/>\r\n      </g>\r\n     </g>\r\n     <g id=\"text_9\">\r\n      <!-- 0 -->\r\n      <g transform=\"translate(13.5625 228.439219)scale(0.1 -0.1)\">\r\n       <use xlink:href=\"#DejaVuSans-48\"/>\r\n      </g>\r\n     </g>\r\n    </g>\r\n    <g id=\"ytick_2\">\r\n     <g id=\"line2d_10\">\r\n      <g>\r\n       <use style=\"stroke:#000000;stroke-width:0.8;\" x=\"26.925\" xlink:href=\"#mc8f982f8b2\" y=\"183.222857\"/>\r\n      </g>\r\n     </g>\r\n     <g id=\"text_10\">\r\n      <!-- 2 -->\r\n      <g transform=\"translate(13.5625 187.022076)scale(0.1 -0.1)\">\r\n       <use xlink:href=\"#DejaVuSans-50\"/>\r\n      </g>\r\n     </g>\r\n    </g>\r\n    <g id=\"ytick_3\">\r\n     <g id=\"line2d_11\">\r\n      <g>\r\n       <use style=\"stroke:#000000;stroke-width:0.8;\" x=\"26.925\" xlink:href=\"#mc8f982f8b2\" y=\"141.805714\"/>\r\n      </g>\r\n     </g>\r\n     <g id=\"text_11\">\r\n      <!-- 4 -->\r\n      <g transform=\"translate(13.5625 145.604933)scale(0.1 -0.1)\">\r\n       <defs>\r\n        <path d=\"M 37.796875 64.3125 \r\nL 12.890625 25.390625 \r\nL 37.796875 25.390625 \r\nz\r\nM 35.203125 72.90625 \r\nL 47.609375 72.90625 \r\nL 47.609375 25.390625 \r\nL 58.015625 25.390625 \r\nL 58.015625 17.1875 \r\nL 47.609375 17.1875 \r\nL 47.609375 0 \r\nL 37.796875 0 \r\nL 37.796875 17.1875 \r\nL 4.890625 17.1875 \r\nL 4.890625 26.703125 \r\nz\r\n\" id=\"DejaVuSans-52\"/>\r\n       </defs>\r\n       <use xlink:href=\"#DejaVuSans-52\"/>\r\n      </g>\r\n     </g>\r\n    </g>\r\n    <g id=\"ytick_4\">\r\n     <g id=\"line2d_12\">\r\n      <g>\r\n       <use style=\"stroke:#000000;stroke-width:0.8;\" x=\"26.925\" xlink:href=\"#mc8f982f8b2\" y=\"100.388571\"/>\r\n      </g>\r\n     </g>\r\n     <g id=\"text_12\">\r\n      <!-- 6 -->\r\n      <g transform=\"translate(13.5625 104.18779)scale(0.1 -0.1)\">\r\n       <defs>\r\n        <path d=\"M 33.015625 40.375 \r\nQ 26.375 40.375 22.484375 35.828125 \r\nQ 18.609375 31.296875 18.609375 23.390625 \r\nQ 18.609375 15.53125 22.484375 10.953125 \r\nQ 26.375 6.390625 33.015625 6.390625 \r\nQ 39.65625 6.390625 43.53125 10.953125 \r\nQ 47.40625 15.53125 47.40625 23.390625 \r\nQ 47.40625 31.296875 43.53125 35.828125 \r\nQ 39.65625 40.375 33.015625 40.375 \r\nz\r\nM 52.59375 71.296875 \r\nL 52.59375 62.3125 \r\nQ 48.875 64.0625 45.09375 64.984375 \r\nQ 41.3125 65.921875 37.59375 65.921875 \r\nQ 27.828125 65.921875 22.671875 59.328125 \r\nQ 17.53125 52.734375 16.796875 39.40625 \r\nQ 19.671875 43.65625 24.015625 45.921875 \r\nQ 28.375 48.1875 33.59375 48.1875 \r\nQ 44.578125 48.1875 50.953125 41.515625 \r\nQ 57.328125 34.859375 57.328125 23.390625 \r\nQ 57.328125 12.15625 50.6875 5.359375 \r\nQ 44.046875 -1.421875 33.015625 -1.421875 \r\nQ 20.359375 -1.421875 13.671875 8.265625 \r\nQ 6.984375 17.96875 6.984375 36.375 \r\nQ 6.984375 53.65625 15.1875 63.9375 \r\nQ 23.390625 74.21875 37.203125 74.21875 \r\nQ 40.921875 74.21875 44.703125 73.484375 \r\nQ 48.484375 72.75 52.59375 71.296875 \r\nz\r\n\" id=\"DejaVuSans-54\"/>\r\n       </defs>\r\n       <use xlink:href=\"#DejaVuSans-54\"/>\r\n      </g>\r\n     </g>\r\n    </g>\r\n    <g id=\"ytick_5\">\r\n     <g id=\"line2d_13\">\r\n      <g>\r\n       <use style=\"stroke:#000000;stroke-width:0.8;\" x=\"26.925\" xlink:href=\"#mc8f982f8b2\" y=\"58.971429\"/>\r\n      </g>\r\n     </g>\r\n     <g id=\"text_13\">\r\n      <!-- 8 -->\r\n      <g transform=\"translate(13.5625 62.770647)scale(0.1 -0.1)\">\r\n       <defs>\r\n        <path d=\"M 31.78125 34.625 \r\nQ 24.75 34.625 20.71875 30.859375 \r\nQ 16.703125 27.09375 16.703125 20.515625 \r\nQ 16.703125 13.921875 20.71875 10.15625 \r\nQ 24.75 6.390625 31.78125 6.390625 \r\nQ 38.8125 6.390625 42.859375 10.171875 \r\nQ 46.921875 13.96875 46.921875 20.515625 \r\nQ 46.921875 27.09375 42.890625 30.859375 \r\nQ 38.875 34.625 31.78125 34.625 \r\nz\r\nM 21.921875 38.8125 \r\nQ 15.578125 40.375 12.03125 44.71875 \r\nQ 8.5 49.078125 8.5 55.328125 \r\nQ 8.5 64.0625 14.71875 69.140625 \r\nQ 20.953125 74.21875 31.78125 74.21875 \r\nQ 42.671875 74.21875 48.875 69.140625 \r\nQ 55.078125 64.0625 55.078125 55.328125 \r\nQ 55.078125 49.078125 51.53125 44.71875 \r\nQ 48 40.375 41.703125 38.8125 \r\nQ 48.828125 37.15625 52.796875 32.3125 \r\nQ 56.78125 27.484375 56.78125 20.515625 \r\nQ 56.78125 9.90625 50.3125 4.234375 \r\nQ 43.84375 -1.421875 31.78125 -1.421875 \r\nQ 19.734375 -1.421875 13.25 4.234375 \r\nQ 6.78125 9.90625 6.78125 20.515625 \r\nQ 6.78125 27.484375 10.78125 32.3125 \r\nQ 14.796875 37.15625 21.921875 38.8125 \r\nz\r\nM 18.3125 54.390625 \r\nQ 18.3125 48.734375 21.84375 45.5625 \r\nQ 25.390625 42.390625 31.78125 42.390625 \r\nQ 38.140625 42.390625 41.71875 45.5625 \r\nQ 45.3125 48.734375 45.3125 54.390625 \r\nQ 45.3125 60.0625 41.71875 63.234375 \r\nQ 38.140625 66.40625 31.78125 66.40625 \r\nQ 25.390625 66.40625 21.84375 63.234375 \r\nQ 18.3125 60.0625 18.3125 54.390625 \r\nz\r\n\" id=\"DejaVuSans-56\"/>\r\n       </defs>\r\n       <use xlink:href=\"#DejaVuSans-56\"/>\r\n      </g>\r\n     </g>\r\n    </g>\r\n    <g id=\"ytick_6\">\r\n     <g id=\"line2d_14\">\r\n      <g>\r\n       <use style=\"stroke:#000000;stroke-width:0.8;\" x=\"26.925\" xlink:href=\"#mc8f982f8b2\" y=\"17.554286\"/>\r\n      </g>\r\n     </g>\r\n     <g id=\"text_14\">\r\n      <!-- 10 -->\r\n      <g transform=\"translate(7.2 21.353504)scale(0.1 -0.1)\">\r\n       <use xlink:href=\"#DejaVuSans-49\"/>\r\n       <use x=\"63.623047\" xlink:href=\"#DejaVuSans-48\"/>\r\n      </g>\r\n     </g>\r\n    </g>\r\n   </g>\r\n   <g id=\"patch_13\">\r\n    <path d=\"M 26.925 224.64 \r\nL 26.925 7.2 \r\n\" style=\"fill:none;stroke:#000000;stroke-linecap:square;stroke-linejoin:miter;stroke-width:0.8;\"/>\r\n   </g>\r\n   <g id=\"patch_14\">\r\n    <path d=\"M 361.725 224.64 \r\nL 361.725 7.2 \r\n\" style=\"fill:none;stroke:#000000;stroke-linecap:square;stroke-linejoin:miter;stroke-width:0.8;\"/>\r\n   </g>\r\n   <g id=\"patch_15\">\r\n    <path d=\"M 26.925 224.64 \r\nL 361.725 224.64 \r\n\" style=\"fill:none;stroke:#000000;stroke-linecap:square;stroke-linejoin:miter;stroke-width:0.8;\"/>\r\n   </g>\r\n   <g id=\"patch_16\">\r\n    <path d=\"M 26.925 7.2 \r\nL 361.725 7.2 \r\n\" style=\"fill:none;stroke:#000000;stroke-linecap:square;stroke-linejoin:miter;stroke-width:0.8;\"/>\r\n   </g>\r\n  </g>\r\n </g>\r\n <defs>\r\n  <clipPath id=\"p86d3b9e734\">\r\n   <rect height=\"217.44\" width=\"334.8\" x=\"26.925\" y=\"7.2\"/>\r\n  </clipPath>\r\n </defs>\r\n</svg>\r\n",
      "image/png": "[encoded data removed]"
     },
     "metadata": {
      "needs_background": "light"
     }
    }
   ],
   "source": [
    "#check distribution of data again\n",
    "plt.hist(y, bins=10)\n",
    "plt.show()"
   ]
  },
  {
   "cell_type": "code",
   "execution_count": 32,
   "metadata": {},
   "outputs": [],
   "source": [
    "#adding a constant (Y-intercept)\n",
    "X = sm.add_constant(X)"
   ]
  },
  {
   "cell_type": "code",
   "execution_count": 33,
   "metadata": {},
   "outputs": [],
   "source": [
    "#define model\n",
    "model = sm.OLS(y, X).fit()\n",
    "predictions = model.predict(X) "
   ]
  },
  {
   "cell_type": "code",
   "execution_count": 34,
   "metadata": {},
   "outputs": [
    {
     "output_type": "stream",
     "name": "stdout",
     "text": [
      "                            OLS Regression Results                            \n",
      "==============================================================================\n",
      "Dep. Variable:             TotalSales   R-squared:                       0.213\n",
      "Model:                            OLS   Adj. R-squared:                  0.055\n",
      "Method:                 Least Squares   F-statistic:                     1.349\n",
      "Date:                Fri, 11 Jun 2021   Prob (F-statistic):              0.303\n",
      "Time:                        14:17:28   Log-Likelihood:                -7.9638\n",
      "No. Observations:                  13   AIC:                             21.93\n",
      "Df Residuals:                      10   BIC:                             23.62\n",
      "Df Model:                           2                                         \n",
      "Covariance Type:            nonrobust                                         \n",
      "======================================================================================\n",
      "                         coef    std err          t      P>|t|      [0.025      0.975]\n",
      "--------------------------------------------------------------------------------------\n",
      "const                 -0.8312      1.393     -0.597      0.564      -3.935       2.272\n",
      "StdDev_ContainWord     8.7421      5.385      1.623      0.136      -3.256      20.741\n",
      "UserScore              0.0316      0.177      0.179      0.861      -0.362       0.425\n",
      "==============================================================================\n",
      "Omnibus:                        2.977   Durbin-Watson:                   1.352\n",
      "Prob(Omnibus):                  0.226   Jarque-Bera (JB):                1.583\n",
      "Skew:                           0.854   Prob(JB):                        0.453\n",
      "Kurtosis:                       2.936   Cond. No.                         252.\n",
      "==============================================================================\n",
      "\n",
      "Notes:\n",
      "[1] Standard Errors assume that the covariance matrix of the errors is correctly specified.\n",
      "C:\\Users\\B.R\\AppData\\Local\\Programs\\Python\\Python39\\lib\\site-packages\\scipy\\stats\\stats.py:1603: UserWarning: kurtosistest only valid for n>=20 ... continuing anyway, n=13\n",
      "  warnings.warn(\"kurtosistest only valid for n>=20 ... continuing \"\n"
     ]
    }
   ],
   "source": [
    "#print regression results\n",
    "print_model = model.summary()\n",
    "print(print_model)"
   ]
  },
  {
   "cell_type": "code",
   "execution_count": null,
   "metadata": {},
   "outputs": [],
   "source": []
  }
 ]
}