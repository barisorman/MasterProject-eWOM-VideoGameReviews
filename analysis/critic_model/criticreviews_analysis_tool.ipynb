{
 "metadata": {
  "language_info": {
   "codemirror_mode": {
    "name": "ipython",
    "version": 3
   },
   "file_extension": ".py",
   "mimetype": "text/x-python",
   "name": "python",
   "nbconvert_exporter": "python",
   "pygments_lexer": "ipython3",
   "version": "3.9.0"
  },
  "orig_nbformat": 2,
  "kernelspec": {
   "name": "python3",
   "display_name": "Python 3.9.0 64-bit"
  },
  "metadata": {
   "interpreter": {
    "hash": "71e56bdc4c61b98910f771371be3446c8c590ca3371eddba0edf680feb934a3b"
   }
  },
  "interpreter": {
   "hash": "71e56bdc4c61b98910f771371be3446c8c590ca3371eddba0edf680feb934a3b"
  }
 },
 "nbformat": 4,
 "nbformat_minor": 2,
 "cells": [
  {
   "cell_type": "code",
   "execution_count": 2,
   "metadata": {},
   "outputs": [],
   "source": [
    "import os\n",
    "import random\n",
    "import pandas as pd\n",
    "import numpy as np\n",
    "import nltk\n",
    "from nltk.tokenize import sent_tokenize, word_tokenize\n",
    "from nltk.corpus import stopwords"
   ]
  },
  {
   "source": [
    "# Sentiment analysis"
   ],
   "cell_type": "markdown",
   "metadata": {}
  },
  {
   "source": [
    "## Data preparation"
   ],
   "cell_type": "markdown",
   "metadata": {}
  },
  {
   "cell_type": "code",
   "execution_count": 3,
   "metadata": {},
   "outputs": [
    {
     "output_type": "execute_result",
     "data": {
      "text/plain": [
       "Index(['Game', 'Metascore', 'UserScore', 'Publisher', 'ReleaseDate', 'Genre',\n",
       "       'NumberOfOnlinePlayers', 'Cast', 'Credits', 'CriticsReviews',\n",
       "       'UserReviews'],\n",
       "      dtype='object')"
      ]
     },
     "metadata": {},
     "execution_count": 3
    }
   ],
   "source": [
    "data = pd.read_csv(r'C:\\Users\\B.R\\Documents\\HvA\\Master_DDB\\MP\\Scraper_eWOM\\eWOM\\spiders\\metacritic.csv')\n",
    "data.columns"
   ]
  },
  {
   "cell_type": "code",
   "execution_count": 4,
   "metadata": {},
   "outputs": [],
   "source": [
    "#Drop NAN\n",
    "data = data[data['CriticsReviews'].notna()]"
   ]
  },
  {
   "cell_type": "code",
   "execution_count": 5,
   "metadata": {},
   "outputs": [
    {
     "output_type": "execute_result",
     "data": {
      "text/plain": [
       "0        [{'CriticName': None, 'CriticScore': '75', 'Cr...\n",
       "1        [{'CriticName': None, 'CriticScore': '70', 'Cr...\n",
       "2        [{'CriticName': 'Electronic Gaming Monthly', '...\n",
       "3        [{'CriticName': None, 'CriticScore': '100', 'C...\n",
       "4        [{'CriticName': None, 'CriticScore': '80', 'Cr...\n",
       "                               ...                        \n",
       "49825    [{'CriticName': None, 'CriticScore': '100', 'C...\n",
       "49850    [{'CriticName': None, 'CriticScore': '70', 'Cr...\n",
       "49860    [{'CriticName': None, 'CriticScore': '30', 'Cr...\n",
       "49866    [{'CriticName': None, 'CriticScore': '85', 'Cr...\n",
       "49874    [{'CriticName': None, 'CriticScore': '90', 'Cr...\n",
       "Name: CriticsReviews, Length: 25529, dtype: object"
      ]
     },
     "metadata": {},
     "execution_count": 5
    }
   ],
   "source": [
    "#Check dataset\n",
    "data['CriticsReviews']"
   ]
  },
  {
   "cell_type": "code",
   "execution_count": 6,
   "metadata": {},
   "outputs": [],
   "source": [
    "#Lower case reviews\n",
    "data['CriticsReviews'] = data['CriticsReviews'].str.lower()"
   ]
  },
  {
   "cell_type": "code",
   "execution_count": 7,
   "metadata": {},
   "outputs": [],
   "source": [
    "#Remove stopwords\n",
    "stop = stopwords.words('english')\n",
    "data['CriticsReviews'] = data['CriticsReviews'].apply(lambda x: ' '.join([word for word in x.split() if word not in (stop)]))"
   ]
  },
  {
   "cell_type": "code",
   "execution_count": 8,
   "metadata": {},
   "outputs": [
    {
     "output_type": "execute_result",
     "data": {
      "text/plain": [
       "                                                  Game  \\\n",
       "0                               Subnautica: Below Zero   \n",
       "1                                            AntVentor   \n",
       "2                                        Pilotwings 64   \n",
       "3                                         Wave Race 64   \n",
       "4                                        Madden NFL 08   \n",
       "...                                                ...   \n",
       "49825                                             GORN   \n",
       "49850                                Citizens of Space   \n",
       "49860                    Bear With Me: The Lost Robots   \n",
       "49866                                          Journey   \n",
       "49874  Kerbal Space Program: Breaking Ground Expansion   \n",
       "\n",
       "                                          CriticsReviews  \n",
       "0      [{'criticname': none, 'criticscore': '75', 'cr...  \n",
       "1      [{'criticname': none, 'criticscore': '70', 'cr...  \n",
       "2      [{'criticname': 'electronic gaming monthly', '...  \n",
       "3      [{'criticname': none, 'criticscore': '100', 'c...  \n",
       "4      [{'criticname': none, 'criticscore': '80', 'cr...  \n",
       "...                                                  ...  \n",
       "49825  [{'criticname': none, 'criticscore': '100', 'c...  \n",
       "49850  [{'criticname': none, 'criticscore': '70', 'cr...  \n",
       "49860  [{'criticname': none, 'criticscore': '30', 'cr...  \n",
       "49866  [{'criticname': none, 'criticscore': '85', 'cr...  \n",
       "49874  [{'criticname': none, 'criticscore': '90', 'cr...  \n",
       "\n",
       "[25529 rows x 2 columns]"
      ],
      "text/html": "<div>\n<style scoped>\n    .dataframe tbody tr th:only-of-type {\n        vertical-align: middle;\n    }\n\n    .dataframe tbody tr th {\n        vertical-align: top;\n    }\n\n    .dataframe thead th {\n        text-align: right;\n    }\n</style>\n<table border=\"1\" class=\"dataframe\">\n  <thead>\n    <tr style=\"text-align: right;\">\n      <th></th>\n      <th>Game</th>\n      <th>CriticsReviews</th>\n    </tr>\n  </thead>\n  <tbody>\n    <tr>\n      <th>0</th>\n      <td>Subnautica: Below Zero</td>\n      <td>[{'criticname': none, 'criticscore': '75', 'cr...</td>\n    </tr>\n    <tr>\n      <th>1</th>\n      <td>AntVentor</td>\n      <td>[{'criticname': none, 'criticscore': '70', 'cr...</td>\n    </tr>\n    <tr>\n      <th>2</th>\n      <td>Pilotwings 64</td>\n      <td>[{'criticname': 'electronic gaming monthly', '...</td>\n    </tr>\n    <tr>\n      <th>3</th>\n      <td>Wave Race 64</td>\n      <td>[{'criticname': none, 'criticscore': '100', 'c...</td>\n    </tr>\n    <tr>\n      <th>4</th>\n      <td>Madden NFL 08</td>\n      <td>[{'criticname': none, 'criticscore': '80', 'cr...</td>\n    </tr>\n    <tr>\n      <th>...</th>\n      <td>...</td>\n      <td>...</td>\n    </tr>\n    <tr>\n      <th>49825</th>\n      <td>GORN</td>\n      <td>[{'criticname': none, 'criticscore': '100', 'c...</td>\n    </tr>\n    <tr>\n      <th>49850</th>\n      <td>Citizens of Space</td>\n      <td>[{'criticname': none, 'criticscore': '70', 'cr...</td>\n    </tr>\n    <tr>\n      <th>49860</th>\n      <td>Bear With Me: The Lost Robots</td>\n      <td>[{'criticname': none, 'criticscore': '30', 'cr...</td>\n    </tr>\n    <tr>\n      <th>49866</th>\n      <td>Journey</td>\n      <td>[{'criticname': none, 'criticscore': '85', 'cr...</td>\n    </tr>\n    <tr>\n      <th>49874</th>\n      <td>Kerbal Space Program: Breaking Ground Expansion</td>\n      <td>[{'criticname': none, 'criticscore': '90', 'cr...</td>\n    </tr>\n  </tbody>\n</table>\n<p>25529 rows × 2 columns</p>\n</div>"
     },
     "metadata": {},
     "execution_count": 8
    }
   ],
   "source": [
    "#Create new dataset\n",
    "sentiment_data = data[['Game', 'CriticsReviews']]\n",
    "sentiment_data"
   ]
  },
  {
   "cell_type": "code",
   "execution_count": 9,
   "metadata": {},
   "outputs": [],
   "source": [
    "#Split reviews into rows\n",
    "sentiment_data = sentiment_data.drop('CriticsReviews', axis=1).join(sentiment_data['CriticsReviews'].str.split(']', expand=True).stack().reset_index(level=1, drop=True).rename('CriticsReviews'))"
   ]
  },
  {
   "cell_type": "code",
   "execution_count": 10,
   "metadata": {},
   "outputs": [],
   "source": [
    "#Drop columns with NaN\n",
    "sentiment_data['CriticsReviews'] = sentiment_data['CriticsReviews'].dropna()"
   ]
  },
  {
   "cell_type": "code",
   "execution_count": 11,
   "metadata": {},
   "outputs": [],
   "source": [
    "#Drop empty columns\n",
    "sentiment_data = sentiment_data[sentiment_data.CriticsReviews != '']"
   ]
  },
  {
   "cell_type": "code",
   "execution_count": 12,
   "metadata": {},
   "outputs": [
    {
     "output_type": "execute_result",
     "data": {
      "text/plain": [
       "                                                  Game  \\\n",
       "0                               Subnautica: Below Zero   \n",
       "1                                            AntVentor   \n",
       "2                                        Pilotwings 64   \n",
       "3                                         Wave Race 64   \n",
       "4                                        Madden NFL 08   \n",
       "...                                                ...   \n",
       "49825                                             GORN   \n",
       "49850                                Citizens of Space   \n",
       "49860                    Bear With Me: The Lost Robots   \n",
       "49866                                          Journey   \n",
       "49874  Kerbal Space Program: Breaking Ground Expansion   \n",
       "\n",
       "                                          CriticsReviews  \n",
       "0      [{'criticname': none, 'criticscore': '75', 'cr...  \n",
       "1      [{'criticname': none, 'criticscore': '70', 'cr...  \n",
       "2      [{'criticname': 'electronic gaming monthly', '...  \n",
       "3      [{'criticname': none, 'criticscore': '100', 'c...  \n",
       "4      [{'criticname': none, 'criticscore': '80', 'cr...  \n",
       "...                                                  ...  \n",
       "49825  [{'criticname': none, 'criticscore': '100', 'c...  \n",
       "49850  [{'criticname': none, 'criticscore': '70', 'cr...  \n",
       "49860  [{'criticname': none, 'criticscore': '30', 'cr...  \n",
       "49866  [{'criticname': none, 'criticscore': '85', 'cr...  \n",
       "49874  [{'criticname': none, 'criticscore': '90', 'cr...  \n",
       "\n",
       "[28227 rows x 2 columns]"
      ],
      "text/html": "<div>\n<style scoped>\n    .dataframe tbody tr th:only-of-type {\n        vertical-align: middle;\n    }\n\n    .dataframe tbody tr th {\n        vertical-align: top;\n    }\n\n    .dataframe thead th {\n        text-align: right;\n    }\n</style>\n<table border=\"1\" class=\"dataframe\">\n  <thead>\n    <tr style=\"text-align: right;\">\n      <th></th>\n      <th>Game</th>\n      <th>CriticsReviews</th>\n    </tr>\n  </thead>\n  <tbody>\n    <tr>\n      <th>0</th>\n      <td>Subnautica: Below Zero</td>\n      <td>[{'criticname': none, 'criticscore': '75', 'cr...</td>\n    </tr>\n    <tr>\n      <th>1</th>\n      <td>AntVentor</td>\n      <td>[{'criticname': none, 'criticscore': '70', 'cr...</td>\n    </tr>\n    <tr>\n      <th>2</th>\n      <td>Pilotwings 64</td>\n      <td>[{'criticname': 'electronic gaming monthly', '...</td>\n    </tr>\n    <tr>\n      <th>3</th>\n      <td>Wave Race 64</td>\n      <td>[{'criticname': none, 'criticscore': '100', 'c...</td>\n    </tr>\n    <tr>\n      <th>4</th>\n      <td>Madden NFL 08</td>\n      <td>[{'criticname': none, 'criticscore': '80', 'cr...</td>\n    </tr>\n    <tr>\n      <th>...</th>\n      <td>...</td>\n      <td>...</td>\n    </tr>\n    <tr>\n      <th>49825</th>\n      <td>GORN</td>\n      <td>[{'criticname': none, 'criticscore': '100', 'c...</td>\n    </tr>\n    <tr>\n      <th>49850</th>\n      <td>Citizens of Space</td>\n      <td>[{'criticname': none, 'criticscore': '70', 'cr...</td>\n    </tr>\n    <tr>\n      <th>49860</th>\n      <td>Bear With Me: The Lost Robots</td>\n      <td>[{'criticname': none, 'criticscore': '30', 'cr...</td>\n    </tr>\n    <tr>\n      <th>49866</th>\n      <td>Journey</td>\n      <td>[{'criticname': none, 'criticscore': '85', 'cr...</td>\n    </tr>\n    <tr>\n      <th>49874</th>\n      <td>Kerbal Space Program: Breaking Ground Expansion</td>\n      <td>[{'criticname': none, 'criticscore': '90', 'cr...</td>\n    </tr>\n  </tbody>\n</table>\n<p>28227 rows × 2 columns</p>\n</div>"
     },
     "metadata": {},
     "execution_count": 12
    }
   ],
   "source": [
    "#Check dataset\n",
    "sentiment_data"
   ]
  },
  {
   "cell_type": "code",
   "execution_count": 15,
   "metadata": {},
   "outputs": [],
   "source": [
    "#DATASET IS CREATED ALREADY\n",
    "#Create csv for sentiment analysis\n",
    "#sentiment_data.to_excel(r'C:\\Users\\B.R\\Documents\\HvA\\Master_DDB\\MP\\complete_model\\sentiment_analysis\\seperated_criticreviews.xlsx')"
   ]
  },
  {
   "cell_type": "code",
   "execution_count": 16,
   "metadata": {},
   "outputs": [
    {
     "output_type": "execute_result",
     "data": {
      "text/plain": [
       "                                    Game  StdDev_Sentiment  TotalNegative  \\\n",
       "0  \"Aha! I Found It!\" Hidden Object Game                 0             10   \n",
       "1           \"Aha! I Got It!\" Escape Game                 3              2   \n",
       "2                   #Breakforcist Battle                 3              6   \n",
       "3                                 #DRIVE                -1              3   \n",
       "4                               #Funtime               -21             28   \n",
       "\n",
       "   TotalPositive  StdDev_ContainWord  \n",
       "0             11            0.200196  \n",
       "1              4            0.090830  \n",
       "2             10            0.164653  \n",
       "3              3            0.090837  \n",
       "4             24            0.159769  "
      ],
      "text/html": "<div>\n<style scoped>\n    .dataframe tbody tr th:only-of-type {\n        vertical-align: middle;\n    }\n\n    .dataframe tbody tr th {\n        vertical-align: top;\n    }\n\n    .dataframe thead th {\n        text-align: right;\n    }\n</style>\n<table border=\"1\" class=\"dataframe\">\n  <thead>\n    <tr style=\"text-align: right;\">\n      <th></th>\n      <th>Game</th>\n      <th>StdDev_Sentiment</th>\n      <th>TotalNegative</th>\n      <th>TotalPositive</th>\n      <th>StdDev_ContainWord</th>\n    </tr>\n  </thead>\n  <tbody>\n    <tr>\n      <th>0</th>\n      <td>\"Aha! I Found It!\" Hidden Object Game</td>\n      <td>0</td>\n      <td>10</td>\n      <td>11</td>\n      <td>0.200196</td>\n    </tr>\n    <tr>\n      <th>1</th>\n      <td>\"Aha! I Got It!\" Escape Game</td>\n      <td>3</td>\n      <td>2</td>\n      <td>4</td>\n      <td>0.090830</td>\n    </tr>\n    <tr>\n      <th>2</th>\n      <td>#Breakforcist Battle</td>\n      <td>3</td>\n      <td>6</td>\n      <td>10</td>\n      <td>0.164653</td>\n    </tr>\n    <tr>\n      <th>3</th>\n      <td>#DRIVE</td>\n      <td>-1</td>\n      <td>3</td>\n      <td>3</td>\n      <td>0.090837</td>\n    </tr>\n    <tr>\n      <th>4</th>\n      <td>#Funtime</td>\n      <td>-21</td>\n      <td>28</td>\n      <td>24</td>\n      <td>0.159769</td>\n    </tr>\n  </tbody>\n</table>\n</div>"
     },
     "metadata": {},
     "execution_count": 16
    }
   ],
   "source": [
    "#Loading sentiment scores\n",
    "sentimentscores = pd.read_csv(r'C:\\Users\\B.R\\Documents\\HvA\\Master_DDB\\MP\\analysis\\critic_model\\sentiment_analysis\\sentimentscores_criticreviews.csv')\n",
    "sentimentscores.head()"
   ]
  },
  {
   "source": [
    "# Innovativeness scores"
   ],
   "cell_type": "markdown",
   "metadata": {}
  },
  {
   "cell_type": "code",
   "execution_count": 17,
   "metadata": {},
   "outputs": [],
   "source": [
    "import os\n",
    "import random\n",
    "import pandas as pd\n",
    "import numpy as np\n",
    "import nltk\n",
    "from nltk.tokenize import sent_tokenize, word_tokenize\n",
    "from nltk.corpus import stopwords\n",
    "import statsmodels.api as sm\n",
    "import matplotlib.pyplot as plt"
   ]
  },
  {
   "cell_type": "code",
   "execution_count": 18,
   "metadata": {},
   "outputs": [
    {
     "output_type": "execute_result",
     "data": {
      "text/plain": [
       "Index(['Game', 'Metascore', 'UserScore', 'Publisher', 'ReleaseDate', 'Genre',\n",
       "       'NumberOfOnlinePlayers', 'Cast', 'Credits', 'CriticsReviews',\n",
       "       'UserReviews'],\n",
       "      dtype='object')"
      ]
     },
     "metadata": {},
     "execution_count": 18
    }
   ],
   "source": [
    "data = pd.read_csv(r'C:\\Users\\B.R\\Documents\\HvA\\Master_DDB\\MP\\Scraper_eWOM\\eWOM\\spiders\\metacritic.csv')\n",
    "data.columns"
   ]
  },
  {
   "cell_type": "code",
   "execution_count": 19,
   "metadata": {},
   "outputs": [
    {
     "output_type": "execute_result",
     "data": {
      "text/plain": [
       "                                    Game  Total_innovativeness  \\\n",
       "0  \"Aha! I Found It!\" Hidden Object Game                     0   \n",
       "1           \"Aha! I Got It!\" Escape Game                     0   \n",
       "2                   #Breakforcist Battle                     0   \n",
       "3                                 #DRIVE                     0   \n",
       "4                               #Funtime                     0   \n",
       "\n",
       "   StdDev_innovativeness  \n",
       "0                    0.0  \n",
       "1                    0.0  \n",
       "2                    0.0  \n",
       "3                    0.0  \n",
       "4                    0.0  "
      ],
      "text/html": "<div>\n<style scoped>\n    .dataframe tbody tr th:only-of-type {\n        vertical-align: middle;\n    }\n\n    .dataframe tbody tr th {\n        vertical-align: top;\n    }\n\n    .dataframe thead th {\n        text-align: right;\n    }\n</style>\n<table border=\"1\" class=\"dataframe\">\n  <thead>\n    <tr style=\"text-align: right;\">\n      <th></th>\n      <th>Game</th>\n      <th>Total_innovativeness</th>\n      <th>StdDev_innovativeness</th>\n    </tr>\n  </thead>\n  <tbody>\n    <tr>\n      <th>0</th>\n      <td>\"Aha! I Found It!\" Hidden Object Game</td>\n      <td>0</td>\n      <td>0.0</td>\n    </tr>\n    <tr>\n      <th>1</th>\n      <td>\"Aha! I Got It!\" Escape Game</td>\n      <td>0</td>\n      <td>0.0</td>\n    </tr>\n    <tr>\n      <th>2</th>\n      <td>#Breakforcist Battle</td>\n      <td>0</td>\n      <td>0.0</td>\n    </tr>\n    <tr>\n      <th>3</th>\n      <td>#DRIVE</td>\n      <td>0</td>\n      <td>0.0</td>\n    </tr>\n    <tr>\n      <th>4</th>\n      <td>#Funtime</td>\n      <td>0</td>\n      <td>0.0</td>\n    </tr>\n  </tbody>\n</table>\n</div>"
     },
     "metadata": {},
     "execution_count": 19
    }
   ],
   "source": [
    "#Loading innovativeness scores\n",
    "innovativenesscores = pd.read_csv(r'C:\\Users\\B.R\\Documents\\HvA\\Master_DDB\\MP\\analysis\\critic_model\\innovativeness_analysis\\innovativeness_score_criticreviews.csv')\n",
    "innovativenesscores.head()"
   ]
  },
  {
   "source": [
    "# LDA Topic analysis"
   ],
   "cell_type": "markdown",
   "metadata": {}
  },
  {
   "cell_type": "code",
   "execution_count": 67,
   "metadata": {},
   "outputs": [
    {
     "output_type": "stream",
     "name": "stderr",
     "text": [
      "[nltk_data] Downloading package wordnet to\n[nltk_data]     C:\\Users\\B.R\\AppData\\Roaming\\nltk_data...\n[nltk_data]   Package wordnet is already up-to-date!\n"
     ]
    }
   ],
   "source": [
    "import pandas as pd\n",
    "import gensim\n",
    "from gensim.utils import simple_preprocess\n",
    "from gensim.parsing.preprocessing import STOPWORDS\n",
    "from nltk.stem import WordNetLemmatizer, SnowballStemmer\n",
    "from nltk.stem.porter import *\n",
    "import numpy as np\n",
    "np.random.seed(2018)\n",
    "import nltk\n",
    "nltk.download('wordnet')\n",
    "import statsmodels.api as sm\n",
    "import matplotlib.pyplot as plt\n",
    "from statsmodels.stats.outliers_influence import variance_inflation_factor"
   ]
  },
  {
   "cell_type": "code",
   "execution_count": 68,
   "metadata": {},
   "outputs": [
    {
     "output_type": "execute_result",
     "data": {
      "text/plain": [
       "Index(['index', 'Game', 'Metascore', 'UserScore', 'Publisher', 'ReleaseDate',\n",
       "       'Genre', 'NumberOfOnlinePlayers', 'Cast', 'Credits', 'CriticsReviews',\n",
       "       'UserReviews'],\n",
       "      dtype='object')"
      ]
     },
     "metadata": {},
     "execution_count": 68
    }
   ],
   "source": [
    "data = pd.read_csv(r'C:\\Users\\B.R\\Documents\\HvA\\Master_DDB\\MP\\Scraper_eWOM\\eWOM\\spiders\\metacritic.csv')\n",
    "data.reset_index(inplace=True)\n",
    "data.columns"
   ]
  },
  {
   "cell_type": "code",
   "execution_count": 69,
   "metadata": {},
   "outputs": [
    {
     "output_type": "execute_result",
     "data": {
      "text/plain": [
       "              index     Metascore    UserScore\n",
       "count  49886.000000  17107.000000  9085.000000\n",
       "mean   24942.500000     69.101654     6.479406\n",
       "std    14400.992101     12.966122     0.682319\n",
       "min        0.000000     11.000000     5.000000\n",
       "25%    12471.250000     62.000000     6.000000\n",
       "50%    24942.500000     71.000000     6.600000\n",
       "75%    37413.750000     78.000000     7.100000\n",
       "max    49885.000000    100.000000     7.400000"
      ],
      "text/html": "<div>\n<style scoped>\n    .dataframe tbody tr th:only-of-type {\n        vertical-align: middle;\n    }\n\n    .dataframe tbody tr th {\n        vertical-align: top;\n    }\n\n    .dataframe thead th {\n        text-align: right;\n    }\n</style>\n<table border=\"1\" class=\"dataframe\">\n  <thead>\n    <tr style=\"text-align: right;\">\n      <th></th>\n      <th>index</th>\n      <th>Metascore</th>\n      <th>UserScore</th>\n    </tr>\n  </thead>\n  <tbody>\n    <tr>\n      <th>count</th>\n      <td>49886.000000</td>\n      <td>17107.000000</td>\n      <td>9085.000000</td>\n    </tr>\n    <tr>\n      <th>mean</th>\n      <td>24942.500000</td>\n      <td>69.101654</td>\n      <td>6.479406</td>\n    </tr>\n    <tr>\n      <th>std</th>\n      <td>14400.992101</td>\n      <td>12.966122</td>\n      <td>0.682319</td>\n    </tr>\n    <tr>\n      <th>min</th>\n      <td>0.000000</td>\n      <td>11.000000</td>\n      <td>5.000000</td>\n    </tr>\n    <tr>\n      <th>25%</th>\n      <td>12471.250000</td>\n      <td>62.000000</td>\n      <td>6.000000</td>\n    </tr>\n    <tr>\n      <th>50%</th>\n      <td>24942.500000</td>\n      <td>71.000000</td>\n      <td>6.600000</td>\n    </tr>\n    <tr>\n      <th>75%</th>\n      <td>37413.750000</td>\n      <td>78.000000</td>\n      <td>7.100000</td>\n    </tr>\n    <tr>\n      <th>max</th>\n      <td>49885.000000</td>\n      <td>100.000000</td>\n      <td>7.400000</td>\n    </tr>\n  </tbody>\n</table>\n</div>"
     },
     "metadata": {},
     "execution_count": 69
    }
   ],
   "source": [
    "data.describe()"
   ]
  },
  {
   "cell_type": "code",
   "execution_count": 70,
   "metadata": {},
   "outputs": [
    {
     "output_type": "execute_result",
     "data": {
      "text/plain": [
       "   index                    Game  Metascore  UserScore           Publisher  \\\n",
       "0      0  Subnautica: Below Zero        NaN        NaN  Bandai Namco Games   \n",
       "1      1               AntVentor        NaN        NaN           LoopyMood   \n",
       "2      2           Pilotwings 64       80.0        NaN            Nintendo   \n",
       "3      3            Wave Race 64       92.0        NaN            Nintendo   \n",
       "4      4           Madden NFL 08       75.0        NaN           EA Sports   \n",
       "\n",
       "    ReleaseDate                                      Genre  \\\n",
       "0  May 14, 2021  ActionAdventure,Adventure,General,Sandbox   \n",
       "1  Apr 23, 2021                                        NaN   \n",
       "2  Sep 29, 1996                         Simulation,General   \n",
       "3  Nov  1, 1996                  Driving,Racing,Snow/Water   \n",
       "4  Aug 14, 2007                                  EATiburon   \n",
       "\n",
       "             NumberOfOnlinePlayers  \\\n",
       "0                              NaN   \n",
       "1                              NaN   \n",
       "2                          1Player   \n",
       "3                       1-2Players   \n",
       "4  Sports,Traditional,Football,Sim   \n",
       "\n",
       "                                             Cast  \\\n",
       "0                                             NaN   \n",
       "1                                             NaN   \n",
       "2   ShigeruMiyamoto , MakotoWada , YasuyukiOyagi    \n",
       "3              ShigeruMiyamoto , HiroshiYamauchi    \n",
       "4                                        Himself    \n",
       "\n",
       "                              Credits  \\\n",
       "0                                 NaN   \n",
       "1                                 NaN   \n",
       "2   Designer , Director , CoDirector    \n",
       "3                Designer , Director    \n",
       "4              VoiceActor:JohnMadden    \n",
       "\n",
       "                                      CriticsReviews  \\\n",
       "0  [{'CriticName': None, 'CriticScore': '75', 'Cr...   \n",
       "1  [{'CriticName': None, 'CriticScore': '70', 'Cr...   \n",
       "2  [{'CriticName': 'Electronic Gaming Monthly', '...   \n",
       "3  [{'CriticName': None, 'CriticScore': '100', 'C...   \n",
       "4  [{'CriticName': None, 'CriticScore': '80', 'Cr...   \n",
       "\n",
       "                                         UserReviews  \n",
       "0  [{'UserName': None, 'UserReviewScore': '75', '...  \n",
       "1  [{'UserName': None, 'UserReviewScore': '70', '...  \n",
       "2  [{'UserName': None, 'UserReviewScore': '80', '...  \n",
       "3  [{'UserName': None, 'UserReviewScore': '60', '...  \n",
       "4  [{'UserName': None, 'UserReviewScore': '70', '...  "
      ],
      "text/html": "<div>\n<style scoped>\n    .dataframe tbody tr th:only-of-type {\n        vertical-align: middle;\n    }\n\n    .dataframe tbody tr th {\n        vertical-align: top;\n    }\n\n    .dataframe thead th {\n        text-align: right;\n    }\n</style>\n<table border=\"1\" class=\"dataframe\">\n  <thead>\n    <tr style=\"text-align: right;\">\n      <th></th>\n      <th>index</th>\n      <th>Game</th>\n      <th>Metascore</th>\n      <th>UserScore</th>\n      <th>Publisher</th>\n      <th>ReleaseDate</th>\n      <th>Genre</th>\n      <th>NumberOfOnlinePlayers</th>\n      <th>Cast</th>\n      <th>Credits</th>\n      <th>CriticsReviews</th>\n      <th>UserReviews</th>\n    </tr>\n  </thead>\n  <tbody>\n    <tr>\n      <th>0</th>\n      <td>0</td>\n      <td>Subnautica: Below Zero</td>\n      <td>NaN</td>\n      <td>NaN</td>\n      <td>Bandai Namco Games</td>\n      <td>May 14, 2021</td>\n      <td>ActionAdventure,Adventure,General,Sandbox</td>\n      <td>NaN</td>\n      <td>NaN</td>\n      <td>NaN</td>\n      <td>[{'CriticName': None, 'CriticScore': '75', 'Cr...</td>\n      <td>[{'UserName': None, 'UserReviewScore': '75', '...</td>\n    </tr>\n    <tr>\n      <th>1</th>\n      <td>1</td>\n      <td>AntVentor</td>\n      <td>NaN</td>\n      <td>NaN</td>\n      <td>LoopyMood</td>\n      <td>Apr 23, 2021</td>\n      <td>NaN</td>\n      <td>NaN</td>\n      <td>NaN</td>\n      <td>NaN</td>\n      <td>[{'CriticName': None, 'CriticScore': '70', 'Cr...</td>\n      <td>[{'UserName': None, 'UserReviewScore': '70', '...</td>\n    </tr>\n    <tr>\n      <th>2</th>\n      <td>2</td>\n      <td>Pilotwings 64</td>\n      <td>80.0</td>\n      <td>NaN</td>\n      <td>Nintendo</td>\n      <td>Sep 29, 1996</td>\n      <td>Simulation,General</td>\n      <td>1Player</td>\n      <td>ShigeruMiyamoto , MakotoWada , YasuyukiOyagi</td>\n      <td>Designer , Director , CoDirector</td>\n      <td>[{'CriticName': 'Electronic Gaming Monthly', '...</td>\n      <td>[{'UserName': None, 'UserReviewScore': '80', '...</td>\n    </tr>\n    <tr>\n      <th>3</th>\n      <td>3</td>\n      <td>Wave Race 64</td>\n      <td>92.0</td>\n      <td>NaN</td>\n      <td>Nintendo</td>\n      <td>Nov  1, 1996</td>\n      <td>Driving,Racing,Snow/Water</td>\n      <td>1-2Players</td>\n      <td>ShigeruMiyamoto , HiroshiYamauchi</td>\n      <td>Designer , Director</td>\n      <td>[{'CriticName': None, 'CriticScore': '100', 'C...</td>\n      <td>[{'UserName': None, 'UserReviewScore': '60', '...</td>\n    </tr>\n    <tr>\n      <th>4</th>\n      <td>4</td>\n      <td>Madden NFL 08</td>\n      <td>75.0</td>\n      <td>NaN</td>\n      <td>EA Sports</td>\n      <td>Aug 14, 2007</td>\n      <td>EATiburon</td>\n      <td>Sports,Traditional,Football,Sim</td>\n      <td>Himself</td>\n      <td>VoiceActor:JohnMadden</td>\n      <td>[{'CriticName': None, 'CriticScore': '80', 'Cr...</td>\n      <td>[{'UserName': None, 'UserReviewScore': '70', '...</td>\n    </tr>\n  </tbody>\n</table>\n</div>"
     },
     "metadata": {},
     "execution_count": 70
    }
   ],
   "source": [
    "data.head()"
   ]
  },
  {
   "cell_type": "code",
   "execution_count": 71,
   "metadata": {},
   "outputs": [
    {
     "output_type": "execute_result",
     "data": {
      "text/plain": [
       "count                                                 25529\n",
       "unique                                                25319\n",
       "top       [{'CriticName': 'Play Magazine', 'CriticScore'...\n",
       "freq                                                      4\n",
       "Name: CriticsReviews, dtype: object"
      ]
     },
     "metadata": {},
     "execution_count": 71
    }
   ],
   "source": [
    "data['CriticsReviews'].describe()"
   ]
  },
  {
   "cell_type": "code",
   "execution_count": 72,
   "metadata": {},
   "outputs": [
    {
     "output_type": "stream",
     "name": "stdout",
     "text": [
      "24357\n24357\n"
     ]
    }
   ],
   "source": [
    "# let's see how many na values we have\n",
    "print(data['CriticsReviews'].isnull().sum())\n",
    "print(data['CriticsReviews'].isna().sum())\n",
    "# we drop the rows that we don't need\n",
    "data = data[data['CriticsReviews'].notna()]"
   ]
  },
  {
   "cell_type": "code",
   "execution_count": 73,
   "metadata": {},
   "outputs": [
    {
     "output_type": "stream",
     "name": "stdout",
     "text": [
      "0\n0\n"
     ]
    }
   ],
   "source": [
    "# make sure all data is clean and ready to work on\n",
    "print(data['CriticsReviews'].isnull().sum())\n",
    "print(data['CriticsReviews'].isna().sum())"
   ]
  },
  {
   "cell_type": "code",
   "execution_count": 74,
   "metadata": {},
   "outputs": [],
   "source": [
    "import json\n",
    "reviews = pd.DataFrame()\n",
    "for index, row in data.iterrows():\n",
    "    critic = row['CriticsReviews']\n",
    "    critic = critic.replace(\"\\'\", \"\\\"\")\n",
    "    critic = critic.replace(\"None\", \"\\\"\\\"\")\n",
    "    try:\n",
    "      j = json.loads(critic)\n",
    "    except:\n",
    "      reviews = reviews.append({'index': row['index']}, ignore_index=True)\n",
    "      continue\n",
    "    j[0]['index'] = row['index']\n",
    "    # Convert to pandas dataframe:\n",
    "    dataframe = pd.DataFrame.from_dict(j, orient=\"columns\")\n",
    "    reviews = reviews.append(dataframe, ignore_index=False)"
   ]
  },
  {
   "cell_type": "code",
   "execution_count": 75,
   "metadata": {},
   "outputs": [
    {
     "output_type": "execute_result",
     "data": {
      "text/plain": [
       "  CriticName CriticScore CriticReviewDate  \\\n",
       "0                     75     May 17, 2021   \n",
       "1                     70     Apr 22, 2021   \n",
       "2        NaN         NaN              NaN   \n",
       "3        NaN         NaN              NaN   \n",
       "4        NaN         NaN              NaN   \n",
       "\n",
       "                                    CriticReviewText  index  \n",
       "0  Subnautica Below Zero is the perfect reincarna...    0.0  \n",
       "1  Given that AntVentor is merely the first act o...    1.0  \n",
       "2                                                NaN    2.0  \n",
       "3                                                NaN    3.0  \n",
       "4                                                NaN    4.0  "
      ],
      "text/html": "<div>\n<style scoped>\n    .dataframe tbody tr th:only-of-type {\n        vertical-align: middle;\n    }\n\n    .dataframe tbody tr th {\n        vertical-align: top;\n    }\n\n    .dataframe thead th {\n        text-align: right;\n    }\n</style>\n<table border=\"1\" class=\"dataframe\">\n  <thead>\n    <tr style=\"text-align: right;\">\n      <th></th>\n      <th>CriticName</th>\n      <th>CriticScore</th>\n      <th>CriticReviewDate</th>\n      <th>CriticReviewText</th>\n      <th>index</th>\n    </tr>\n  </thead>\n  <tbody>\n    <tr>\n      <th>0</th>\n      <td></td>\n      <td>75</td>\n      <td>May 17, 2021</td>\n      <td>Subnautica Below Zero is the perfect reincarna...</td>\n      <td>0.0</td>\n    </tr>\n    <tr>\n      <th>1</th>\n      <td></td>\n      <td>70</td>\n      <td>Apr 22, 2021</td>\n      <td>Given that AntVentor is merely the first act o...</td>\n      <td>1.0</td>\n    </tr>\n    <tr>\n      <th>2</th>\n      <td>NaN</td>\n      <td>NaN</td>\n      <td>NaN</td>\n      <td>NaN</td>\n      <td>2.0</td>\n    </tr>\n    <tr>\n      <th>3</th>\n      <td>NaN</td>\n      <td>NaN</td>\n      <td>NaN</td>\n      <td>NaN</td>\n      <td>3.0</td>\n    </tr>\n    <tr>\n      <th>4</th>\n      <td>NaN</td>\n      <td>NaN</td>\n      <td>NaN</td>\n      <td>NaN</td>\n      <td>4.0</td>\n    </tr>\n  </tbody>\n</table>\n</div>"
     },
     "metadata": {},
     "execution_count": 75
    }
   ],
   "source": [
    "# reviews.reset_index(inplace=True)\n",
    "reviews.head()"
   ]
  },
  {
   "cell_type": "code",
   "execution_count": 76,
   "metadata": {},
   "outputs": [
    {
     "output_type": "execute_result",
     "data": {
      "text/plain": [
       "  CriticName CriticScore CriticReviewDate  \\\n",
       "0                     75     May 17, 2021   \n",
       "1                     70     Apr 22, 2021   \n",
       "2        NaN         NaN              NaN   \n",
       "3        NaN         NaN              NaN   \n",
       "4        NaN         NaN              NaN   \n",
       "\n",
       "                                    CriticReviewText  index  \\\n",
       "0  Subnautica Below Zero is the perfect reincarna...    0.0   \n",
       "1  Given that AntVentor is merely the first act o...    1.0   \n",
       "2                                                NaN    2.0   \n",
       "3                                                NaN    3.0   \n",
       "4                                                NaN    4.0   \n",
       "\n",
       "                     Game  Metascore  UserScore           Publisher  \\\n",
       "0  Subnautica: Below Zero        NaN        NaN  Bandai Namco Games   \n",
       "1               AntVentor        NaN        NaN           LoopyMood   \n",
       "2           Pilotwings 64       80.0        NaN            Nintendo   \n",
       "3            Wave Race 64       92.0        NaN            Nintendo   \n",
       "4           Madden NFL 08       75.0        NaN           EA Sports   \n",
       "\n",
       "    ReleaseDate                                      Genre  \\\n",
       "0  May 14, 2021  ActionAdventure,Adventure,General,Sandbox   \n",
       "1  Apr 23, 2021                                        NaN   \n",
       "2  Sep 29, 1996                         Simulation,General   \n",
       "3  Nov  1, 1996                  Driving,Racing,Snow/Water   \n",
       "4  Aug 14, 2007                                  EATiburon   \n",
       "\n",
       "             NumberOfOnlinePlayers  \\\n",
       "0                              NaN   \n",
       "1                              NaN   \n",
       "2                          1Player   \n",
       "3                       1-2Players   \n",
       "4  Sports,Traditional,Football,Sim   \n",
       "\n",
       "                                             Cast  \\\n",
       "0                                             NaN   \n",
       "1                                             NaN   \n",
       "2   ShigeruMiyamoto , MakotoWada , YasuyukiOyagi    \n",
       "3              ShigeruMiyamoto , HiroshiYamauchi    \n",
       "4                                        Himself    \n",
       "\n",
       "                              Credits  \\\n",
       "0                                 NaN   \n",
       "1                                 NaN   \n",
       "2   Designer , Director , CoDirector    \n",
       "3                Designer , Director    \n",
       "4              VoiceActor:JohnMadden    \n",
       "\n",
       "                                      CriticsReviews  \\\n",
       "0  [{'CriticName': None, 'CriticScore': '75', 'Cr...   \n",
       "1  [{'CriticName': None, 'CriticScore': '70', 'Cr...   \n",
       "2  [{'CriticName': 'Electronic Gaming Monthly', '...   \n",
       "3  [{'CriticName': None, 'CriticScore': '100', 'C...   \n",
       "4  [{'CriticName': None, 'CriticScore': '80', 'Cr...   \n",
       "\n",
       "                                         UserReviews  \n",
       "0  [{'UserName': None, 'UserReviewScore': '75', '...  \n",
       "1  [{'UserName': None, 'UserReviewScore': '70', '...  \n",
       "2  [{'UserName': None, 'UserReviewScore': '80', '...  \n",
       "3  [{'UserName': None, 'UserReviewScore': '60', '...  \n",
       "4  [{'UserName': None, 'UserReviewScore': '70', '...  "
      ],
      "text/html": "<div>\n<style scoped>\n    .dataframe tbody tr th:only-of-type {\n        vertical-align: middle;\n    }\n\n    .dataframe tbody tr th {\n        vertical-align: top;\n    }\n\n    .dataframe thead th {\n        text-align: right;\n    }\n</style>\n<table border=\"1\" class=\"dataframe\">\n  <thead>\n    <tr style=\"text-align: right;\">\n      <th></th>\n      <th>CriticName</th>\n      <th>CriticScore</th>\n      <th>CriticReviewDate</th>\n      <th>CriticReviewText</th>\n      <th>index</th>\n      <th>Game</th>\n      <th>Metascore</th>\n      <th>UserScore</th>\n      <th>Publisher</th>\n      <th>ReleaseDate</th>\n      <th>Genre</th>\n      <th>NumberOfOnlinePlayers</th>\n      <th>Cast</th>\n      <th>Credits</th>\n      <th>CriticsReviews</th>\n      <th>UserReviews</th>\n    </tr>\n  </thead>\n  <tbody>\n    <tr>\n      <th>0</th>\n      <td></td>\n      <td>75</td>\n      <td>May 17, 2021</td>\n      <td>Subnautica Below Zero is the perfect reincarna...</td>\n      <td>0.0</td>\n      <td>Subnautica: Below Zero</td>\n      <td>NaN</td>\n      <td>NaN</td>\n      <td>Bandai Namco Games</td>\n      <td>May 14, 2021</td>\n      <td>ActionAdventure,Adventure,General,Sandbox</td>\n      <td>NaN</td>\n      <td>NaN</td>\n      <td>NaN</td>\n      <td>[{'CriticName': None, 'CriticScore': '75', 'Cr...</td>\n      <td>[{'UserName': None, 'UserReviewScore': '75', '...</td>\n    </tr>\n    <tr>\n      <th>1</th>\n      <td></td>\n      <td>70</td>\n      <td>Apr 22, 2021</td>\n      <td>Given that AntVentor is merely the first act o...</td>\n      <td>1.0</td>\n      <td>AntVentor</td>\n      <td>NaN</td>\n      <td>NaN</td>\n      <td>LoopyMood</td>\n      <td>Apr 23, 2021</td>\n      <td>NaN</td>\n      <td>NaN</td>\n      <td>NaN</td>\n      <td>NaN</td>\n      <td>[{'CriticName': None, 'CriticScore': '70', 'Cr...</td>\n      <td>[{'UserName': None, 'UserReviewScore': '70', '...</td>\n    </tr>\n    <tr>\n      <th>2</th>\n      <td>NaN</td>\n      <td>NaN</td>\n      <td>NaN</td>\n      <td>NaN</td>\n      <td>2.0</td>\n      <td>Pilotwings 64</td>\n      <td>80.0</td>\n      <td>NaN</td>\n      <td>Nintendo</td>\n      <td>Sep 29, 1996</td>\n      <td>Simulation,General</td>\n      <td>1Player</td>\n      <td>ShigeruMiyamoto , MakotoWada , YasuyukiOyagi</td>\n      <td>Designer , Director , CoDirector</td>\n      <td>[{'CriticName': 'Electronic Gaming Monthly', '...</td>\n      <td>[{'UserName': None, 'UserReviewScore': '80', '...</td>\n    </tr>\n    <tr>\n      <th>3</th>\n      <td>NaN</td>\n      <td>NaN</td>\n      <td>NaN</td>\n      <td>NaN</td>\n      <td>3.0</td>\n      <td>Wave Race 64</td>\n      <td>92.0</td>\n      <td>NaN</td>\n      <td>Nintendo</td>\n      <td>Nov  1, 1996</td>\n      <td>Driving,Racing,Snow/Water</td>\n      <td>1-2Players</td>\n      <td>ShigeruMiyamoto , HiroshiYamauchi</td>\n      <td>Designer , Director</td>\n      <td>[{'CriticName': None, 'CriticScore': '100', 'C...</td>\n      <td>[{'UserName': None, 'UserReviewScore': '60', '...</td>\n    </tr>\n    <tr>\n      <th>4</th>\n      <td>NaN</td>\n      <td>NaN</td>\n      <td>NaN</td>\n      <td>NaN</td>\n      <td>4.0</td>\n      <td>Madden NFL 08</td>\n      <td>75.0</td>\n      <td>NaN</td>\n      <td>EA Sports</td>\n      <td>Aug 14, 2007</td>\n      <td>EATiburon</td>\n      <td>Sports,Traditional,Football,Sim</td>\n      <td>Himself</td>\n      <td>VoiceActor:JohnMadden</td>\n      <td>[{'CriticName': None, 'CriticScore': '80', 'Cr...</td>\n      <td>[{'UserName': None, 'UserReviewScore': '70', '...</td>\n    </tr>\n  </tbody>\n</table>\n</div>"
     },
     "metadata": {},
     "execution_count": 76
    }
   ],
   "source": [
    "df = pd.merge(reviews, data, on='index', how='outer')\n",
    "df.head()"
   ]
  },
  {
   "cell_type": "code",
   "execution_count": 77,
   "metadata": {},
   "outputs": [
    {
     "output_type": "execute_result",
     "data": {
      "text/plain": [
       "Int64Index([    0,     1,     2,     3,     4,     5,     6,     7,     8,\n",
       "                9,\n",
       "            ...\n",
       "            26279, 26280, 26281, 26282, 26283, 26284, 26285, 26286, 26287,\n",
       "            26288],\n",
       "           dtype='int64', length=26289)"
      ]
     },
     "metadata": {},
     "execution_count": 77
    }
   ],
   "source": [
    "df.index"
   ]
  },
  {
   "cell_type": "code",
   "execution_count": 78,
   "metadata": {},
   "outputs": [
    {
     "output_type": "stream",
     "name": "stderr",
     "text": [
      "<ipython-input-78-ab7cee0032c6>:3: SettingWithCopyWarning: \nA value is trying to be set on a copy of a slice from a DataFrame.\nTry using .loc[row_indexer,col_indexer] = value instead\n\nSee the caveats in the documentation: https://pandas.pydata.org/pandas-docs/stable/user_guide/indexing.html#returning-a-view-versus-a-copy\n  data_text['index'] = data_text.index\n"
     ]
    }
   ],
   "source": [
    "data = df\n",
    "data_text = data[['Game', 'CriticReviewText', 'UserScore']]\n",
    "data_text['index'] = data_text.index\n",
    "documents = data_text"
   ]
  },
  {
   "cell_type": "code",
   "execution_count": 79,
   "metadata": {},
   "outputs": [
    {
     "output_type": "execute_result",
     "data": {
      "text/plain": [
       "26289"
      ]
     },
     "metadata": {},
     "execution_count": 79
    }
   ],
   "source": [
    "len(documents)"
   ]
  },
  {
   "cell_type": "code",
   "execution_count": 80,
   "metadata": {},
   "outputs": [
    {
     "output_type": "execute_result",
     "data": {
      "text/plain": [
       "                     Game                                   CriticReviewText  \\\n",
       "0  Subnautica: Below Zero  Subnautica Below Zero is the perfect reincarna...   \n",
       "1               AntVentor  Given that AntVentor is merely the first act o...   \n",
       "2           Pilotwings 64                                                NaN   \n",
       "3            Wave Race 64                                                NaN   \n",
       "4           Madden NFL 08                                                NaN   \n",
       "\n",
       "   UserScore  index  \n",
       "0        NaN      0  \n",
       "1        NaN      1  \n",
       "2        NaN      2  \n",
       "3        NaN      3  \n",
       "4        NaN      4  "
      ],
      "text/html": "<div>\n<style scoped>\n    .dataframe tbody tr th:only-of-type {\n        vertical-align: middle;\n    }\n\n    .dataframe tbody tr th {\n        vertical-align: top;\n    }\n\n    .dataframe thead th {\n        text-align: right;\n    }\n</style>\n<table border=\"1\" class=\"dataframe\">\n  <thead>\n    <tr style=\"text-align: right;\">\n      <th></th>\n      <th>Game</th>\n      <th>CriticReviewText</th>\n      <th>UserScore</th>\n      <th>index</th>\n    </tr>\n  </thead>\n  <tbody>\n    <tr>\n      <th>0</th>\n      <td>Subnautica: Below Zero</td>\n      <td>Subnautica Below Zero is the perfect reincarna...</td>\n      <td>NaN</td>\n      <td>0</td>\n    </tr>\n    <tr>\n      <th>1</th>\n      <td>AntVentor</td>\n      <td>Given that AntVentor is merely the first act o...</td>\n      <td>NaN</td>\n      <td>1</td>\n    </tr>\n    <tr>\n      <th>2</th>\n      <td>Pilotwings 64</td>\n      <td>NaN</td>\n      <td>NaN</td>\n      <td>2</td>\n    </tr>\n    <tr>\n      <th>3</th>\n      <td>Wave Race 64</td>\n      <td>NaN</td>\n      <td>NaN</td>\n      <td>3</td>\n    </tr>\n    <tr>\n      <th>4</th>\n      <td>Madden NFL 08</td>\n      <td>NaN</td>\n      <td>NaN</td>\n      <td>4</td>\n    </tr>\n  </tbody>\n</table>\n</div>"
     },
     "metadata": {},
     "execution_count": 80
    }
   ],
   "source": [
    "documents[:5]"
   ]
  },
  {
   "source": [
    "## Data Preprocessing"
   ],
   "cell_type": "markdown",
   "metadata": {}
  },
  {
   "source": [
    "## Lemmatize example"
   ],
   "cell_type": "markdown",
   "metadata": {}
  },
  {
   "cell_type": "code",
   "execution_count": 81,
   "metadata": {},
   "outputs": [
    {
     "output_type": "stream",
     "name": "stdout",
     "text": [
      "go\n"
     ]
    }
   ],
   "source": [
    "print(WordNetLemmatizer().lemmatize('went', pos='v'))"
   ]
  },
  {
   "source": [
    "## Stemmer Example"
   ],
   "cell_type": "markdown",
   "metadata": {}
  },
  {
   "cell_type": "code",
   "execution_count": 82,
   "metadata": {},
   "outputs": [
    {
     "output_type": "execute_result",
     "data": {
      "text/plain": [
       "   original word stemmed\n",
       "0       caresses  caress\n",
       "1          flies     fli\n",
       "2           dies     die\n",
       "3          mules    mule\n",
       "4         denied    deni\n",
       "5           died     die\n",
       "6         agreed    agre\n",
       "7          owned     own\n",
       "8        humbled   humbl\n",
       "9          sized    size\n",
       "10       meeting    meet\n",
       "11       stating   state\n",
       "12       siezing    siez\n",
       "13   itemization    item\n",
       "14   sensational  sensat\n",
       "15   traditional  tradit\n",
       "16     reference   refer\n",
       "17     colonizer   colon\n",
       "18       plotted    plot"
      ],
      "text/html": "<div>\n<style scoped>\n    .dataframe tbody tr th:only-of-type {\n        vertical-align: middle;\n    }\n\n    .dataframe tbody tr th {\n        vertical-align: top;\n    }\n\n    .dataframe thead th {\n        text-align: right;\n    }\n</style>\n<table border=\"1\" class=\"dataframe\">\n  <thead>\n    <tr style=\"text-align: right;\">\n      <th></th>\n      <th>original word</th>\n      <th>stemmed</th>\n    </tr>\n  </thead>\n  <tbody>\n    <tr>\n      <th>0</th>\n      <td>caresses</td>\n      <td>caress</td>\n    </tr>\n    <tr>\n      <th>1</th>\n      <td>flies</td>\n      <td>fli</td>\n    </tr>\n    <tr>\n      <th>2</th>\n      <td>dies</td>\n      <td>die</td>\n    </tr>\n    <tr>\n      <th>3</th>\n      <td>mules</td>\n      <td>mule</td>\n    </tr>\n    <tr>\n      <th>4</th>\n      <td>denied</td>\n      <td>deni</td>\n    </tr>\n    <tr>\n      <th>5</th>\n      <td>died</td>\n      <td>die</td>\n    </tr>\n    <tr>\n      <th>6</th>\n      <td>agreed</td>\n      <td>agre</td>\n    </tr>\n    <tr>\n      <th>7</th>\n      <td>owned</td>\n      <td>own</td>\n    </tr>\n    <tr>\n      <th>8</th>\n      <td>humbled</td>\n      <td>humbl</td>\n    </tr>\n    <tr>\n      <th>9</th>\n      <td>sized</td>\n      <td>size</td>\n    </tr>\n    <tr>\n      <th>10</th>\n      <td>meeting</td>\n      <td>meet</td>\n    </tr>\n    <tr>\n      <th>11</th>\n      <td>stating</td>\n      <td>state</td>\n    </tr>\n    <tr>\n      <th>12</th>\n      <td>siezing</td>\n      <td>siez</td>\n    </tr>\n    <tr>\n      <th>13</th>\n      <td>itemization</td>\n      <td>item</td>\n    </tr>\n    <tr>\n      <th>14</th>\n      <td>sensational</td>\n      <td>sensat</td>\n    </tr>\n    <tr>\n      <th>15</th>\n      <td>traditional</td>\n      <td>tradit</td>\n    </tr>\n    <tr>\n      <th>16</th>\n      <td>reference</td>\n      <td>refer</td>\n    </tr>\n    <tr>\n      <th>17</th>\n      <td>colonizer</td>\n      <td>colon</td>\n    </tr>\n    <tr>\n      <th>18</th>\n      <td>plotted</td>\n      <td>plot</td>\n    </tr>\n  </tbody>\n</table>\n</div>"
     },
     "metadata": {},
     "execution_count": 82
    }
   ],
   "source": [
    "stemmer = SnowballStemmer('english')\n",
    "original_words = ['caresses', 'flies', 'dies', 'mules', 'denied','died', 'agreed', 'owned', \n",
    "           'humbled', 'sized','meeting', 'stating', 'siezing', 'itemization','sensational', \n",
    "           'traditional', 'reference', 'colonizer','plotted']\n",
    "singles = [stemmer.stem(plural) for plural in original_words]\n",
    "pd.DataFrame(data = {'original word': original_words, 'stemmed': singles})"
   ]
  },
  {
   "cell_type": "code",
   "execution_count": 83,
   "metadata": {},
   "outputs": [],
   "source": [
    "def lemmatize_stemming(text):\n",
    "    return stemmer.stem(WordNetLemmatizer().lemmatize(text, pos='v'))\n",
    "\n",
    "def preprocess(text):\n",
    "    result = []\n",
    "    for token in gensim.utils.simple_preprocess(text):\n",
    "        if token not in gensim.parsing.preprocessing.STOPWORDS and len(token) > 3:\n",
    "            result.append(lemmatize_stemming(token))\n",
    "    return result"
   ]
  },
  {
   "cell_type": "code",
   "execution_count": 84,
   "metadata": {},
   "outputs": [
    {
     "output_type": "stream",
     "name": "stdout",
     "text": [
      "original document: \n[\"Flip's\", 'Twisted', 'World']\n\n\n tokenized and lemmatized document: \n['flip', 'twist', 'world']\n"
     ]
    }
   ],
   "source": [
    "doc_sample = documents[documents['index'] == 4310].values[0][0]\n",
    "\n",
    "print('original document: ')\n",
    "words = []\n",
    "for word in doc_sample.split(' '):\n",
    "    words.append(word)\n",
    "print(words)\n",
    "print('\\n\\n tokenized and lemmatized document: ')\n",
    "print(preprocess(doc_sample))"
   ]
  },
  {
   "cell_type": "code",
   "execution_count": 85,
   "metadata": {},
   "outputs": [],
   "source": [
    "#delete empty rows\n",
    "documents = documents[documents.CriticReviewText != '']"
   ]
  },
  {
   "cell_type": "code",
   "execution_count": 86,
   "metadata": {},
   "outputs": [],
   "source": [
    "processed_docs = documents['CriticReviewText'].astype(str).map(preprocess)"
   ]
  },
  {
   "cell_type": "code",
   "execution_count": 87,
   "metadata": {},
   "outputs": [
    {
     "output_type": "execute_result",
     "data": {
      "text/plain": [
       "0    [subnautica, zero, perfect, reincarn, titl, of...\n",
       "1    [give, antventor, mere, anttrilog, decent, set...\n",
       "2                                                   []\n",
       "3                                                   []\n",
       "4                                                   []\n",
       "5    [occasion, hiccup, have, open, world, freedom,...\n",
       "6                                                   []\n",
       "7                                                   []\n",
       "8                                                   []\n",
       "9                                                   []\n",
       "Name: CriticReviewText, dtype: object"
      ]
     },
     "metadata": {},
     "execution_count": 87
    }
   ],
   "source": [
    "processed_docs[:10]"
   ]
  },
  {
   "cell_type": "code",
   "execution_count": 88,
   "metadata": {},
   "outputs": [],
   "source": [
    "dictionary = gensim.corpora.Dictionary(processed_docs)"
   ]
  },
  {
   "cell_type": "code",
   "execution_count": 89,
   "metadata": {},
   "outputs": [
    {
     "output_type": "stream",
     "name": "stdout",
     "text": [
      "0 complet\n1 deliv\n2 experi\n3 game\n4 great\n5 instal\n6 offer\n7 perfect\n8 player\n9 present\n10 promis\n"
     ]
    }
   ],
   "source": [
    "count = 0\n",
    "for k, v in dictionary.iteritems():\n",
    "    print(k, v)\n",
    "    count += 1\n",
    "    if count > 10:\n",
    "        break"
   ]
  },
  {
   "cell_type": "code",
   "execution_count": 90,
   "metadata": {},
   "outputs": [],
   "source": [
    "dictionary.filter_extremes(no_below=15, no_above=0.5, keep_n=100000)"
   ]
  },
  {
   "cell_type": "code",
   "execution_count": 91,
   "metadata": {},
   "outputs": [
    {
     "output_type": "execute_result",
     "data": {
      "text/plain": [
       "[(2, 1),\n",
       " (3, 1),\n",
       " (4, 1),\n",
       " (37, 1),\n",
       " (96, 1),\n",
       " (150, 1),\n",
       " (182, 1),\n",
       " (246, 1),\n",
       " (333, 1),\n",
       " (411, 1),\n",
       " (455, 1),\n",
       " (612, 1),\n",
       " (689, 1),\n",
       " (895, 1),\n",
       " (1327, 1),\n",
       " (1366, 1),\n",
       " (1370, 1),\n",
       " (1484, 1),\n",
       " (1505, 1),\n",
       " (1653, 1),\n",
       " (1881, 1),\n",
       " (1931, 1)]"
      ]
     },
     "metadata": {},
     "execution_count": 91
    }
   ],
   "source": [
    "bow_corpus = [dictionary.doc2bow(doc) for doc in processed_docs]\n",
    "bow_corpus[4310]"
   ]
  },
  {
   "cell_type": "code",
   "execution_count": 92,
   "metadata": {},
   "outputs": [
    {
     "output_type": "stream",
     "name": "stdout",
     "text": [
      "Word 2 (\"experi\") appears 1 time.\nWord 3 (\"game\") appears 1 time.\nWord 4 (\"great\") appears 1 time.\nWord 37 (\"look\") appears 1 time.\nWord 96 (\"packag\") appears 1 time.\nWord 150 (\"style\") appears 1 time.\nWord 182 (\"level\") appears 1 time.\nWord 246 (\"access\") appears 1 time.\nWord 333 (\"combin\") appears 1 time.\nWord 411 (\"entertain\") appears 1 time.\nWord 455 (\"skill\") appears 1 time.\nWord 612 (\"free\") appears 1 time.\nWord 689 (\"eas\") appears 1 time.\nWord 895 (\"neat\") appears 1 time.\nWord 1327 (\"framework\") appears 1 time.\nWord 1366 (\"involv\") appears 1 time.\nWord 1370 (\"bunch\") appears 1 time.\nWord 1484 (\"ensur\") appears 1 time.\nWord 1505 (\"board\") appears 1 time.\nWord 1653 (\"refin\") appears 1 time.\nWord 1881 (\"stress\") appears 1 time.\nWord 1931 (\"colour\") appears 1 time.\n"
     ]
    }
   ],
   "source": [
    "bow_doc_4310 = bow_corpus[4310]\n",
    "\n",
    "for i in range(len(bow_doc_4310)):\n",
    "    print(\"Word {} (\\\"{}\\\") appears {} time.\".format(bow_doc_4310[i][0], \n",
    "                                                     dictionary[bow_doc_4310[i][0]], \n",
    "                                                     bow_doc_4310[i][1]))"
   ]
  },
  {
   "source": [
    "## TF-IDF"
   ],
   "cell_type": "markdown",
   "metadata": {}
  },
  {
   "cell_type": "code",
   "execution_count": 93,
   "metadata": {},
   "outputs": [],
   "source": [
    "from gensim import corpora, models\n",
    "\n",
    "tfidf = models.TfidfModel(bow_corpus)"
   ]
  },
  {
   "cell_type": "code",
   "execution_count": 94,
   "metadata": {},
   "outputs": [],
   "source": [
    "corpus_tfidf = tfidf[bow_corpus]"
   ]
  },
  {
   "cell_type": "code",
   "execution_count": 95,
   "metadata": {},
   "outputs": [
    {
     "output_type": "stream",
     "name": "stdout",
     "text": [
      "[(0, 0.2023414783900146),\n (1, 0.21439155729417805),\n (2, 0.1326188484196812),\n (3, 0.05529093151973001),\n (4, 0.13622652747819816),\n (5, 0.3043636477003112),\n (6, 0.3282166243921848),\n (7, 0.18616594533413106),\n (8, 0.1552071463580096),\n (9, 0.2046760017824573),\n (10, 0.2921461658130136),\n (11, 0.39643367972796245),\n (12, 0.15532003935848196),\n (13, 0.46218872593754784),\n (14, 0.3043636477003112)]\n"
     ]
    }
   ],
   "source": [
    "from pprint import pprint\n",
    "\n",
    "for doc in corpus_tfidf:\n",
    "    pprint(doc)\n",
    "    break"
   ]
  },
  {
   "source": [
    "## Running LDA using TF-IDF"
   ],
   "cell_type": "markdown",
   "metadata": {}
  },
  {
   "cell_type": "code",
   "execution_count": 96,
   "metadata": {},
   "outputs": [],
   "source": [
    "lda_model = gensim.models.LdaMulticore(bow_corpus, num_topics=10, id2word=dictionary, passes=2, workers=2)"
   ]
  },
  {
   "cell_type": "code",
   "execution_count": 97,
   "metadata": {},
   "outputs": [
    {
     "output_type": "stream",
     "name": "stdout",
     "text": [
      "Topic: 0 \nWords: 0.041*\"game\" + 0.013*\"play\" + 0.011*\"stori\" + 0.010*\"experi\" + 0.010*\"like\" + 0.010*\"time\" + 0.008*\"want\" + 0.007*\"world\" + 0.007*\"look\" + 0.007*\"gameplay\"\nTopic: 1 \nWords: 0.032*\"game\" + 0.019*\"stori\" + 0.012*\"good\" + 0.012*\"player\" + 0.011*\"look\" + 0.011*\"adventur\" + 0.010*\"experi\" + 0.010*\"great\" + 0.010*\"genr\" + 0.009*\"charact\"\nTopic: 2 \nWords: 0.073*\"game\" + 0.016*\"like\" + 0.016*\"play\" + 0.013*\"enjoy\" + 0.012*\"experi\" + 0.011*\"time\" + 0.010*\"feel\" + 0.009*\"good\" + 0.008*\"gameplay\" + 0.007*\"puzzl\"\nTopic: 3 \nWords: 0.031*\"game\" + 0.015*\"gameplay\" + 0.012*\"like\" + 0.011*\"titl\" + 0.010*\"worth\" + 0.010*\"experi\" + 0.009*\"charact\" + 0.009*\"play\" + 0.009*\"fan\" + 0.008*\"great\"\nTopic: 4 \nWords: 0.042*\"game\" + 0.023*\"play\" + 0.023*\"time\" + 0.013*\"like\" + 0.010*\"love\" + 0.010*\"want\" + 0.009*\"enjoy\" + 0.008*\"hour\" + 0.008*\"look\" + 0.007*\"feel\"\nTopic: 5 \nWords: 0.044*\"game\" + 0.013*\"good\" + 0.012*\"best\" + 0.011*\"content\" + 0.011*\"issu\" + 0.010*\"seri\" + 0.009*\"version\" + 0.008*\"look\" + 0.008*\"titl\" + 0.007*\"feel\"\nTopic: 6 \nWords: 0.039*\"game\" + 0.014*\"littl\" + 0.011*\"like\" + 0.011*\"genr\" + 0.009*\"puzzl\" + 0.009*\"good\" + 0.008*\"time\" + 0.008*\"offer\" + 0.008*\"great\" + 0.008*\"titl\"\nTopic: 7 \nWords: 0.040*\"game\" + 0.021*\"level\" + 0.018*\"challeng\" + 0.015*\"play\" + 0.015*\"great\" + 0.010*\"simpl\" + 0.010*\"like\" + 0.010*\"puzzl\" + 0.010*\"design\" + 0.008*\"control\"\nTopic: 8 \nWords: 0.049*\"game\" + 0.019*\"play\" + 0.012*\"race\" + 0.011*\"best\" + 0.011*\"mode\" + 0.009*\"offer\" + 0.008*\"multiplay\" + 0.007*\"friend\" + 0.007*\"titl\" + 0.007*\"experi\"\nTopic: 9 \nWords: 0.055*\"game\" + 0.017*\"play\" + 0.012*\"experi\" + 0.011*\"player\" + 0.008*\"gameplay\" + 0.007*\"enjoy\" + 0.007*\"high\" + 0.007*\"like\" + 0.007*\"time\" + 0.006*\"visual\"\n"
     ]
    }
   ],
   "source": [
    "for idx, topic in lda_model.print_topics(-1):\n",
    "    print('Topic: {} \\nWords: {}'.format(idx, topic))"
   ]
  },
  {
   "source": [
    "## Performance evaluation by classifying sample document using LDA Bag of Words model"
   ],
   "cell_type": "markdown",
   "metadata": {}
  },
  {
   "cell_type": "code",
   "execution_count": 98,
   "metadata": {},
   "outputs": [
    {
     "output_type": "execute_result",
     "data": {
      "text/plain": [
       "['overal', 'lack', 'polish', 'poor', 'enemi', 'design']"
      ]
     },
     "metadata": {},
     "execution_count": 98
    }
   ],
   "source": [
    "processed_docs[4310]"
   ]
  },
  {
   "cell_type": "code",
   "execution_count": 99,
   "metadata": {},
   "outputs": [
    {
     "output_type": "stream",
     "name": "stdout",
     "text": [
      "\nScore: 0.37017956376075745\t \nTopic: 0.039*\"game\" + 0.014*\"littl\" + 0.011*\"like\" + 0.011*\"genr\" + 0.009*\"puzzl\" + 0.009*\"good\" + 0.008*\"time\" + 0.008*\"offer\" + 0.008*\"great\" + 0.008*\"titl\"\n\nScore: 0.23778438568115234\t \nTopic: 0.040*\"game\" + 0.021*\"level\" + 0.018*\"challeng\" + 0.015*\"play\" + 0.015*\"great\" + 0.010*\"simpl\" + 0.010*\"like\" + 0.010*\"puzzl\" + 0.010*\"design\" + 0.008*\"control\"\n\nScore: 0.20349819958209991\t \nTopic: 0.055*\"game\" + 0.017*\"play\" + 0.012*\"experi\" + 0.011*\"player\" + 0.008*\"gameplay\" + 0.007*\"enjoy\" + 0.007*\"high\" + 0.007*\"like\" + 0.007*\"time\" + 0.006*\"visual\"\n\nScore: 0.1624370515346527\t \nTopic: 0.032*\"game\" + 0.019*\"stori\" + 0.012*\"good\" + 0.012*\"player\" + 0.011*\"look\" + 0.011*\"adventur\" + 0.010*\"experi\" + 0.010*\"great\" + 0.010*\"genr\" + 0.009*\"charact\"\n"
     ]
    }
   ],
   "source": [
    "for index, score in sorted(lda_model[bow_corpus[4310]], key=lambda tup: -1*tup[1]):\n",
    "    print(\"\\nScore: {}\\t \\nTopic: {}\".format(score, lda_model.print_topic(index, 10)))"
   ]
  },
  {
   "source": [
    "## Testing model on unseen document"
   ],
   "cell_type": "markdown",
   "metadata": {}
  },
  {
   "cell_type": "code",
   "execution_count": 100,
   "metadata": {},
   "outputs": [
    {
     "output_type": "stream",
     "name": "stdout",
     "text": [
      "Score: 0.699918806552887\t Topic: 0.032*\"game\" + 0.019*\"stori\" + 0.012*\"good\" + 0.012*\"player\" + 0.011*\"look\"\nScore: 0.033346980810165405\t Topic: 0.041*\"game\" + 0.013*\"play\" + 0.011*\"stori\" + 0.010*\"experi\" + 0.010*\"like\"\nScore: 0.033346474170684814\t Topic: 0.039*\"game\" + 0.014*\"littl\" + 0.011*\"like\" + 0.011*\"genr\" + 0.009*\"puzzl\"\nScore: 0.03334344923496246\t Topic: 0.073*\"game\" + 0.016*\"like\" + 0.016*\"play\" + 0.013*\"enjoy\" + 0.012*\"experi\"\nScore: 0.03334137052297592\t Topic: 0.055*\"game\" + 0.017*\"play\" + 0.012*\"experi\" + 0.011*\"player\" + 0.008*\"gameplay\"\nScore: 0.03334108740091324\t Topic: 0.040*\"game\" + 0.021*\"level\" + 0.018*\"challeng\" + 0.015*\"play\" + 0.015*\"great\"\nScore: 0.033340904861688614\t Topic: 0.042*\"game\" + 0.023*\"play\" + 0.023*\"time\" + 0.013*\"like\" + 0.010*\"love\"\nScore: 0.03334074094891548\t Topic: 0.031*\"game\" + 0.015*\"gameplay\" + 0.012*\"like\" + 0.011*\"titl\" + 0.010*\"worth\"\nScore: 0.03334067016839981\t Topic: 0.044*\"game\" + 0.013*\"good\" + 0.012*\"best\" + 0.011*\"content\" + 0.011*\"issu\"\nScore: 0.03333957865834236\t Topic: 0.049*\"game\" + 0.019*\"play\" + 0.012*\"race\" + 0.011*\"best\" + 0.011*\"mode\"\n"
     ]
    }
   ],
   "source": [
    "unseen_document = 'How a Pentagon deal became an identity crisis for Google'\n",
    "bow_vector = dictionary.doc2bow(preprocess(unseen_document))\n",
    "\n",
    "for index, score in sorted(lda_model[bow_vector], key=lambda tup: -1*tup[1]):\n",
    "    print(\"Score: {}\\t Topic: {}\".format(score, lda_model.print_topic(index, 5)))"
   ]
  },
  {
   "source": [
    "## Identifying the most dominant topic within reviews"
   ],
   "cell_type": "markdown",
   "metadata": {}
  },
  {
   "cell_type": "code",
   "execution_count": 101,
   "metadata": {},
   "outputs": [],
   "source": [
    "def format_topics_sentences(ldamodel=None, corpus=bow_corpus, texts=documents['CriticReviewText']):\n",
    "    # Init output\n",
    "    sent_topics_df = pd.DataFrame()\n",
    "\n",
    "    # Get main topic in each document\n",
    "    for i, row_list in enumerate(ldamodel[corpus]):\n",
    "        row = row_list[0] if ldamodel.per_word_topics else row_list            \n",
    "        # print(row)\n",
    "        row = sorted(row, key=lambda x: (x[1]), reverse=True)\n",
    "        # Get the Dominant topic, Perc Contribution and Keywords for each document\n",
    "        for j, (topic_num, prop_topic) in enumerate(row):\n",
    "            if j == 0:  # => dominant topic\n",
    "                wp = ldamodel.show_topic(topic_num)\n",
    "                topic_keywords = \", \".join([word for word, prop in wp])\n",
    "                sent_topics_df = sent_topics_df.append(pd.Series([int(topic_num), round(prop_topic,4), topic_keywords]), ignore_index=True)\n",
    "            else:\n",
    "                break\n",
    "    sent_topics_df.columns = ['Dominant_Topic', 'Perc_Contribution', 'Topic_Keywords']\n",
    "\n",
    "    # Add original text to the end of the output\n",
    "    contents = pd.Series(texts)\n",
    "    sent_topics_df = pd.concat([sent_topics_df, contents], axis=1)\n",
    "    return(sent_topics_df)"
   ]
  },
  {
   "cell_type": "code",
   "execution_count": 102,
   "metadata": {},
   "outputs": [
    {
     "output_type": "execute_result",
     "data": {
      "text/plain": [
       "   Document_No  Dominant_Topic  Topic_Perc_Contrib  \\\n",
       "0            0             8.0              0.7914   \n",
       "1            1             5.0              0.9100   \n",
       "2            2             0.0              0.1000   \n",
       "3            3             0.0              0.1000   \n",
       "4            4             0.0              0.1000   \n",
       "5            5             3.0              0.7653   \n",
       "6            6             0.0              0.1000   \n",
       "7            7             0.0              0.1000   \n",
       "8            8             0.0              0.1000   \n",
       "9            9             0.0              0.1000   \n",
       "\n",
       "                                            Keywords  \\\n",
       "0  game, play, race, best, mode, offer, multiplay...   \n",
       "1  game, good, best, content, issu, seri, version...   \n",
       "2  game, play, stori, experi, like, time, want, w...   \n",
       "3  game, play, stori, experi, like, time, want, w...   \n",
       "4  game, play, stori, experi, like, time, want, w...   \n",
       "5  game, gameplay, like, titl, worth, experi, cha...   \n",
       "6  game, play, stori, experi, like, time, want, w...   \n",
       "7  game, play, stori, experi, like, time, want, w...   \n",
       "8  game, play, stori, experi, like, time, want, w...   \n",
       "9  game, play, stori, experi, like, time, want, w...   \n",
       "\n",
       "                                                Text  \n",
       "0  Subnautica Below Zero is the perfect reincarna...  \n",
       "1  Given that AntVentor is merely the first act o...  \n",
       "2                                                NaN  \n",
       "3                                                NaN  \n",
       "4                                                NaN  \n",
       "5  Occasional hiccups or no, having this much ope...  \n",
       "6                                                NaN  \n",
       "7                                                NaN  \n",
       "8                                                NaN  \n",
       "9                                                NaN  "
      ],
      "text/html": "<div>\n<style scoped>\n    .dataframe tbody tr th:only-of-type {\n        vertical-align: middle;\n    }\n\n    .dataframe tbody tr th {\n        vertical-align: top;\n    }\n\n    .dataframe thead th {\n        text-align: right;\n    }\n</style>\n<table border=\"1\" class=\"dataframe\">\n  <thead>\n    <tr style=\"text-align: right;\">\n      <th></th>\n      <th>Document_No</th>\n      <th>Dominant_Topic</th>\n      <th>Topic_Perc_Contrib</th>\n      <th>Keywords</th>\n      <th>Text</th>\n    </tr>\n  </thead>\n  <tbody>\n    <tr>\n      <th>0</th>\n      <td>0</td>\n      <td>8.0</td>\n      <td>0.7914</td>\n      <td>game, play, race, best, mode, offer, multiplay...</td>\n      <td>Subnautica Below Zero is the perfect reincarna...</td>\n    </tr>\n    <tr>\n      <th>1</th>\n      <td>1</td>\n      <td>5.0</td>\n      <td>0.9100</td>\n      <td>game, good, best, content, issu, seri, version...</td>\n      <td>Given that AntVentor is merely the first act o...</td>\n    </tr>\n    <tr>\n      <th>2</th>\n      <td>2</td>\n      <td>0.0</td>\n      <td>0.1000</td>\n      <td>game, play, stori, experi, like, time, want, w...</td>\n      <td>NaN</td>\n    </tr>\n    <tr>\n      <th>3</th>\n      <td>3</td>\n      <td>0.0</td>\n      <td>0.1000</td>\n      <td>game, play, stori, experi, like, time, want, w...</td>\n      <td>NaN</td>\n    </tr>\n    <tr>\n      <th>4</th>\n      <td>4</td>\n      <td>0.0</td>\n      <td>0.1000</td>\n      <td>game, play, stori, experi, like, time, want, w...</td>\n      <td>NaN</td>\n    </tr>\n    <tr>\n      <th>5</th>\n      <td>5</td>\n      <td>3.0</td>\n      <td>0.7653</td>\n      <td>game, gameplay, like, titl, worth, experi, cha...</td>\n      <td>Occasional hiccups or no, having this much ope...</td>\n    </tr>\n    <tr>\n      <th>6</th>\n      <td>6</td>\n      <td>0.0</td>\n      <td>0.1000</td>\n      <td>game, play, stori, experi, like, time, want, w...</td>\n      <td>NaN</td>\n    </tr>\n    <tr>\n      <th>7</th>\n      <td>7</td>\n      <td>0.0</td>\n      <td>0.1000</td>\n      <td>game, play, stori, experi, like, time, want, w...</td>\n      <td>NaN</td>\n    </tr>\n    <tr>\n      <th>8</th>\n      <td>8</td>\n      <td>0.0</td>\n      <td>0.1000</td>\n      <td>game, play, stori, experi, like, time, want, w...</td>\n      <td>NaN</td>\n    </tr>\n    <tr>\n      <th>9</th>\n      <td>9</td>\n      <td>0.0</td>\n      <td>0.1000</td>\n      <td>game, play, stori, experi, like, time, want, w...</td>\n      <td>NaN</td>\n    </tr>\n  </tbody>\n</table>\n</div>"
     },
     "metadata": {},
     "execution_count": 102
    }
   ],
   "source": [
    "df_topic_sents_keywords = format_topics_sentences(ldamodel=lda_model, corpus=bow_corpus, texts=documents['CriticReviewText'])\n",
    "\n",
    "# Format\n",
    "df_dominant_topic = df_topic_sents_keywords.reset_index()\n",
    "df_dominant_topic.columns = ['Document_No', 'Dominant_Topic', 'Topic_Perc_Contrib', 'Keywords', 'Text']\n",
    "df_dominant_topic.head(10)"
   ]
  },
  {
   "source": [
    "# Merging data analysis outcome"
   ],
   "cell_type": "markdown",
   "metadata": {}
  },
  {
   "cell_type": "code",
   "execution_count": 103,
   "metadata": {},
   "outputs": [
    {
     "output_type": "execute_result",
     "data": {
      "text/plain": [
       "                                     Game Platform  \\\n",
       "0  Grand Theft Auto: Liberty City Stories      PSP   \n",
       "1     Grand Theft Auto: Vice City Stories      PSP   \n",
       "2                Monster Hunter Freedom 3      PSP   \n",
       "3                            Gran Turismo      PSP   \n",
       "4            Monster Hunter Freedom Unite      PSP   \n",
       "\n",
       "                       Publisher VGChartzScore CriticScore TotalSales  \\\n",
       "0               Rockstar Games           N/A         8.8        7.72m   \n",
       "1               Rockstar Games           N/A         8.4        5.08m   \n",
       "2                       Capcom           N/A         N/A        4.87m   \n",
       "3  Sony Computer Entertainment           7.5         7.7        2.93m   \n",
       "4                       Capcom           N/A         7.7        5.50m   \n",
       "\n",
       "     ReleaseDate   LastUpdate  \n",
       "0  25th Oct 05            NaN  \n",
       "1  31st Oct 06            NaN  \n",
       "2  01st Dec 10    08th Jan 19  \n",
       "3  01st Oct 09            NaN  \n",
       "4  23rd Jun 09            NaN  "
      ],
      "text/html": "<div>\n<style scoped>\n    .dataframe tbody tr th:only-of-type {\n        vertical-align: middle;\n    }\n\n    .dataframe tbody tr th {\n        vertical-align: top;\n    }\n\n    .dataframe thead th {\n        text-align: right;\n    }\n</style>\n<table border=\"1\" class=\"dataframe\">\n  <thead>\n    <tr style=\"text-align: right;\">\n      <th></th>\n      <th>Game</th>\n      <th>Platform</th>\n      <th>Publisher</th>\n      <th>VGChartzScore</th>\n      <th>CriticScore</th>\n      <th>TotalSales</th>\n      <th>ReleaseDate</th>\n      <th>LastUpdate</th>\n    </tr>\n  </thead>\n  <tbody>\n    <tr>\n      <th>0</th>\n      <td>Grand Theft Auto: Liberty City Stories</td>\n      <td>PSP</td>\n      <td>Rockstar Games</td>\n      <td>N/A</td>\n      <td>8.8</td>\n      <td>7.72m</td>\n      <td>25th Oct 05</td>\n      <td>NaN</td>\n    </tr>\n    <tr>\n      <th>1</th>\n      <td>Grand Theft Auto: Vice City Stories</td>\n      <td>PSP</td>\n      <td>Rockstar Games</td>\n      <td>N/A</td>\n      <td>8.4</td>\n      <td>5.08m</td>\n      <td>31st Oct 06</td>\n      <td>NaN</td>\n    </tr>\n    <tr>\n      <th>2</th>\n      <td>Monster Hunter Freedom 3</td>\n      <td>PSP</td>\n      <td>Capcom</td>\n      <td>N/A</td>\n      <td>N/A</td>\n      <td>4.87m</td>\n      <td>01st Dec 10</td>\n      <td>08th Jan 19</td>\n    </tr>\n    <tr>\n      <th>3</th>\n      <td>Gran Turismo</td>\n      <td>PSP</td>\n      <td>Sony Computer Entertainment</td>\n      <td>7.5</td>\n      <td>7.7</td>\n      <td>2.93m</td>\n      <td>01st Oct 09</td>\n      <td>NaN</td>\n    </tr>\n    <tr>\n      <th>4</th>\n      <td>Monster Hunter Freedom Unite</td>\n      <td>PSP</td>\n      <td>Capcom</td>\n      <td>N/A</td>\n      <td>7.7</td>\n      <td>5.50m</td>\n      <td>23rd Jun 09</td>\n      <td>NaN</td>\n    </tr>\n  </tbody>\n</table>\n</div>"
     },
     "metadata": {},
     "execution_count": 103
    }
   ],
   "source": [
    "sales_data = pd.read_csv(r'C:\\Users\\B.R\\Documents\\HvA\\Master_DDB\\MP\\Scraper_eWOM\\eWOM\\spiders\\vgchartz.csv')\n",
    "sales_data.head()"
   ]
  },
  {
   "cell_type": "code",
   "execution_count": 104,
   "metadata": {},
   "outputs": [],
   "source": [
    "#merging sales data with metacritic reviews\n",
    "merge_sales = pd.merge(documents, sales_data, on='Game', how='left')"
   ]
  },
  {
   "cell_type": "code",
   "execution_count": 105,
   "metadata": {},
   "outputs": [],
   "source": [
    "#merging topic dominance scores\n",
    "topicsales = merge_sales.merge(df_dominant_topic, left_index=True, right_index=True)"
   ]
  },
  {
   "cell_type": "code",
   "execution_count": 106,
   "metadata": {},
   "outputs": [],
   "source": [
    "#merging sentimentscores\n",
    "sentisales = pd.merge(topicsales, sentimentscores, on='Game', how='left')"
   ]
  },
  {
   "cell_type": "code",
   "execution_count": 107,
   "metadata": {},
   "outputs": [],
   "source": [
    "#merging innovativeness scores\n",
    "finaldata = pd.merge(innovativenesscores, sentisales, on='Game', how='left')"
   ]
  },
  {
   "cell_type": "code",
   "execution_count": 108,
   "metadata": {},
   "outputs": [],
   "source": [
    "#Drop NaNs for the regression\n",
    "finaldata.dropna(subset = ['StdDev_ContainWord', 'Total_innovativeness', 'Topic_Perc_Contrib', 'UserScore', 'TotalSales'], inplace=True)"
   ]
  },
  {
   "cell_type": "code",
   "execution_count": 109,
   "metadata": {},
   "outputs": [],
   "source": [
    "finaldata['TotalSales'] = finaldata['TotalSales'].map(lambda x: x.rstrip('m'))"
   ]
  },
  {
   "cell_type": "code",
   "execution_count": 110,
   "metadata": {},
   "outputs": [
    {
     "output_type": "stream",
     "name": "stdout",
     "text": [
      "StdDev_ContainWord      0\nTotal_innovativeness    0\nTopic_Perc_Contrib      0\nUserScore               0\nTotalSales              0\ndtype: int64\nStdDev_ContainWord      0\nTotal_innovativeness    0\nTopic_Perc_Contrib      0\nUserScore               0\nTotalSales              0\ndtype: int64\n"
     ]
    }
   ],
   "source": [
    "#validation on null data and NaNs in dataset\n",
    "print(finaldata[['StdDev_ContainWord', 'Total_innovativeness', 'Topic_Perc_Contrib', 'UserScore', 'TotalSales']].isnull().sum())\n",
    "print(finaldata[['StdDev_ContainWord', 'Total_innovativeness', 'Topic_Perc_Contrib', 'UserScore', 'TotalSales']].isna().sum())"
   ]
  },
  {
   "cell_type": "code",
   "execution_count": 111,
   "metadata": {},
   "outputs": [
    {
     "output_type": "execute_result",
     "data": {
      "text/plain": [
       "                                Game  Total_innovativeness  \\\n",
       "28                       007 Legends                     6   \n",
       "32            007: Quantum of Solace                     9   \n",
       "33            007: Quantum of Solace                     9   \n",
       "34            007: Quantum of Solace                     9   \n",
       "94  2010 FIFA World Cup South Africa                     0   \n",
       "\n",
       "    StdDev_innovativeness                                   CriticReviewText  \\\n",
       "28               0.286033                                                NaN   \n",
       "32               0.349509  The cover-feature provides a tactical touch to...   \n",
       "33               0.349509                                                NaN   \n",
       "34               0.349509                                                NaN   \n",
       "94               0.000000  This is a fantastic title that not only all Wi...   \n",
       "\n",
       "    UserScore    index Platform     Publisher VGChartzScore CriticScore  ...  \\\n",
       "28        5.0   2593.0     WiiU  Activision           N/A         4.2    ...   \n",
       "32        7.3   3070.0      PS3  Activision           N/A         6.6    ...   \n",
       "33        7.0  13471.0      PS3  Activision           N/A         6.6    ...   \n",
       "34        6.6  19219.0      PS3  Activision           N/A         6.6    ...   \n",
       "94        6.7   3707.0      PSP   EA Sports           N/A         6.8    ...   \n",
       "\n",
       "     LastUpdate Document_No Dominant_Topic  Topic_Perc_Contrib  \\\n",
       "28  16th Mar 18      2623.0            1.0              0.4203   \n",
       "32          NaN      3148.0            6.0              0.4945   \n",
       "33          NaN     14205.0            0.0              0.1000   \n",
       "34          NaN     20401.0            8.0              0.8153   \n",
       "94          NaN      3827.0            2.0              0.4776   \n",
       "\n",
       "                                             Keywords  \\\n",
       "28  game, stori, good, player, look, adventur, exp...   \n",
       "32  game, littl, like, genr, puzzl, good, time, of...   \n",
       "33  game, play, stori, experi, like, time, want, w...   \n",
       "34  game, play, race, best, mode, offer, multiplay...   \n",
       "94  game, like, play, enjoy, experi, time, feel, g...   \n",
       "\n",
       "                                                 Text StdDev_Sentiment  \\\n",
       "28  Basically Dance Dance Revolution for your thum...             -2.0   \n",
       "32  Bplus has succeeded in creating a very fun lit...              0.0   \n",
       "33                                                NaN              0.0   \n",
       "34                                                NaN              0.0   \n",
       "94  As always with the McRae series, the sublime h...             26.0   \n",
       "\n",
       "   TotalNegative  TotalPositive  StdDev_ContainWord  \n",
       "28          17.0           17.0            0.121101  \n",
       "32          14.0           14.0            0.123245  \n",
       "33          14.0           14.0            0.123245  \n",
       "34          14.0           14.0            0.123245  \n",
       "94          16.0           31.0            0.154138  \n",
       "\n",
       "[5 rows x 22 columns]"
      ],
      "text/html": "<div>\n<style scoped>\n    .dataframe tbody tr th:only-of-type {\n        vertical-align: middle;\n    }\n\n    .dataframe tbody tr th {\n        vertical-align: top;\n    }\n\n    .dataframe thead th {\n        text-align: right;\n    }\n</style>\n<table border=\"1\" class=\"dataframe\">\n  <thead>\n    <tr style=\"text-align: right;\">\n      <th></th>\n      <th>Game</th>\n      <th>Total_innovativeness</th>\n      <th>StdDev_innovativeness</th>\n      <th>CriticReviewText</th>\n      <th>UserScore</th>\n      <th>index</th>\n      <th>Platform</th>\n      <th>Publisher</th>\n      <th>VGChartzScore</th>\n      <th>CriticScore</th>\n      <th>...</th>\n      <th>LastUpdate</th>\n      <th>Document_No</th>\n      <th>Dominant_Topic</th>\n      <th>Topic_Perc_Contrib</th>\n      <th>Keywords</th>\n      <th>Text</th>\n      <th>StdDev_Sentiment</th>\n      <th>TotalNegative</th>\n      <th>TotalPositive</th>\n      <th>StdDev_ContainWord</th>\n    </tr>\n  </thead>\n  <tbody>\n    <tr>\n      <th>28</th>\n      <td>007 Legends</td>\n      <td>6</td>\n      <td>0.286033</td>\n      <td>NaN</td>\n      <td>5.0</td>\n      <td>2593.0</td>\n      <td>WiiU</td>\n      <td>Activision</td>\n      <td>N/A</td>\n      <td>4.2</td>\n      <td>...</td>\n      <td>16th Mar 18</td>\n      <td>2623.0</td>\n      <td>1.0</td>\n      <td>0.4203</td>\n      <td>game, stori, good, player, look, adventur, exp...</td>\n      <td>Basically Dance Dance Revolution for your thum...</td>\n      <td>-2.0</td>\n      <td>17.0</td>\n      <td>17.0</td>\n      <td>0.121101</td>\n    </tr>\n    <tr>\n      <th>32</th>\n      <td>007: Quantum of Solace</td>\n      <td>9</td>\n      <td>0.349509</td>\n      <td>The cover-feature provides a tactical touch to...</td>\n      <td>7.3</td>\n      <td>3070.0</td>\n      <td>PS3</td>\n      <td>Activision</td>\n      <td>N/A</td>\n      <td>6.6</td>\n      <td>...</td>\n      <td>NaN</td>\n      <td>3148.0</td>\n      <td>6.0</td>\n      <td>0.4945</td>\n      <td>game, littl, like, genr, puzzl, good, time, of...</td>\n      <td>Bplus has succeeded in creating a very fun lit...</td>\n      <td>0.0</td>\n      <td>14.0</td>\n      <td>14.0</td>\n      <td>0.123245</td>\n    </tr>\n    <tr>\n      <th>33</th>\n      <td>007: Quantum of Solace</td>\n      <td>9</td>\n      <td>0.349509</td>\n      <td>NaN</td>\n      <td>7.0</td>\n      <td>13471.0</td>\n      <td>PS3</td>\n      <td>Activision</td>\n      <td>N/A</td>\n      <td>6.6</td>\n      <td>...</td>\n      <td>NaN</td>\n      <td>14205.0</td>\n      <td>0.0</td>\n      <td>0.1000</td>\n      <td>game, play, stori, experi, like, time, want, w...</td>\n      <td>NaN</td>\n      <td>0.0</td>\n      <td>14.0</td>\n      <td>14.0</td>\n      <td>0.123245</td>\n    </tr>\n    <tr>\n      <th>34</th>\n      <td>007: Quantum of Solace</td>\n      <td>9</td>\n      <td>0.349509</td>\n      <td>NaN</td>\n      <td>6.6</td>\n      <td>19219.0</td>\n      <td>PS3</td>\n      <td>Activision</td>\n      <td>N/A</td>\n      <td>6.6</td>\n      <td>...</td>\n      <td>NaN</td>\n      <td>20401.0</td>\n      <td>8.0</td>\n      <td>0.8153</td>\n      <td>game, play, race, best, mode, offer, multiplay...</td>\n      <td>NaN</td>\n      <td>0.0</td>\n      <td>14.0</td>\n      <td>14.0</td>\n      <td>0.123245</td>\n    </tr>\n    <tr>\n      <th>94</th>\n      <td>2010 FIFA World Cup South Africa</td>\n      <td>0</td>\n      <td>0.000000</td>\n      <td>This is a fantastic title that not only all Wi...</td>\n      <td>6.7</td>\n      <td>3707.0</td>\n      <td>PSP</td>\n      <td>EA Sports</td>\n      <td>N/A</td>\n      <td>6.8</td>\n      <td>...</td>\n      <td>NaN</td>\n      <td>3827.0</td>\n      <td>2.0</td>\n      <td>0.4776</td>\n      <td>game, like, play, enjoy, experi, time, feel, g...</td>\n      <td>As always with the McRae series, the sublime h...</td>\n      <td>26.0</td>\n      <td>16.0</td>\n      <td>31.0</td>\n      <td>0.154138</td>\n    </tr>\n  </tbody>\n</table>\n<p>5 rows × 22 columns</p>\n</div>"
     },
     "metadata": {},
     "execution_count": 111
    }
   ],
   "source": [
    "finaldata.head()"
   ]
  },
  {
   "source": [
    "# Multivariate regression\n"
   ],
   "cell_type": "markdown",
   "metadata": {}
  },
  {
   "cell_type": "code",
   "execution_count": 127,
   "metadata": {},
   "outputs": [],
   "source": [
    "#define X and Y dependent and independent variables\n",
    "X = finaldata[['StdDev_ContainWord', 'StdDev_innovativeness', 'Topic_Perc_Contrib', 'UserScore']].astype(float)\n",
    "y = finaldata['TotalSales'].astype(float)"
   ]
  },
  {
   "cell_type": "code",
   "execution_count": 128,
   "metadata": {},
   "outputs": [
    {
     "output_type": "display_data",
     "data": {
      "text/plain": "<Figure size 432x288 with 1 Axes>",
      "image/svg+xml": "<?xml version=\"1.0\" encoding=\"utf-8\" standalone=\"no\"?>\r\n<!DOCTYPE svg PUBLIC \"-//W3C//DTD SVG 1.1//EN\"\r\n  \"http://www.w3.org/Graphics/SVG/1.1/DTD/svg11.dtd\">\r\n<!-- Created with matplotlib (https://matplotlib.org/) -->\r\n<svg height=\"249.808028pt\" version=\"1.1\" viewBox=\"0 0 384.160595 249.808028\" width=\"384.160595pt\" xmlns=\"http://www.w3.org/2000/svg\" xmlns:xlink=\"http://www.w3.org/1999/xlink\">\r\n <metadata>\r\n  <rdf:RDF xmlns:cc=\"http://creativecommons.org/ns#\" xmlns:dc=\"http://purl.org/dc/elements/1.1/\" xmlns:rdf=\"http://www.w3.org/1999/02/22-rdf-syntax-ns#\">\r\n   <cc:Work>\r\n    <dc:type rdf:resource=\"http://purl.org/dc/dcmitype/StillImage\"/>\r\n    <dc:date>2021-06-17T14:55:42.216151</dc:date>\r\n    <dc:format>image/svg+xml</dc:format>\r\n    <dc:creator>\r\n     <cc:Agent>\r\n      <dc:title>Matplotlib v3.3.3, https://matplotlib.org/</dc:title>\r\n     </cc:Agent>\r\n    </dc:creator>\r\n   </cc:Work>\r\n  </rdf:RDF>\r\n </metadata>\r\n <defs>\r\n  <style type=\"text/css\">*{stroke-linecap:butt;stroke-linejoin:round;}</style>\r\n </defs>\r\n <g id=\"figure_1\">\r\n  <g id=\"patch_1\">\r\n   <path d=\"M -0 249.808028 \r\nL 384.160595 249.808028 \r\nL 384.160595 0 \r\nL -0 0 \r\nz\r\n\" style=\"fill:none;\"/>\r\n  </g>\r\n  <g id=\"axes_1\">\r\n   <g id=\"patch_2\">\r\n    <path d=\"M 39.65 225.929903 \r\nL 374.45 225.929903 \r\nL 374.45 8.489903 \r\nL 39.65 8.489903 \r\nz\r\n\" style=\"fill:#ffffff;\"/>\r\n   </g>\r\n   <g id=\"patch_3\">\r\n    <path clip-path=\"url(#pcf02f6d259)\" d=\"M 54.868182 225.929903 \r\nL 85.304545 225.929903 \r\nL 85.304545 18.844189 \r\nL 54.868182 18.844189 \r\nz\r\n\" style=\"fill:#1f77b4;\"/>\r\n   </g>\r\n   <g id=\"patch_4\">\r\n    <path clip-path=\"url(#pcf02f6d259)\" d=\"M 85.304545 225.929903 \r\nL 115.740909 225.929903 \r\nL 115.740909 210.239963 \r\nL 85.304545 210.239963 \r\nz\r\n\" style=\"fill:#1f77b4;\"/>\r\n   </g>\r\n   <g id=\"patch_5\">\r\n    <path clip-path=\"url(#pcf02f6d259)\" d=\"M 115.740909 225.929903 \r\nL 146.177273 225.929903 \r\nL 146.177273 223.888062 \r\nL 115.740909 223.888062 \r\nz\r\n\" style=\"fill:#1f77b4;\"/>\r\n   </g>\r\n   <g id=\"patch_6\">\r\n    <path clip-path=\"url(#pcf02f6d259)\" d=\"M 146.177273 225.929903 \r\nL 176.613636 225.929903 \r\nL 176.613636 225.07018 \r\nL 146.177273 225.07018 \r\nz\r\n\" style=\"fill:#1f77b4;\"/>\r\n   </g>\r\n   <g id=\"patch_7\">\r\n    <path clip-path=\"url(#pcf02f6d259)\" d=\"M 176.613636 225.929903 \r\nL 207.05 225.929903 \r\nL 207.05 225.07018 \r\nL 176.613636 225.07018 \r\nz\r\n\" style=\"fill:#1f77b4;\"/>\r\n   </g>\r\n   <g id=\"patch_8\">\r\n    <path clip-path=\"url(#pcf02f6d259)\" d=\"M 207.05 225.929903 \r\nL 237.486364 225.929903 \r\nL 237.486364 225.929903 \r\nL 207.05 225.929903 \r\nz\r\n\" style=\"fill:#1f77b4;\"/>\r\n   </g>\r\n   <g id=\"patch_9\">\r\n    <path clip-path=\"url(#pcf02f6d259)\" d=\"M 237.486364 225.929903 \r\nL 267.922727 225.929903 \r\nL 267.922727 225.929903 \r\nL 237.486364 225.929903 \r\nz\r\n\" style=\"fill:#1f77b4;\"/>\r\n   </g>\r\n   <g id=\"patch_10\">\r\n    <path clip-path=\"url(#pcf02f6d259)\" d=\"M 267.922727 225.929903 \r\nL 298.359091 225.929903 \r\nL 298.359091 225.822438 \r\nL 267.922727 225.822438 \r\nz\r\n\" style=\"fill:#1f77b4;\"/>\r\n   </g>\r\n   <g id=\"patch_11\">\r\n    <path clip-path=\"url(#pcf02f6d259)\" d=\"M 298.359091 225.929903 \r\nL 328.795455 225.929903 \r\nL 328.795455 225.929903 \r\nL 298.359091 225.929903 \r\nz\r\n\" style=\"fill:#1f77b4;\"/>\r\n   </g>\r\n   <g id=\"patch_12\">\r\n    <path clip-path=\"url(#pcf02f6d259)\" d=\"M 328.795455 225.929903 \r\nL 359.231818 225.929903 \r\nL 359.231818 225.822438 \r\nL 328.795455 225.822438 \r\nz\r\n\" style=\"fill:#1f77b4;\"/>\r\n   </g>\r\n   <g id=\"matplotlib.axis_1\">\r\n    <g id=\"xtick_1\">\r\n     <g id=\"line2d_1\">\r\n      <defs>\r\n       <path d=\"M 0 0 \r\nL 0 3.5 \r\n\" id=\"mc3c62cb50a\" style=\"stroke:#000000;stroke-width:0.8;\"/>\r\n      </defs>\r\n      <g>\r\n       <use style=\"stroke:#000000;stroke-width:0.8;\" x=\"54.868182\" xlink:href=\"#mc3c62cb50a\" y=\"225.929903\"/>\r\n      </g>\r\n     </g>\r\n     <g id=\"text_1\">\r\n      <!-- 0 -->\r\n      <g transform=\"translate(51.686932 240.528341)scale(0.1 -0.1)\">\r\n       <defs>\r\n        <path d=\"M 31.78125 66.40625 \r\nQ 24.171875 66.40625 20.328125 58.90625 \r\nQ 16.5 51.421875 16.5 36.375 \r\nQ 16.5 21.390625 20.328125 13.890625 \r\nQ 24.171875 6.390625 31.78125 6.390625 \r\nQ 39.453125 6.390625 43.28125 13.890625 \r\nQ 47.125 21.390625 47.125 36.375 \r\nQ 47.125 51.421875 43.28125 58.90625 \r\nQ 39.453125 66.40625 31.78125 66.40625 \r\nz\r\nM 31.78125 74.21875 \r\nQ 44.046875 74.21875 50.515625 64.515625 \r\nQ 56.984375 54.828125 56.984375 36.375 \r\nQ 56.984375 17.96875 50.515625 8.265625 \r\nQ 44.046875 -1.421875 31.78125 -1.421875 \r\nQ 19.53125 -1.421875 13.0625 8.265625 \r\nQ 6.59375 17.96875 6.59375 36.375 \r\nQ 6.59375 54.828125 13.0625 64.515625 \r\nQ 19.53125 74.21875 31.78125 74.21875 \r\nz\r\n\" id=\"DejaVuSans-48\"/>\r\n       </defs>\r\n       <use xlink:href=\"#DejaVuSans-48\"/>\r\n      </g>\r\n     </g>\r\n    </g>\r\n    <g id=\"xtick_2\">\r\n     <g id=\"line2d_2\">\r\n      <g>\r\n       <use style=\"stroke:#000000;stroke-width:0.8;\" x=\"107.489834\" xlink:href=\"#mc3c62cb50a\" y=\"225.929903\"/>\r\n      </g>\r\n     </g>\r\n     <g id=\"text_2\">\r\n      <!-- 5 -->\r\n      <g transform=\"translate(104.308584 240.528341)scale(0.1 -0.1)\">\r\n       <defs>\r\n        <path d=\"M 10.796875 72.90625 \r\nL 49.515625 72.90625 \r\nL 49.515625 64.59375 \r\nL 19.828125 64.59375 \r\nL 19.828125 46.734375 \r\nQ 21.96875 47.46875 24.109375 47.828125 \r\nQ 26.265625 48.1875 28.421875 48.1875 \r\nQ 40.625 48.1875 47.75 41.5 \r\nQ 54.890625 34.8125 54.890625 23.390625 \r\nQ 54.890625 11.625 47.5625 5.09375 \r\nQ 40.234375 -1.421875 26.90625 -1.421875 \r\nQ 22.3125 -1.421875 17.546875 -0.640625 \r\nQ 12.796875 0.140625 7.71875 1.703125 \r\nL 7.71875 11.625 \r\nQ 12.109375 9.234375 16.796875 8.0625 \r\nQ 21.484375 6.890625 26.703125 6.890625 \r\nQ 35.15625 6.890625 40.078125 11.328125 \r\nQ 45.015625 15.765625 45.015625 23.390625 \r\nQ 45.015625 31 40.078125 35.4375 \r\nQ 35.15625 39.890625 26.703125 39.890625 \r\nQ 22.75 39.890625 18.8125 39.015625 \r\nQ 14.890625 38.140625 10.796875 36.28125 \r\nz\r\n\" id=\"DejaVuSans-53\"/>\r\n       </defs>\r\n       <use xlink:href=\"#DejaVuSans-53\"/>\r\n      </g>\r\n     </g>\r\n    </g>\r\n    <g id=\"xtick_3\">\r\n     <g id=\"line2d_3\">\r\n      <g>\r\n       <use style=\"stroke:#000000;stroke-width:0.8;\" x=\"160.111486\" xlink:href=\"#mc3c62cb50a\" y=\"225.929903\"/>\r\n      </g>\r\n     </g>\r\n     <g id=\"text_3\">\r\n      <!-- 10 -->\r\n      <g transform=\"translate(153.748986 240.528341)scale(0.1 -0.1)\">\r\n       <defs>\r\n        <path d=\"M 12.40625 8.296875 \r\nL 28.515625 8.296875 \r\nL 28.515625 63.921875 \r\nL 10.984375 60.40625 \r\nL 10.984375 69.390625 \r\nL 28.421875 72.90625 \r\nL 38.28125 72.90625 \r\nL 38.28125 8.296875 \r\nL 54.390625 8.296875 \r\nL 54.390625 0 \r\nL 12.40625 0 \r\nz\r\n\" id=\"DejaVuSans-49\"/>\r\n       </defs>\r\n       <use xlink:href=\"#DejaVuSans-49\"/>\r\n       <use x=\"63.623047\" xlink:href=\"#DejaVuSans-48\"/>\r\n      </g>\r\n     </g>\r\n    </g>\r\n    <g id=\"xtick_4\">\r\n     <g id=\"line2d_4\">\r\n      <g>\r\n       <use style=\"stroke:#000000;stroke-width:0.8;\" x=\"212.733138\" xlink:href=\"#mc3c62cb50a\" y=\"225.929903\"/>\r\n      </g>\r\n     </g>\r\n     <g id=\"text_4\">\r\n      <!-- 15 -->\r\n      <g transform=\"translate(206.370638 240.528341)scale(0.1 -0.1)\">\r\n       <use xlink:href=\"#DejaVuSans-49\"/>\r\n       <use x=\"63.623047\" xlink:href=\"#DejaVuSans-53\"/>\r\n      </g>\r\n     </g>\r\n    </g>\r\n    <g id=\"xtick_5\">\r\n     <g id=\"line2d_5\">\r\n      <g>\r\n       <use style=\"stroke:#000000;stroke-width:0.8;\" x=\"265.354791\" xlink:href=\"#mc3c62cb50a\" y=\"225.929903\"/>\r\n      </g>\r\n     </g>\r\n     <g id=\"text_5\">\r\n      <!-- 20 -->\r\n      <g transform=\"translate(258.992291 240.528341)scale(0.1 -0.1)\">\r\n       <defs>\r\n        <path d=\"M 19.1875 8.296875 \r\nL 53.609375 8.296875 \r\nL 53.609375 0 \r\nL 7.328125 0 \r\nL 7.328125 8.296875 \r\nQ 12.9375 14.109375 22.625 23.890625 \r\nQ 32.328125 33.6875 34.8125 36.53125 \r\nQ 39.546875 41.84375 41.421875 45.53125 \r\nQ 43.3125 49.21875 43.3125 52.78125 \r\nQ 43.3125 58.59375 39.234375 62.25 \r\nQ 35.15625 65.921875 28.609375 65.921875 \r\nQ 23.96875 65.921875 18.8125 64.3125 \r\nQ 13.671875 62.703125 7.8125 59.421875 \r\nL 7.8125 69.390625 \r\nQ 13.765625 71.78125 18.9375 73 \r\nQ 24.125 74.21875 28.421875 74.21875 \r\nQ 39.75 74.21875 46.484375 68.546875 \r\nQ 53.21875 62.890625 53.21875 53.421875 \r\nQ 53.21875 48.921875 51.53125 44.890625 \r\nQ 49.859375 40.875 45.40625 35.40625 \r\nQ 44.1875 33.984375 37.640625 27.21875 \r\nQ 31.109375 20.453125 19.1875 8.296875 \r\nz\r\n\" id=\"DejaVuSans-50\"/>\r\n       </defs>\r\n       <use xlink:href=\"#DejaVuSans-50\"/>\r\n       <use x=\"63.623047\" xlink:href=\"#DejaVuSans-48\"/>\r\n      </g>\r\n     </g>\r\n    </g>\r\n    <g id=\"xtick_6\">\r\n     <g id=\"line2d_6\">\r\n      <g>\r\n       <use style=\"stroke:#000000;stroke-width:0.8;\" x=\"317.976443\" xlink:href=\"#mc3c62cb50a\" y=\"225.929903\"/>\r\n      </g>\r\n     </g>\r\n     <g id=\"text_6\">\r\n      <!-- 25 -->\r\n      <g transform=\"translate(311.613943 240.528341)scale(0.1 -0.1)\">\r\n       <use xlink:href=\"#DejaVuSans-50\"/>\r\n       <use x=\"63.623047\" xlink:href=\"#DejaVuSans-53\"/>\r\n      </g>\r\n     </g>\r\n    </g>\r\n    <g id=\"xtick_7\">\r\n     <g id=\"line2d_7\">\r\n      <g>\r\n       <use style=\"stroke:#000000;stroke-width:0.8;\" x=\"370.598095\" xlink:href=\"#mc3c62cb50a\" y=\"225.929903\"/>\r\n      </g>\r\n     </g>\r\n     <g id=\"text_7\">\r\n      <!-- 30 -->\r\n      <g transform=\"translate(364.235595 240.528341)scale(0.1 -0.1)\">\r\n       <defs>\r\n        <path d=\"M 40.578125 39.3125 \r\nQ 47.65625 37.796875 51.625 33 \r\nQ 55.609375 28.21875 55.609375 21.1875 \r\nQ 55.609375 10.40625 48.1875 4.484375 \r\nQ 40.765625 -1.421875 27.09375 -1.421875 \r\nQ 22.515625 -1.421875 17.65625 -0.515625 \r\nQ 12.796875 0.390625 7.625 2.203125 \r\nL 7.625 11.71875 \r\nQ 11.71875 9.328125 16.59375 8.109375 \r\nQ 21.484375 6.890625 26.8125 6.890625 \r\nQ 36.078125 6.890625 40.9375 10.546875 \r\nQ 45.796875 14.203125 45.796875 21.1875 \r\nQ 45.796875 27.640625 41.28125 31.265625 \r\nQ 36.765625 34.90625 28.71875 34.90625 \r\nL 20.21875 34.90625 \r\nL 20.21875 43.015625 \r\nL 29.109375 43.015625 \r\nQ 36.375 43.015625 40.234375 45.921875 \r\nQ 44.09375 48.828125 44.09375 54.296875 \r\nQ 44.09375 59.90625 40.109375 62.90625 \r\nQ 36.140625 65.921875 28.71875 65.921875 \r\nQ 24.65625 65.921875 20.015625 65.03125 \r\nQ 15.375 64.15625 9.8125 62.3125 \r\nL 9.8125 71.09375 \r\nQ 15.4375 72.65625 20.34375 73.4375 \r\nQ 25.25 74.21875 29.59375 74.21875 \r\nQ 40.828125 74.21875 47.359375 69.109375 \r\nQ 53.90625 64.015625 53.90625 55.328125 \r\nQ 53.90625 49.265625 50.4375 45.09375 \r\nQ 46.96875 40.921875 40.578125 39.3125 \r\nz\r\n\" id=\"DejaVuSans-51\"/>\r\n       </defs>\r\n       <use xlink:href=\"#DejaVuSans-51\"/>\r\n       <use x=\"63.623047\" xlink:href=\"#DejaVuSans-48\"/>\r\n      </g>\r\n     </g>\r\n    </g>\r\n   </g>\r\n   <g id=\"matplotlib.axis_2\">\r\n    <g id=\"ytick_1\">\r\n     <g id=\"line2d_8\">\r\n      <defs>\r\n       <path d=\"M 0 0 \r\nL -3.5 0 \r\n\" id=\"m464cd36073\" style=\"stroke:#000000;stroke-width:0.8;\"/>\r\n      </defs>\r\n      <g>\r\n       <use style=\"stroke:#000000;stroke-width:0.8;\" x=\"39.65\" xlink:href=\"#m464cd36073\" y=\"225.929903\"/>\r\n      </g>\r\n     </g>\r\n     <g id=\"text_8\">\r\n      <!-- 0 -->\r\n      <g transform=\"translate(26.2875 229.729122)scale(0.1 -0.1)\">\r\n       <use xlink:href=\"#DejaVuSans-48\"/>\r\n      </g>\r\n     </g>\r\n    </g>\r\n    <g id=\"ytick_2\">\r\n     <g id=\"line2d_9\">\r\n      <g>\r\n       <use style=\"stroke:#000000;stroke-width:0.8;\" x=\"39.65\" xlink:href=\"#m464cd36073\" y=\"199.063567\"/>\r\n      </g>\r\n     </g>\r\n     <g id=\"text_9\">\r\n      <!-- 250 -->\r\n      <g transform=\"translate(13.5625 202.862786)scale(0.1 -0.1)\">\r\n       <use xlink:href=\"#DejaVuSans-50\"/>\r\n       <use x=\"63.623047\" xlink:href=\"#DejaVuSans-53\"/>\r\n       <use x=\"127.246094\" xlink:href=\"#DejaVuSans-48\"/>\r\n      </g>\r\n     </g>\r\n    </g>\r\n    <g id=\"ytick_3\">\r\n     <g id=\"line2d_10\">\r\n      <g>\r\n       <use style=\"stroke:#000000;stroke-width:0.8;\" x=\"39.65\" xlink:href=\"#m464cd36073\" y=\"172.197232\"/>\r\n      </g>\r\n     </g>\r\n     <g id=\"text_10\">\r\n      <!-- 500 -->\r\n      <g transform=\"translate(13.5625 175.996451)scale(0.1 -0.1)\">\r\n       <use xlink:href=\"#DejaVuSans-53\"/>\r\n       <use x=\"63.623047\" xlink:href=\"#DejaVuSans-48\"/>\r\n       <use x=\"127.246094\" xlink:href=\"#DejaVuSans-48\"/>\r\n      </g>\r\n     </g>\r\n    </g>\r\n    <g id=\"ytick_4\">\r\n     <g id=\"line2d_11\">\r\n      <g>\r\n       <use style=\"stroke:#000000;stroke-width:0.8;\" x=\"39.65\" xlink:href=\"#m464cd36073\" y=\"145.330896\"/>\r\n      </g>\r\n     </g>\r\n     <g id=\"text_11\">\r\n      <!-- 750 -->\r\n      <g transform=\"translate(13.5625 149.130115)scale(0.1 -0.1)\">\r\n       <defs>\r\n        <path d=\"M 8.203125 72.90625 \r\nL 55.078125 72.90625 \r\nL 55.078125 68.703125 \r\nL 28.609375 0 \r\nL 18.3125 0 \r\nL 43.21875 64.59375 \r\nL 8.203125 64.59375 \r\nz\r\n\" id=\"DejaVuSans-55\"/>\r\n       </defs>\r\n       <use xlink:href=\"#DejaVuSans-55\"/>\r\n       <use x=\"63.623047\" xlink:href=\"#DejaVuSans-53\"/>\r\n       <use x=\"127.246094\" xlink:href=\"#DejaVuSans-48\"/>\r\n      </g>\r\n     </g>\r\n    </g>\r\n    <g id=\"ytick_5\">\r\n     <g id=\"line2d_12\">\r\n      <g>\r\n       <use style=\"stroke:#000000;stroke-width:0.8;\" x=\"39.65\" xlink:href=\"#m464cd36073\" y=\"118.464561\"/>\r\n      </g>\r\n     </g>\r\n     <g id=\"text_12\">\r\n      <!-- 1000 -->\r\n      <g transform=\"translate(7.2 122.26378)scale(0.1 -0.1)\">\r\n       <use xlink:href=\"#DejaVuSans-49\"/>\r\n       <use x=\"63.623047\" xlink:href=\"#DejaVuSans-48\"/>\r\n       <use x=\"127.246094\" xlink:href=\"#DejaVuSans-48\"/>\r\n       <use x=\"190.869141\" xlink:href=\"#DejaVuSans-48\"/>\r\n      </g>\r\n     </g>\r\n    </g>\r\n    <g id=\"ytick_6\">\r\n     <g id=\"line2d_13\">\r\n      <g>\r\n       <use style=\"stroke:#000000;stroke-width:0.8;\" x=\"39.65\" xlink:href=\"#m464cd36073\" y=\"91.598225\"/>\r\n      </g>\r\n     </g>\r\n     <g id=\"text_13\">\r\n      <!-- 1250 -->\r\n      <g transform=\"translate(7.2 95.397444)scale(0.1 -0.1)\">\r\n       <use xlink:href=\"#DejaVuSans-49\"/>\r\n       <use x=\"63.623047\" xlink:href=\"#DejaVuSans-50\"/>\r\n       <use x=\"127.246094\" xlink:href=\"#DejaVuSans-53\"/>\r\n       <use x=\"190.869141\" xlink:href=\"#DejaVuSans-48\"/>\r\n      </g>\r\n     </g>\r\n    </g>\r\n    <g id=\"ytick_7\">\r\n     <g id=\"line2d_14\">\r\n      <g>\r\n       <use style=\"stroke:#000000;stroke-width:0.8;\" x=\"39.65\" xlink:href=\"#m464cd36073\" y=\"64.73189\"/>\r\n      </g>\r\n     </g>\r\n     <g id=\"text_14\">\r\n      <!-- 1500 -->\r\n      <g transform=\"translate(7.2 68.531109)scale(0.1 -0.1)\">\r\n       <use xlink:href=\"#DejaVuSans-49\"/>\r\n       <use x=\"63.623047\" xlink:href=\"#DejaVuSans-53\"/>\r\n       <use x=\"127.246094\" xlink:href=\"#DejaVuSans-48\"/>\r\n       <use x=\"190.869141\" xlink:href=\"#DejaVuSans-48\"/>\r\n      </g>\r\n     </g>\r\n    </g>\r\n    <g id=\"ytick_8\">\r\n     <g id=\"line2d_15\">\r\n      <g>\r\n       <use style=\"stroke:#000000;stroke-width:0.8;\" x=\"39.65\" xlink:href=\"#m464cd36073\" y=\"37.865554\"/>\r\n      </g>\r\n     </g>\r\n     <g id=\"text_15\">\r\n      <!-- 1750 -->\r\n      <g transform=\"translate(7.2 41.664773)scale(0.1 -0.1)\">\r\n       <use xlink:href=\"#DejaVuSans-49\"/>\r\n       <use x=\"63.623047\" xlink:href=\"#DejaVuSans-55\"/>\r\n       <use x=\"127.246094\" xlink:href=\"#DejaVuSans-53\"/>\r\n       <use x=\"190.869141\" xlink:href=\"#DejaVuSans-48\"/>\r\n      </g>\r\n     </g>\r\n    </g>\r\n    <g id=\"ytick_9\">\r\n     <g id=\"line2d_16\">\r\n      <g>\r\n       <use style=\"stroke:#000000;stroke-width:0.8;\" x=\"39.65\" xlink:href=\"#m464cd36073\" y=\"10.999219\"/>\r\n      </g>\r\n     </g>\r\n     <g id=\"text_16\">\r\n      <!-- 2000 -->\r\n      <g transform=\"translate(7.2 14.798437)scale(0.1 -0.1)\">\r\n       <use xlink:href=\"#DejaVuSans-50\"/>\r\n       <use x=\"63.623047\" xlink:href=\"#DejaVuSans-48\"/>\r\n       <use x=\"127.246094\" xlink:href=\"#DejaVuSans-48\"/>\r\n       <use x=\"190.869141\" xlink:href=\"#DejaVuSans-48\"/>\r\n      </g>\r\n     </g>\r\n    </g>\r\n   </g>\r\n   <g id=\"patch_13\">\r\n    <path d=\"M 39.65 225.929903 \r\nL 39.65 8.489903 \r\n\" style=\"fill:none;stroke:#000000;stroke-linecap:square;stroke-linejoin:miter;stroke-width:0.8;\"/>\r\n   </g>\r\n   <g id=\"patch_14\">\r\n    <path d=\"M 374.45 225.929903 \r\nL 374.45 8.489903 \r\n\" style=\"fill:none;stroke:#000000;stroke-linecap:square;stroke-linejoin:miter;stroke-width:0.8;\"/>\r\n   </g>\r\n   <g id=\"patch_15\">\r\n    <path d=\"M 39.65 225.929903 \r\nL 374.45 225.929903 \r\n\" style=\"fill:none;stroke:#000000;stroke-linecap:square;stroke-linejoin:miter;stroke-width:0.8;\"/>\r\n   </g>\r\n   <g id=\"patch_16\">\r\n    <path d=\"M 39.65 8.489903 \r\nL 374.45 8.489903 \r\n\" style=\"fill:none;stroke:#000000;stroke-linecap:square;stroke-linejoin:miter;stroke-width:0.8;\"/>\r\n   </g>\r\n  </g>\r\n </g>\r\n <defs>\r\n  <clipPath id=\"pcf02f6d259\">\r\n   <rect height=\"217.44\" width=\"334.8\" x=\"39.65\" y=\"8.489903\"/>\r\n  </clipPath>\r\n </defs>\r\n</svg>\r\n",
      "image/png": "[encoded data removed]"
     },
     "metadata": {
      "needs_background": "light"
     }
    }
   ],
   "source": [
    "#check distribution of data again\n",
    "plt.hist(y, bins=10)\n",
    "plt.show()"
   ]
  },
  {
   "cell_type": "code",
   "execution_count": 129,
   "metadata": {},
   "outputs": [],
   "source": [
    "#apply data tranformation with log transformation\n",
    "y = np.log(y+1)"
   ]
  },
  {
   "cell_type": "code",
   "execution_count": 130,
   "metadata": {},
   "outputs": [
    {
     "output_type": "display_data",
     "data": {
      "text/plain": "<Figure size 432x288 with 1 Axes>",
      "image/svg+xml": "<?xml version=\"1.0\" encoding=\"utf-8\" standalone=\"no\"?>\r\n<!DOCTYPE svg PUBLIC \"-//W3C//DTD SVG 1.1//EN\"\r\n  \"http://www.w3.org/Graphics/SVG/1.1/DTD/svg11.dtd\">\r\n<!-- Created with matplotlib (https://matplotlib.org/) -->\r\n<svg height=\"249.196324pt\" version=\"1.1\" viewBox=\"0 0 377.108536 249.196324\" width=\"377.108536pt\" xmlns=\"http://www.w3.org/2000/svg\" xmlns:xlink=\"http://www.w3.org/1999/xlink\">\r\n <metadata>\r\n  <rdf:RDF xmlns:cc=\"http://creativecommons.org/ns#\" xmlns:dc=\"http://purl.org/dc/elements/1.1/\" xmlns:rdf=\"http://www.w3.org/1999/02/22-rdf-syntax-ns#\">\r\n   <cc:Work>\r\n    <dc:type rdf:resource=\"http://purl.org/dc/dcmitype/StillImage\"/>\r\n    <dc:date>2021-06-17T14:55:43.135628</dc:date>\r\n    <dc:format>image/svg+xml</dc:format>\r\n    <dc:creator>\r\n     <cc:Agent>\r\n      <dc:title>Matplotlib v3.3.3, https://matplotlib.org/</dc:title>\r\n     </cc:Agent>\r\n    </dc:creator>\r\n   </cc:Work>\r\n  </rdf:RDF>\r\n </metadata>\r\n <defs>\r\n  <style type=\"text/css\">*{stroke-linecap:butt;stroke-linejoin:round;}</style>\r\n </defs>\r\n <g id=\"figure_1\">\r\n  <g id=\"patch_1\">\r\n   <path d=\"M 0 249.196324 \r\nL 377.108536 249.196324 \r\nL 377.108536 0 \r\nL 0 0 \r\nz\r\n\" style=\"fill:none;\"/>\r\n  </g>\r\n  <g id=\"axes_1\">\r\n   <g id=\"patch_2\">\r\n    <path d=\"M 33.2875 225.318199 \r\nL 368.0875 225.318199 \r\nL 368.0875 7.878199 \r\nL 33.2875 7.878199 \r\nz\r\n\" style=\"fill:#ffffff;\"/>\r\n   </g>\r\n   <g id=\"patch_3\">\r\n    <path clip-path=\"url(#p6486dee6a4)\" d=\"M 48.505682 225.318199 \r\nL 78.942045 225.318199 \r\nL 78.942045 18.232484 \r\nL 48.505682 18.232484 \r\nz\r\n\" style=\"fill:#1f77b4;\"/>\r\n   </g>\r\n   <g id=\"patch_4\">\r\n    <path clip-path=\"url(#p6486dee6a4)\" d=\"M 78.942045 225.318199 \r\nL 109.378409 225.318199 \r\nL 109.378409 72.883824 \r\nL 78.942045 72.883824 \r\nz\r\n\" style=\"fill:#1f77b4;\"/>\r\n   </g>\r\n   <g id=\"patch_5\">\r\n    <path clip-path=\"url(#p6486dee6a4)\" d=\"M 109.378409 225.318199 \r\nL 139.814773 225.318199 \r\nL 139.814773 121.909291 \r\nL 109.378409 121.909291 \r\nz\r\n\" style=\"fill:#1f77b4;\"/>\r\n   </g>\r\n   <g id=\"patch_6\">\r\n    <path clip-path=\"url(#p6486dee6a4)\" d=\"M 139.814773 225.318199 \r\nL 170.251136 225.318199 \r\nL 170.251136 172.006352 \r\nL 139.814773 172.006352 \r\nz\r\n\" style=\"fill:#1f77b4;\"/>\r\n   </g>\r\n   <g id=\"patch_7\">\r\n    <path clip-path=\"url(#p6486dee6a4)\" d=\"M 170.251136 225.318199 \r\nL 200.6875 225.318199 \r\nL 200.6875 197.992529 \r\nL 170.251136 197.992529 \r\nz\r\n\" style=\"fill:#1f77b4;\"/>\r\n   </g>\r\n   <g id=\"patch_8\">\r\n    <path clip-path=\"url(#p6486dee6a4)\" d=\"M 200.6875 225.318199 \r\nL 231.123864 225.318199 \r\nL 231.123864 210.31587 \r\nL 200.6875 210.31587 \r\nz\r\n\" style=\"fill:#1f77b4;\"/>\r\n   </g>\r\n   <g id=\"patch_9\">\r\n    <path clip-path=\"url(#p6486dee6a4)\" d=\"M 231.123864 225.318199 \r\nL 261.560227 225.318199 \r\nL 261.560227 222.90711 \r\nL 231.123864 222.90711 \r\nz\r\n\" style=\"fill:#1f77b4;\"/>\r\n   </g>\r\n   <g id=\"patch_10\">\r\n    <path clip-path=\"url(#p6486dee6a4)\" d=\"M 261.560227 225.318199 \r\nL 291.996591 225.318199 \r\nL 291.996591 221.567616 \r\nL 261.560227 221.567616 \r\nz\r\n\" style=\"fill:#1f77b4;\"/>\r\n   </g>\r\n   <g id=\"patch_11\">\r\n    <path clip-path=\"url(#p6486dee6a4)\" d=\"M 291.996591 225.318199 \r\nL 322.432955 225.318199 \r\nL 322.432955 225.318199 \r\nL 291.996591 225.318199 \r\nz\r\n\" style=\"fill:#1f77b4;\"/>\r\n   </g>\r\n   <g id=\"patch_12\">\r\n    <path clip-path=\"url(#p6486dee6a4)\" d=\"M 322.432955 225.318199 \r\nL 352.869318 225.318199 \r\nL 352.869318 224.782401 \r\nL 322.432955 224.782401 \r\nz\r\n\" style=\"fill:#1f77b4;\"/>\r\n   </g>\r\n   <g id=\"matplotlib.axis_1\">\r\n    <g id=\"xtick_1\">\r\n     <g id=\"line2d_1\">\r\n      <defs>\r\n       <path d=\"M 0 0 \r\nL 0 3.5 \r\n\" id=\"mb4ca67562a\" style=\"stroke:#000000;stroke-width:0.8;\"/>\r\n      </defs>\r\n      <g>\r\n       <use style=\"stroke:#000000;stroke-width:0.8;\" x=\"48.505682\" xlink:href=\"#mb4ca67562a\" y=\"225.318199\"/>\r\n      </g>\r\n     </g>\r\n     <g id=\"text_1\">\r\n      <!-- 0.0 -->\r\n      <g transform=\"translate(40.554119 239.916636)scale(0.1 -0.1)\">\r\n       <defs>\r\n        <path d=\"M 31.78125 66.40625 \r\nQ 24.171875 66.40625 20.328125 58.90625 \r\nQ 16.5 51.421875 16.5 36.375 \r\nQ 16.5 21.390625 20.328125 13.890625 \r\nQ 24.171875 6.390625 31.78125 6.390625 \r\nQ 39.453125 6.390625 43.28125 13.890625 \r\nQ 47.125 21.390625 47.125 36.375 \r\nQ 47.125 51.421875 43.28125 58.90625 \r\nQ 39.453125 66.40625 31.78125 66.40625 \r\nz\r\nM 31.78125 74.21875 \r\nQ 44.046875 74.21875 50.515625 64.515625 \r\nQ 56.984375 54.828125 56.984375 36.375 \r\nQ 56.984375 17.96875 50.515625 8.265625 \r\nQ 44.046875 -1.421875 31.78125 -1.421875 \r\nQ 19.53125 -1.421875 13.0625 8.265625 \r\nQ 6.59375 17.96875 6.59375 36.375 \r\nQ 6.59375 54.828125 13.0625 64.515625 \r\nQ 19.53125 74.21875 31.78125 74.21875 \r\nz\r\n\" id=\"DejaVuSans-48\"/>\r\n        <path d=\"M 10.6875 12.40625 \r\nL 21 12.40625 \r\nL 21 0 \r\nL 10.6875 0 \r\nz\r\n\" id=\"DejaVuSans-46\"/>\r\n       </defs>\r\n       <use xlink:href=\"#DejaVuSans-48\"/>\r\n       <use x=\"63.623047\" xlink:href=\"#DejaVuSans-46\"/>\r\n       <use x=\"95.410156\" xlink:href=\"#DejaVuSans-48\"/>\r\n      </g>\r\n     </g>\r\n    </g>\r\n    <g id=\"xtick_2\">\r\n     <g id=\"line2d_2\">\r\n      <g>\r\n       <use style=\"stroke:#000000;stroke-width:0.8;\" x=\"93.284438\" xlink:href=\"#mb4ca67562a\" y=\"225.318199\"/>\r\n      </g>\r\n     </g>\r\n     <g id=\"text_2\">\r\n      <!-- 0.5 -->\r\n      <g transform=\"translate(85.332875 239.916636)scale(0.1 -0.1)\">\r\n       <defs>\r\n        <path d=\"M 10.796875 72.90625 \r\nL 49.515625 72.90625 \r\nL 49.515625 64.59375 \r\nL 19.828125 64.59375 \r\nL 19.828125 46.734375 \r\nQ 21.96875 47.46875 24.109375 47.828125 \r\nQ 26.265625 48.1875 28.421875 48.1875 \r\nQ 40.625 48.1875 47.75 41.5 \r\nQ 54.890625 34.8125 54.890625 23.390625 \r\nQ 54.890625 11.625 47.5625 5.09375 \r\nQ 40.234375 -1.421875 26.90625 -1.421875 \r\nQ 22.3125 -1.421875 17.546875 -0.640625 \r\nQ 12.796875 0.140625 7.71875 1.703125 \r\nL 7.71875 11.625 \r\nQ 12.109375 9.234375 16.796875 8.0625 \r\nQ 21.484375 6.890625 26.703125 6.890625 \r\nQ 35.15625 6.890625 40.078125 11.328125 \r\nQ 45.015625 15.765625 45.015625 23.390625 \r\nQ 45.015625 31 40.078125 35.4375 \r\nQ 35.15625 39.890625 26.703125 39.890625 \r\nQ 22.75 39.890625 18.8125 39.015625 \r\nQ 14.890625 38.140625 10.796875 36.28125 \r\nz\r\n\" id=\"DejaVuSans-53\"/>\r\n       </defs>\r\n       <use xlink:href=\"#DejaVuSans-48\"/>\r\n       <use x=\"63.623047\" xlink:href=\"#DejaVuSans-46\"/>\r\n       <use x=\"95.410156\" xlink:href=\"#DejaVuSans-53\"/>\r\n      </g>\r\n     </g>\r\n    </g>\r\n    <g id=\"xtick_3\">\r\n     <g id=\"line2d_3\">\r\n      <g>\r\n       <use style=\"stroke:#000000;stroke-width:0.8;\" x=\"138.063194\" xlink:href=\"#mb4ca67562a\" y=\"225.318199\"/>\r\n      </g>\r\n     </g>\r\n     <g id=\"text_3\">\r\n      <!-- 1.0 -->\r\n      <g transform=\"translate(130.111631 239.916636)scale(0.1 -0.1)\">\r\n       <defs>\r\n        <path d=\"M 12.40625 8.296875 \r\nL 28.515625 8.296875 \r\nL 28.515625 63.921875 \r\nL 10.984375 60.40625 \r\nL 10.984375 69.390625 \r\nL 28.421875 72.90625 \r\nL 38.28125 72.90625 \r\nL 38.28125 8.296875 \r\nL 54.390625 8.296875 \r\nL 54.390625 0 \r\nL 12.40625 0 \r\nz\r\n\" id=\"DejaVuSans-49\"/>\r\n       </defs>\r\n       <use xlink:href=\"#DejaVuSans-49\"/>\r\n       <use x=\"63.623047\" xlink:href=\"#DejaVuSans-46\"/>\r\n       <use x=\"95.410156\" xlink:href=\"#DejaVuSans-48\"/>\r\n      </g>\r\n     </g>\r\n    </g>\r\n    <g id=\"xtick_4\">\r\n     <g id=\"line2d_4\">\r\n      <g>\r\n       <use style=\"stroke:#000000;stroke-width:0.8;\" x=\"182.84195\" xlink:href=\"#mb4ca67562a\" y=\"225.318199\"/>\r\n      </g>\r\n     </g>\r\n     <g id=\"text_4\">\r\n      <!-- 1.5 -->\r\n      <g transform=\"translate(174.890387 239.916636)scale(0.1 -0.1)\">\r\n       <use xlink:href=\"#DejaVuSans-49\"/>\r\n       <use x=\"63.623047\" xlink:href=\"#DejaVuSans-46\"/>\r\n       <use x=\"95.410156\" xlink:href=\"#DejaVuSans-53\"/>\r\n      </g>\r\n     </g>\r\n    </g>\r\n    <g id=\"xtick_5\">\r\n     <g id=\"line2d_5\">\r\n      <g>\r\n       <use style=\"stroke:#000000;stroke-width:0.8;\" x=\"227.620706\" xlink:href=\"#mb4ca67562a\" y=\"225.318199\"/>\r\n      </g>\r\n     </g>\r\n     <g id=\"text_5\">\r\n      <!-- 2.0 -->\r\n      <g transform=\"translate(219.669143 239.916636)scale(0.1 -0.1)\">\r\n       <defs>\r\n        <path d=\"M 19.1875 8.296875 \r\nL 53.609375 8.296875 \r\nL 53.609375 0 \r\nL 7.328125 0 \r\nL 7.328125 8.296875 \r\nQ 12.9375 14.109375 22.625 23.890625 \r\nQ 32.328125 33.6875 34.8125 36.53125 \r\nQ 39.546875 41.84375 41.421875 45.53125 \r\nQ 43.3125 49.21875 43.3125 52.78125 \r\nQ 43.3125 58.59375 39.234375 62.25 \r\nQ 35.15625 65.921875 28.609375 65.921875 \r\nQ 23.96875 65.921875 18.8125 64.3125 \r\nQ 13.671875 62.703125 7.8125 59.421875 \r\nL 7.8125 69.390625 \r\nQ 13.765625 71.78125 18.9375 73 \r\nQ 24.125 74.21875 28.421875 74.21875 \r\nQ 39.75 74.21875 46.484375 68.546875 \r\nQ 53.21875 62.890625 53.21875 53.421875 \r\nQ 53.21875 48.921875 51.53125 44.890625 \r\nQ 49.859375 40.875 45.40625 35.40625 \r\nQ 44.1875 33.984375 37.640625 27.21875 \r\nQ 31.109375 20.453125 19.1875 8.296875 \r\nz\r\n\" id=\"DejaVuSans-50\"/>\r\n       </defs>\r\n       <use xlink:href=\"#DejaVuSans-50\"/>\r\n       <use x=\"63.623047\" xlink:href=\"#DejaVuSans-46\"/>\r\n       <use x=\"95.410156\" xlink:href=\"#DejaVuSans-48\"/>\r\n      </g>\r\n     </g>\r\n    </g>\r\n    <g id=\"xtick_6\">\r\n     <g id=\"line2d_6\">\r\n      <g>\r\n       <use style=\"stroke:#000000;stroke-width:0.8;\" x=\"272.399462\" xlink:href=\"#mb4ca67562a\" y=\"225.318199\"/>\r\n      </g>\r\n     </g>\r\n     <g id=\"text_6\">\r\n      <!-- 2.5 -->\r\n      <g transform=\"translate(264.447899 239.916636)scale(0.1 -0.1)\">\r\n       <use xlink:href=\"#DejaVuSans-50\"/>\r\n       <use x=\"63.623047\" xlink:href=\"#DejaVuSans-46\"/>\r\n       <use x=\"95.410156\" xlink:href=\"#DejaVuSans-53\"/>\r\n      </g>\r\n     </g>\r\n    </g>\r\n    <g id=\"xtick_7\">\r\n     <g id=\"line2d_7\">\r\n      <g>\r\n       <use style=\"stroke:#000000;stroke-width:0.8;\" x=\"317.178218\" xlink:href=\"#mb4ca67562a\" y=\"225.318199\"/>\r\n      </g>\r\n     </g>\r\n     <g id=\"text_7\">\r\n      <!-- 3.0 -->\r\n      <g transform=\"translate(309.226655 239.916636)scale(0.1 -0.1)\">\r\n       <defs>\r\n        <path d=\"M 40.578125 39.3125 \r\nQ 47.65625 37.796875 51.625 33 \r\nQ 55.609375 28.21875 55.609375 21.1875 \r\nQ 55.609375 10.40625 48.1875 4.484375 \r\nQ 40.765625 -1.421875 27.09375 -1.421875 \r\nQ 22.515625 -1.421875 17.65625 -0.515625 \r\nQ 12.796875 0.390625 7.625 2.203125 \r\nL 7.625 11.71875 \r\nQ 11.71875 9.328125 16.59375 8.109375 \r\nQ 21.484375 6.890625 26.8125 6.890625 \r\nQ 36.078125 6.890625 40.9375 10.546875 \r\nQ 45.796875 14.203125 45.796875 21.1875 \r\nQ 45.796875 27.640625 41.28125 31.265625 \r\nQ 36.765625 34.90625 28.71875 34.90625 \r\nL 20.21875 34.90625 \r\nL 20.21875 43.015625 \r\nL 29.109375 43.015625 \r\nQ 36.375 43.015625 40.234375 45.921875 \r\nQ 44.09375 48.828125 44.09375 54.296875 \r\nQ 44.09375 59.90625 40.109375 62.90625 \r\nQ 36.140625 65.921875 28.71875 65.921875 \r\nQ 24.65625 65.921875 20.015625 65.03125 \r\nQ 15.375 64.15625 9.8125 62.3125 \r\nL 9.8125 71.09375 \r\nQ 15.4375 72.65625 20.34375 73.4375 \r\nQ 25.25 74.21875 29.59375 74.21875 \r\nQ 40.828125 74.21875 47.359375 69.109375 \r\nQ 53.90625 64.015625 53.90625 55.328125 \r\nQ 53.90625 49.265625 50.4375 45.09375 \r\nQ 46.96875 40.921875 40.578125 39.3125 \r\nz\r\n\" id=\"DejaVuSans-51\"/>\r\n       </defs>\r\n       <use xlink:href=\"#DejaVuSans-51\"/>\r\n       <use x=\"63.623047\" xlink:href=\"#DejaVuSans-46\"/>\r\n       <use x=\"95.410156\" xlink:href=\"#DejaVuSans-48\"/>\r\n      </g>\r\n     </g>\r\n    </g>\r\n    <g id=\"xtick_8\">\r\n     <g id=\"line2d_8\">\r\n      <g>\r\n       <use style=\"stroke:#000000;stroke-width:0.8;\" x=\"361.956974\" xlink:href=\"#mb4ca67562a\" y=\"225.318199\"/>\r\n      </g>\r\n     </g>\r\n     <g id=\"text_8\">\r\n      <!-- 3.5 -->\r\n      <g transform=\"translate(354.005411 239.916636)scale(0.1 -0.1)\">\r\n       <use xlink:href=\"#DejaVuSans-51\"/>\r\n       <use x=\"63.623047\" xlink:href=\"#DejaVuSans-46\"/>\r\n       <use x=\"95.410156\" xlink:href=\"#DejaVuSans-53\"/>\r\n      </g>\r\n     </g>\r\n    </g>\r\n   </g>\r\n   <g id=\"matplotlib.axis_2\">\r\n    <g id=\"ytick_1\">\r\n     <g id=\"line2d_9\">\r\n      <defs>\r\n       <path d=\"M 0 0 \r\nL -3.5 0 \r\n\" id=\"m6d76227bd0\" style=\"stroke:#000000;stroke-width:0.8;\"/>\r\n      </defs>\r\n      <g>\r\n       <use style=\"stroke:#000000;stroke-width:0.8;\" x=\"33.2875\" xlink:href=\"#m6d76227bd0\" y=\"225.318199\"/>\r\n      </g>\r\n     </g>\r\n     <g id=\"text_9\">\r\n      <!-- 0 -->\r\n      <g transform=\"translate(19.925 229.117417)scale(0.1 -0.1)\">\r\n       <use xlink:href=\"#DejaVuSans-48\"/>\r\n      </g>\r\n     </g>\r\n    </g>\r\n    <g id=\"ytick_2\">\r\n     <g id=\"line2d_10\">\r\n      <g>\r\n       <use style=\"stroke:#000000;stroke-width:0.8;\" x=\"33.2875\" xlink:href=\"#m6d76227bd0\" y=\"198.528326\"/>\r\n      </g>\r\n     </g>\r\n     <g id=\"text_10\">\r\n      <!-- 100 -->\r\n      <g transform=\"translate(7.2 202.327545)scale(0.1 -0.1)\">\r\n       <use xlink:href=\"#DejaVuSans-49\"/>\r\n       <use x=\"63.623047\" xlink:href=\"#DejaVuSans-48\"/>\r\n       <use x=\"127.246094\" xlink:href=\"#DejaVuSans-48\"/>\r\n      </g>\r\n     </g>\r\n    </g>\r\n    <g id=\"ytick_3\">\r\n     <g id=\"line2d_11\">\r\n      <g>\r\n       <use style=\"stroke:#000000;stroke-width:0.8;\" x=\"33.2875\" xlink:href=\"#m6d76227bd0\" y=\"171.738454\"/>\r\n      </g>\r\n     </g>\r\n     <g id=\"text_11\">\r\n      <!-- 200 -->\r\n      <g transform=\"translate(7.2 175.537672)scale(0.1 -0.1)\">\r\n       <use xlink:href=\"#DejaVuSans-50\"/>\r\n       <use x=\"63.623047\" xlink:href=\"#DejaVuSans-48\"/>\r\n       <use x=\"127.246094\" xlink:href=\"#DejaVuSans-48\"/>\r\n      </g>\r\n     </g>\r\n    </g>\r\n    <g id=\"ytick_4\">\r\n     <g id=\"line2d_12\">\r\n      <g>\r\n       <use style=\"stroke:#000000;stroke-width:0.8;\" x=\"33.2875\" xlink:href=\"#m6d76227bd0\" y=\"144.948581\"/>\r\n      </g>\r\n     </g>\r\n     <g id=\"text_12\">\r\n      <!-- 300 -->\r\n      <g transform=\"translate(7.2 148.7478)scale(0.1 -0.1)\">\r\n       <use xlink:href=\"#DejaVuSans-51\"/>\r\n       <use x=\"63.623047\" xlink:href=\"#DejaVuSans-48\"/>\r\n       <use x=\"127.246094\" xlink:href=\"#DejaVuSans-48\"/>\r\n      </g>\r\n     </g>\r\n    </g>\r\n    <g id=\"ytick_5\">\r\n     <g id=\"line2d_13\">\r\n      <g>\r\n       <use style=\"stroke:#000000;stroke-width:0.8;\" x=\"33.2875\" xlink:href=\"#m6d76227bd0\" y=\"118.158709\"/>\r\n      </g>\r\n     </g>\r\n     <g id=\"text_13\">\r\n      <!-- 400 -->\r\n      <g transform=\"translate(7.2 121.957927)scale(0.1 -0.1)\">\r\n       <defs>\r\n        <path d=\"M 37.796875 64.3125 \r\nL 12.890625 25.390625 \r\nL 37.796875 25.390625 \r\nz\r\nM 35.203125 72.90625 \r\nL 47.609375 72.90625 \r\nL 47.609375 25.390625 \r\nL 58.015625 25.390625 \r\nL 58.015625 17.1875 \r\nL 47.609375 17.1875 \r\nL 47.609375 0 \r\nL 37.796875 0 \r\nL 37.796875 17.1875 \r\nL 4.890625 17.1875 \r\nL 4.890625 26.703125 \r\nz\r\n\" id=\"DejaVuSans-52\"/>\r\n       </defs>\r\n       <use xlink:href=\"#DejaVuSans-52\"/>\r\n       <use x=\"63.623047\" xlink:href=\"#DejaVuSans-48\"/>\r\n       <use x=\"127.246094\" xlink:href=\"#DejaVuSans-48\"/>\r\n      </g>\r\n     </g>\r\n    </g>\r\n    <g id=\"ytick_6\">\r\n     <g id=\"line2d_14\">\r\n      <g>\r\n       <use style=\"stroke:#000000;stroke-width:0.8;\" x=\"33.2875\" xlink:href=\"#m6d76227bd0\" y=\"91.368836\"/>\r\n      </g>\r\n     </g>\r\n     <g id=\"text_14\">\r\n      <!-- 500 -->\r\n      <g transform=\"translate(7.2 95.168055)scale(0.1 -0.1)\">\r\n       <use xlink:href=\"#DejaVuSans-53\"/>\r\n       <use x=\"63.623047\" xlink:href=\"#DejaVuSans-48\"/>\r\n       <use x=\"127.246094\" xlink:href=\"#DejaVuSans-48\"/>\r\n      </g>\r\n     </g>\r\n    </g>\r\n    <g id=\"ytick_7\">\r\n     <g id=\"line2d_15\">\r\n      <g>\r\n       <use style=\"stroke:#000000;stroke-width:0.8;\" x=\"33.2875\" xlink:href=\"#m6d76227bd0\" y=\"64.578964\"/>\r\n      </g>\r\n     </g>\r\n     <g id=\"text_15\">\r\n      <!-- 600 -->\r\n      <g transform=\"translate(7.2 68.378182)scale(0.1 -0.1)\">\r\n       <defs>\r\n        <path d=\"M 33.015625 40.375 \r\nQ 26.375 40.375 22.484375 35.828125 \r\nQ 18.609375 31.296875 18.609375 23.390625 \r\nQ 18.609375 15.53125 22.484375 10.953125 \r\nQ 26.375 6.390625 33.015625 6.390625 \r\nQ 39.65625 6.390625 43.53125 10.953125 \r\nQ 47.40625 15.53125 47.40625 23.390625 \r\nQ 47.40625 31.296875 43.53125 35.828125 \r\nQ 39.65625 40.375 33.015625 40.375 \r\nz\r\nM 52.59375 71.296875 \r\nL 52.59375 62.3125 \r\nQ 48.875 64.0625 45.09375 64.984375 \r\nQ 41.3125 65.921875 37.59375 65.921875 \r\nQ 27.828125 65.921875 22.671875 59.328125 \r\nQ 17.53125 52.734375 16.796875 39.40625 \r\nQ 19.671875 43.65625 24.015625 45.921875 \r\nQ 28.375 48.1875 33.59375 48.1875 \r\nQ 44.578125 48.1875 50.953125 41.515625 \r\nQ 57.328125 34.859375 57.328125 23.390625 \r\nQ 57.328125 12.15625 50.6875 5.359375 \r\nQ 44.046875 -1.421875 33.015625 -1.421875 \r\nQ 20.359375 -1.421875 13.671875 8.265625 \r\nQ 6.984375 17.96875 6.984375 36.375 \r\nQ 6.984375 53.65625 15.1875 63.9375 \r\nQ 23.390625 74.21875 37.203125 74.21875 \r\nQ 40.921875 74.21875 44.703125 73.484375 \r\nQ 48.484375 72.75 52.59375 71.296875 \r\nz\r\n\" id=\"DejaVuSans-54\"/>\r\n       </defs>\r\n       <use xlink:href=\"#DejaVuSans-54\"/>\r\n       <use x=\"63.623047\" xlink:href=\"#DejaVuSans-48\"/>\r\n       <use x=\"127.246094\" xlink:href=\"#DejaVuSans-48\"/>\r\n      </g>\r\n     </g>\r\n    </g>\r\n    <g id=\"ytick_8\">\r\n     <g id=\"line2d_16\">\r\n      <g>\r\n       <use style=\"stroke:#000000;stroke-width:0.8;\" x=\"33.2875\" xlink:href=\"#m6d76227bd0\" y=\"37.789091\"/>\r\n      </g>\r\n     </g>\r\n     <g id=\"text_16\">\r\n      <!-- 700 -->\r\n      <g transform=\"translate(7.2 41.58831)scale(0.1 -0.1)\">\r\n       <defs>\r\n        <path d=\"M 8.203125 72.90625 \r\nL 55.078125 72.90625 \r\nL 55.078125 68.703125 \r\nL 28.609375 0 \r\nL 18.3125 0 \r\nL 43.21875 64.59375 \r\nL 8.203125 64.59375 \r\nz\r\n\" id=\"DejaVuSans-55\"/>\r\n       </defs>\r\n       <use xlink:href=\"#DejaVuSans-55\"/>\r\n       <use x=\"63.623047\" xlink:href=\"#DejaVuSans-48\"/>\r\n       <use x=\"127.246094\" xlink:href=\"#DejaVuSans-48\"/>\r\n      </g>\r\n     </g>\r\n    </g>\r\n    <g id=\"ytick_9\">\r\n     <g id=\"line2d_17\">\r\n      <g>\r\n       <use style=\"stroke:#000000;stroke-width:0.8;\" x=\"33.2875\" xlink:href=\"#m6d76227bd0\" y=\"10.999219\"/>\r\n      </g>\r\n     </g>\r\n     <g id=\"text_17\">\r\n      <!-- 800 -->\r\n      <g transform=\"translate(7.2 14.798437)scale(0.1 -0.1)\">\r\n       <defs>\r\n        <path d=\"M 31.78125 34.625 \r\nQ 24.75 34.625 20.71875 30.859375 \r\nQ 16.703125 27.09375 16.703125 20.515625 \r\nQ 16.703125 13.921875 20.71875 10.15625 \r\nQ 24.75 6.390625 31.78125 6.390625 \r\nQ 38.8125 6.390625 42.859375 10.171875 \r\nQ 46.921875 13.96875 46.921875 20.515625 \r\nQ 46.921875 27.09375 42.890625 30.859375 \r\nQ 38.875 34.625 31.78125 34.625 \r\nz\r\nM 21.921875 38.8125 \r\nQ 15.578125 40.375 12.03125 44.71875 \r\nQ 8.5 49.078125 8.5 55.328125 \r\nQ 8.5 64.0625 14.71875 69.140625 \r\nQ 20.953125 74.21875 31.78125 74.21875 \r\nQ 42.671875 74.21875 48.875 69.140625 \r\nQ 55.078125 64.0625 55.078125 55.328125 \r\nQ 55.078125 49.078125 51.53125 44.71875 \r\nQ 48 40.375 41.703125 38.8125 \r\nQ 48.828125 37.15625 52.796875 32.3125 \r\nQ 56.78125 27.484375 56.78125 20.515625 \r\nQ 56.78125 9.90625 50.3125 4.234375 \r\nQ 43.84375 -1.421875 31.78125 -1.421875 \r\nQ 19.734375 -1.421875 13.25 4.234375 \r\nQ 6.78125 9.90625 6.78125 20.515625 \r\nQ 6.78125 27.484375 10.78125 32.3125 \r\nQ 14.796875 37.15625 21.921875 38.8125 \r\nz\r\nM 18.3125 54.390625 \r\nQ 18.3125 48.734375 21.84375 45.5625 \r\nQ 25.390625 42.390625 31.78125 42.390625 \r\nQ 38.140625 42.390625 41.71875 45.5625 \r\nQ 45.3125 48.734375 45.3125 54.390625 \r\nQ 45.3125 60.0625 41.71875 63.234375 \r\nQ 38.140625 66.40625 31.78125 66.40625 \r\nQ 25.390625 66.40625 21.84375 63.234375 \r\nQ 18.3125 60.0625 18.3125 54.390625 \r\nz\r\n\" id=\"DejaVuSans-56\"/>\r\n       </defs>\r\n       <use xlink:href=\"#DejaVuSans-56\"/>\r\n       <use x=\"63.623047\" xlink:href=\"#DejaVuSans-48\"/>\r\n       <use x=\"127.246094\" xlink:href=\"#DejaVuSans-48\"/>\r\n      </g>\r\n     </g>\r\n    </g>\r\n   </g>\r\n   <g id=\"patch_13\">\r\n    <path d=\"M 33.2875 225.318199 \r\nL 33.2875 7.878199 \r\n\" style=\"fill:none;stroke:#000000;stroke-linecap:square;stroke-linejoin:miter;stroke-width:0.8;\"/>\r\n   </g>\r\n   <g id=\"patch_14\">\r\n    <path d=\"M 368.0875 225.318199 \r\nL 368.0875 7.878199 \r\n\" style=\"fill:none;stroke:#000000;stroke-linecap:square;stroke-linejoin:miter;stroke-width:0.8;\"/>\r\n   </g>\r\n   <g id=\"patch_15\">\r\n    <path d=\"M 33.2875 225.318199 \r\nL 368.0875 225.318199 \r\n\" style=\"fill:none;stroke:#000000;stroke-linecap:square;stroke-linejoin:miter;stroke-width:0.8;\"/>\r\n   </g>\r\n   <g id=\"patch_16\">\r\n    <path d=\"M 33.2875 7.878199 \r\nL 368.0875 7.878199 \r\n\" style=\"fill:none;stroke:#000000;stroke-linecap:square;stroke-linejoin:miter;stroke-width:0.8;\"/>\r\n   </g>\r\n  </g>\r\n </g>\r\n <defs>\r\n  <clipPath id=\"p6486dee6a4\">\r\n   <rect height=\"217.44\" width=\"334.8\" x=\"33.2875\" y=\"7.878199\"/>\r\n  </clipPath>\r\n </defs>\r\n</svg>\r\n",
      "image/png": "[encoded data removed]"
     },
     "metadata": {
      "needs_background": "light"
     }
    }
   ],
   "source": [
    "#check distribution of the data\n",
    "plt.hist(y, bins=10)\n",
    "plt.show()"
   ]
  },
  {
   "cell_type": "code",
   "execution_count": 132,
   "metadata": {},
   "outputs": [],
   "source": [
    "#adding a constant (Y-intercept)\n",
    "X = sm.add_constant(X)"
   ]
  },
  {
   "cell_type": "code",
   "execution_count": 135,
   "metadata": {},
   "outputs": [
    {
     "output_type": "stream",
     "name": "stdout",
     "text": [
      "                 feature         VIF\n0                  const  125.345435\n1     StdDev_ContainWord    1.027202\n2  StdDev_innovativeness    1.031184\n3     Topic_Perc_Contrib    1.004705\n4              UserScore    1.008047\n"
     ]
    }
   ],
   "source": [
    "#Checking multicolinearity variance inflation factor (VIF >5.0)\n",
    "vif_data = pd.DataFrame()\n",
    "vif_data[\"feature\"] = X.columns\n",
    "  \n",
    "# calculating VIF for each feature\n",
    "vif_data[\"VIF\"] = [variance_inflation_factor(X.values, i)\n",
    "                          for i in range(len(X.columns))]\n",
    "\n",
    "print(vif_data)"
   ]
  },
  {
   "cell_type": "code",
   "execution_count": 133,
   "metadata": {},
   "outputs": [],
   "source": [
    "#define model\n",
    "model = sm.OLS(y, X).fit()\n",
    "predictions = model.predict(X) "
   ]
  },
  {
   "cell_type": "code",
   "execution_count": 134,
   "metadata": {},
   "outputs": [
    {
     "output_type": "stream",
     "name": "stdout",
     "text": [
      "                            OLS Regression Results                            \n==============================================================================\nDep. Variable:             TotalSales   R-squared:                       0.033\nModel:                            OLS   Adj. R-squared:                  0.031\nMethod:                 Least Squares   F-statistic:                     17.82\nDate:                Thu, 17 Jun 2021   Prob (F-statistic):           2.12e-14\nTime:                        14:55:43   Log-Likelihood:                -1525.9\nNo. Observations:                2110   AIC:                             3062.\nDf Residuals:                    2105   BIC:                             3090.\nDf Model:                           4                                         \nCovariance Type:            nonrobust                                         \n=========================================================================================\n                            coef    std err          t      P>|t|      [0.025      0.975]\n-----------------------------------------------------------------------------------------\nconst                     1.1234      0.122      9.232      0.000       0.885       1.362\nStdDev_ContainWord       -3.0954      0.377     -8.215      0.000      -3.834      -2.356\nStdDev_innovativeness     0.0361      0.067      0.540      0.590      -0.095       0.167\nTopic_Perc_Contrib       -0.0428      0.036     -1.180      0.238      -0.114       0.028\nUserScore                -0.0151      0.017     -0.908      0.364      -0.048       0.017\n==============================================================================\nOmnibus:                      458.340   Durbin-Watson:                   1.359\nProb(Omnibus):                  0.000   Jarque-Bera (JB):              921.192\nSkew:                           1.276   Prob(JB):                    9.24e-201\nKurtosis:                       4.992   Cond. No.                         234.\n==============================================================================\n\nNotes:\n[1] Standard Errors assume that the covariance matrix of the errors is correctly specified.\n"
     ]
    }
   ],
   "source": [
    "#print regression results\n",
    "print_model = model.summary()\n",
    "print(print_model)"
   ]
  },
  {
   "cell_type": "code",
   "execution_count": null,
   "metadata": {},
   "outputs": [],
   "source": []
  }
 ]
}