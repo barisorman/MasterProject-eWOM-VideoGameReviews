{
 "metadata": {
  "language_info": {
   "codemirror_mode": {
    "name": "ipython",
    "version": 3
   },
   "file_extension": ".py",
   "mimetype": "text/x-python",
   "name": "python",
   "nbconvert_exporter": "python",
   "pygments_lexer": "ipython3",
   "version": "3.9.0"
  },
  "orig_nbformat": 2,
  "kernelspec": {
   "name": "python3",
   "display_name": "Python 3.9.0 64-bit"
  },
  "metadata": {
   "interpreter": {
    "hash": "71e56bdc4c61b98910f771371be3446c8c590ca3371eddba0edf680feb934a3b"
   }
  },
  "interpreter": {
   "hash": "71e56bdc4c61b98910f771371be3446c8c590ca3371eddba0edf680feb934a3b"
  }
 },
 "nbformat": 4,
 "nbformat_minor": 2,
 "cells": [
  {
   "cell_type": "code",
   "execution_count": 3,
   "metadata": {},
   "outputs": [],
   "source": [
    "import os\n",
    "import random\n",
    "import pandas as pd\n",
    "import numpy as np\n",
    "import nltk\n",
    "from nltk.tokenize import sent_tokenize, word_tokenize\n",
    "from nltk.corpus import stopwords"
   ]
  },
  {
   "source": [
    "# Data cleaning and preperation"
   ],
   "cell_type": "markdown",
   "metadata": {}
  },
  {
   "cell_type": "code",
   "execution_count": 3,
   "metadata": {},
   "outputs": [
    {
     "output_type": "execute_result",
     "data": {
      "text/plain": [
       "Index(['Game', 'Metascore', 'UserScore', 'Publisher', 'ReleaseDate', 'Genre',\n",
       "       'NumberOfOnlinePlayers', 'Cast', 'Credits', 'CriticsReviews',\n",
       "       'UserReviews'],\n",
       "      dtype='object')"
      ]
     },
     "metadata": {},
     "execution_count": 3
    }
   ],
   "source": [
    "data = pd.read_csv(r'C:\\Users\\B.R\\Documents\\HvA\\Master_DDB\\MP\\Scraper_eWOM\\eWOM\\spiders\\metacritic.csv')\n",
    "data.columns"
   ]
  },
  {
   "cell_type": "code",
   "execution_count": 4,
   "metadata": {},
   "outputs": [],
   "source": [
    "#Drop NAN\n",
    "data = data[data['CriticsReviews'].notna()]"
   ]
  },
  {
   "cell_type": "code",
   "execution_count": 5,
   "metadata": {},
   "outputs": [
    {
     "output_type": "execute_result",
     "data": {
      "text/plain": [
       "0        [{'CriticName': None, 'CriticScore': '75', 'Cr...\n",
       "1        [{'CriticName': None, 'CriticScore': '70', 'Cr...\n",
       "2        [{'CriticName': 'Electronic Gaming Monthly', '...\n",
       "3        [{'CriticName': None, 'CriticScore': '100', 'C...\n",
       "4        [{'CriticName': None, 'CriticScore': '80', 'Cr...\n",
       "                               ...                        \n",
       "49825    [{'CriticName': None, 'CriticScore': '100', 'C...\n",
       "49850    [{'CriticName': None, 'CriticScore': '70', 'Cr...\n",
       "49860    [{'CriticName': None, 'CriticScore': '30', 'Cr...\n",
       "49866    [{'CriticName': None, 'CriticScore': '85', 'Cr...\n",
       "49874    [{'CriticName': None, 'CriticScore': '90', 'Cr...\n",
       "Name: CriticsReviews, Length: 25529, dtype: object"
      ]
     },
     "metadata": {},
     "execution_count": 5
    }
   ],
   "source": [
    "#Check dataset\n",
    "data['CriticsReviews']"
   ]
  },
  {
   "cell_type": "code",
   "execution_count": 6,
   "metadata": {},
   "outputs": [],
   "source": [
    "#Lower case reviews\n",
    "data['CriticsReviews'] = data['CriticsReviews'].str.lower()"
   ]
  },
  {
   "cell_type": "code",
   "execution_count": 7,
   "metadata": {},
   "outputs": [],
   "source": [
    "#Remove stopwords\n",
    "stop = stopwords.words('english')\n",
    "data['CriticsReviews'] = data['CriticsReviews'].apply(lambda x: ' '.join([word for word in x.split() if word not in (stop)]))"
   ]
  },
  {
   "cell_type": "code",
   "execution_count": 8,
   "metadata": {},
   "outputs": [
    {
     "output_type": "execute_result",
     "data": {
      "text/plain": [
       "                                                  Game  \\\n",
       "0                               Subnautica: Below Zero   \n",
       "1                                            AntVentor   \n",
       "2                                        Pilotwings 64   \n",
       "3                                         Wave Race 64   \n",
       "4                                        Madden NFL 08   \n",
       "...                                                ...   \n",
       "49825                                             GORN   \n",
       "49850                                Citizens of Space   \n",
       "49860                    Bear With Me: The Lost Robots   \n",
       "49866                                          Journey   \n",
       "49874  Kerbal Space Program: Breaking Ground Expansion   \n",
       "\n",
       "                                          CriticsReviews  \n",
       "0      [{'criticname': none, 'criticscore': '75', 'cr...  \n",
       "1      [{'criticname': none, 'criticscore': '70', 'cr...  \n",
       "2      [{'criticname': 'electronic gaming monthly', '...  \n",
       "3      [{'criticname': none, 'criticscore': '100', 'c...  \n",
       "4      [{'criticname': none, 'criticscore': '80', 'cr...  \n",
       "...                                                  ...  \n",
       "49825  [{'criticname': none, 'criticscore': '100', 'c...  \n",
       "49850  [{'criticname': none, 'criticscore': '70', 'cr...  \n",
       "49860  [{'criticname': none, 'criticscore': '30', 'cr...  \n",
       "49866  [{'criticname': none, 'criticscore': '85', 'cr...  \n",
       "49874  [{'criticname': none, 'criticscore': '90', 'cr...  \n",
       "\n",
       "[25529 rows x 2 columns]"
      ],
      "text/html": "<div>\n<style scoped>\n    .dataframe tbody tr th:only-of-type {\n        vertical-align: middle;\n    }\n\n    .dataframe tbody tr th {\n        vertical-align: top;\n    }\n\n    .dataframe thead th {\n        text-align: right;\n    }\n</style>\n<table border=\"1\" class=\"dataframe\">\n  <thead>\n    <tr style=\"text-align: right;\">\n      <th></th>\n      <th>Game</th>\n      <th>CriticsReviews</th>\n    </tr>\n  </thead>\n  <tbody>\n    <tr>\n      <th>0</th>\n      <td>Subnautica: Below Zero</td>\n      <td>[{'criticname': none, 'criticscore': '75', 'cr...</td>\n    </tr>\n    <tr>\n      <th>1</th>\n      <td>AntVentor</td>\n      <td>[{'criticname': none, 'criticscore': '70', 'cr...</td>\n    </tr>\n    <tr>\n      <th>2</th>\n      <td>Pilotwings 64</td>\n      <td>[{'criticname': 'electronic gaming monthly', '...</td>\n    </tr>\n    <tr>\n      <th>3</th>\n      <td>Wave Race 64</td>\n      <td>[{'criticname': none, 'criticscore': '100', 'c...</td>\n    </tr>\n    <tr>\n      <th>4</th>\n      <td>Madden NFL 08</td>\n      <td>[{'criticname': none, 'criticscore': '80', 'cr...</td>\n    </tr>\n    <tr>\n      <th>...</th>\n      <td>...</td>\n      <td>...</td>\n    </tr>\n    <tr>\n      <th>49825</th>\n      <td>GORN</td>\n      <td>[{'criticname': none, 'criticscore': '100', 'c...</td>\n    </tr>\n    <tr>\n      <th>49850</th>\n      <td>Citizens of Space</td>\n      <td>[{'criticname': none, 'criticscore': '70', 'cr...</td>\n    </tr>\n    <tr>\n      <th>49860</th>\n      <td>Bear With Me: The Lost Robots</td>\n      <td>[{'criticname': none, 'criticscore': '30', 'cr...</td>\n    </tr>\n    <tr>\n      <th>49866</th>\n      <td>Journey</td>\n      <td>[{'criticname': none, 'criticscore': '85', 'cr...</td>\n    </tr>\n    <tr>\n      <th>49874</th>\n      <td>Kerbal Space Program: Breaking Ground Expansion</td>\n      <td>[{'criticname': none, 'criticscore': '90', 'cr...</td>\n    </tr>\n  </tbody>\n</table>\n<p>25529 rows × 2 columns</p>\n</div>"
     },
     "metadata": {},
     "execution_count": 8
    }
   ],
   "source": [
    "#Create new dataset\n",
    "sentiment_data = data[['Game', 'CriticsReviews']]\n",
    "sentiment_data"
   ]
  },
  {
   "cell_type": "code",
   "execution_count": 9,
   "metadata": {},
   "outputs": [],
   "source": [
    "#Split reviews into rows\n",
    "sentiment_data = sentiment_data.drop('CriticsReviews', axis=1).join(sentiment_data['CriticsReviews'].str.split(']', expand=True).stack().reset_index(level=1, drop=True).rename('CriticsReviews'))"
   ]
  },
  {
   "cell_type": "code",
   "execution_count": 10,
   "metadata": {},
   "outputs": [],
   "source": [
    "#Drop columns with NaN\n",
    "sentiment_data['CriticsReviews'] = sentiment_data['CriticsReviews'].dropna()"
   ]
  },
  {
   "cell_type": "code",
   "execution_count": 11,
   "metadata": {},
   "outputs": [],
   "source": [
    "#Drop empty columns\n",
    "sentiment_data = sentiment_data[sentiment_data.CriticsReviews != '']"
   ]
  },
  {
   "cell_type": "code",
   "execution_count": 12,
   "metadata": {},
   "outputs": [
    {
     "output_type": "execute_result",
     "data": {
      "text/plain": [
       "                                                  Game  \\\n",
       "0                               Subnautica: Below Zero   \n",
       "1                                            AntVentor   \n",
       "2                                        Pilotwings 64   \n",
       "3                                         Wave Race 64   \n",
       "4                                        Madden NFL 08   \n",
       "...                                                ...   \n",
       "49825                                             GORN   \n",
       "49850                                Citizens of Space   \n",
       "49860                    Bear With Me: The Lost Robots   \n",
       "49866                                          Journey   \n",
       "49874  Kerbal Space Program: Breaking Ground Expansion   \n",
       "\n",
       "                                          CriticsReviews  \n",
       "0      [{'criticname': none, 'criticscore': '75', 'cr...  \n",
       "1      [{'criticname': none, 'criticscore': '70', 'cr...  \n",
       "2      [{'criticname': 'electronic gaming monthly', '...  \n",
       "3      [{'criticname': none, 'criticscore': '100', 'c...  \n",
       "4      [{'criticname': none, 'criticscore': '80', 'cr...  \n",
       "...                                                  ...  \n",
       "49825  [{'criticname': none, 'criticscore': '100', 'c...  \n",
       "49850  [{'criticname': none, 'criticscore': '70', 'cr...  \n",
       "49860  [{'criticname': none, 'criticscore': '30', 'cr...  \n",
       "49866  [{'criticname': none, 'criticscore': '85', 'cr...  \n",
       "49874  [{'criticname': none, 'criticscore': '90', 'cr...  \n",
       "\n",
       "[28227 rows x 2 columns]"
      ],
      "text/html": "<div>\n<style scoped>\n    .dataframe tbody tr th:only-of-type {\n        vertical-align: middle;\n    }\n\n    .dataframe tbody tr th {\n        vertical-align: top;\n    }\n\n    .dataframe thead th {\n        text-align: right;\n    }\n</style>\n<table border=\"1\" class=\"dataframe\">\n  <thead>\n    <tr style=\"text-align: right;\">\n      <th></th>\n      <th>Game</th>\n      <th>CriticsReviews</th>\n    </tr>\n  </thead>\n  <tbody>\n    <tr>\n      <th>0</th>\n      <td>Subnautica: Below Zero</td>\n      <td>[{'criticname': none, 'criticscore': '75', 'cr...</td>\n    </tr>\n    <tr>\n      <th>1</th>\n      <td>AntVentor</td>\n      <td>[{'criticname': none, 'criticscore': '70', 'cr...</td>\n    </tr>\n    <tr>\n      <th>2</th>\n      <td>Pilotwings 64</td>\n      <td>[{'criticname': 'electronic gaming monthly', '...</td>\n    </tr>\n    <tr>\n      <th>3</th>\n      <td>Wave Race 64</td>\n      <td>[{'criticname': none, 'criticscore': '100', 'c...</td>\n    </tr>\n    <tr>\n      <th>4</th>\n      <td>Madden NFL 08</td>\n      <td>[{'criticname': none, 'criticscore': '80', 'cr...</td>\n    </tr>\n    <tr>\n      <th>...</th>\n      <td>...</td>\n      <td>...</td>\n    </tr>\n    <tr>\n      <th>49825</th>\n      <td>GORN</td>\n      <td>[{'criticname': none, 'criticscore': '100', 'c...</td>\n    </tr>\n    <tr>\n      <th>49850</th>\n      <td>Citizens of Space</td>\n      <td>[{'criticname': none, 'criticscore': '70', 'cr...</td>\n    </tr>\n    <tr>\n      <th>49860</th>\n      <td>Bear With Me: The Lost Robots</td>\n      <td>[{'criticname': none, 'criticscore': '30', 'cr...</td>\n    </tr>\n    <tr>\n      <th>49866</th>\n      <td>Journey</td>\n      <td>[{'criticname': none, 'criticscore': '85', 'cr...</td>\n    </tr>\n    <tr>\n      <th>49874</th>\n      <td>Kerbal Space Program: Breaking Ground Expansion</td>\n      <td>[{'criticname': none, 'criticscore': '90', 'cr...</td>\n    </tr>\n  </tbody>\n</table>\n<p>28227 rows × 2 columns</p>\n</div>"
     },
     "metadata": {},
     "execution_count": 12
    }
   ],
   "source": [
    "#Check dataset\n",
    "sentiment_data"
   ]
  },
  {
   "cell_type": "code",
   "execution_count": 13,
   "metadata": {},
   "outputs": [
    {
     "output_type": "error",
     "ename": "SyntaxError",
     "evalue": "EOF while scanning triple-quoted string literal (<ipython-input-13-9b56a3ef69b7>, line 3)",
     "traceback": [
      "\u001b[1;36m  File \u001b[1;32m\"<ipython-input-13-9b56a3ef69b7>\"\u001b[1;36m, line \u001b[1;32m3\u001b[0m\n\u001b[1;33m    sentiment_data.to_excel(r'C:\\Users\\B.R\\Documents\\HvA\\Master_DDB\\MP\\complete_model\\sentiment_analysis\\seperated_criticreviews.xlsx')\u001b[0m\n\u001b[1;37m                                                                                                                                       \n^\u001b[0m\n\u001b[1;31mSyntaxError\u001b[0m\u001b[1;31m:\u001b[0m EOF while scanning triple-quoted string literal\n"
     ]
    }
   ],
   "source": [
    "''' DATASET IS CREATED ALREADY\n",
    "#Create csv for sentiment analysis\n",
    "sentiment_data.to_excel(r'C:\\Users\\B.R\\Documents\\HvA\\Master_DDB\\MP\\complete_model\\sentiment_analysis\\seperated_criticreviews.xlsx')"
   ]
  },
  {
   "source": [
    "# Data preparation"
   ],
   "cell_type": "markdown",
   "metadata": {}
  },
  {
   "cell_type": "code",
   "execution_count": 15,
   "metadata": {},
   "outputs": [
    {
     "output_type": "execute_result",
     "data": {
      "text/plain": [
       "                                    Game  StdDev_Sentiment  TotalNegative  \\\n",
       "0  \"Aha! I Found It!\" Hidden Object Game                 0             10   \n",
       "1           \"Aha! I Got It!\" Escape Game                 3              2   \n",
       "2                   #Breakforcist Battle                 3              6   \n",
       "3                                 #DRIVE                -1              3   \n",
       "4                               #Funtime               -21             28   \n",
       "\n",
       "   TotalPositive  StdDev_ContainWord  \n",
       "0             11            0.200196  \n",
       "1              4            0.090830  \n",
       "2             10            0.164653  \n",
       "3              3            0.090837  \n",
       "4             24            0.159769  "
      ],
      "text/html": "<div>\n<style scoped>\n    .dataframe tbody tr th:only-of-type {\n        vertical-align: middle;\n    }\n\n    .dataframe tbody tr th {\n        vertical-align: top;\n    }\n\n    .dataframe thead th {\n        text-align: right;\n    }\n</style>\n<table border=\"1\" class=\"dataframe\">\n  <thead>\n    <tr style=\"text-align: right;\">\n      <th></th>\n      <th>Game</th>\n      <th>StdDev_Sentiment</th>\n      <th>TotalNegative</th>\n      <th>TotalPositive</th>\n      <th>StdDev_ContainWord</th>\n    </tr>\n  </thead>\n  <tbody>\n    <tr>\n      <th>0</th>\n      <td>\"Aha! I Found It!\" Hidden Object Game</td>\n      <td>0</td>\n      <td>10</td>\n      <td>11</td>\n      <td>0.200196</td>\n    </tr>\n    <tr>\n      <th>1</th>\n      <td>\"Aha! I Got It!\" Escape Game</td>\n      <td>3</td>\n      <td>2</td>\n      <td>4</td>\n      <td>0.090830</td>\n    </tr>\n    <tr>\n      <th>2</th>\n      <td>#Breakforcist Battle</td>\n      <td>3</td>\n      <td>6</td>\n      <td>10</td>\n      <td>0.164653</td>\n    </tr>\n    <tr>\n      <th>3</th>\n      <td>#DRIVE</td>\n      <td>-1</td>\n      <td>3</td>\n      <td>3</td>\n      <td>0.090837</td>\n    </tr>\n    <tr>\n      <th>4</th>\n      <td>#Funtime</td>\n      <td>-21</td>\n      <td>28</td>\n      <td>24</td>\n      <td>0.159769</td>\n    </tr>\n  </tbody>\n</table>\n</div>"
     },
     "metadata": {},
     "execution_count": 15
    }
   ],
   "source": [
    "#Loading sentiment scores\n",
    "sentimentscores = pd.read_csv(r'C:\\Users\\B.R\\Documents\\HvA\\Master_DDB\\MP\\analysis\\critic_model\\sentiment_analysis\\sentimentscores_criticreviews.csv')\n",
    "sentimentscores.head()"
   ]
  },
  {
   "cell_type": "code",
   "execution_count": 16,
   "metadata": {},
   "outputs": [
    {
     "output_type": "execute_result",
     "data": {
      "text/plain": [
       "                                     Game Platform  \\\n",
       "0  Grand Theft Auto: Liberty City Stories      PSP   \n",
       "1     Grand Theft Auto: Vice City Stories      PSP   \n",
       "2                Monster Hunter Freedom 3      PSP   \n",
       "3                            Gran Turismo      PSP   \n",
       "4            Monster Hunter Freedom Unite      PSP   \n",
       "\n",
       "                       Publisher VGChartzScore CriticScore TotalSales  \\\n",
       "0               Rockstar Games           N/A         8.8        7.72m   \n",
       "1               Rockstar Games           N/A         8.4        5.08m   \n",
       "2                       Capcom           N/A         N/A        4.87m   \n",
       "3  Sony Computer Entertainment           7.5         7.7        2.93m   \n",
       "4                       Capcom           N/A         7.7        5.50m   \n",
       "\n",
       "     ReleaseDate   LastUpdate  \n",
       "0  25th Oct 05            NaN  \n",
       "1  31st Oct 06            NaN  \n",
       "2  01st Dec 10    08th Jan 19  \n",
       "3  01st Oct 09            NaN  \n",
       "4  23rd Jun 09            NaN  "
      ],
      "text/html": "<div>\n<style scoped>\n    .dataframe tbody tr th:only-of-type {\n        vertical-align: middle;\n    }\n\n    .dataframe tbody tr th {\n        vertical-align: top;\n    }\n\n    .dataframe thead th {\n        text-align: right;\n    }\n</style>\n<table border=\"1\" class=\"dataframe\">\n  <thead>\n    <tr style=\"text-align: right;\">\n      <th></th>\n      <th>Game</th>\n      <th>Platform</th>\n      <th>Publisher</th>\n      <th>VGChartzScore</th>\n      <th>CriticScore</th>\n      <th>TotalSales</th>\n      <th>ReleaseDate</th>\n      <th>LastUpdate</th>\n    </tr>\n  </thead>\n  <tbody>\n    <tr>\n      <th>0</th>\n      <td>Grand Theft Auto: Liberty City Stories</td>\n      <td>PSP</td>\n      <td>Rockstar Games</td>\n      <td>N/A</td>\n      <td>8.8</td>\n      <td>7.72m</td>\n      <td>25th Oct 05</td>\n      <td>NaN</td>\n    </tr>\n    <tr>\n      <th>1</th>\n      <td>Grand Theft Auto: Vice City Stories</td>\n      <td>PSP</td>\n      <td>Rockstar Games</td>\n      <td>N/A</td>\n      <td>8.4</td>\n      <td>5.08m</td>\n      <td>31st Oct 06</td>\n      <td>NaN</td>\n    </tr>\n    <tr>\n      <th>2</th>\n      <td>Monster Hunter Freedom 3</td>\n      <td>PSP</td>\n      <td>Capcom</td>\n      <td>N/A</td>\n      <td>N/A</td>\n      <td>4.87m</td>\n      <td>01st Dec 10</td>\n      <td>08th Jan 19</td>\n    </tr>\n    <tr>\n      <th>3</th>\n      <td>Gran Turismo</td>\n      <td>PSP</td>\n      <td>Sony Computer Entertainment</td>\n      <td>7.5</td>\n      <td>7.7</td>\n      <td>2.93m</td>\n      <td>01st Oct 09</td>\n      <td>NaN</td>\n    </tr>\n    <tr>\n      <th>4</th>\n      <td>Monster Hunter Freedom Unite</td>\n      <td>PSP</td>\n      <td>Capcom</td>\n      <td>N/A</td>\n      <td>7.7</td>\n      <td>5.50m</td>\n      <td>23rd Jun 09</td>\n      <td>NaN</td>\n    </tr>\n  </tbody>\n</table>\n</div>"
     },
     "metadata": {},
     "execution_count": 16
    }
   ],
   "source": [
    "#Loading sales_data\n",
    "sales_data = pd.read_csv(r'C:\\Users\\B.R\\Documents\\HvA\\Master_DDB\\MP\\Scraper_eWOM\\eWOM\\spiders\\vgchartz.csv')\n",
    "sales_data.head()"
   ]
  },
  {
   "cell_type": "code",
   "execution_count": 17,
   "metadata": {},
   "outputs": [
    {
     "output_type": "execute_result",
     "data": {
      "text/plain": [
       "                                    Game  StdDev_Sentiment  TotalNegative  \\\n",
       "0  \"Aha! I Found It!\" Hidden Object Game                 0             10   \n",
       "1           \"Aha! I Got It!\" Escape Game                 3              2   \n",
       "2                   #Breakforcist Battle                 3              6   \n",
       "3                                 #DRIVE                -1              3   \n",
       "4                               #Funtime               -21             28   \n",
       "\n",
       "   TotalPositive  StdDev_ContainWord Platform Publisher VGChartzScore  \\\n",
       "0             11            0.200196      NaN       NaN           NaN   \n",
       "1              4            0.090830      NaN       NaN           NaN   \n",
       "2             10            0.164653      NaN       NaN           NaN   \n",
       "3              3            0.090837      NaN       NaN           NaN   \n",
       "4             24            0.159769      NaN       NaN           NaN   \n",
       "\n",
       "  CriticScore TotalSales ReleaseDate LastUpdate  \n",
       "0         NaN        NaN         NaN        NaN  \n",
       "1         NaN        NaN         NaN        NaN  \n",
       "2         NaN        NaN         NaN        NaN  \n",
       "3         NaN        NaN         NaN        NaN  \n",
       "4         NaN        NaN         NaN        NaN  "
      ],
      "text/html": "<div>\n<style scoped>\n    .dataframe tbody tr th:only-of-type {\n        vertical-align: middle;\n    }\n\n    .dataframe tbody tr th {\n        vertical-align: top;\n    }\n\n    .dataframe thead th {\n        text-align: right;\n    }\n</style>\n<table border=\"1\" class=\"dataframe\">\n  <thead>\n    <tr style=\"text-align: right;\">\n      <th></th>\n      <th>Game</th>\n      <th>StdDev_Sentiment</th>\n      <th>TotalNegative</th>\n      <th>TotalPositive</th>\n      <th>StdDev_ContainWord</th>\n      <th>Platform</th>\n      <th>Publisher</th>\n      <th>VGChartzScore</th>\n      <th>CriticScore</th>\n      <th>TotalSales</th>\n      <th>ReleaseDate</th>\n      <th>LastUpdate</th>\n    </tr>\n  </thead>\n  <tbody>\n    <tr>\n      <th>0</th>\n      <td>\"Aha! I Found It!\" Hidden Object Game</td>\n      <td>0</td>\n      <td>10</td>\n      <td>11</td>\n      <td>0.200196</td>\n      <td>NaN</td>\n      <td>NaN</td>\n      <td>NaN</td>\n      <td>NaN</td>\n      <td>NaN</td>\n      <td>NaN</td>\n      <td>NaN</td>\n    </tr>\n    <tr>\n      <th>1</th>\n      <td>\"Aha! I Got It!\" Escape Game</td>\n      <td>3</td>\n      <td>2</td>\n      <td>4</td>\n      <td>0.090830</td>\n      <td>NaN</td>\n      <td>NaN</td>\n      <td>NaN</td>\n      <td>NaN</td>\n      <td>NaN</td>\n      <td>NaN</td>\n      <td>NaN</td>\n    </tr>\n    <tr>\n      <th>2</th>\n      <td>#Breakforcist Battle</td>\n      <td>3</td>\n      <td>6</td>\n      <td>10</td>\n      <td>0.164653</td>\n      <td>NaN</td>\n      <td>NaN</td>\n      <td>NaN</td>\n      <td>NaN</td>\n      <td>NaN</td>\n      <td>NaN</td>\n      <td>NaN</td>\n    </tr>\n    <tr>\n      <th>3</th>\n      <td>#DRIVE</td>\n      <td>-1</td>\n      <td>3</td>\n      <td>3</td>\n      <td>0.090837</td>\n      <td>NaN</td>\n      <td>NaN</td>\n      <td>NaN</td>\n      <td>NaN</td>\n      <td>NaN</td>\n      <td>NaN</td>\n      <td>NaN</td>\n    </tr>\n    <tr>\n      <th>4</th>\n      <td>#Funtime</td>\n      <td>-21</td>\n      <td>28</td>\n      <td>24</td>\n      <td>0.159769</td>\n      <td>NaN</td>\n      <td>NaN</td>\n      <td>NaN</td>\n      <td>NaN</td>\n      <td>NaN</td>\n      <td>NaN</td>\n      <td>NaN</td>\n    </tr>\n  </tbody>\n</table>\n</div>"
     },
     "metadata": {},
     "execution_count": 17
    }
   ],
   "source": [
    "#merging sentiment and sales data\n",
    "sentisales = pd.merge(sentimentscores, sales_data, on='Game', how='left')\n",
    "sentisales.head()"
   ]
  },
  {
   "cell_type": "code",
   "execution_count": 18,
   "metadata": {},
   "outputs": [
    {
     "output_type": "execute_result",
     "data": {
      "text/plain": [
       "                     Game  Metascore  UserScore           Publisher  \\\n",
       "0  Subnautica: Below Zero        NaN        NaN  Bandai Namco Games   \n",
       "1               AntVentor        NaN        NaN           LoopyMood   \n",
       "2           Pilotwings 64       80.0        NaN            Nintendo   \n",
       "3            Wave Race 64       92.0        NaN            Nintendo   \n",
       "4           Madden NFL 08       75.0        NaN           EA Sports   \n",
       "\n",
       "    ReleaseDate                                      Genre  \\\n",
       "0  May 14, 2021  ActionAdventure,Adventure,General,Sandbox   \n",
       "1  Apr 23, 2021                                        NaN   \n",
       "2  Sep 29, 1996                         Simulation,General   \n",
       "3  Nov  1, 1996                  Driving,Racing,Snow/Water   \n",
       "4  Aug 14, 2007                                  EATiburon   \n",
       "\n",
       "             NumberOfOnlinePlayers  \\\n",
       "0                              NaN   \n",
       "1                              NaN   \n",
       "2                          1Player   \n",
       "3                       1-2Players   \n",
       "4  Sports,Traditional,Football,Sim   \n",
       "\n",
       "                                             Cast  \\\n",
       "0                                             NaN   \n",
       "1                                             NaN   \n",
       "2   ShigeruMiyamoto , MakotoWada , YasuyukiOyagi    \n",
       "3              ShigeruMiyamoto , HiroshiYamauchi    \n",
       "4                                        Himself    \n",
       "\n",
       "                              Credits  \\\n",
       "0                                 NaN   \n",
       "1                                 NaN   \n",
       "2   Designer , Director , CoDirector    \n",
       "3                Designer , Director    \n",
       "4              VoiceActor:JohnMadden    \n",
       "\n",
       "                                      CriticsReviews  \\\n",
       "0  [{'CriticName': None, 'CriticScore': '75', 'Cr...   \n",
       "1  [{'CriticName': None, 'CriticScore': '70', 'Cr...   \n",
       "2  [{'CriticName': 'Electronic Gaming Monthly', '...   \n",
       "3  [{'CriticName': None, 'CriticScore': '100', 'C...   \n",
       "4  [{'CriticName': None, 'CriticScore': '80', 'Cr...   \n",
       "\n",
       "                                         UserReviews  \n",
       "0  [{'UserName': None, 'UserReviewScore': '75', '...  \n",
       "1  [{'UserName': None, 'UserReviewScore': '70', '...  \n",
       "2  [{'UserName': None, 'UserReviewScore': '80', '...  \n",
       "3  [{'UserName': None, 'UserReviewScore': '60', '...  \n",
       "4  [{'UserName': None, 'UserReviewScore': '70', '...  "
      ],
      "text/html": "<div>\n<style scoped>\n    .dataframe tbody tr th:only-of-type {\n        vertical-align: middle;\n    }\n\n    .dataframe tbody tr th {\n        vertical-align: top;\n    }\n\n    .dataframe thead th {\n        text-align: right;\n    }\n</style>\n<table border=\"1\" class=\"dataframe\">\n  <thead>\n    <tr style=\"text-align: right;\">\n      <th></th>\n      <th>Game</th>\n      <th>Metascore</th>\n      <th>UserScore</th>\n      <th>Publisher</th>\n      <th>ReleaseDate</th>\n      <th>Genre</th>\n      <th>NumberOfOnlinePlayers</th>\n      <th>Cast</th>\n      <th>Credits</th>\n      <th>CriticsReviews</th>\n      <th>UserReviews</th>\n    </tr>\n  </thead>\n  <tbody>\n    <tr>\n      <th>0</th>\n      <td>Subnautica: Below Zero</td>\n      <td>NaN</td>\n      <td>NaN</td>\n      <td>Bandai Namco Games</td>\n      <td>May 14, 2021</td>\n      <td>ActionAdventure,Adventure,General,Sandbox</td>\n      <td>NaN</td>\n      <td>NaN</td>\n      <td>NaN</td>\n      <td>[{'CriticName': None, 'CriticScore': '75', 'Cr...</td>\n      <td>[{'UserName': None, 'UserReviewScore': '75', '...</td>\n    </tr>\n    <tr>\n      <th>1</th>\n      <td>AntVentor</td>\n      <td>NaN</td>\n      <td>NaN</td>\n      <td>LoopyMood</td>\n      <td>Apr 23, 2021</td>\n      <td>NaN</td>\n      <td>NaN</td>\n      <td>NaN</td>\n      <td>NaN</td>\n      <td>[{'CriticName': None, 'CriticScore': '70', 'Cr...</td>\n      <td>[{'UserName': None, 'UserReviewScore': '70', '...</td>\n    </tr>\n    <tr>\n      <th>2</th>\n      <td>Pilotwings 64</td>\n      <td>80.0</td>\n      <td>NaN</td>\n      <td>Nintendo</td>\n      <td>Sep 29, 1996</td>\n      <td>Simulation,General</td>\n      <td>1Player</td>\n      <td>ShigeruMiyamoto , MakotoWada , YasuyukiOyagi</td>\n      <td>Designer , Director , CoDirector</td>\n      <td>[{'CriticName': 'Electronic Gaming Monthly', '...</td>\n      <td>[{'UserName': None, 'UserReviewScore': '80', '...</td>\n    </tr>\n    <tr>\n      <th>3</th>\n      <td>Wave Race 64</td>\n      <td>92.0</td>\n      <td>NaN</td>\n      <td>Nintendo</td>\n      <td>Nov  1, 1996</td>\n      <td>Driving,Racing,Snow/Water</td>\n      <td>1-2Players</td>\n      <td>ShigeruMiyamoto , HiroshiYamauchi</td>\n      <td>Designer , Director</td>\n      <td>[{'CriticName': None, 'CriticScore': '100', 'C...</td>\n      <td>[{'UserName': None, 'UserReviewScore': '60', '...</td>\n    </tr>\n    <tr>\n      <th>4</th>\n      <td>Madden NFL 08</td>\n      <td>75.0</td>\n      <td>NaN</td>\n      <td>EA Sports</td>\n      <td>Aug 14, 2007</td>\n      <td>EATiburon</td>\n      <td>Sports,Traditional,Football,Sim</td>\n      <td>Himself</td>\n      <td>VoiceActor:JohnMadden</td>\n      <td>[{'CriticName': None, 'CriticScore': '80', 'Cr...</td>\n      <td>[{'UserName': None, 'UserReviewScore': '70', '...</td>\n    </tr>\n  </tbody>\n</table>\n</div>"
     },
     "metadata": {},
     "execution_count": 18
    }
   ],
   "source": [
    "#Loading metascores \n",
    "metacritic = pd.read_csv(r'C:\\Users\\B.R\\Documents\\HvA\\Master_DDB\\MP\\Scraper_eWOM\\eWOM\\spiders\\metacritic.csv')\n",
    "metacritic.head()"
   ]
  },
  {
   "cell_type": "code",
   "execution_count": 19,
   "metadata": {},
   "outputs": [
    {
     "output_type": "execute_result",
     "data": {
      "text/plain": [
       "                                    Game  StdDev_Sentiment  TotalNegative  \\\n",
       "0  \"Aha! I Found It!\" Hidden Object Game                 0             10   \n",
       "1           \"Aha! I Got It!\" Escape Game                 3              2   \n",
       "2                   #Breakforcist Battle                 3              6   \n",
       "3                                 #DRIVE                -1              3   \n",
       "4                               #Funtime               -21             28   \n",
       "\n",
       "   TotalPositive  StdDev_ContainWord Platform Publisher_x VGChartzScore  \\\n",
       "0             11            0.200196      NaN         NaN           NaN   \n",
       "1              4            0.090830      NaN         NaN           NaN   \n",
       "2             10            0.164653      NaN         NaN           NaN   \n",
       "3              3            0.090837      NaN         NaN           NaN   \n",
       "4             24            0.159769      NaN         NaN           NaN   \n",
       "\n",
       "  CriticScore TotalSales  ... Metascore UserScore  \\\n",
       "0         NaN        NaN  ...       NaN       NaN   \n",
       "1         NaN        NaN  ...       NaN       NaN   \n",
       "2         NaN        NaN  ...       NaN       NaN   \n",
       "3         NaN        NaN  ...      69.0       NaN   \n",
       "4         NaN        NaN  ...       NaN       NaN   \n",
       "\n",
       "                         Publisher_y  ReleaseDate_y  \\\n",
       "0                              Ateam   Jan 25, 2010   \n",
       "1                              Ateam   Nov  2, 2009   \n",
       "2                  Lucid Sheep Games   Apr 12, 2018   \n",
       "3                    PM Studios Inc.   Feb 16, 2021   \n",
       "4  The Quantum Astrophysicists Guild   Jul 16, 2020   \n",
       "\n",
       "                                        Genre NumberOfOnlinePlayers  \\\n",
       "0  Action,Puzzle,General,HiddenObject,General            1-4Players   \n",
       "1            Adventure,Puzzle,General,General               1Player   \n",
       "2                              Puzzle,General   NoOnlineMultiplayer   \n",
       "3                    Racing,Arcade,Automobile   NoOnlineMultiplayer   \n",
       "4        Action,Shooter,Shoot-'Em-Up,Top-Down   NoOnlineMultiplayer   \n",
       "\n",
       "                                                Cast  \\\n",
       "0   HiroyukiKato , TakahiroSuzuki , TakaoHayashi ...   \n",
       "1                                                NaN   \n",
       "2                                                NaN   \n",
       "3                                                NaN   \n",
       "4                                                NaN   \n",
       "\n",
       "                                             Credits  \\\n",
       "0   Graphics , Sound , ExecutiveProducer , Planne...   \n",
       "1                                                NaN   \n",
       "2                                                NaN   \n",
       "3                                                NaN   \n",
       "4                                                NaN   \n",
       "\n",
       "                                      CriticsReviews  \\\n",
       "0  [{'CriticName': 'Official Nintendo Magazine UK...   \n",
       "1  [{'CriticName': 'Official Nintendo Magazine UK...   \n",
       "2  [{'CriticName': None, 'CriticScore': '80', 'Cr...   \n",
       "3  [{'CriticName': None, 'CriticScore': '90', 'Cr...   \n",
       "4  [{'CriticName': None, 'CriticScore': '70', 'Cr...   \n",
       "\n",
       "                                         UserReviews  \n",
       "0  [{'UserName': None, 'UserReviewScore': '30', '...  \n",
       "1  [{'UserName': None, 'UserReviewScore': '70', '...  \n",
       "2  [{'UserName': None, 'UserReviewScore': '55', '...  \n",
       "3  [{'UserName': None, 'UserReviewScore': '80', '...  \n",
       "4  [{'UserName': None, 'UserReviewScore': '70', '...  \n",
       "\n",
       "[5 rows x 22 columns]"
      ],
      "text/html": "<div>\n<style scoped>\n    .dataframe tbody tr th:only-of-type {\n        vertical-align: middle;\n    }\n\n    .dataframe tbody tr th {\n        vertical-align: top;\n    }\n\n    .dataframe thead th {\n        text-align: right;\n    }\n</style>\n<table border=\"1\" class=\"dataframe\">\n  <thead>\n    <tr style=\"text-align: right;\">\n      <th></th>\n      <th>Game</th>\n      <th>StdDev_Sentiment</th>\n      <th>TotalNegative</th>\n      <th>TotalPositive</th>\n      <th>StdDev_ContainWord</th>\n      <th>Platform</th>\n      <th>Publisher_x</th>\n      <th>VGChartzScore</th>\n      <th>CriticScore</th>\n      <th>TotalSales</th>\n      <th>...</th>\n      <th>Metascore</th>\n      <th>UserScore</th>\n      <th>Publisher_y</th>\n      <th>ReleaseDate_y</th>\n      <th>Genre</th>\n      <th>NumberOfOnlinePlayers</th>\n      <th>Cast</th>\n      <th>Credits</th>\n      <th>CriticsReviews</th>\n      <th>UserReviews</th>\n    </tr>\n  </thead>\n  <tbody>\n    <tr>\n      <th>0</th>\n      <td>\"Aha! I Found It!\" Hidden Object Game</td>\n      <td>0</td>\n      <td>10</td>\n      <td>11</td>\n      <td>0.200196</td>\n      <td>NaN</td>\n      <td>NaN</td>\n      <td>NaN</td>\n      <td>NaN</td>\n      <td>NaN</td>\n      <td>...</td>\n      <td>NaN</td>\n      <td>NaN</td>\n      <td>Ateam</td>\n      <td>Jan 25, 2010</td>\n      <td>Action,Puzzle,General,HiddenObject,General</td>\n      <td>1-4Players</td>\n      <td>HiroyukiKato , TakahiroSuzuki , TakaoHayashi ...</td>\n      <td>Graphics , Sound , ExecutiveProducer , Planne...</td>\n      <td>[{'CriticName': 'Official Nintendo Magazine UK...</td>\n      <td>[{'UserName': None, 'UserReviewScore': '30', '...</td>\n    </tr>\n    <tr>\n      <th>1</th>\n      <td>\"Aha! I Got It!\" Escape Game</td>\n      <td>3</td>\n      <td>2</td>\n      <td>4</td>\n      <td>0.090830</td>\n      <td>NaN</td>\n      <td>NaN</td>\n      <td>NaN</td>\n      <td>NaN</td>\n      <td>NaN</td>\n      <td>...</td>\n      <td>NaN</td>\n      <td>NaN</td>\n      <td>Ateam</td>\n      <td>Nov  2, 2009</td>\n      <td>Adventure,Puzzle,General,General</td>\n      <td>1Player</td>\n      <td>NaN</td>\n      <td>NaN</td>\n      <td>[{'CriticName': 'Official Nintendo Magazine UK...</td>\n      <td>[{'UserName': None, 'UserReviewScore': '70', '...</td>\n    </tr>\n    <tr>\n      <th>2</th>\n      <td>#Breakforcist Battle</td>\n      <td>3</td>\n      <td>6</td>\n      <td>10</td>\n      <td>0.164653</td>\n      <td>NaN</td>\n      <td>NaN</td>\n      <td>NaN</td>\n      <td>NaN</td>\n      <td>NaN</td>\n      <td>...</td>\n      <td>NaN</td>\n      <td>NaN</td>\n      <td>Lucid Sheep Games</td>\n      <td>Apr 12, 2018</td>\n      <td>Puzzle,General</td>\n      <td>NoOnlineMultiplayer</td>\n      <td>NaN</td>\n      <td>NaN</td>\n      <td>[{'CriticName': None, 'CriticScore': '80', 'Cr...</td>\n      <td>[{'UserName': None, 'UserReviewScore': '55', '...</td>\n    </tr>\n    <tr>\n      <th>3</th>\n      <td>#DRIVE</td>\n      <td>-1</td>\n      <td>3</td>\n      <td>3</td>\n      <td>0.090837</td>\n      <td>NaN</td>\n      <td>NaN</td>\n      <td>NaN</td>\n      <td>NaN</td>\n      <td>NaN</td>\n      <td>...</td>\n      <td>69.0</td>\n      <td>NaN</td>\n      <td>PM Studios Inc.</td>\n      <td>Feb 16, 2021</td>\n      <td>Racing,Arcade,Automobile</td>\n      <td>NoOnlineMultiplayer</td>\n      <td>NaN</td>\n      <td>NaN</td>\n      <td>[{'CriticName': None, 'CriticScore': '90', 'Cr...</td>\n      <td>[{'UserName': None, 'UserReviewScore': '80', '...</td>\n    </tr>\n    <tr>\n      <th>4</th>\n      <td>#Funtime</td>\n      <td>-21</td>\n      <td>28</td>\n      <td>24</td>\n      <td>0.159769</td>\n      <td>NaN</td>\n      <td>NaN</td>\n      <td>NaN</td>\n      <td>NaN</td>\n      <td>NaN</td>\n      <td>...</td>\n      <td>NaN</td>\n      <td>NaN</td>\n      <td>The Quantum Astrophysicists Guild</td>\n      <td>Jul 16, 2020</td>\n      <td>Action,Shooter,Shoot-'Em-Up,Top-Down</td>\n      <td>NoOnlineMultiplayer</td>\n      <td>NaN</td>\n      <td>NaN</td>\n      <td>[{'CriticName': None, 'CriticScore': '70', 'Cr...</td>\n      <td>[{'UserName': None, 'UserReviewScore': '70', '...</td>\n    </tr>\n  </tbody>\n</table>\n<p>5 rows × 22 columns</p>\n</div>"
     },
     "metadata": {},
     "execution_count": 19
    }
   ],
   "source": [
    "finaldata = pd.merge(sentisales, metacritic, on='Game', how='left')\n",
    "finaldata.head()"
   ]
  },
  {
   "cell_type": "code",
   "execution_count": 20,
   "metadata": {},
   "outputs": [],
   "source": [
    "finaldata.dropna(subset = ['StdDev_ContainWord', 'UserScore', 'TotalSales'], inplace=True)"
   ]
  },
  {
   "cell_type": "code",
   "execution_count": 21,
   "metadata": {},
   "outputs": [],
   "source": [
    "#Remove Letter M from sales data\n",
    "finaldata['TotalSales'] = finaldata['TotalSales'].map(lambda x: x.rstrip('m'))"
   ]
  },
  {
   "cell_type": "code",
   "execution_count": 22,
   "metadata": {},
   "outputs": [
    {
     "output_type": "stream",
     "name": "stdout",
     "text": [
      "StdDev_ContainWord    0\nUserScore             0\nTotalSales            0\ndtype: int64\nStdDev_ContainWord    0\nUserScore             0\nTotalSales            0\ndtype: int64\n"
     ]
    }
   ],
   "source": [
    "#validation on null data and NaNs in dataset\n",
    "print(finaldata[['StdDev_ContainWord', 'UserScore', 'TotalSales']].isnull().sum())\n",
    "print(finaldata[['StdDev_ContainWord', 'UserScore', 'TotalSales']].isna().sum())"
   ]
  },
  {
   "source": [
    "# Multivariate regression\n"
   ],
   "cell_type": "markdown",
   "metadata": {}
  },
  {
   "cell_type": "code",
   "execution_count": 23,
   "metadata": {},
   "outputs": [],
   "source": [
    "#importing statsmodels package for statistical analysis\n",
    "import statsmodels.api as sm\n",
    "import matplotlib.pyplot as plt"
   ]
  },
  {
   "cell_type": "code",
   "execution_count": 24,
   "metadata": {},
   "outputs": [],
   "source": [
    "#define X and Y dependent and independent variables\n",
    "X = finaldata[['StdDev_ContainWord', 'UserScore']].astype(float)\n",
    "y = finaldata['TotalSales'].astype(float)"
   ]
  },
  {
   "cell_type": "code",
   "execution_count": 25,
   "metadata": {},
   "outputs": [
    {
     "output_type": "display_data",
     "data": {
      "text/plain": "<Figure size 432x288 with 1 Axes>",
      "image/svg+xml": "<?xml version=\"1.0\" encoding=\"utf-8\" standalone=\"no\"?>\r\n<!DOCTYPE svg PUBLIC \"-//W3C//DTD SVG 1.1//EN\"\r\n  \"http://www.w3.org/Graphics/SVG/1.1/DTD/svg11.dtd\">\r\n<!-- Created with matplotlib (https://matplotlib.org/) -->\r\n<svg height=\"248.518125pt\" version=\"1.1\" viewBox=\"0 0 384.160595 248.518125\" width=\"384.160595pt\" xmlns=\"http://www.w3.org/2000/svg\" xmlns:xlink=\"http://www.w3.org/1999/xlink\">\r\n <metadata>\r\n  <rdf:RDF xmlns:cc=\"http://creativecommons.org/ns#\" xmlns:dc=\"http://purl.org/dc/elements/1.1/\" xmlns:rdf=\"http://www.w3.org/1999/02/22-rdf-syntax-ns#\">\r\n   <cc:Work>\r\n    <dc:type rdf:resource=\"http://purl.org/dc/dcmitype/StillImage\"/>\r\n    <dc:date>2021-06-11T19:05:14.341064</dc:date>\r\n    <dc:format>image/svg+xml</dc:format>\r\n    <dc:creator>\r\n     <cc:Agent>\r\n      <dc:title>Matplotlib v3.3.3, https://matplotlib.org/</dc:title>\r\n     </cc:Agent>\r\n    </dc:creator>\r\n   </cc:Work>\r\n  </rdf:RDF>\r\n </metadata>\r\n <defs>\r\n  <style type=\"text/css\">*{stroke-linecap:butt;stroke-linejoin:round;}</style>\r\n </defs>\r\n <g id=\"figure_1\">\r\n  <g id=\"patch_1\">\r\n   <path d=\"M -0 248.518125 \r\nL 384.160595 248.518125 \r\nL 384.160595 0 \r\nL -0 0 \r\nz\r\n\" style=\"fill:none;\"/>\r\n  </g>\r\n  <g id=\"axes_1\">\r\n   <g id=\"patch_2\">\r\n    <path d=\"M 39.65 224.64 \r\nL 374.45 224.64 \r\nL 374.45 7.2 \r\nL 39.65 7.2 \r\nz\r\n\" style=\"fill:#ffffff;\"/>\r\n   </g>\r\n   <g id=\"patch_3\">\r\n    <path clip-path=\"url(#pa7942b79e6)\" d=\"M 54.868182 224.64 \r\nL 85.304545 224.64 \r\nL 85.304545 17.554286 \r\nL 54.868182 17.554286 \r\nz\r\n\" style=\"fill:#1f77b4;\"/>\r\n   </g>\r\n   <g id=\"patch_4\">\r\n    <path clip-path=\"url(#pa7942b79e6)\" d=\"M 85.304545 224.64 \r\nL 115.740909 224.64 \r\nL 115.740909 208.562545 \r\nL 85.304545 208.562545 \r\nz\r\n\" style=\"fill:#1f77b4;\"/>\r\n   </g>\r\n   <g id=\"patch_5\">\r\n    <path clip-path=\"url(#pa7942b79e6)\" d=\"M 115.740909 224.64 \r\nL 146.177273 224.64 \r\nL 146.177273 222.31433 \r\nL 115.740909 222.31433 \r\nz\r\n\" style=\"fill:#1f77b4;\"/>\r\n   </g>\r\n   <g id=\"patch_6\">\r\n    <path clip-path=\"url(#pa7942b79e6)\" d=\"M 146.177273 224.64 \r\nL 176.613636 224.64 \r\nL 176.613636 223.729955 \r\nL 146.177273 223.729955 \r\nz\r\n\" style=\"fill:#1f77b4;\"/>\r\n   </g>\r\n   <g id=\"patch_7\">\r\n    <path clip-path=\"url(#pa7942b79e6)\" d=\"M 176.613636 224.64 \r\nL 207.05 224.64 \r\nL 207.05 223.729955 \r\nL 176.613636 223.729955 \r\nz\r\n\" style=\"fill:#1f77b4;\"/>\r\n   </g>\r\n   <g id=\"patch_8\">\r\n    <path clip-path=\"url(#pa7942b79e6)\" d=\"M 207.05 224.64 \r\nL 237.486364 224.64 \r\nL 237.486364 224.538884 \r\nL 207.05 224.538884 \r\nz\r\n\" style=\"fill:#1f77b4;\"/>\r\n   </g>\r\n   <g id=\"patch_9\">\r\n    <path clip-path=\"url(#pa7942b79e6)\" d=\"M 237.486364 224.64 \r\nL 267.922727 224.64 \r\nL 267.922727 224.64 \r\nL 237.486364 224.64 \r\nz\r\n\" style=\"fill:#1f77b4;\"/>\r\n   </g>\r\n   <g id=\"patch_10\">\r\n    <path clip-path=\"url(#pa7942b79e6)\" d=\"M 267.922727 224.64 \r\nL 298.359091 224.64 \r\nL 298.359091 224.437768 \r\nL 267.922727 224.437768 \r\nz\r\n\" style=\"fill:#1f77b4;\"/>\r\n   </g>\r\n   <g id=\"patch_11\">\r\n    <path clip-path=\"url(#pa7942b79e6)\" d=\"M 298.359091 224.64 \r\nL 328.795455 224.64 \r\nL 328.795455 224.64 \r\nL 298.359091 224.64 \r\nz\r\n\" style=\"fill:#1f77b4;\"/>\r\n   </g>\r\n   <g id=\"patch_12\">\r\n    <path clip-path=\"url(#pa7942b79e6)\" d=\"M 328.795455 224.64 \r\nL 359.231818 224.64 \r\nL 359.231818 224.538884 \r\nL 328.795455 224.538884 \r\nz\r\n\" style=\"fill:#1f77b4;\"/>\r\n   </g>\r\n   <g id=\"matplotlib.axis_1\">\r\n    <g id=\"xtick_1\">\r\n     <g id=\"line2d_1\">\r\n      <defs>\r\n       <path d=\"M 0 0 \r\nL 0 3.5 \r\n\" id=\"med4612b377\" style=\"stroke:#000000;stroke-width:0.8;\"/>\r\n      </defs>\r\n      <g>\r\n       <use style=\"stroke:#000000;stroke-width:0.8;\" x=\"54.868182\" xlink:href=\"#med4612b377\" y=\"224.64\"/>\r\n      </g>\r\n     </g>\r\n     <g id=\"text_1\">\r\n      <!-- 0 -->\r\n      <g transform=\"translate(51.686932 239.238437)scale(0.1 -0.1)\">\r\n       <defs>\r\n        <path d=\"M 31.78125 66.40625 \r\nQ 24.171875 66.40625 20.328125 58.90625 \r\nQ 16.5 51.421875 16.5 36.375 \r\nQ 16.5 21.390625 20.328125 13.890625 \r\nQ 24.171875 6.390625 31.78125 6.390625 \r\nQ 39.453125 6.390625 43.28125 13.890625 \r\nQ 47.125 21.390625 47.125 36.375 \r\nQ 47.125 51.421875 43.28125 58.90625 \r\nQ 39.453125 66.40625 31.78125 66.40625 \r\nz\r\nM 31.78125 74.21875 \r\nQ 44.046875 74.21875 50.515625 64.515625 \r\nQ 56.984375 54.828125 56.984375 36.375 \r\nQ 56.984375 17.96875 50.515625 8.265625 \r\nQ 44.046875 -1.421875 31.78125 -1.421875 \r\nQ 19.53125 -1.421875 13.0625 8.265625 \r\nQ 6.59375 17.96875 6.59375 36.375 \r\nQ 6.59375 54.828125 13.0625 64.515625 \r\nQ 19.53125 74.21875 31.78125 74.21875 \r\nz\r\n\" id=\"DejaVuSans-48\"/>\r\n       </defs>\r\n       <use xlink:href=\"#DejaVuSans-48\"/>\r\n      </g>\r\n     </g>\r\n    </g>\r\n    <g id=\"xtick_2\">\r\n     <g id=\"line2d_2\">\r\n      <g>\r\n       <use style=\"stroke:#000000;stroke-width:0.8;\" x=\"107.489834\" xlink:href=\"#med4612b377\" y=\"224.64\"/>\r\n      </g>\r\n     </g>\r\n     <g id=\"text_2\">\r\n      <!-- 5 -->\r\n      <g transform=\"translate(104.308584 239.238437)scale(0.1 -0.1)\">\r\n       <defs>\r\n        <path d=\"M 10.796875 72.90625 \r\nL 49.515625 72.90625 \r\nL 49.515625 64.59375 \r\nL 19.828125 64.59375 \r\nL 19.828125 46.734375 \r\nQ 21.96875 47.46875 24.109375 47.828125 \r\nQ 26.265625 48.1875 28.421875 48.1875 \r\nQ 40.625 48.1875 47.75 41.5 \r\nQ 54.890625 34.8125 54.890625 23.390625 \r\nQ 54.890625 11.625 47.5625 5.09375 \r\nQ 40.234375 -1.421875 26.90625 -1.421875 \r\nQ 22.3125 -1.421875 17.546875 -0.640625 \r\nQ 12.796875 0.140625 7.71875 1.703125 \r\nL 7.71875 11.625 \r\nQ 12.109375 9.234375 16.796875 8.0625 \r\nQ 21.484375 6.890625 26.703125 6.890625 \r\nQ 35.15625 6.890625 40.078125 11.328125 \r\nQ 45.015625 15.765625 45.015625 23.390625 \r\nQ 45.015625 31 40.078125 35.4375 \r\nQ 35.15625 39.890625 26.703125 39.890625 \r\nQ 22.75 39.890625 18.8125 39.015625 \r\nQ 14.890625 38.140625 10.796875 36.28125 \r\nz\r\n\" id=\"DejaVuSans-53\"/>\r\n       </defs>\r\n       <use xlink:href=\"#DejaVuSans-53\"/>\r\n      </g>\r\n     </g>\r\n    </g>\r\n    <g id=\"xtick_3\">\r\n     <g id=\"line2d_3\">\r\n      <g>\r\n       <use style=\"stroke:#000000;stroke-width:0.8;\" x=\"160.111486\" xlink:href=\"#med4612b377\" y=\"224.64\"/>\r\n      </g>\r\n     </g>\r\n     <g id=\"text_3\">\r\n      <!-- 10 -->\r\n      <g transform=\"translate(153.748986 239.238437)scale(0.1 -0.1)\">\r\n       <defs>\r\n        <path d=\"M 12.40625 8.296875 \r\nL 28.515625 8.296875 \r\nL 28.515625 63.921875 \r\nL 10.984375 60.40625 \r\nL 10.984375 69.390625 \r\nL 28.421875 72.90625 \r\nL 38.28125 72.90625 \r\nL 38.28125 8.296875 \r\nL 54.390625 8.296875 \r\nL 54.390625 0 \r\nL 12.40625 0 \r\nz\r\n\" id=\"DejaVuSans-49\"/>\r\n       </defs>\r\n       <use xlink:href=\"#DejaVuSans-49\"/>\r\n       <use x=\"63.623047\" xlink:href=\"#DejaVuSans-48\"/>\r\n      </g>\r\n     </g>\r\n    </g>\r\n    <g id=\"xtick_4\">\r\n     <g id=\"line2d_4\">\r\n      <g>\r\n       <use style=\"stroke:#000000;stroke-width:0.8;\" x=\"212.733138\" xlink:href=\"#med4612b377\" y=\"224.64\"/>\r\n      </g>\r\n     </g>\r\n     <g id=\"text_4\">\r\n      <!-- 15 -->\r\n      <g transform=\"translate(206.370638 239.238437)scale(0.1 -0.1)\">\r\n       <use xlink:href=\"#DejaVuSans-49\"/>\r\n       <use x=\"63.623047\" xlink:href=\"#DejaVuSans-53\"/>\r\n      </g>\r\n     </g>\r\n    </g>\r\n    <g id=\"xtick_5\">\r\n     <g id=\"line2d_5\">\r\n      <g>\r\n       <use style=\"stroke:#000000;stroke-width:0.8;\" x=\"265.354791\" xlink:href=\"#med4612b377\" y=\"224.64\"/>\r\n      </g>\r\n     </g>\r\n     <g id=\"text_5\">\r\n      <!-- 20 -->\r\n      <g transform=\"translate(258.992291 239.238437)scale(0.1 -0.1)\">\r\n       <defs>\r\n        <path d=\"M 19.1875 8.296875 \r\nL 53.609375 8.296875 \r\nL 53.609375 0 \r\nL 7.328125 0 \r\nL 7.328125 8.296875 \r\nQ 12.9375 14.109375 22.625 23.890625 \r\nQ 32.328125 33.6875 34.8125 36.53125 \r\nQ 39.546875 41.84375 41.421875 45.53125 \r\nQ 43.3125 49.21875 43.3125 52.78125 \r\nQ 43.3125 58.59375 39.234375 62.25 \r\nQ 35.15625 65.921875 28.609375 65.921875 \r\nQ 23.96875 65.921875 18.8125 64.3125 \r\nQ 13.671875 62.703125 7.8125 59.421875 \r\nL 7.8125 69.390625 \r\nQ 13.765625 71.78125 18.9375 73 \r\nQ 24.125 74.21875 28.421875 74.21875 \r\nQ 39.75 74.21875 46.484375 68.546875 \r\nQ 53.21875 62.890625 53.21875 53.421875 \r\nQ 53.21875 48.921875 51.53125 44.890625 \r\nQ 49.859375 40.875 45.40625 35.40625 \r\nQ 44.1875 33.984375 37.640625 27.21875 \r\nQ 31.109375 20.453125 19.1875 8.296875 \r\nz\r\n\" id=\"DejaVuSans-50\"/>\r\n       </defs>\r\n       <use xlink:href=\"#DejaVuSans-50\"/>\r\n       <use x=\"63.623047\" xlink:href=\"#DejaVuSans-48\"/>\r\n      </g>\r\n     </g>\r\n    </g>\r\n    <g id=\"xtick_6\">\r\n     <g id=\"line2d_6\">\r\n      <g>\r\n       <use style=\"stroke:#000000;stroke-width:0.8;\" x=\"317.976443\" xlink:href=\"#med4612b377\" y=\"224.64\"/>\r\n      </g>\r\n     </g>\r\n     <g id=\"text_6\">\r\n      <!-- 25 -->\r\n      <g transform=\"translate(311.613943 239.238437)scale(0.1 -0.1)\">\r\n       <use xlink:href=\"#DejaVuSans-50\"/>\r\n       <use x=\"63.623047\" xlink:href=\"#DejaVuSans-53\"/>\r\n      </g>\r\n     </g>\r\n    </g>\r\n    <g id=\"xtick_7\">\r\n     <g id=\"line2d_7\">\r\n      <g>\r\n       <use style=\"stroke:#000000;stroke-width:0.8;\" x=\"370.598095\" xlink:href=\"#med4612b377\" y=\"224.64\"/>\r\n      </g>\r\n     </g>\r\n     <g id=\"text_7\">\r\n      <!-- 30 -->\r\n      <g transform=\"translate(364.235595 239.238437)scale(0.1 -0.1)\">\r\n       <defs>\r\n        <path d=\"M 40.578125 39.3125 \r\nQ 47.65625 37.796875 51.625 33 \r\nQ 55.609375 28.21875 55.609375 21.1875 \r\nQ 55.609375 10.40625 48.1875 4.484375 \r\nQ 40.765625 -1.421875 27.09375 -1.421875 \r\nQ 22.515625 -1.421875 17.65625 -0.515625 \r\nQ 12.796875 0.390625 7.625 2.203125 \r\nL 7.625 11.71875 \r\nQ 11.71875 9.328125 16.59375 8.109375 \r\nQ 21.484375 6.890625 26.8125 6.890625 \r\nQ 36.078125 6.890625 40.9375 10.546875 \r\nQ 45.796875 14.203125 45.796875 21.1875 \r\nQ 45.796875 27.640625 41.28125 31.265625 \r\nQ 36.765625 34.90625 28.71875 34.90625 \r\nL 20.21875 34.90625 \r\nL 20.21875 43.015625 \r\nL 29.109375 43.015625 \r\nQ 36.375 43.015625 40.234375 45.921875 \r\nQ 44.09375 48.828125 44.09375 54.296875 \r\nQ 44.09375 59.90625 40.109375 62.90625 \r\nQ 36.140625 65.921875 28.71875 65.921875 \r\nQ 24.65625 65.921875 20.015625 65.03125 \r\nQ 15.375 64.15625 9.8125 62.3125 \r\nL 9.8125 71.09375 \r\nQ 15.4375 72.65625 20.34375 73.4375 \r\nQ 25.25 74.21875 29.59375 74.21875 \r\nQ 40.828125 74.21875 47.359375 69.109375 \r\nQ 53.90625 64.015625 53.90625 55.328125 \r\nQ 53.90625 49.265625 50.4375 45.09375 \r\nQ 46.96875 40.921875 40.578125 39.3125 \r\nz\r\n\" id=\"DejaVuSans-51\"/>\r\n       </defs>\r\n       <use xlink:href=\"#DejaVuSans-51\"/>\r\n       <use x=\"63.623047\" xlink:href=\"#DejaVuSans-48\"/>\r\n      </g>\r\n     </g>\r\n    </g>\r\n   </g>\r\n   <g id=\"matplotlib.axis_2\">\r\n    <g id=\"ytick_1\">\r\n     <g id=\"line2d_8\">\r\n      <defs>\r\n       <path d=\"M 0 0 \r\nL -3.5 0 \r\n\" id=\"m886ef59b90\" style=\"stroke:#000000;stroke-width:0.8;\"/>\r\n      </defs>\r\n      <g>\r\n       <use style=\"stroke:#000000;stroke-width:0.8;\" x=\"39.65\" xlink:href=\"#m886ef59b90\" y=\"224.64\"/>\r\n      </g>\r\n     </g>\r\n     <g id=\"text_8\">\r\n      <!-- 0 -->\r\n      <g transform=\"translate(26.2875 228.439219)scale(0.1 -0.1)\">\r\n       <use xlink:href=\"#DejaVuSans-48\"/>\r\n      </g>\r\n     </g>\r\n    </g>\r\n    <g id=\"ytick_2\">\r\n     <g id=\"line2d_9\">\r\n      <g>\r\n       <use style=\"stroke:#000000;stroke-width:0.8;\" x=\"39.65\" xlink:href=\"#m886ef59b90\" y=\"199.360982\"/>\r\n      </g>\r\n     </g>\r\n     <g id=\"text_9\">\r\n      <!-- 250 -->\r\n      <g transform=\"translate(13.5625 203.160201)scale(0.1 -0.1)\">\r\n       <use xlink:href=\"#DejaVuSans-50\"/>\r\n       <use x=\"63.623047\" xlink:href=\"#DejaVuSans-53\"/>\r\n       <use x=\"127.246094\" xlink:href=\"#DejaVuSans-48\"/>\r\n      </g>\r\n     </g>\r\n    </g>\r\n    <g id=\"ytick_3\">\r\n     <g id=\"line2d_10\">\r\n      <g>\r\n       <use style=\"stroke:#000000;stroke-width:0.8;\" x=\"39.65\" xlink:href=\"#m886ef59b90\" y=\"174.081964\"/>\r\n      </g>\r\n     </g>\r\n     <g id=\"text_10\">\r\n      <!-- 500 -->\r\n      <g transform=\"translate(13.5625 177.881183)scale(0.1 -0.1)\">\r\n       <use xlink:href=\"#DejaVuSans-53\"/>\r\n       <use x=\"63.623047\" xlink:href=\"#DejaVuSans-48\"/>\r\n       <use x=\"127.246094\" xlink:href=\"#DejaVuSans-48\"/>\r\n      </g>\r\n     </g>\r\n    </g>\r\n    <g id=\"ytick_4\">\r\n     <g id=\"line2d_11\">\r\n      <g>\r\n       <use style=\"stroke:#000000;stroke-width:0.8;\" x=\"39.65\" xlink:href=\"#m886ef59b90\" y=\"148.802946\"/>\r\n      </g>\r\n     </g>\r\n     <g id=\"text_11\">\r\n      <!-- 750 -->\r\n      <g transform=\"translate(13.5625 152.602165)scale(0.1 -0.1)\">\r\n       <defs>\r\n        <path d=\"M 8.203125 72.90625 \r\nL 55.078125 72.90625 \r\nL 55.078125 68.703125 \r\nL 28.609375 0 \r\nL 18.3125 0 \r\nL 43.21875 64.59375 \r\nL 8.203125 64.59375 \r\nz\r\n\" id=\"DejaVuSans-55\"/>\r\n       </defs>\r\n       <use xlink:href=\"#DejaVuSans-55\"/>\r\n       <use x=\"63.623047\" xlink:href=\"#DejaVuSans-53\"/>\r\n       <use x=\"127.246094\" xlink:href=\"#DejaVuSans-48\"/>\r\n      </g>\r\n     </g>\r\n    </g>\r\n    <g id=\"ytick_5\">\r\n     <g id=\"line2d_12\">\r\n      <g>\r\n       <use style=\"stroke:#000000;stroke-width:0.8;\" x=\"39.65\" xlink:href=\"#m886ef59b90\" y=\"123.523929\"/>\r\n      </g>\r\n     </g>\r\n     <g id=\"text_12\">\r\n      <!-- 1000 -->\r\n      <g transform=\"translate(7.2 127.323147)scale(0.1 -0.1)\">\r\n       <use xlink:href=\"#DejaVuSans-49\"/>\r\n       <use x=\"63.623047\" xlink:href=\"#DejaVuSans-48\"/>\r\n       <use x=\"127.246094\" xlink:href=\"#DejaVuSans-48\"/>\r\n       <use x=\"190.869141\" xlink:href=\"#DejaVuSans-48\"/>\r\n      </g>\r\n     </g>\r\n    </g>\r\n    <g id=\"ytick_6\">\r\n     <g id=\"line2d_13\">\r\n      <g>\r\n       <use style=\"stroke:#000000;stroke-width:0.8;\" x=\"39.65\" xlink:href=\"#m886ef59b90\" y=\"98.244911\"/>\r\n      </g>\r\n     </g>\r\n     <g id=\"text_13\">\r\n      <!-- 1250 -->\r\n      <g transform=\"translate(7.2 102.044129)scale(0.1 -0.1)\">\r\n       <use xlink:href=\"#DejaVuSans-49\"/>\r\n       <use x=\"63.623047\" xlink:href=\"#DejaVuSans-50\"/>\r\n       <use x=\"127.246094\" xlink:href=\"#DejaVuSans-53\"/>\r\n       <use x=\"190.869141\" xlink:href=\"#DejaVuSans-48\"/>\r\n      </g>\r\n     </g>\r\n    </g>\r\n    <g id=\"ytick_7\">\r\n     <g id=\"line2d_14\">\r\n      <g>\r\n       <use style=\"stroke:#000000;stroke-width:0.8;\" x=\"39.65\" xlink:href=\"#m886ef59b90\" y=\"72.965893\"/>\r\n      </g>\r\n     </g>\r\n     <g id=\"text_14\">\r\n      <!-- 1500 -->\r\n      <g transform=\"translate(7.2 76.765112)scale(0.1 -0.1)\">\r\n       <use xlink:href=\"#DejaVuSans-49\"/>\r\n       <use x=\"63.623047\" xlink:href=\"#DejaVuSans-53\"/>\r\n       <use x=\"127.246094\" xlink:href=\"#DejaVuSans-48\"/>\r\n       <use x=\"190.869141\" xlink:href=\"#DejaVuSans-48\"/>\r\n      </g>\r\n     </g>\r\n    </g>\r\n    <g id=\"ytick_8\">\r\n     <g id=\"line2d_15\">\r\n      <g>\r\n       <use style=\"stroke:#000000;stroke-width:0.8;\" x=\"39.65\" xlink:href=\"#m886ef59b90\" y=\"47.686875\"/>\r\n      </g>\r\n     </g>\r\n     <g id=\"text_15\">\r\n      <!-- 1750 -->\r\n      <g transform=\"translate(7.2 51.486094)scale(0.1 -0.1)\">\r\n       <use xlink:href=\"#DejaVuSans-49\"/>\r\n       <use x=\"63.623047\" xlink:href=\"#DejaVuSans-55\"/>\r\n       <use x=\"127.246094\" xlink:href=\"#DejaVuSans-53\"/>\r\n       <use x=\"190.869141\" xlink:href=\"#DejaVuSans-48\"/>\r\n      </g>\r\n     </g>\r\n    </g>\r\n    <g id=\"ytick_9\">\r\n     <g id=\"line2d_16\">\r\n      <g>\r\n       <use style=\"stroke:#000000;stroke-width:0.8;\" x=\"39.65\" xlink:href=\"#m886ef59b90\" y=\"22.407857\"/>\r\n      </g>\r\n     </g>\r\n     <g id=\"text_16\">\r\n      <!-- 2000 -->\r\n      <g transform=\"translate(7.2 26.207076)scale(0.1 -0.1)\">\r\n       <use xlink:href=\"#DejaVuSans-50\"/>\r\n       <use x=\"63.623047\" xlink:href=\"#DejaVuSans-48\"/>\r\n       <use x=\"127.246094\" xlink:href=\"#DejaVuSans-48\"/>\r\n       <use x=\"190.869141\" xlink:href=\"#DejaVuSans-48\"/>\r\n      </g>\r\n     </g>\r\n    </g>\r\n   </g>\r\n   <g id=\"patch_13\">\r\n    <path d=\"M 39.65 224.64 \r\nL 39.65 7.2 \r\n\" style=\"fill:none;stroke:#000000;stroke-linecap:square;stroke-linejoin:miter;stroke-width:0.8;\"/>\r\n   </g>\r\n   <g id=\"patch_14\">\r\n    <path d=\"M 374.45 224.64 \r\nL 374.45 7.2 \r\n\" style=\"fill:none;stroke:#000000;stroke-linecap:square;stroke-linejoin:miter;stroke-width:0.8;\"/>\r\n   </g>\r\n   <g id=\"patch_15\">\r\n    <path d=\"M 39.65 224.64 \r\nL 374.45 224.64 \r\n\" style=\"fill:none;stroke:#000000;stroke-linecap:square;stroke-linejoin:miter;stroke-width:0.8;\"/>\r\n   </g>\r\n   <g id=\"patch_16\">\r\n    <path d=\"M 39.65 7.2 \r\nL 374.45 7.2 \r\n\" style=\"fill:none;stroke:#000000;stroke-linecap:square;stroke-linejoin:miter;stroke-width:0.8;\"/>\r\n   </g>\r\n  </g>\r\n </g>\r\n <defs>\r\n  <clipPath id=\"pa7942b79e6\">\r\n   <rect height=\"217.44\" width=\"334.8\" x=\"39.65\" y=\"7.2\"/>\r\n  </clipPath>\r\n </defs>\r\n</svg>\r\n",
      "image/png": "[encoded data removed]"
     },
     "metadata": {
      "needs_background": "light"
     }
    }
   ],
   "source": [
    "#check distribution of the data\n",
    "plt.hist(y, bins=10)\n",
    "plt.show()"
   ]
  },
  {
   "cell_type": "code",
   "execution_count": 26,
   "metadata": {},
   "outputs": [],
   "source": [
    "#apply data tranformation with log transformation\n",
    "y = np.log(y+1)"
   ]
  },
  {
   "cell_type": "code",
   "execution_count": 27,
   "metadata": {},
   "outputs": [
    {
     "output_type": "display_data",
     "data": {
      "text/plain": "<Figure size 432x288 with 1 Axes>",
      "image/svg+xml": "<?xml version=\"1.0\" encoding=\"utf-8\" standalone=\"no\"?>\r\n<!DOCTYPE svg PUBLIC \"-//W3C//DTD SVG 1.1//EN\"\r\n  \"http://www.w3.org/Graphics/SVG/1.1/DTD/svg11.dtd\">\r\n<!-- Created with matplotlib (https://matplotlib.org/) -->\r\n<svg height=\"248.518125pt\" version=\"1.1\" viewBox=\"0 0 377.108536 248.518125\" width=\"377.108536pt\" xmlns=\"http://www.w3.org/2000/svg\" xmlns:xlink=\"http://www.w3.org/1999/xlink\">\r\n <metadata>\r\n  <rdf:RDF xmlns:cc=\"http://creativecommons.org/ns#\" xmlns:dc=\"http://purl.org/dc/elements/1.1/\" xmlns:rdf=\"http://www.w3.org/1999/02/22-rdf-syntax-ns#\">\r\n   <cc:Work>\r\n    <dc:type rdf:resource=\"http://purl.org/dc/dcmitype/StillImage\"/>\r\n    <dc:date>2021-06-11T19:05:15.318505</dc:date>\r\n    <dc:format>image/svg+xml</dc:format>\r\n    <dc:creator>\r\n     <cc:Agent>\r\n      <dc:title>Matplotlib v3.3.3, https://matplotlib.org/</dc:title>\r\n     </cc:Agent>\r\n    </dc:creator>\r\n   </cc:Work>\r\n  </rdf:RDF>\r\n </metadata>\r\n <defs>\r\n  <style type=\"text/css\">*{stroke-linecap:butt;stroke-linejoin:round;}</style>\r\n </defs>\r\n <g id=\"figure_1\">\r\n  <g id=\"patch_1\">\r\n   <path d=\"M 0 248.518125 \r\nL 377.108536 248.518125 \r\nL 377.108536 0 \r\nL 0 0 \r\nz\r\n\" style=\"fill:none;\"/>\r\n  </g>\r\n  <g id=\"axes_1\">\r\n   <g id=\"patch_2\">\r\n    <path d=\"M 33.2875 224.64 \r\nL 368.0875 224.64 \r\nL 368.0875 7.2 \r\nL 33.2875 7.2 \r\nz\r\n\" style=\"fill:#ffffff;\"/>\r\n   </g>\r\n   <g id=\"patch_3\">\r\n    <path clip-path=\"url(#p6447231045)\" d=\"M 48.505682 224.64 \r\nL 78.942045 224.64 \r\nL 78.942045 17.554286 \r\nL 48.505682 17.554286 \r\nz\r\n\" style=\"fill:#1f77b4;\"/>\r\n   </g>\r\n   <g id=\"patch_4\">\r\n    <path clip-path=\"url(#p6447231045)\" d=\"M 78.942045 224.64 \r\nL 109.378409 224.64 \r\nL 109.378409 72.208869 \r\nL 78.942045 72.208869 \r\nz\r\n\" style=\"fill:#1f77b4;\"/>\r\n   </g>\r\n   <g id=\"patch_5\">\r\n    <path clip-path=\"url(#p6447231045)\" d=\"M 109.378409 224.64 \r\nL 139.814773 224.64 \r\nL 139.814773 123.353525 \r\nL 109.378409 123.353525 \r\nz\r\n\" style=\"fill:#1f77b4;\"/>\r\n   </g>\r\n   <g id=\"patch_6\">\r\n    <path clip-path=\"url(#p6447231045)\" d=\"M 139.814773 224.64 \r\nL 170.251136 224.64 \r\nL 170.251136 171.99109 \r\nL 139.814773 171.99109 \r\nz\r\n\" style=\"fill:#1f77b4;\"/>\r\n   </g>\r\n   <g id=\"patch_7\">\r\n    <path clip-path=\"url(#p6447231045)\" d=\"M 170.251136 224.64 \r\nL 200.6875 224.64 \r\nL 200.6875 197.312708 \r\nL 170.251136 197.312708 \r\nz\r\n\" style=\"fill:#1f77b4;\"/>\r\n   </g>\r\n   <g id=\"patch_8\">\r\n    <path clip-path=\"url(#p6447231045)\" d=\"M 200.6875 224.64 \r\nL 231.123864 224.64 \r\nL 231.123864 208.594618 \r\nL 200.6875 208.594618 \r\nz\r\n\" style=\"fill:#1f77b4;\"/>\r\n   </g>\r\n   <g id=\"patch_9\">\r\n    <path clip-path=\"url(#p6447231045)\" d=\"M 231.123864 224.64 \r\nL 261.560227 224.64 \r\nL 261.560227 221.8822 \r\nL 231.123864 221.8822 \r\nz\r\n\" style=\"fill:#1f77b4;\"/>\r\n   </g>\r\n   <g id=\"patch_10\">\r\n    <path clip-path=\"url(#p6447231045)\" d=\"M 261.560227 224.64 \r\nL 291.996591 224.64 \r\nL 291.996591 220.628654 \r\nL 261.560227 220.628654 \r\nz\r\n\" style=\"fill:#1f77b4;\"/>\r\n   </g>\r\n   <g id=\"patch_11\">\r\n    <path clip-path=\"url(#p6447231045)\" d=\"M 291.996591 224.64 \r\nL 322.432955 224.64 \r\nL 322.432955 224.389291 \r\nL 291.996591 224.389291 \r\nz\r\n\" style=\"fill:#1f77b4;\"/>\r\n   </g>\r\n   <g id=\"patch_12\">\r\n    <path clip-path=\"url(#p6447231045)\" d=\"M 322.432955 224.64 \r\nL 352.869318 224.64 \r\nL 352.869318 223.887873 \r\nL 322.432955 223.887873 \r\nz\r\n\" style=\"fill:#1f77b4;\"/>\r\n   </g>\r\n   <g id=\"matplotlib.axis_1\">\r\n    <g id=\"xtick_1\">\r\n     <g id=\"line2d_1\">\r\n      <defs>\r\n       <path d=\"M 0 0 \r\nL 0 3.5 \r\n\" id=\"m86f6f01b52\" style=\"stroke:#000000;stroke-width:0.8;\"/>\r\n      </defs>\r\n      <g>\r\n       <use style=\"stroke:#000000;stroke-width:0.8;\" x=\"48.505682\" xlink:href=\"#m86f6f01b52\" y=\"224.64\"/>\r\n      </g>\r\n     </g>\r\n     <g id=\"text_1\">\r\n      <!-- 0.0 -->\r\n      <g transform=\"translate(40.554119 239.238437)scale(0.1 -0.1)\">\r\n       <defs>\r\n        <path d=\"M 31.78125 66.40625 \r\nQ 24.171875 66.40625 20.328125 58.90625 \r\nQ 16.5 51.421875 16.5 36.375 \r\nQ 16.5 21.390625 20.328125 13.890625 \r\nQ 24.171875 6.390625 31.78125 6.390625 \r\nQ 39.453125 6.390625 43.28125 13.890625 \r\nQ 47.125 21.390625 47.125 36.375 \r\nQ 47.125 51.421875 43.28125 58.90625 \r\nQ 39.453125 66.40625 31.78125 66.40625 \r\nz\r\nM 31.78125 74.21875 \r\nQ 44.046875 74.21875 50.515625 64.515625 \r\nQ 56.984375 54.828125 56.984375 36.375 \r\nQ 56.984375 17.96875 50.515625 8.265625 \r\nQ 44.046875 -1.421875 31.78125 -1.421875 \r\nQ 19.53125 -1.421875 13.0625 8.265625 \r\nQ 6.59375 17.96875 6.59375 36.375 \r\nQ 6.59375 54.828125 13.0625 64.515625 \r\nQ 19.53125 74.21875 31.78125 74.21875 \r\nz\r\n\" id=\"DejaVuSans-48\"/>\r\n        <path d=\"M 10.6875 12.40625 \r\nL 21 12.40625 \r\nL 21 0 \r\nL 10.6875 0 \r\nz\r\n\" id=\"DejaVuSans-46\"/>\r\n       </defs>\r\n       <use xlink:href=\"#DejaVuSans-48\"/>\r\n       <use x=\"63.623047\" xlink:href=\"#DejaVuSans-46\"/>\r\n       <use x=\"95.410156\" xlink:href=\"#DejaVuSans-48\"/>\r\n      </g>\r\n     </g>\r\n    </g>\r\n    <g id=\"xtick_2\">\r\n     <g id=\"line2d_2\">\r\n      <g>\r\n       <use style=\"stroke:#000000;stroke-width:0.8;\" x=\"93.284438\" xlink:href=\"#m86f6f01b52\" y=\"224.64\"/>\r\n      </g>\r\n     </g>\r\n     <g id=\"text_2\">\r\n      <!-- 0.5 -->\r\n      <g transform=\"translate(85.332875 239.238437)scale(0.1 -0.1)\">\r\n       <defs>\r\n        <path d=\"M 10.796875 72.90625 \r\nL 49.515625 72.90625 \r\nL 49.515625 64.59375 \r\nL 19.828125 64.59375 \r\nL 19.828125 46.734375 \r\nQ 21.96875 47.46875 24.109375 47.828125 \r\nQ 26.265625 48.1875 28.421875 48.1875 \r\nQ 40.625 48.1875 47.75 41.5 \r\nQ 54.890625 34.8125 54.890625 23.390625 \r\nQ 54.890625 11.625 47.5625 5.09375 \r\nQ 40.234375 -1.421875 26.90625 -1.421875 \r\nQ 22.3125 -1.421875 17.546875 -0.640625 \r\nQ 12.796875 0.140625 7.71875 1.703125 \r\nL 7.71875 11.625 \r\nQ 12.109375 9.234375 16.796875 8.0625 \r\nQ 21.484375 6.890625 26.703125 6.890625 \r\nQ 35.15625 6.890625 40.078125 11.328125 \r\nQ 45.015625 15.765625 45.015625 23.390625 \r\nQ 45.015625 31 40.078125 35.4375 \r\nQ 35.15625 39.890625 26.703125 39.890625 \r\nQ 22.75 39.890625 18.8125 39.015625 \r\nQ 14.890625 38.140625 10.796875 36.28125 \r\nz\r\n\" id=\"DejaVuSans-53\"/>\r\n       </defs>\r\n       <use xlink:href=\"#DejaVuSans-48\"/>\r\n       <use x=\"63.623047\" xlink:href=\"#DejaVuSans-46\"/>\r\n       <use x=\"95.410156\" xlink:href=\"#DejaVuSans-53\"/>\r\n      </g>\r\n     </g>\r\n    </g>\r\n    <g id=\"xtick_3\">\r\n     <g id=\"line2d_3\">\r\n      <g>\r\n       <use style=\"stroke:#000000;stroke-width:0.8;\" x=\"138.063194\" xlink:href=\"#m86f6f01b52\" y=\"224.64\"/>\r\n      </g>\r\n     </g>\r\n     <g id=\"text_3\">\r\n      <!-- 1.0 -->\r\n      <g transform=\"translate(130.111631 239.238437)scale(0.1 -0.1)\">\r\n       <defs>\r\n        <path d=\"M 12.40625 8.296875 \r\nL 28.515625 8.296875 \r\nL 28.515625 63.921875 \r\nL 10.984375 60.40625 \r\nL 10.984375 69.390625 \r\nL 28.421875 72.90625 \r\nL 38.28125 72.90625 \r\nL 38.28125 8.296875 \r\nL 54.390625 8.296875 \r\nL 54.390625 0 \r\nL 12.40625 0 \r\nz\r\n\" id=\"DejaVuSans-49\"/>\r\n       </defs>\r\n       <use xlink:href=\"#DejaVuSans-49\"/>\r\n       <use x=\"63.623047\" xlink:href=\"#DejaVuSans-46\"/>\r\n       <use x=\"95.410156\" xlink:href=\"#DejaVuSans-48\"/>\r\n      </g>\r\n     </g>\r\n    </g>\r\n    <g id=\"xtick_4\">\r\n     <g id=\"line2d_4\">\r\n      <g>\r\n       <use style=\"stroke:#000000;stroke-width:0.8;\" x=\"182.84195\" xlink:href=\"#m86f6f01b52\" y=\"224.64\"/>\r\n      </g>\r\n     </g>\r\n     <g id=\"text_4\">\r\n      <!-- 1.5 -->\r\n      <g transform=\"translate(174.890387 239.238437)scale(0.1 -0.1)\">\r\n       <use xlink:href=\"#DejaVuSans-49\"/>\r\n       <use x=\"63.623047\" xlink:href=\"#DejaVuSans-46\"/>\r\n       <use x=\"95.410156\" xlink:href=\"#DejaVuSans-53\"/>\r\n      </g>\r\n     </g>\r\n    </g>\r\n    <g id=\"xtick_5\">\r\n     <g id=\"line2d_5\">\r\n      <g>\r\n       <use style=\"stroke:#000000;stroke-width:0.8;\" x=\"227.620706\" xlink:href=\"#m86f6f01b52\" y=\"224.64\"/>\r\n      </g>\r\n     </g>\r\n     <g id=\"text_5\">\r\n      <!-- 2.0 -->\r\n      <g transform=\"translate(219.669143 239.238437)scale(0.1 -0.1)\">\r\n       <defs>\r\n        <path d=\"M 19.1875 8.296875 \r\nL 53.609375 8.296875 \r\nL 53.609375 0 \r\nL 7.328125 0 \r\nL 7.328125 8.296875 \r\nQ 12.9375 14.109375 22.625 23.890625 \r\nQ 32.328125 33.6875 34.8125 36.53125 \r\nQ 39.546875 41.84375 41.421875 45.53125 \r\nQ 43.3125 49.21875 43.3125 52.78125 \r\nQ 43.3125 58.59375 39.234375 62.25 \r\nQ 35.15625 65.921875 28.609375 65.921875 \r\nQ 23.96875 65.921875 18.8125 64.3125 \r\nQ 13.671875 62.703125 7.8125 59.421875 \r\nL 7.8125 69.390625 \r\nQ 13.765625 71.78125 18.9375 73 \r\nQ 24.125 74.21875 28.421875 74.21875 \r\nQ 39.75 74.21875 46.484375 68.546875 \r\nQ 53.21875 62.890625 53.21875 53.421875 \r\nQ 53.21875 48.921875 51.53125 44.890625 \r\nQ 49.859375 40.875 45.40625 35.40625 \r\nQ 44.1875 33.984375 37.640625 27.21875 \r\nQ 31.109375 20.453125 19.1875 8.296875 \r\nz\r\n\" id=\"DejaVuSans-50\"/>\r\n       </defs>\r\n       <use xlink:href=\"#DejaVuSans-50\"/>\r\n       <use x=\"63.623047\" xlink:href=\"#DejaVuSans-46\"/>\r\n       <use x=\"95.410156\" xlink:href=\"#DejaVuSans-48\"/>\r\n      </g>\r\n     </g>\r\n    </g>\r\n    <g id=\"xtick_6\">\r\n     <g id=\"line2d_6\">\r\n      <g>\r\n       <use style=\"stroke:#000000;stroke-width:0.8;\" x=\"272.399462\" xlink:href=\"#m86f6f01b52\" y=\"224.64\"/>\r\n      </g>\r\n     </g>\r\n     <g id=\"text_6\">\r\n      <!-- 2.5 -->\r\n      <g transform=\"translate(264.447899 239.238437)scale(0.1 -0.1)\">\r\n       <use xlink:href=\"#DejaVuSans-50\"/>\r\n       <use x=\"63.623047\" xlink:href=\"#DejaVuSans-46\"/>\r\n       <use x=\"95.410156\" xlink:href=\"#DejaVuSans-53\"/>\r\n      </g>\r\n     </g>\r\n    </g>\r\n    <g id=\"xtick_7\">\r\n     <g id=\"line2d_7\">\r\n      <g>\r\n       <use style=\"stroke:#000000;stroke-width:0.8;\" x=\"317.178218\" xlink:href=\"#m86f6f01b52\" y=\"224.64\"/>\r\n      </g>\r\n     </g>\r\n     <g id=\"text_7\">\r\n      <!-- 3.0 -->\r\n      <g transform=\"translate(309.226655 239.238437)scale(0.1 -0.1)\">\r\n       <defs>\r\n        <path d=\"M 40.578125 39.3125 \r\nQ 47.65625 37.796875 51.625 33 \r\nQ 55.609375 28.21875 55.609375 21.1875 \r\nQ 55.609375 10.40625 48.1875 4.484375 \r\nQ 40.765625 -1.421875 27.09375 -1.421875 \r\nQ 22.515625 -1.421875 17.65625 -0.515625 \r\nQ 12.796875 0.390625 7.625 2.203125 \r\nL 7.625 11.71875 \r\nQ 11.71875 9.328125 16.59375 8.109375 \r\nQ 21.484375 6.890625 26.8125 6.890625 \r\nQ 36.078125 6.890625 40.9375 10.546875 \r\nQ 45.796875 14.203125 45.796875 21.1875 \r\nQ 45.796875 27.640625 41.28125 31.265625 \r\nQ 36.765625 34.90625 28.71875 34.90625 \r\nL 20.21875 34.90625 \r\nL 20.21875 43.015625 \r\nL 29.109375 43.015625 \r\nQ 36.375 43.015625 40.234375 45.921875 \r\nQ 44.09375 48.828125 44.09375 54.296875 \r\nQ 44.09375 59.90625 40.109375 62.90625 \r\nQ 36.140625 65.921875 28.71875 65.921875 \r\nQ 24.65625 65.921875 20.015625 65.03125 \r\nQ 15.375 64.15625 9.8125 62.3125 \r\nL 9.8125 71.09375 \r\nQ 15.4375 72.65625 20.34375 73.4375 \r\nQ 25.25 74.21875 29.59375 74.21875 \r\nQ 40.828125 74.21875 47.359375 69.109375 \r\nQ 53.90625 64.015625 53.90625 55.328125 \r\nQ 53.90625 49.265625 50.4375 45.09375 \r\nQ 46.96875 40.921875 40.578125 39.3125 \r\nz\r\n\" id=\"DejaVuSans-51\"/>\r\n       </defs>\r\n       <use xlink:href=\"#DejaVuSans-51\"/>\r\n       <use x=\"63.623047\" xlink:href=\"#DejaVuSans-46\"/>\r\n       <use x=\"95.410156\" xlink:href=\"#DejaVuSans-48\"/>\r\n      </g>\r\n     </g>\r\n    </g>\r\n    <g id=\"xtick_8\">\r\n     <g id=\"line2d_8\">\r\n      <g>\r\n       <use style=\"stroke:#000000;stroke-width:0.8;\" x=\"361.956974\" xlink:href=\"#m86f6f01b52\" y=\"224.64\"/>\r\n      </g>\r\n     </g>\r\n     <g id=\"text_8\">\r\n      <!-- 3.5 -->\r\n      <g transform=\"translate(354.005411 239.238437)scale(0.1 -0.1)\">\r\n       <use xlink:href=\"#DejaVuSans-51\"/>\r\n       <use x=\"63.623047\" xlink:href=\"#DejaVuSans-46\"/>\r\n       <use x=\"95.410156\" xlink:href=\"#DejaVuSans-53\"/>\r\n      </g>\r\n     </g>\r\n    </g>\r\n   </g>\r\n   <g id=\"matplotlib.axis_2\">\r\n    <g id=\"ytick_1\">\r\n     <g id=\"line2d_9\">\r\n      <defs>\r\n       <path d=\"M 0 0 \r\nL -3.5 0 \r\n\" id=\"m25d50ea1c7\" style=\"stroke:#000000;stroke-width:0.8;\"/>\r\n      </defs>\r\n      <g>\r\n       <use style=\"stroke:#000000;stroke-width:0.8;\" x=\"33.2875\" xlink:href=\"#m25d50ea1c7\" y=\"224.64\"/>\r\n      </g>\r\n     </g>\r\n     <g id=\"text_9\">\r\n      <!-- 0 -->\r\n      <g transform=\"translate(19.925 228.439219)scale(0.1 -0.1)\">\r\n       <use xlink:href=\"#DejaVuSans-48\"/>\r\n      </g>\r\n     </g>\r\n    </g>\r\n    <g id=\"ytick_2\">\r\n     <g id=\"line2d_10\">\r\n      <g>\r\n       <use style=\"stroke:#000000;stroke-width:0.8;\" x=\"33.2875\" xlink:href=\"#m25d50ea1c7\" y=\"199.56909\"/>\r\n      </g>\r\n     </g>\r\n     <g id=\"text_10\">\r\n      <!-- 100 -->\r\n      <g transform=\"translate(7.2 203.368309)scale(0.1 -0.1)\">\r\n       <use xlink:href=\"#DejaVuSans-49\"/>\r\n       <use x=\"63.623047\" xlink:href=\"#DejaVuSans-48\"/>\r\n       <use x=\"127.246094\" xlink:href=\"#DejaVuSans-48\"/>\r\n      </g>\r\n     </g>\r\n    </g>\r\n    <g id=\"ytick_3\">\r\n     <g id=\"line2d_11\">\r\n      <g>\r\n       <use style=\"stroke:#000000;stroke-width:0.8;\" x=\"33.2875\" xlink:href=\"#m25d50ea1c7\" y=\"174.498181\"/>\r\n      </g>\r\n     </g>\r\n     <g id=\"text_11\">\r\n      <!-- 200 -->\r\n      <g transform=\"translate(7.2 178.297399)scale(0.1 -0.1)\">\r\n       <use xlink:href=\"#DejaVuSans-50\"/>\r\n       <use x=\"63.623047\" xlink:href=\"#DejaVuSans-48\"/>\r\n       <use x=\"127.246094\" xlink:href=\"#DejaVuSans-48\"/>\r\n      </g>\r\n     </g>\r\n    </g>\r\n    <g id=\"ytick_4\">\r\n     <g id=\"line2d_12\">\r\n      <g>\r\n       <use style=\"stroke:#000000;stroke-width:0.8;\" x=\"33.2875\" xlink:href=\"#m25d50ea1c7\" y=\"149.427271\"/>\r\n      </g>\r\n     </g>\r\n     <g id=\"text_12\">\r\n      <!-- 300 -->\r\n      <g transform=\"translate(7.2 153.22649)scale(0.1 -0.1)\">\r\n       <use xlink:href=\"#DejaVuSans-51\"/>\r\n       <use x=\"63.623047\" xlink:href=\"#DejaVuSans-48\"/>\r\n       <use x=\"127.246094\" xlink:href=\"#DejaVuSans-48\"/>\r\n      </g>\r\n     </g>\r\n    </g>\r\n    <g id=\"ytick_5\">\r\n     <g id=\"line2d_13\">\r\n      <g>\r\n       <use style=\"stroke:#000000;stroke-width:0.8;\" x=\"33.2875\" xlink:href=\"#m25d50ea1c7\" y=\"124.356361\"/>\r\n      </g>\r\n     </g>\r\n     <g id=\"text_13\">\r\n      <!-- 400 -->\r\n      <g transform=\"translate(7.2 128.15558)scale(0.1 -0.1)\">\r\n       <defs>\r\n        <path d=\"M 37.796875 64.3125 \r\nL 12.890625 25.390625 \r\nL 37.796875 25.390625 \r\nz\r\nM 35.203125 72.90625 \r\nL 47.609375 72.90625 \r\nL 47.609375 25.390625 \r\nL 58.015625 25.390625 \r\nL 58.015625 17.1875 \r\nL 47.609375 17.1875 \r\nL 47.609375 0 \r\nL 37.796875 0 \r\nL 37.796875 17.1875 \r\nL 4.890625 17.1875 \r\nL 4.890625 26.703125 \r\nz\r\n\" id=\"DejaVuSans-52\"/>\r\n       </defs>\r\n       <use xlink:href=\"#DejaVuSans-52\"/>\r\n       <use x=\"63.623047\" xlink:href=\"#DejaVuSans-48\"/>\r\n       <use x=\"127.246094\" xlink:href=\"#DejaVuSans-48\"/>\r\n      </g>\r\n     </g>\r\n    </g>\r\n    <g id=\"ytick_6\">\r\n     <g id=\"line2d_14\">\r\n      <g>\r\n       <use style=\"stroke:#000000;stroke-width:0.8;\" x=\"33.2875\" xlink:href=\"#m25d50ea1c7\" y=\"99.285451\"/>\r\n      </g>\r\n     </g>\r\n     <g id=\"text_14\">\r\n      <!-- 500 -->\r\n      <g transform=\"translate(7.2 103.08467)scale(0.1 -0.1)\">\r\n       <use xlink:href=\"#DejaVuSans-53\"/>\r\n       <use x=\"63.623047\" xlink:href=\"#DejaVuSans-48\"/>\r\n       <use x=\"127.246094\" xlink:href=\"#DejaVuSans-48\"/>\r\n      </g>\r\n     </g>\r\n    </g>\r\n    <g id=\"ytick_7\">\r\n     <g id=\"line2d_15\">\r\n      <g>\r\n       <use style=\"stroke:#000000;stroke-width:0.8;\" x=\"33.2875\" xlink:href=\"#m25d50ea1c7\" y=\"74.214542\"/>\r\n      </g>\r\n     </g>\r\n     <g id=\"text_15\">\r\n      <!-- 600 -->\r\n      <g transform=\"translate(7.2 78.01376)scale(0.1 -0.1)\">\r\n       <defs>\r\n        <path d=\"M 33.015625 40.375 \r\nQ 26.375 40.375 22.484375 35.828125 \r\nQ 18.609375 31.296875 18.609375 23.390625 \r\nQ 18.609375 15.53125 22.484375 10.953125 \r\nQ 26.375 6.390625 33.015625 6.390625 \r\nQ 39.65625 6.390625 43.53125 10.953125 \r\nQ 47.40625 15.53125 47.40625 23.390625 \r\nQ 47.40625 31.296875 43.53125 35.828125 \r\nQ 39.65625 40.375 33.015625 40.375 \r\nz\r\nM 52.59375 71.296875 \r\nL 52.59375 62.3125 \r\nQ 48.875 64.0625 45.09375 64.984375 \r\nQ 41.3125 65.921875 37.59375 65.921875 \r\nQ 27.828125 65.921875 22.671875 59.328125 \r\nQ 17.53125 52.734375 16.796875 39.40625 \r\nQ 19.671875 43.65625 24.015625 45.921875 \r\nQ 28.375 48.1875 33.59375 48.1875 \r\nQ 44.578125 48.1875 50.953125 41.515625 \r\nQ 57.328125 34.859375 57.328125 23.390625 \r\nQ 57.328125 12.15625 50.6875 5.359375 \r\nQ 44.046875 -1.421875 33.015625 -1.421875 \r\nQ 20.359375 -1.421875 13.671875 8.265625 \r\nQ 6.984375 17.96875 6.984375 36.375 \r\nQ 6.984375 53.65625 15.1875 63.9375 \r\nQ 23.390625 74.21875 37.203125 74.21875 \r\nQ 40.921875 74.21875 44.703125 73.484375 \r\nQ 48.484375 72.75 52.59375 71.296875 \r\nz\r\n\" id=\"DejaVuSans-54\"/>\r\n       </defs>\r\n       <use xlink:href=\"#DejaVuSans-54\"/>\r\n       <use x=\"63.623047\" xlink:href=\"#DejaVuSans-48\"/>\r\n       <use x=\"127.246094\" xlink:href=\"#DejaVuSans-48\"/>\r\n      </g>\r\n     </g>\r\n    </g>\r\n    <g id=\"ytick_8\">\r\n     <g id=\"line2d_16\">\r\n      <g>\r\n       <use style=\"stroke:#000000;stroke-width:0.8;\" x=\"33.2875\" xlink:href=\"#m25d50ea1c7\" y=\"49.143632\"/>\r\n      </g>\r\n     </g>\r\n     <g id=\"text_16\">\r\n      <!-- 700 -->\r\n      <g transform=\"translate(7.2 52.942851)scale(0.1 -0.1)\">\r\n       <defs>\r\n        <path d=\"M 8.203125 72.90625 \r\nL 55.078125 72.90625 \r\nL 55.078125 68.703125 \r\nL 28.609375 0 \r\nL 18.3125 0 \r\nL 43.21875 64.59375 \r\nL 8.203125 64.59375 \r\nz\r\n\" id=\"DejaVuSans-55\"/>\r\n       </defs>\r\n       <use xlink:href=\"#DejaVuSans-55\"/>\r\n       <use x=\"63.623047\" xlink:href=\"#DejaVuSans-48\"/>\r\n       <use x=\"127.246094\" xlink:href=\"#DejaVuSans-48\"/>\r\n      </g>\r\n     </g>\r\n    </g>\r\n    <g id=\"ytick_9\">\r\n     <g id=\"line2d_17\">\r\n      <g>\r\n       <use style=\"stroke:#000000;stroke-width:0.8;\" x=\"33.2875\" xlink:href=\"#m25d50ea1c7\" y=\"24.072722\"/>\r\n      </g>\r\n     </g>\r\n     <g id=\"text_17\">\r\n      <!-- 800 -->\r\n      <g transform=\"translate(7.2 27.871941)scale(0.1 -0.1)\">\r\n       <defs>\r\n        <path d=\"M 31.78125 34.625 \r\nQ 24.75 34.625 20.71875 30.859375 \r\nQ 16.703125 27.09375 16.703125 20.515625 \r\nQ 16.703125 13.921875 20.71875 10.15625 \r\nQ 24.75 6.390625 31.78125 6.390625 \r\nQ 38.8125 6.390625 42.859375 10.171875 \r\nQ 46.921875 13.96875 46.921875 20.515625 \r\nQ 46.921875 27.09375 42.890625 30.859375 \r\nQ 38.875 34.625 31.78125 34.625 \r\nz\r\nM 21.921875 38.8125 \r\nQ 15.578125 40.375 12.03125 44.71875 \r\nQ 8.5 49.078125 8.5 55.328125 \r\nQ 8.5 64.0625 14.71875 69.140625 \r\nQ 20.953125 74.21875 31.78125 74.21875 \r\nQ 42.671875 74.21875 48.875 69.140625 \r\nQ 55.078125 64.0625 55.078125 55.328125 \r\nQ 55.078125 49.078125 51.53125 44.71875 \r\nQ 48 40.375 41.703125 38.8125 \r\nQ 48.828125 37.15625 52.796875 32.3125 \r\nQ 56.78125 27.484375 56.78125 20.515625 \r\nQ 56.78125 9.90625 50.3125 4.234375 \r\nQ 43.84375 -1.421875 31.78125 -1.421875 \r\nQ 19.734375 -1.421875 13.25 4.234375 \r\nQ 6.78125 9.90625 6.78125 20.515625 \r\nQ 6.78125 27.484375 10.78125 32.3125 \r\nQ 14.796875 37.15625 21.921875 38.8125 \r\nz\r\nM 18.3125 54.390625 \r\nQ 18.3125 48.734375 21.84375 45.5625 \r\nQ 25.390625 42.390625 31.78125 42.390625 \r\nQ 38.140625 42.390625 41.71875 45.5625 \r\nQ 45.3125 48.734375 45.3125 54.390625 \r\nQ 45.3125 60.0625 41.71875 63.234375 \r\nQ 38.140625 66.40625 31.78125 66.40625 \r\nQ 25.390625 66.40625 21.84375 63.234375 \r\nQ 18.3125 60.0625 18.3125 54.390625 \r\nz\r\n\" id=\"DejaVuSans-56\"/>\r\n       </defs>\r\n       <use xlink:href=\"#DejaVuSans-56\"/>\r\n       <use x=\"63.623047\" xlink:href=\"#DejaVuSans-48\"/>\r\n       <use x=\"127.246094\" xlink:href=\"#DejaVuSans-48\"/>\r\n      </g>\r\n     </g>\r\n    </g>\r\n   </g>\r\n   <g id=\"patch_13\">\r\n    <path d=\"M 33.2875 224.64 \r\nL 33.2875 7.2 \r\n\" style=\"fill:none;stroke:#000000;stroke-linecap:square;stroke-linejoin:miter;stroke-width:0.8;\"/>\r\n   </g>\r\n   <g id=\"patch_14\">\r\n    <path d=\"M 368.0875 224.64 \r\nL 368.0875 7.2 \r\n\" style=\"fill:none;stroke:#000000;stroke-linecap:square;stroke-linejoin:miter;stroke-width:0.8;\"/>\r\n   </g>\r\n   <g id=\"patch_15\">\r\n    <path d=\"M 33.2875 224.64 \r\nL 368.0875 224.64 \r\n\" style=\"fill:none;stroke:#000000;stroke-linecap:square;stroke-linejoin:miter;stroke-width:0.8;\"/>\r\n   </g>\r\n   <g id=\"patch_16\">\r\n    <path d=\"M 33.2875 7.2 \r\nL 368.0875 7.2 \r\n\" style=\"fill:none;stroke:#000000;stroke-linecap:square;stroke-linejoin:miter;stroke-width:0.8;\"/>\r\n   </g>\r\n  </g>\r\n </g>\r\n <defs>\r\n  <clipPath id=\"p6447231045\">\r\n   <rect height=\"217.44\" width=\"334.8\" x=\"33.2875\" y=\"7.2\"/>\r\n  </clipPath>\r\n </defs>\r\n</svg>\r\n",
      "image/png": "[encoded data removed]"
     },
     "metadata": {
      "needs_background": "light"
     }
    }
   ],
   "source": [
    "#check distribution of data again\n",
    "plt.hist(y, bins=10)\n",
    "plt.show()"
   ]
  },
  {
   "cell_type": "code",
   "execution_count": 28,
   "metadata": {},
   "outputs": [],
   "source": [
    "#adding a constant (Y-intercept)\n",
    "X = sm.add_constant(X)"
   ]
  },
  {
   "cell_type": "code",
   "execution_count": 29,
   "metadata": {},
   "outputs": [],
   "source": [
    "#define model\n",
    "model = sm.OLS(y, X).fit()\n",
    "predictions = model.predict(X) "
   ]
  },
  {
   "cell_type": "code",
   "execution_count": 30,
   "metadata": {},
   "outputs": [
    {
     "output_type": "stream",
     "name": "stdout",
     "text": [
      "                            OLS Regression Results                            \n==============================================================================\nDep. Variable:             TotalSales   R-squared:                       0.031\nModel:                            OLS   Adj. R-squared:                  0.030\nMethod:                 Least Squares   F-statistic:                     35.69\nDate:                Fri, 11 Jun 2021   Prob (F-statistic):           5.49e-16\nTime:                        19:05:15   Log-Likelihood:                -1672.8\nNo. Observations:                2252   AIC:                             3352.\nDf Residuals:                    2249   BIC:                             3369.\nDf Model:                           2                                         \nCovariance Type:            nonrobust                                         \n======================================================================================\n                         coef    std err          t      P>|t|      [0.025      0.975]\n--------------------------------------------------------------------------------------\nconst                  1.1668      0.117      9.982      0.000       0.938       1.396\nStdDev_ContainWord    -3.0973      0.371     -8.356      0.000      -3.824      -2.370\nUserScore             -0.0230      0.016     -1.435      0.151      -0.054       0.008\n==============================================================================\nOmnibus:                      516.042   Durbin-Watson:                   0.876\nProb(Omnibus):                  0.000   Jarque-Bera (JB):             1085.996\nSkew:                           1.320   Prob(JB):                    1.51e-236\nKurtosis:                       5.145   Cond. No.                         232.\n==============================================================================\n\nNotes:\n[1] Standard Errors assume that the covariance matrix of the errors is correctly specified.\n"
     ]
    }
   ],
   "source": [
    "#print regression results\n",
    "print_model = model.summary()\n",
    "print(print_model)"
   ]
  }
 ]
}